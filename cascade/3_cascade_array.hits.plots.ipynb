{
 "cells": [
  {
   "cell_type": "code",
   "execution_count": 1,
   "metadata": {},
   "outputs": [],
   "source": [
    "suppressPackageStartupMessages(require(tidyverse))\n",
    "suppressPackageStartupMessages(require(data.table))\n",
    "library(latex2exp)\n"
   ]
  },
  {
   "cell_type": "code",
   "execution_count": 37,
   "metadata": {},
   "outputs": [],
   "source": [
    "wd <- getwd()\n",
    "\n",
    "cascade_files <- file.path(wd, 'cascade.input.files.tsv')\n",
    "\n",
    "array_hits <- file.path(wd, 'out_v3', 'cascade.array.hits.tsv.zst')\n",
    "\n",
    "plot_filehead <- list(\n",
    "    PAVs = file.path(wd, 'out_v3', \"cascade.PAVs\"),\n",
    "    PTVs = file.path(wd, 'out_v3', \"cascade.PTVs\")\n",
    ")\n"
   ]
  },
  {
   "cell_type": "code",
   "execution_count": 3,
   "metadata": {},
   "outputs": [],
   "source": [
    "traits <- fread(cascade_files)\n",
    "\n",
    "array_anno_df <- fread(cmd=paste('zstdcat', array_hits, sep=' '), sep='\\t')\n"
   ]
  },
  {
   "cell_type": "code",
   "execution_count": 29,
   "metadata": {},
   "outputs": [],
   "source": [
    "plots <- list()"
   ]
  },
  {
   "cell_type": "code",
   "execution_count": 30,
   "metadata": {},
   "outputs": [],
   "source": [
    "plots[['PTVs']] <- array_anno_df %>% \n",
    "filter(Csq == 'protein-truncating', ld_indep, is_outside_of_MHC) %>%\n",
    "mutate(\n",
    "    outlier = if_else(abs(Effect) >= .1, TRUE, FALSE),\n",
    "    ggrepel = if_else(abs(Effect) >= .1, Gene_symbol, \"\")\n",
    ") %>%\n",
    "ggplot(\n",
    "    aes(x=maf, y=Effect, color=outlier, label = ggrepel)\n",
    ") +\n",
    "geom_hline(yintercept = 0, linetype=\"dashed\") +\n",
    "geom_point() + theme_bw() + \n",
    "labs(\n",
    "    title = TeX('Protein-truncating variant associations ($p \\\\,<\\\\, 5x10^{-9}$)'),\n",
    "    x = 'Minor allele frequency (log-scale)',\n",
    "    y = 'BETA'\n",
    ") +\n",
    "theme(\n",
    "    strip.text = element_text(size=7),\n",
    "    legend.position=\"none\"\n",
    ")+\n",
    "scale_color_brewer(palette=\"Dark2\") + \n",
    "scale_x_continuous(trans=\"log10\", breaks=10 ** c(-4, -2, 0)) + \n",
    "facet_wrap(~name, ncol = 6, strip.position = \"bottom\", labeller = label_wrap_gen(17)) + \n",
    "ggrepel::geom_text_repel(size=2, fontface=3)\n"
   ]
  },
  {
   "cell_type": "code",
   "execution_count": 44,
   "metadata": {},
   "outputs": [],
   "source": [
    "plots[['PAVs']] <- array_anno_df %>% \n",
    "filter(Csq == 'protein-altering', ld_indep, is_outside_of_MHC) %>%\n",
    "group_by(name) %>%\n",
    "mutate(\n",
    "    rank_abs_effect = rank(-abs(Effect))\n",
    ") %>%\n",
    "ungroup() %>%\n",
    "mutate(\n",
    "    outlier = if_else(abs(Effect) >= .1, TRUE, FALSE),\n",
    "    ggrepel = if_else((abs(Effect) >= .1) & (rank_abs_effect < 7) , Gene_symbol, \"\")\n",
    ") %>%\n",
    "ggplot(\n",
    "    aes(x=maf, y=Effect, color=outlier, label = ggrepel)\n",
    ") +\n",
    "geom_hline(yintercept = 0, linetype=\"dashed\") +\n",
    "geom_point() + theme_bw() + \n",
    "labs(\n",
    "    title = TeX('Protein-altering variant associations ($p \\\\,<\\\\, 5x10^{-9}$)'),\n",
    "    x = 'Minor allele frequency (log-scale)',\n",
    "    y = 'BETA'\n",
    ") +\n",
    "theme(\n",
    "    strip.text = element_text(size=7),\n",
    "    legend.position=\"none\"\n",
    ")+\n",
    "scale_color_brewer(palette=\"Dark2\") + \n",
    "scale_x_continuous(trans=\"log10\", breaks=10 ** c(-4, -2, 0)) + \n",
    "facet_wrap(~name, ncol = 6, strip.position = \"bottom\", labeller = label_wrap_gen(17)) + \n",
    "ggrepel::geom_text_repel(size=2, fontface=3)\n"
   ]
  },
  {
   "cell_type": "code",
   "execution_count": 45,
   "metadata": {},
   "outputs": [],
   "source": [
    "for(v in c('PTVs', 'PAVs')){\n",
    "    for(ext in c('png', 'pdf')){ \n",
    "        ggsave(\n",
    "            paste(plot_filehead[[v]], ext, sep='.'), \n",
    "            plot=plots[[v]], width = 10, height = 10\n",
    "        )\n",
    "    }\n",
    "}"
   ]
  },
  {
   "cell_type": "code",
   "execution_count": 36,
   "metadata": {},
   "outputs": [
    {
     "data": {
      "text/html": [
       "<ol class=list-inline>\n",
       "\t<li>'Alanine aminotransferase'</li>\n",
       "\t<li>'Albumin'</li>\n",
       "\t<li>'Aspartate aminotransferase'</li>\n",
       "\t<li>'Calcium'</li>\n",
       "\t<li>'Cholesterol'</li>\n",
       "\t<li>'LDL cholesterol'</li>\n",
       "\t<li>'Phosphate'</li>\n",
       "\t<li>'SHBG'</li>\n",
       "\t<li>'Total protein'</li>\n",
       "\t<li>'Creatinine in urine'</li>\n",
       "\t<li>'Potassium in urine'</li>\n",
       "\t<li>'Sodium in urine'</li>\n",
       "\t<li>'AST to ALT ratio'</li>\n",
       "</ol>\n"
      ],
      "text/latex": [
       "\\begin{enumerate*}\n",
       "\\item 'Alanine aminotransferase'\n",
       "\\item 'Albumin'\n",
       "\\item 'Aspartate aminotransferase'\n",
       "\\item 'Calcium'\n",
       "\\item 'Cholesterol'\n",
       "\\item 'LDL cholesterol'\n",
       "\\item 'Phosphate'\n",
       "\\item 'SHBG'\n",
       "\\item 'Total protein'\n",
       "\\item 'Creatinine in urine'\n",
       "\\item 'Potassium in urine'\n",
       "\\item 'Sodium in urine'\n",
       "\\item 'AST to ALT ratio'\n",
       "\\end{enumerate*}\n"
      ],
      "text/markdown": [
       "1. 'Alanine aminotransferase'\n",
       "2. 'Albumin'\n",
       "3. 'Aspartate aminotransferase'\n",
       "4. 'Calcium'\n",
       "5. 'Cholesterol'\n",
       "6. 'LDL cholesterol'\n",
       "7. 'Phosphate'\n",
       "8. 'SHBG'\n",
       "9. 'Total protein'\n",
       "10. 'Creatinine in urine'\n",
       "11. 'Potassium in urine'\n",
       "12. 'Sodium in urine'\n",
       "13. 'AST to ALT ratio'\n",
       "\n",
       "\n"
      ],
      "text/plain": [
       " [1] \"Alanine aminotransferase\"   \"Albumin\"                   \n",
       " [3] \"Aspartate aminotransferase\" \"Calcium\"                   \n",
       " [5] \"Cholesterol\"                \"LDL cholesterol\"           \n",
       " [7] \"Phosphate\"                  \"SHBG\"                      \n",
       " [9] \"Total protein\"              \"Creatinine in urine\"       \n",
       "[11] \"Potassium in urine\"         \"Sodium in urine\"           \n",
       "[13] \"AST to ALT ratio\"          "
      ]
     },
     "metadata": {},
     "output_type": "display_data"
    }
   ],
   "source": [
    "setdiff(\n",
    "    traits %>% select(name) %>% pull(),\n",
    "    array_anno_df %>% filter(Csq == 'protein-truncating') %>% select(name) %>% unique() %>% pull()\n",
    ")"
   ]
  },
  {
   "cell_type": "code",
   "execution_count": 34,
   "metadata": {},
   "outputs": [
    {
     "data": {
      "text/html": [
       "<ol class=list-inline>\n",
       "\t<li>'Creatinine in urine'</li>\n",
       "\t<li>'Potassium in urine'</li>\n",
       "</ol>\n"
      ],
      "text/latex": [
       "\\begin{enumerate*}\n",
       "\\item 'Creatinine in urine'\n",
       "\\item 'Potassium in urine'\n",
       "\\end{enumerate*}\n"
      ],
      "text/markdown": [
       "1. 'Creatinine in urine'\n",
       "2. 'Potassium in urine'\n",
       "\n",
       "\n"
      ],
      "text/plain": [
       "[1] \"Creatinine in urine\" \"Potassium in urine\" "
      ]
     },
     "metadata": {},
     "output_type": "display_data"
    }
   ],
   "source": [
    "setdiff(\n",
    "    traits %>% select(name) %>% pull(),\n",
    "    array_anno_df %>% filter(Csq == 'protein-altering') %>% select(name) %>% unique() %>% pull()\n",
    ")"
   ]
  },
  {
   "cell_type": "code",
   "execution_count": null,
   "metadata": {},
   "outputs": [],
   "source": []
  }
 ],
 "metadata": {
  "kernelspec": {
   "display_name": "R",
   "language": "R",
   "name": "ir"
  },
  "language_info": {
   "codemirror_mode": "r",
   "file_extension": ".r",
   "mimetype": "text/x-r-source",
   "name": "R",
   "pygments_lexer": "r",
   "version": "3.6.1"
  }
 },
 "nbformat": 4,
 "nbformat_minor": 4
}
