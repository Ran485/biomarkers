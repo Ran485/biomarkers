{
 "cells": [
  {
   "cell_type": "code",
   "execution_count": 1,
   "metadata": {},
   "outputs": [
    {
     "name": "stderr",
     "output_type": "stream",
     "text": [
      "Warning message:\n",
      "“package ‘ggplot2’ was built under R version 3.6.2”Warning message:\n",
      "“package ‘tibble’ was built under R version 3.6.3”Warning message:\n",
      "“package ‘tidyr’ was built under R version 3.6.2”Warning message:\n",
      "“package ‘dplyr’ was built under R version 3.6.2”Warning message:\n",
      "“package ‘forcats’ was built under R version 3.6.2”"
     ]
    }
   ],
   "source": [
    "suppressPackageStartupMessages(require(tidyverse))\n",
    "suppressPackageStartupMessages(require(data.table))\n",
    "library(latex2exp)\n"
   ]
  },
  {
   "cell_type": "code",
   "execution_count": 2,
   "metadata": {},
   "outputs": [],
   "source": [
    "wd <- getwd()\n",
    "\n",
    "cascade_files <- file.path(wd, 'cascade.input.files.tsv')\n",
    "\n",
    "array_hits <- file.path(wd, 'out_v3', 'cascade.array.hits.tsv.zst')\n",
    "\n",
    "plot_filehead <- list(\n",
    "    PAVs = file.path(wd, 'out_v3', \"cascade.PAVs\"),\n",
    "    PTVs = file.path(wd, 'out_v3', \"cascade.PTVs\")\n",
    ")\n"
   ]
  },
  {
   "cell_type": "code",
   "execution_count": 3,
   "metadata": {},
   "outputs": [],
   "source": [
    "traits <- fread(cascade_files)\n",
    "\n",
    "array_anno_df <- fread(cmd=paste('zstdcat', array_hits, sep=' '), sep='\\t')\n"
   ]
  },
  {
   "cell_type": "code",
   "execution_count": 4,
   "metadata": {},
   "outputs": [],
   "source": [
    "plots <- list()"
   ]
  },
  {
   "cell_type": "code",
   "execution_count": 5,
   "metadata": {},
   "outputs": [],
   "source": [
    "plots[['PTVs']] <- array_anno_df %>% \n",
    "filter(Csq == 'protein-truncating', ld_indep, is_outside_of_MHC) %>%\n",
    "mutate(\n",
    "    outlier = if_else(abs(Effect) >= .1, TRUE, FALSE),\n",
    "    ggrepel = if_else(abs(Effect) >= .1, Gene_symbol, \"\")\n",
    ") %>%\n",
    "ggplot(\n",
    "    aes(x=maf, y=Effect, color=outlier, label = ggrepel)\n",
    ") +\n",
    "geom_hline(yintercept = 0, linetype=\"dashed\") +\n",
    "geom_point() + theme_bw() + \n",
    "labs(\n",
    "    title = TeX('Protein-truncating variant associations ($p \\\\,<\\\\, 5x10^{-9}$)'),\n",
    "    x = 'Minor allele frequency (log-scale)',\n",
    "    y = 'BETA'\n",
    ") +\n",
    "theme(\n",
    "    strip.text = element_text(size=7),\n",
    "    legend.position=\"none\"\n",
    ")+\n",
    "scale_color_brewer(palette=\"Dark2\") + \n",
    "scale_x_continuous(trans=\"log10\", breaks=10 ** c(-4, -2, 0)) + \n",
    "facet_wrap(~name, ncol = 6, strip.position = \"bottom\", labeller = label_wrap_gen(17)) + \n",
    "ggrepel::geom_text_repel(size=2, fontface=3)\n"
   ]
  },
  {
   "cell_type": "code",
   "execution_count": 6,
   "metadata": {},
   "outputs": [],
   "source": [
    "plots[['PAVs']] <- array_anno_df %>% \n",
    "filter(Csq == 'protein-altering', ld_indep, is_outside_of_MHC) %>%\n",
    "group_by(name) %>%\n",
    "mutate(\n",
    "    rank_abs_effect = rank(-abs(Effect))\n",
    ") %>%\n",
    "ungroup() %>%\n",
    "mutate(\n",
    "    outlier = if_else(abs(Effect) >= .1, TRUE, FALSE),\n",
    "    ggrepel = if_else((abs(Effect) >= .1) & (rank_abs_effect < 7) , Gene_symbol, \"\")\n",
    ") %>%\n",
    "ggplot(\n",
    "    aes(x=maf, y=Effect, color=outlier, label = ggrepel)\n",
    ") +\n",
    "geom_hline(yintercept = 0, linetype=\"dashed\") +\n",
    "geom_point() + theme_bw() + \n",
    "labs(\n",
    "    title = TeX('Protein-altering variant associations ($p \\\\,<\\\\, 5x10^{-9}$)'),\n",
    "    x = 'Minor allele frequency (log-scale)',\n",
    "    y = 'BETA'\n",
    ") +\n",
    "theme(\n",
    "    strip.text = element_text(size=7),\n",
    "    legend.position=\"none\"\n",
    ")+\n",
    "scale_color_brewer(palette=\"Dark2\") + \n",
    "scale_x_continuous(trans=\"log10\", breaks=10 ** c(-4, -2, 0)) + \n",
    "facet_wrap(~name, ncol = 6, strip.position = \"bottom\", labeller = label_wrap_gen(17)) + \n",
    "ggrepel::geom_text_repel(size=2, fontface=3)\n"
   ]
  },
  {
   "cell_type": "code",
   "execution_count": 7,
   "metadata": {},
   "outputs": [],
   "source": [
    "for(v in c('PTVs', 'PAVs')){\n",
    "    for(ext in c('png', 'pdf')){ \n",
    "        ggsave(\n",
    "            paste(plot_filehead[[v]], ext, sep='.'), \n",
    "            plot=plots[[v]], width = 10, height = 10\n",
    "        )\n",
    "    }\n",
    "}"
   ]
  },
  {
   "cell_type": "code",
   "execution_count": 8,
   "metadata": {},
   "outputs": [
    {
     "data": {
      "text/html": [
       "<style>\n",
       ".list-inline {list-style: none; margin:0; padding: 0}\n",
       ".list-inline>li {display: inline-block}\n",
       ".list-inline>li:not(:last-child)::after {content: \"\\00b7\"; padding: 0 .5ex}\n",
       "</style>\n",
       "<ol class=list-inline><li>'Alanine aminotransferase'</li><li>'Albumin'</li><li>'Aspartate aminotransferase'</li><li>'Calcium'</li><li>'Cholesterol'</li><li>'LDL cholesterol'</li><li>'Phosphate'</li><li>'SHBG'</li><li>'Total protein'</li><li>'Creatinine in urine'</li><li>'Potassium in urine'</li><li>'Sodium in urine'</li><li>'AST to ALT ratio'</li></ol>\n"
      ],
      "text/latex": [
       "\\begin{enumerate*}\n",
       "\\item 'Alanine aminotransferase'\n",
       "\\item 'Albumin'\n",
       "\\item 'Aspartate aminotransferase'\n",
       "\\item 'Calcium'\n",
       "\\item 'Cholesterol'\n",
       "\\item 'LDL cholesterol'\n",
       "\\item 'Phosphate'\n",
       "\\item 'SHBG'\n",
       "\\item 'Total protein'\n",
       "\\item 'Creatinine in urine'\n",
       "\\item 'Potassium in urine'\n",
       "\\item 'Sodium in urine'\n",
       "\\item 'AST to ALT ratio'\n",
       "\\end{enumerate*}\n"
      ],
      "text/markdown": [
       "1. 'Alanine aminotransferase'\n",
       "2. 'Albumin'\n",
       "3. 'Aspartate aminotransferase'\n",
       "4. 'Calcium'\n",
       "5. 'Cholesterol'\n",
       "6. 'LDL cholesterol'\n",
       "7. 'Phosphate'\n",
       "8. 'SHBG'\n",
       "9. 'Total protein'\n",
       "10. 'Creatinine in urine'\n",
       "11. 'Potassium in urine'\n",
       "12. 'Sodium in urine'\n",
       "13. 'AST to ALT ratio'\n",
       "\n",
       "\n"
      ],
      "text/plain": [
       " [1] \"Alanine aminotransferase\"   \"Albumin\"                   \n",
       " [3] \"Aspartate aminotransferase\" \"Calcium\"                   \n",
       " [5] \"Cholesterol\"                \"LDL cholesterol\"           \n",
       " [7] \"Phosphate\"                  \"SHBG\"                      \n",
       " [9] \"Total protein\"              \"Creatinine in urine\"       \n",
       "[11] \"Potassium in urine\"         \"Sodium in urine\"           \n",
       "[13] \"AST to ALT ratio\"          "
      ]
     },
     "metadata": {},
     "output_type": "display_data"
    }
   ],
   "source": [
    "setdiff(\n",
    "    traits %>% select(name) %>% pull(),\n",
    "    array_anno_df %>% filter(Csq == 'protein-truncating') %>% select(name) %>% unique() %>% pull()\n",
    ")"
   ]
  },
  {
   "cell_type": "code",
   "execution_count": 9,
   "metadata": {},
   "outputs": [
    {
     "data": {
      "text/html": [
       "<style>\n",
       ".list-inline {list-style: none; margin:0; padding: 0}\n",
       ".list-inline>li {display: inline-block}\n",
       ".list-inline>li:not(:last-child)::after {content: \"\\00b7\"; padding: 0 .5ex}\n",
       "</style>\n",
       "<ol class=list-inline><li>'Creatinine in urine'</li><li>'Potassium in urine'</li></ol>\n"
      ],
      "text/latex": [
       "\\begin{enumerate*}\n",
       "\\item 'Creatinine in urine'\n",
       "\\item 'Potassium in urine'\n",
       "\\end{enumerate*}\n"
      ],
      "text/markdown": [
       "1. 'Creatinine in urine'\n",
       "2. 'Potassium in urine'\n",
       "\n",
       "\n"
      ],
      "text/plain": [
       "[1] \"Creatinine in urine\" \"Potassium in urine\" "
      ]
     },
     "metadata": {},
     "output_type": "display_data"
    }
   ],
   "source": [
    "setdiff(\n",
    "    traits %>% select(name) %>% pull(),\n",
    "    array_anno_df %>% filter(Csq == 'protein-altering') %>% select(name) %>% unique() %>% pull()\n",
    ")"
   ]
  },
  {
   "cell_type": "markdown",
   "metadata": {},
   "source": [
    "## prepare supplementary table files\n",
    "- reformat the tables"
   ]
  },
  {
   "cell_type": "code",
   "execution_count": 45,
   "metadata": {},
   "outputs": [
    {
     "data": {
      "text/html": [
       "<style>\n",
       ".list-inline {list-style: none; margin:0; padding: 0}\n",
       ".list-inline>li {display: inline-block}\n",
       ".list-inline>li:not(:last-child)::after {content: \"\\00b7\"; padding: 0 .5ex}\n",
       "</style>\n",
       "<ol class=list-inline><li>'ID'</li><li>'Effect'</li><li>'StdErr'</li><li>'P'</li><li>'Direction'</li><li>'HetISq'</li><li>'HetChiSq'</li><li>'HetDf'</li><li>'HetPVal'</li><li>'name'</li><li>'CHROM'</li><li>'POS'</li><li>'REF'</li><li>'ALT'</li><li>'Gene'</li><li>'Consequence'</li><li>'HGVSp'</li><li>'LoF'</li><li>'LoF_filter'</li><li>'LoF_flags'</li><li>'LoF_info'</li><li>'consequence_field'</li><li>'f_miss'</li><li>'f_miss_bileve'</li><li>'f_miss_wcsg'</li><li>'freq'</li><li>'hwe_p'</li><li>'maf'</li><li>'ld_indep'</li><li>'wcsg_only'</li><li>'bileve_only'</li><li>'mgi'</li><li>'mgi_notes'</li><li>'all_filters'</li><li>'Gene_symbol'</li><li>'MAF'</li><li>'variant'</li><li>'Csq'</li><li>'is_outside_of_MHC'</li><li>'is_rare'</li></ol>\n"
      ],
      "text/latex": [
       "\\begin{enumerate*}\n",
       "\\item 'ID'\n",
       "\\item 'Effect'\n",
       "\\item 'StdErr'\n",
       "\\item 'P'\n",
       "\\item 'Direction'\n",
       "\\item 'HetISq'\n",
       "\\item 'HetChiSq'\n",
       "\\item 'HetDf'\n",
       "\\item 'HetPVal'\n",
       "\\item 'name'\n",
       "\\item 'CHROM'\n",
       "\\item 'POS'\n",
       "\\item 'REF'\n",
       "\\item 'ALT'\n",
       "\\item 'Gene'\n",
       "\\item 'Consequence'\n",
       "\\item 'HGVSp'\n",
       "\\item 'LoF'\n",
       "\\item 'LoF\\_filter'\n",
       "\\item 'LoF\\_flags'\n",
       "\\item 'LoF\\_info'\n",
       "\\item 'consequence\\_field'\n",
       "\\item 'f\\_miss'\n",
       "\\item 'f\\_miss\\_bileve'\n",
       "\\item 'f\\_miss\\_wcsg'\n",
       "\\item 'freq'\n",
       "\\item 'hwe\\_p'\n",
       "\\item 'maf'\n",
       "\\item 'ld\\_indep'\n",
       "\\item 'wcsg\\_only'\n",
       "\\item 'bileve\\_only'\n",
       "\\item 'mgi'\n",
       "\\item 'mgi\\_notes'\n",
       "\\item 'all\\_filters'\n",
       "\\item 'Gene\\_symbol'\n",
       "\\item 'MAF'\n",
       "\\item 'variant'\n",
       "\\item 'Csq'\n",
       "\\item 'is\\_outside\\_of\\_MHC'\n",
       "\\item 'is\\_rare'\n",
       "\\end{enumerate*}\n"
      ],
      "text/markdown": [
       "1. 'ID'\n",
       "2. 'Effect'\n",
       "3. 'StdErr'\n",
       "4. 'P'\n",
       "5. 'Direction'\n",
       "6. 'HetISq'\n",
       "7. 'HetChiSq'\n",
       "8. 'HetDf'\n",
       "9. 'HetPVal'\n",
       "10. 'name'\n",
       "11. 'CHROM'\n",
       "12. 'POS'\n",
       "13. 'REF'\n",
       "14. 'ALT'\n",
       "15. 'Gene'\n",
       "16. 'Consequence'\n",
       "17. 'HGVSp'\n",
       "18. 'LoF'\n",
       "19. 'LoF_filter'\n",
       "20. 'LoF_flags'\n",
       "21. 'LoF_info'\n",
       "22. 'consequence_field'\n",
       "23. 'f_miss'\n",
       "24. 'f_miss_bileve'\n",
       "25. 'f_miss_wcsg'\n",
       "26. 'freq'\n",
       "27. 'hwe_p'\n",
       "28. 'maf'\n",
       "29. 'ld_indep'\n",
       "30. 'wcsg_only'\n",
       "31. 'bileve_only'\n",
       "32. 'mgi'\n",
       "33. 'mgi_notes'\n",
       "34. 'all_filters'\n",
       "35. 'Gene_symbol'\n",
       "36. 'MAF'\n",
       "37. 'variant'\n",
       "38. 'Csq'\n",
       "39. 'is_outside_of_MHC'\n",
       "40. 'is_rare'\n",
       "\n",
       "\n"
      ],
      "text/plain": [
       " [1] \"ID\"                \"Effect\"            \"StdErr\"           \n",
       " [4] \"P\"                 \"Direction\"         \"HetISq\"           \n",
       " [7] \"HetChiSq\"          \"HetDf\"             \"HetPVal\"          \n",
       "[10] \"name\"              \"CHROM\"             \"POS\"              \n",
       "[13] \"REF\"               \"ALT\"               \"Gene\"             \n",
       "[16] \"Consequence\"       \"HGVSp\"             \"LoF\"              \n",
       "[19] \"LoF_filter\"        \"LoF_flags\"         \"LoF_info\"         \n",
       "[22] \"consequence_field\" \"f_miss\"            \"f_miss_bileve\"    \n",
       "[25] \"f_miss_wcsg\"       \"freq\"              \"hwe_p\"            \n",
       "[28] \"maf\"               \"ld_indep\"          \"wcsg_only\"        \n",
       "[31] \"bileve_only\"       \"mgi\"               \"mgi_notes\"        \n",
       "[34] \"all_filters\"       \"Gene_symbol\"       \"MAF\"              \n",
       "[37] \"variant\"           \"Csq\"               \"is_outside_of_MHC\"\n",
       "[40] \"is_rare\"          "
      ]
     },
     "metadata": {},
     "output_type": "display_data"
    }
   ],
   "source": [
    "array_anno_df %>% colnames()\n"
   ]
  },
  {
   "cell_type": "code",
   "execution_count": 46,
   "metadata": {},
   "outputs": [],
   "source": [
    "supl_tbl_rename_list <- list('BETA'='Effect', 'SE'='StdErr', 'trait'='name')\n"
   ]
  },
  {
   "cell_type": "code",
   "execution_count": 47,
   "metadata": {},
   "outputs": [],
   "source": [
    "supl_tbl_cols <- c(\n",
    "    'CHROM', 'POS', 'REF', 'ALT', 'ID', 'variant',\n",
    "    'trait', 'BETA', 'SE', 'P',\n",
    "    'Direction', 'HetISq', 'HetChiSq', 'HetDf', 'HetPVal',\n",
    "    'MAF', 'Consequence',\n",
    "    'Gene', 'Gene_symbol', 'HGVSp',\n",
    "    'is_outside_of_MHC', 'ld_indep',\n",
    "    'Comments'\n",
    ")"
   ]
  },
  {
   "cell_type": "code",
   "execution_count": 58,
   "metadata": {},
   "outputs": [],
   "source": [
    "df_PTVs <- array_anno_df %>% \n",
    "filter(Csq == 'protein-truncating') %>% \n",
    "mutate(Comments='', P=sprintf('%.2e', P))%>%\n",
    "rename(unlist(supl_tbl_rename_list)) %>%\n",
    "select(supl_tbl_cols) %>%\n",
    "arrange(CHROM, POS, trait)\n"
   ]
  },
  {
   "cell_type": "code",
   "execution_count": 59,
   "metadata": {},
   "outputs": [],
   "source": [
    "df_PAVs <- array_anno_df %>% \n",
    "filter(Csq == 'protein-altering') %>% \n",
    "mutate(Comments='', P=sprintf('%.2e', P))%>%\n",
    "rename(unlist(supl_tbl_rename_list)) %>%\n",
    "select(supl_tbl_cols) %>%\n",
    "arrange(CHROM, POS, trait)\n"
   ]
  },
  {
   "cell_type": "code",
   "execution_count": 60,
   "metadata": {},
   "outputs": [],
   "source": [
    "df_PTVs %>%\n",
    "rename('#CHROM' = 'CHROM') %>%\n",
    "fwrite(\n",
    "    sprintf('%s.%s', plot_filehead[['PTVs']], 'tsv'), \n",
    "    sep='\\t', na = \"NA\", quote=F\n",
    ")\n"
   ]
  },
  {
   "cell_type": "code",
   "execution_count": 61,
   "metadata": {},
   "outputs": [],
   "source": [
    "df_PAVs %>%\n",
    "rename('#CHROM' = 'CHROM') %>%\n",
    "fwrite(\n",
    "    sprintf('%s.%s', plot_filehead[['PAVs']], 'tsv'), \n",
    "    sep='\\t', na = \"NA\", quote=F\n",
    ")\n"
   ]
  },
  {
   "cell_type": "code",
   "execution_count": null,
   "metadata": {},
   "outputs": [],
   "source": []
  }
 ],
 "metadata": {
  "kernelspec": {
   "display_name": "R",
   "language": "R",
   "name": "ir"
  },
  "language_info": {
   "codemirror_mode": "r",
   "file_extension": ".r",
   "mimetype": "text/x-r-source",
   "name": "R",
   "pygments_lexer": "r",
   "version": "3.6.1"
  }
 },
 "nbformat": 4,
 "nbformat_minor": 4
}
