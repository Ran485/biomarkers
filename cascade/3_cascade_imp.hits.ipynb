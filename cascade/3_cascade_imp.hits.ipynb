{
 "cells": [
  {
   "cell_type": "code",
   "execution_count": 1,
   "metadata": {},
   "outputs": [],
   "source": [
    "source('cascade_helper.R')\n"
   ]
  },
  {
   "cell_type": "code",
   "execution_count": 2,
   "metadata": {},
   "outputs": [],
   "source": [
    "p_thr <- list(1e-7, 1e-7, 5e-8)\n",
    "names(p_thr) <- c('protein-truncating', 'protein-altering', 'non-coding')\n",
    "p_thr_df <- as.data.frame(p_thr) %>% gather(Csq, p_thr) %>% mutate(Csq = str_replace_all(Csq, '\\\\.', '-'))\n"
   ]
  },
  {
   "cell_type": "code",
   "execution_count": 3,
   "metadata": {},
   "outputs": [],
   "source": [
    "outd <- file.path(getwd(), 'out')\n"
   ]
  },
  {
   "cell_type": "code",
   "execution_count": 4,
   "metadata": {},
   "outputs": [],
   "source": [
    "annot.tbl <- '/oak/stanford/groups/mrivas/private_data/ukbb/variant_filtering/variant_filter_table.tsv.gz'\n",
    "annot.arr <- read_annot_arr(annot.tbl)\n"
   ]
  },
  {
   "cell_type": "code",
   "execution_count": 5,
   "metadata": {},
   "outputs": [
    {
     "data": {
      "text/html": [
       "<table>\n",
       "<caption>A tibble: 3 × 2</caption>\n",
       "<thead>\n",
       "\t<tr><th scope=col>Csq</th><th scope=col>n</th></tr>\n",
       "\t<tr><th scope=col>&lt;chr&gt;</th><th scope=col>&lt;int&gt;</th></tr>\n",
       "</thead>\n",
       "<tbody>\n",
       "\t<tr><td>non-coding        </td><td>669033</td></tr>\n",
       "\t<tr><td>protein-altering  </td><td> 87407</td></tr>\n",
       "\t<tr><td>protein-truncating</td><td> 27816</td></tr>\n",
       "</tbody>\n",
       "</table>\n"
      ],
      "text/latex": [
       "A tibble: 3 × 2\n",
       "\\begin{tabular}{r|ll}\n",
       " Csq & n\\\\\n",
       " <chr> & <int>\\\\\n",
       "\\hline\n",
       "\t non-coding         & 669033\\\\\n",
       "\t protein-altering   &  87407\\\\\n",
       "\t protein-truncating &  27816\\\\\n",
       "\\end{tabular}\n"
      ],
      "text/markdown": [
       "\n",
       "A tibble: 3 × 2\n",
       "\n",
       "| Csq &lt;chr&gt; | n &lt;int&gt; |\n",
       "|---|---|\n",
       "| non-coding         | 669033 |\n",
       "| protein-altering   |  87407 |\n",
       "| protein-truncating |  27816 |\n",
       "\n"
      ],
      "text/plain": [
       "  Csq                n     \n",
       "1 non-coding         669033\n",
       "2 protein-altering    87407\n",
       "3 protein-truncating  27816"
      ]
     },
     "metadata": {},
     "output_type": "display_data"
    }
   ],
   "source": [
    "annot.arr %>% count(Csq)\n"
   ]
  },
  {
   "cell_type": "code",
   "execution_count": 6,
   "metadata": {},
   "outputs": [],
   "source": [
    "traits <- fread('cascade.input.files.tsv')\n"
   ]
  },
  {
   "cell_type": "code",
   "execution_count": 7,
   "metadata": {},
   "outputs": [
    {
     "data": {
      "text/html": [
       "<ol class=list-inline>\n",
       "\t<li>35</li>\n",
       "\t<li>3</li>\n",
       "</ol>\n"
      ],
      "text/latex": [
       "\\begin{enumerate*}\n",
       "\\item 35\n",
       "\\item 3\n",
       "\\end{enumerate*}\n"
      ],
      "text/markdown": [
       "1. 35\n",
       "2. 3\n",
       "\n",
       "\n"
      ],
      "text/plain": [
       "[1] 35  3"
      ]
     },
     "metadata": {},
     "output_type": "display_data"
    }
   ],
   "source": [
    "dim(traits)\n"
   ]
  },
  {
   "cell_type": "code",
   "execution_count": 8,
   "metadata": {},
   "outputs": [
    {
     "data": {
      "text/html": [
       "<table>\n",
       "<caption>A data.table: 3 × 3</caption>\n",
       "<thead>\n",
       "\t<tr><th scope=col>phe</th><th scope=col>array_meta</th><th scope=col>imp_meta</th></tr>\n",
       "\t<tr><th scope=col>&lt;chr&gt;</th><th scope=col>&lt;chr&gt;</th><th scope=col>&lt;chr&gt;</th></tr>\n",
       "</thead>\n",
       "<tbody>\n",
       "\t<tr><td>Alanine_aminotransferase</td><td>/oak/stanford/groups/mrivas/projects/biomarkers_rivas/meta_flipfixed/METAANALYSIS_Alanine_aminotransferase_1.tbl.gz</td><td>/oak/stanford/groups/mrivas/projects/biomarkers/meta/plink_imputed/filtered/GLOBAL_Alanine_aminotransferase.sumstats.tsv.gz</td></tr>\n",
       "\t<tr><td>Albumin                 </td><td>/oak/stanford/groups/mrivas/projects/biomarkers_rivas/meta_flipfixed/METAANALYSIS_Albumin_1.tbl.gz                 </td><td>/oak/stanford/groups/mrivas/projects/biomarkers/meta/plink_imputed/filtered/GLOBAL_Albumin.sumstats.tsv.gz                 </td></tr>\n",
       "\t<tr><td>Alkaline_phosphatase    </td><td>/oak/stanford/groups/mrivas/projects/biomarkers_rivas/meta_flipfixed/METAANALYSIS_Alkaline_phosphatase_1.tbl.gz    </td><td>/oak/stanford/groups/mrivas/projects/biomarkers/meta/plink_imputed/filtered/GLOBAL_Alkaline_phosphatase.sumstats.tsv.gz    </td></tr>\n",
       "</tbody>\n",
       "</table>\n"
      ],
      "text/latex": [
       "A data.table: 3 × 3\n",
       "\\begin{tabular}{r|lll}\n",
       " phe & array\\_meta & imp\\_meta\\\\\n",
       " <chr> & <chr> & <chr>\\\\\n",
       "\\hline\n",
       "\t Alanine\\_aminotransferase & /oak/stanford/groups/mrivas/projects/biomarkers\\_rivas/meta\\_flipfixed/METAANALYSIS\\_Alanine\\_aminotransferase\\_1.tbl.gz & /oak/stanford/groups/mrivas/projects/biomarkers/meta/plink\\_imputed/filtered/GLOBAL\\_Alanine\\_aminotransferase.sumstats.tsv.gz\\\\\n",
       "\t Albumin                  & /oak/stanford/groups/mrivas/projects/biomarkers\\_rivas/meta\\_flipfixed/METAANALYSIS\\_Albumin\\_1.tbl.gz                  & /oak/stanford/groups/mrivas/projects/biomarkers/meta/plink\\_imputed/filtered/GLOBAL\\_Albumin.sumstats.tsv.gz                 \\\\\n",
       "\t Alkaline\\_phosphatase     & /oak/stanford/groups/mrivas/projects/biomarkers\\_rivas/meta\\_flipfixed/METAANALYSIS\\_Alkaline\\_phosphatase\\_1.tbl.gz     & /oak/stanford/groups/mrivas/projects/biomarkers/meta/plink\\_imputed/filtered/GLOBAL\\_Alkaline\\_phosphatase.sumstats.tsv.gz    \\\\\n",
       "\\end{tabular}\n"
      ],
      "text/markdown": [
       "\n",
       "A data.table: 3 × 3\n",
       "\n",
       "| phe &lt;chr&gt; | array_meta &lt;chr&gt; | imp_meta &lt;chr&gt; |\n",
       "|---|---|---|\n",
       "| Alanine_aminotransferase | /oak/stanford/groups/mrivas/projects/biomarkers_rivas/meta_flipfixed/METAANALYSIS_Alanine_aminotransferase_1.tbl.gz | /oak/stanford/groups/mrivas/projects/biomarkers/meta/plink_imputed/filtered/GLOBAL_Alanine_aminotransferase.sumstats.tsv.gz |\n",
       "| Albumin                  | /oak/stanford/groups/mrivas/projects/biomarkers_rivas/meta_flipfixed/METAANALYSIS_Albumin_1.tbl.gz                  | /oak/stanford/groups/mrivas/projects/biomarkers/meta/plink_imputed/filtered/GLOBAL_Albumin.sumstats.tsv.gz                  |\n",
       "| Alkaline_phosphatase     | /oak/stanford/groups/mrivas/projects/biomarkers_rivas/meta_flipfixed/METAANALYSIS_Alkaline_phosphatase_1.tbl.gz     | /oak/stanford/groups/mrivas/projects/biomarkers/meta/plink_imputed/filtered/GLOBAL_Alkaline_phosphatase.sumstats.tsv.gz     |\n",
       "\n"
      ],
      "text/plain": [
       "  phe                     \n",
       "1 Alanine_aminotransferase\n",
       "2 Albumin                 \n",
       "3 Alkaline_phosphatase    \n",
       "  array_meta                                                                                                         \n",
       "1 /oak/stanford/groups/mrivas/projects/biomarkers_rivas/meta_flipfixed/METAANALYSIS_Alanine_aminotransferase_1.tbl.gz\n",
       "2 /oak/stanford/groups/mrivas/projects/biomarkers_rivas/meta_flipfixed/METAANALYSIS_Albumin_1.tbl.gz                 \n",
       "3 /oak/stanford/groups/mrivas/projects/biomarkers_rivas/meta_flipfixed/METAANALYSIS_Alkaline_phosphatase_1.tbl.gz    \n",
       "  imp_meta                                                                                                                   \n",
       "1 /oak/stanford/groups/mrivas/projects/biomarkers/meta/plink_imputed/filtered/GLOBAL_Alanine_aminotransferase.sumstats.tsv.gz\n",
       "2 /oak/stanford/groups/mrivas/projects/biomarkers/meta/plink_imputed/filtered/GLOBAL_Albumin.sumstats.tsv.gz                 \n",
       "3 /oak/stanford/groups/mrivas/projects/biomarkers/meta/plink_imputed/filtered/GLOBAL_Alkaline_phosphatase.sumstats.tsv.gz    "
      ]
     },
     "metadata": {},
     "output_type": "display_data"
    }
   ],
   "source": [
    "traits %>% head(3)"
   ]
  },
  {
   "cell_type": "code",
   "execution_count": 9,
   "metadata": {},
   "outputs": [],
   "source": [
    "######################\n",
    "read_sumstats <- function(file, pval_thr){\n",
    "    df <- fread(\n",
    "        cmd=paste0(\n",
    "            'zcat ', file, ' | sed -e \"s/^#//g\"')\n",
    "    ) %>%\n",
    "    rename('P' = 'P-value') %>%\n",
    "    mutate(P = as.numeric(P)) %>%\n",
    "    filter(P <= pval_thr)    \n",
    "}"
   ]
  },
  {
   "cell_type": "code",
   "execution_count": 10,
   "metadata": {},
   "outputs": [],
   "source": [
    "df <- read_sumstats('/oak/stanford/groups/mrivas/projects/biomarkers/meta/plink_imputed/filtered/GLOBAL_Urea.sumstats.tsv.gz', 5e-8)\n"
   ]
  },
  {
   "cell_type": "code",
   "execution_count": 13,
   "metadata": {},
   "outputs": [
    {
     "data": {
      "text/html": [
       "<table>\n",
       "<caption>A data.frame: 6 × 13</caption>\n",
       "<thead>\n",
       "\t<tr><th scope=col>MarkerName</th><th scope=col>REF</th><th scope=col>ALT</th><th scope=col>Effect</th><th scope=col>StdErr</th><th scope=col>P</th><th scope=col>Direction</th><th scope=col>HetISq</th><th scope=col>HetChiSq</th><th scope=col>HetDf</th><th scope=col>HetPVal</th><th scope=col>MAF</th><th scope=col>MACH_R2</th></tr>\n",
       "\t<tr><th scope=col>&lt;chr&gt;</th><th scope=col>&lt;chr&gt;</th><th scope=col>&lt;chr&gt;</th><th scope=col>&lt;dbl&gt;</th><th scope=col>&lt;dbl&gt;</th><th scope=col>&lt;dbl&gt;</th><th scope=col>&lt;chr&gt;</th><th scope=col>&lt;dbl&gt;</th><th scope=col>&lt;dbl&gt;</th><th scope=col>&lt;int&gt;</th><th scope=col>&lt;dbl&gt;</th><th scope=col>&lt;dbl&gt;</th><th scope=col>&lt;dbl&gt;</th></tr>\n",
       "</thead>\n",
       "<tbody>\n",
       "\t<tr><td>3:136255483_C_T</td><td>C</td><td>T</td><td>-0.0293</td><td>0.0028</td><td>8.538e-26</td><td>---+</td><td>61.5</td><td>7.791</td><td>3</td><td>0.05053</td><td>0.2379690</td><td>0.996862</td></tr>\n",
       "\t<tr><td>2:148562909_C_A</td><td>C</td><td>A</td><td> 0.0148</td><td>0.0026</td><td>8.376e-09</td><td>++++</td><td> 0.0</td><td>0.333</td><td>3</td><td>0.95370</td><td>0.3093460</td><td>0.997099</td></tr>\n",
       "\t<tr><td>9:15603066_A_G </td><td>A</td><td>G</td><td>-0.0144</td><td>0.0024</td><td>1.478e-09</td><td>----</td><td> 0.0</td><td>1.421</td><td>3</td><td>0.70070</td><td>0.4523890</td><td>0.996399</td></tr>\n",
       "\t<tr><td>5:34449786_G_T </td><td>G</td><td>T</td><td> 0.0165</td><td>0.0025</td><td>6.337e-11</td><td>++++</td><td> 0.0</td><td>1.093</td><td>3</td><td>0.77880</td><td>0.3342910</td><td>0.999301</td></tr>\n",
       "\t<tr><td>5:176807191_C_T</td><td>C</td><td>T</td><td> 0.0248</td><td>0.0041</td><td>1.551e-09</td><td>+++-</td><td>21.1</td><td>3.800</td><td>3</td><td>0.28390</td><td>0.0970857</td><td>0.945972</td></tr>\n",
       "\t<tr><td>3:135804550_T_A</td><td>T</td><td>A</td><td> 0.0159</td><td>0.0028</td><td>1.893e-08</td><td>++++</td><td> 0.0</td><td>0.211</td><td>3</td><td>0.97580</td><td>0.2346450</td><td>0.990066</td></tr>\n",
       "</tbody>\n",
       "</table>\n"
      ],
      "text/latex": [
       "A data.frame: 6 × 13\n",
       "\\begin{tabular}{r|lllllllllllll}\n",
       " MarkerName & REF & ALT & Effect & StdErr & P & Direction & HetISq & HetChiSq & HetDf & HetPVal & MAF & MACH\\_R2\\\\\n",
       " <chr> & <chr> & <chr> & <dbl> & <dbl> & <dbl> & <chr> & <dbl> & <dbl> & <int> & <dbl> & <dbl> & <dbl>\\\\\n",
       "\\hline\n",
       "\t 3:136255483\\_C\\_T & C & T & -0.0293 & 0.0028 & 8.538e-26 & ---+ & 61.5 & 7.791 & 3 & 0.05053 & 0.2379690 & 0.996862\\\\\n",
       "\t 2:148562909\\_C\\_A & C & A &  0.0148 & 0.0026 & 8.376e-09 & ++++ &  0.0 & 0.333 & 3 & 0.95370 & 0.3093460 & 0.997099\\\\\n",
       "\t 9:15603066\\_A\\_G  & A & G & -0.0144 & 0.0024 & 1.478e-09 & ---- &  0.0 & 1.421 & 3 & 0.70070 & 0.4523890 & 0.996399\\\\\n",
       "\t 5:34449786\\_G\\_T  & G & T &  0.0165 & 0.0025 & 6.337e-11 & ++++ &  0.0 & 1.093 & 3 & 0.77880 & 0.3342910 & 0.999301\\\\\n",
       "\t 5:176807191\\_C\\_T & C & T &  0.0248 & 0.0041 & 1.551e-09 & +++- & 21.1 & 3.800 & 3 & 0.28390 & 0.0970857 & 0.945972\\\\\n",
       "\t 3:135804550\\_T\\_A & T & A &  0.0159 & 0.0028 & 1.893e-08 & ++++ &  0.0 & 0.211 & 3 & 0.97580 & 0.2346450 & 0.990066\\\\\n",
       "\\end{tabular}\n"
      ],
      "text/markdown": [
       "\n",
       "A data.frame: 6 × 13\n",
       "\n",
       "| MarkerName &lt;chr&gt; | REF &lt;chr&gt; | ALT &lt;chr&gt; | Effect &lt;dbl&gt; | StdErr &lt;dbl&gt; | P &lt;dbl&gt; | Direction &lt;chr&gt; | HetISq &lt;dbl&gt; | HetChiSq &lt;dbl&gt; | HetDf &lt;int&gt; | HetPVal &lt;dbl&gt; | MAF &lt;dbl&gt; | MACH_R2 &lt;dbl&gt; |\n",
       "|---|---|---|---|---|---|---|---|---|---|---|---|---|\n",
       "| 3:136255483_C_T | C | T | -0.0293 | 0.0028 | 8.538e-26 | ---+ | 61.5 | 7.791 | 3 | 0.05053 | 0.2379690 | 0.996862 |\n",
       "| 2:148562909_C_A | C | A |  0.0148 | 0.0026 | 8.376e-09 | ++++ |  0.0 | 0.333 | 3 | 0.95370 | 0.3093460 | 0.997099 |\n",
       "| 9:15603066_A_G  | A | G | -0.0144 | 0.0024 | 1.478e-09 | ---- |  0.0 | 1.421 | 3 | 0.70070 | 0.4523890 | 0.996399 |\n",
       "| 5:34449786_G_T  | G | T |  0.0165 | 0.0025 | 6.337e-11 | ++++ |  0.0 | 1.093 | 3 | 0.77880 | 0.3342910 | 0.999301 |\n",
       "| 5:176807191_C_T | C | T |  0.0248 | 0.0041 | 1.551e-09 | +++- | 21.1 | 3.800 | 3 | 0.28390 | 0.0970857 | 0.945972 |\n",
       "| 3:135804550_T_A | T | A |  0.0159 | 0.0028 | 1.893e-08 | ++++ |  0.0 | 0.211 | 3 | 0.97580 | 0.2346450 | 0.990066 |\n",
       "\n"
      ],
      "text/plain": [
       "  MarkerName      REF ALT Effect  StdErr P         Direction HetISq HetChiSq\n",
       "1 3:136255483_C_T C   T   -0.0293 0.0028 8.538e-26 ---+      61.5   7.791   \n",
       "2 2:148562909_C_A C   A    0.0148 0.0026 8.376e-09 ++++       0.0   0.333   \n",
       "3 9:15603066_A_G  A   G   -0.0144 0.0024 1.478e-09 ----       0.0   1.421   \n",
       "4 5:34449786_G_T  G   T    0.0165 0.0025 6.337e-11 ++++       0.0   1.093   \n",
       "5 5:176807191_C_T C   T    0.0248 0.0041 1.551e-09 +++-      21.1   3.800   \n",
       "6 3:135804550_T_A T   A    0.0159 0.0028 1.893e-08 ++++       0.0   0.211   \n",
       "  HetDf HetPVal MAF       MACH_R2 \n",
       "1 3     0.05053 0.2379690 0.996862\n",
       "2 3     0.95370 0.3093460 0.997099\n",
       "3 3     0.70070 0.4523890 0.996399\n",
       "4 3     0.77880 0.3342910 0.999301\n",
       "5 3     0.28390 0.0970857 0.945972\n",
       "6 3     0.97580 0.2346450 0.990066"
      ]
     },
     "metadata": {},
     "output_type": "display_data"
    }
   ],
   "source": [
    "df %>% head()"
   ]
  },
  {
   "cell_type": "code",
   "execution_count": null,
   "metadata": {},
   "outputs": [],
   "source": [
    "read_imp_sumstats <- function(file, pval_thr){\n",
    "    df <- fread(\n",
    "        cmd=paste0(\n",
    "            'zcat ', file, ' | sed -e \"s/^#//g\"')\n",
    "    ) %>%\n",
    "    rename('P' = 'P-value') %>%\n",
    "    mutate(P = as.numeric(P)) %>%\n",
    "    filter(P <= pval_thr)    \n",
    "}\n"
   ]
  },
  {
   "cell_type": "code",
   "execution_count": 7,
   "metadata": {},
   "outputs": [],
   "source": [
    "array_anno_df <- traits %>% \n",
    "read_array_sumstats_all(p_thr_df %>% select(p_thr) %>% max()) %>%\n",
    "annotate_array_df(annot.arr, p_thr_df)\n"
   ]
  },
  {
   "cell_type": "code",
   "execution_count": 8,
   "metadata": {},
   "outputs": [
    {
     "data": {
      "text/html": [
       "<ol class=list-inline>\n",
       "\t<li>83228</li>\n",
       "\t<li>24</li>\n",
       "</ol>\n"
      ],
      "text/latex": [
       "\\begin{enumerate*}\n",
       "\\item 83228\n",
       "\\item 24\n",
       "\\end{enumerate*}\n"
      ],
      "text/markdown": [
       "1. 83228\n",
       "2. 24\n",
       "\n",
       "\n"
      ],
      "text/plain": [
       "[1] 83228    24"
      ]
     },
     "metadata": {},
     "output_type": "display_data"
    }
   ],
   "source": [
    "array_anno_df %>%\n",
    "dim()"
   ]
  },
  {
   "cell_type": "code",
   "execution_count": 9,
   "metadata": {},
   "outputs": [],
   "source": [
    "array_anno_df %>%\n",
    "fwrite(file.path(outd, 'cascade.array.hits.tsv'), sep='\\t')\n"
   ]
  },
  {
   "cell_type": "code",
   "execution_count": 16,
   "metadata": {},
   "outputs": [
    {
     "data": {
      "text/html": [
       "<table>\n",
       "<caption>A tibble: 15 × 5</caption>\n",
       "<thead>\n",
       "\t<tr><th scope=col>is_outside_of_MHC</th><th scope=col>Csq</th><th scope=col>ld_indep</th><th scope=col>is_rare</th><th scope=col>n</th></tr>\n",
       "\t<tr><th scope=col>&lt;lgl&gt;</th><th scope=col>&lt;chr&gt;</th><th scope=col>&lt;lgl&gt;</th><th scope=col>&lt;lgl&gt;</th><th scope=col>&lt;int&gt;</th></tr>\n",
       "</thead>\n",
       "<tbody>\n",
       "\t<tr><td>FALSE</td><td>protein-altering  </td><td>FALSE</td><td>FALSE</td><td> 294</td></tr>\n",
       "\t<tr><td>FALSE</td><td>protein-altering  </td><td>FALSE</td><td> TRUE</td><td>   4</td></tr>\n",
       "\t<tr><td>FALSE</td><td>protein-altering  </td><td> TRUE</td><td>FALSE</td><td>  51</td></tr>\n",
       "\t<tr><td>FALSE</td><td>protein-altering  </td><td> TRUE</td><td> TRUE</td><td>   9</td></tr>\n",
       "\t<tr><td>FALSE</td><td>protein-truncating</td><td>FALSE</td><td>FALSE</td><td>  15</td></tr>\n",
       "\t<tr><td>FALSE</td><td>protein-truncating</td><td>FALSE</td><td> TRUE</td><td>   1</td></tr>\n",
       "\t<tr><td>FALSE</td><td>protein-truncating</td><td> TRUE</td><td> TRUE</td><td>   1</td></tr>\n",
       "\t<tr><td> TRUE</td><td>protein-altering  </td><td>FALSE</td><td>FALSE</td><td>2148</td></tr>\n",
       "\t<tr><td> TRUE</td><td>protein-altering  </td><td>FALSE</td><td> TRUE</td><td>  34</td></tr>\n",
       "\t<tr><td> TRUE</td><td>protein-altering  </td><td> TRUE</td><td>FALSE</td><td> 497</td></tr>\n",
       "\t<tr><td> TRUE</td><td>protein-altering  </td><td> TRUE</td><td> TRUE</td><td> 236</td></tr>\n",
       "\t<tr><td> TRUE</td><td>protein-truncating</td><td>FALSE</td><td>FALSE</td><td>  64</td></tr>\n",
       "\t<tr><td> TRUE</td><td>protein-truncating</td><td>FALSE</td><td> TRUE</td><td>   7</td></tr>\n",
       "\t<tr><td> TRUE</td><td>protein-truncating</td><td> TRUE</td><td>FALSE</td><td>  12</td></tr>\n",
       "\t<tr><td> TRUE</td><td>protein-truncating</td><td> TRUE</td><td> TRUE</td><td>  42</td></tr>\n",
       "</tbody>\n",
       "</table>\n"
      ],
      "text/latex": [
       "A tibble: 15 × 5\n",
       "\\begin{tabular}{r|lllll}\n",
       " is\\_outside\\_of\\_MHC & Csq & ld\\_indep & is\\_rare & n\\\\\n",
       " <lgl> & <chr> & <lgl> & <lgl> & <int>\\\\\n",
       "\\hline\n",
       "\t FALSE & protein-altering   & FALSE & FALSE &  294\\\\\n",
       "\t FALSE & protein-altering   & FALSE &  TRUE &    4\\\\\n",
       "\t FALSE & protein-altering   &  TRUE & FALSE &   51\\\\\n",
       "\t FALSE & protein-altering   &  TRUE &  TRUE &    9\\\\\n",
       "\t FALSE & protein-truncating & FALSE & FALSE &   15\\\\\n",
       "\t FALSE & protein-truncating & FALSE &  TRUE &    1\\\\\n",
       "\t FALSE & protein-truncating &  TRUE &  TRUE &    1\\\\\n",
       "\t  TRUE & protein-altering   & FALSE & FALSE & 2148\\\\\n",
       "\t  TRUE & protein-altering   & FALSE &  TRUE &   34\\\\\n",
       "\t  TRUE & protein-altering   &  TRUE & FALSE &  497\\\\\n",
       "\t  TRUE & protein-altering   &  TRUE &  TRUE &  236\\\\\n",
       "\t  TRUE & protein-truncating & FALSE & FALSE &   64\\\\\n",
       "\t  TRUE & protein-truncating & FALSE &  TRUE &    7\\\\\n",
       "\t  TRUE & protein-truncating &  TRUE & FALSE &   12\\\\\n",
       "\t  TRUE & protein-truncating &  TRUE &  TRUE &   42\\\\\n",
       "\\end{tabular}\n"
      ],
      "text/markdown": [
       "\n",
       "A tibble: 15 × 5\n",
       "\n",
       "| is_outside_of_MHC &lt;lgl&gt; | Csq &lt;chr&gt; | ld_indep &lt;lgl&gt; | is_rare &lt;lgl&gt; | n &lt;int&gt; |\n",
       "|---|---|---|---|---|\n",
       "| FALSE | protein-altering   | FALSE | FALSE |  294 |\n",
       "| FALSE | protein-altering   | FALSE |  TRUE |    4 |\n",
       "| FALSE | protein-altering   |  TRUE | FALSE |   51 |\n",
       "| FALSE | protein-altering   |  TRUE |  TRUE |    9 |\n",
       "| FALSE | protein-truncating | FALSE | FALSE |   15 |\n",
       "| FALSE | protein-truncating | FALSE |  TRUE |    1 |\n",
       "| FALSE | protein-truncating |  TRUE |  TRUE |    1 |\n",
       "|  TRUE | protein-altering   | FALSE | FALSE | 2148 |\n",
       "|  TRUE | protein-altering   | FALSE |  TRUE |   34 |\n",
       "|  TRUE | protein-altering   |  TRUE | FALSE |  497 |\n",
       "|  TRUE | protein-altering   |  TRUE |  TRUE |  236 |\n",
       "|  TRUE | protein-truncating | FALSE | FALSE |   64 |\n",
       "|  TRUE | protein-truncating | FALSE |  TRUE |    7 |\n",
       "|  TRUE | protein-truncating |  TRUE | FALSE |   12 |\n",
       "|  TRUE | protein-truncating |  TRUE |  TRUE |   42 |\n",
       "\n"
      ],
      "text/plain": [
       "   is_outside_of_MHC Csq                ld_indep is_rare n   \n",
       "1  FALSE             protein-altering   FALSE    FALSE    294\n",
       "2  FALSE             protein-altering   FALSE     TRUE      4\n",
       "3  FALSE             protein-altering    TRUE    FALSE     51\n",
       "4  FALSE             protein-altering    TRUE     TRUE      9\n",
       "5  FALSE             protein-truncating FALSE    FALSE     15\n",
       "6  FALSE             protein-truncating FALSE     TRUE      1\n",
       "7  FALSE             protein-truncating  TRUE     TRUE      1\n",
       "8   TRUE             protein-altering   FALSE    FALSE   2148\n",
       "9   TRUE             protein-altering   FALSE     TRUE     34\n",
       "10  TRUE             protein-altering    TRUE    FALSE    497\n",
       "11  TRUE             protein-altering    TRUE     TRUE    236\n",
       "12  TRUE             protein-truncating FALSE    FALSE     64\n",
       "13  TRUE             protein-truncating FALSE     TRUE      7\n",
       "14  TRUE             protein-truncating  TRUE    FALSE     12\n",
       "15  TRUE             protein-truncating  TRUE     TRUE     42"
      ]
     },
     "metadata": {},
     "output_type": "display_data"
    }
   ],
   "source": [
    "array_anno_df %>% \n",
    "filter(Csq != 'non-coding') %>%\n",
    "select(Csq, ld_indep, is_rare, is_outside_of_MHC, ID) %>%\n",
    "unique() %>%\n",
    "count(is_outside_of_MHC, Csq, ld_indep, is_rare)"
   ]
  },
  {
   "cell_type": "code",
   "execution_count": null,
   "metadata": {},
   "outputs": [],
   "source": []
  }
 ],
 "metadata": {
  "kernelspec": {
   "display_name": "R",
   "language": "R",
   "name": "ir"
  },
  "language_info": {
   "codemirror_mode": "r",
   "file_extension": ".r",
   "mimetype": "text/x-r-source",
   "name": "R",
   "pygments_lexer": "r",
   "version": "3.6.1"
  }
 },
 "nbformat": 4,
 "nbformat_minor": 4
}
