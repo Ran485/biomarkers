{
 "cells": [
  {
   "cell_type": "code",
   "execution_count": 1,
   "metadata": {},
   "outputs": [],
   "source": [
    "source('cascade_helper.R')\n"
   ]
  },
  {
   "cell_type": "code",
   "execution_count": 2,
   "metadata": {},
   "outputs": [],
   "source": [
    "p_thr <- list(1e-7, 1e-7, 5e-8)\n",
    "names(p_thr) <- c('protein-truncating', 'protein-altering', 'non-coding')\n",
    "p_thr_df <- as.data.frame(p_thr) %>% gather(Csq, p_thr) %>% mutate(Csq = str_replace_all(Csq, '\\\\.', '-'))\n"
   ]
  },
  {
   "cell_type": "code",
   "execution_count": 3,
   "metadata": {},
   "outputs": [],
   "source": [
    "outd <- file.path(getwd(), 'out')\n"
   ]
  },
  {
   "cell_type": "code",
   "execution_count": 4,
   "metadata": {},
   "outputs": [],
   "source": [
    "annot.tbl <- '/oak/stanford/groups/mrivas/private_data/ukbb/variant_filtering/variant_filter_table.tsv.gz'\n",
    "annot.arr <- read_annot_arr(annot.tbl)\n"
   ]
  },
  {
   "cell_type": "code",
   "execution_count": 5,
   "metadata": {},
   "outputs": [
    {
     "data": {
      "text/html": [
       "<table>\n",
       "<caption>A tibble: 3 × 2</caption>\n",
       "<thead>\n",
       "\t<tr><th scope=col>Csq</th><th scope=col>n</th></tr>\n",
       "\t<tr><th scope=col>&lt;chr&gt;</th><th scope=col>&lt;int&gt;</th></tr>\n",
       "</thead>\n",
       "<tbody>\n",
       "\t<tr><td>non-coding        </td><td>669033</td></tr>\n",
       "\t<tr><td>protein-altering  </td><td> 87407</td></tr>\n",
       "\t<tr><td>protein-truncating</td><td> 27816</td></tr>\n",
       "</tbody>\n",
       "</table>\n"
      ],
      "text/latex": [
       "A tibble: 3 × 2\n",
       "\\begin{tabular}{r|ll}\n",
       " Csq & n\\\\\n",
       " <chr> & <int>\\\\\n",
       "\\hline\n",
       "\t non-coding         & 669033\\\\\n",
       "\t protein-altering   &  87407\\\\\n",
       "\t protein-truncating &  27816\\\\\n",
       "\\end{tabular}\n"
      ],
      "text/markdown": [
       "\n",
       "A tibble: 3 × 2\n",
       "\n",
       "| Csq &lt;chr&gt; | n &lt;int&gt; |\n",
       "|---|---|\n",
       "| non-coding         | 669033 |\n",
       "| protein-altering   |  87407 |\n",
       "| protein-truncating |  27816 |\n",
       "\n"
      ],
      "text/plain": [
       "  Csq                n     \n",
       "1 non-coding         669033\n",
       "2 protein-altering    87407\n",
       "3 protein-truncating  27816"
      ]
     },
     "metadata": {},
     "output_type": "display_data"
    }
   ],
   "source": [
    "annot.arr %>% count(Csq)\n"
   ]
  },
  {
   "cell_type": "code",
   "execution_count": 6,
   "metadata": {},
   "outputs": [],
   "source": [
    "traits <- fread('cascade.input.files.tsv')\n"
   ]
  },
  {
   "cell_type": "code",
   "execution_count": 17,
   "metadata": {},
   "outputs": [
    {
     "data": {
      "text/html": [
       "<ol class=list-inline>\n",
       "\t<li>35</li>\n",
       "\t<li>3</li>\n",
       "</ol>\n"
      ],
      "text/latex": [
       "\\begin{enumerate*}\n",
       "\\item 35\n",
       "\\item 3\n",
       "\\end{enumerate*}\n"
      ],
      "text/markdown": [
       "1. 35\n",
       "2. 3\n",
       "\n",
       "\n"
      ],
      "text/plain": [
       "[1] 35  3"
      ]
     },
     "metadata": {},
     "output_type": "display_data"
    }
   ],
   "source": [
    "dim(traits)\n"
   ]
  },
  {
   "cell_type": "code",
   "execution_count": 7,
   "metadata": {},
   "outputs": [],
   "source": [
    "array_anno_df <- traits %>% \n",
    "read_array_sumstats_all(p_thr_df %>% select(p_thr) %>% max()) %>%\n",
    "annotate_array_df(annot.arr, p_thr_df)\n"
   ]
  },
  {
   "cell_type": "code",
   "execution_count": 8,
   "metadata": {},
   "outputs": [
    {
     "data": {
      "text/html": [
       "<ol class=list-inline>\n",
       "\t<li>83228</li>\n",
       "\t<li>24</li>\n",
       "</ol>\n"
      ],
      "text/latex": [
       "\\begin{enumerate*}\n",
       "\\item 83228\n",
       "\\item 24\n",
       "\\end{enumerate*}\n"
      ],
      "text/markdown": [
       "1. 83228\n",
       "2. 24\n",
       "\n",
       "\n"
      ],
      "text/plain": [
       "[1] 83228    24"
      ]
     },
     "metadata": {},
     "output_type": "display_data"
    }
   ],
   "source": [
    "array_anno_df %>%\n",
    "dim()"
   ]
  },
  {
   "cell_type": "code",
   "execution_count": 9,
   "metadata": {},
   "outputs": [],
   "source": [
    "array_anno_df %>%\n",
    "fwrite(file.path(outd, 'cascade.array.hits.tsv'), sep='\\t')\n"
   ]
  },
  {
   "cell_type": "code",
   "execution_count": 16,
   "metadata": {},
   "outputs": [
    {
     "data": {
      "text/html": [
       "<table>\n",
       "<caption>A tibble: 15 × 5</caption>\n",
       "<thead>\n",
       "\t<tr><th scope=col>is_outside_of_MHC</th><th scope=col>Csq</th><th scope=col>ld_indep</th><th scope=col>is_rare</th><th scope=col>n</th></tr>\n",
       "\t<tr><th scope=col>&lt;lgl&gt;</th><th scope=col>&lt;chr&gt;</th><th scope=col>&lt;lgl&gt;</th><th scope=col>&lt;lgl&gt;</th><th scope=col>&lt;int&gt;</th></tr>\n",
       "</thead>\n",
       "<tbody>\n",
       "\t<tr><td>FALSE</td><td>protein-altering  </td><td>FALSE</td><td>FALSE</td><td> 294</td></tr>\n",
       "\t<tr><td>FALSE</td><td>protein-altering  </td><td>FALSE</td><td> TRUE</td><td>   4</td></tr>\n",
       "\t<tr><td>FALSE</td><td>protein-altering  </td><td> TRUE</td><td>FALSE</td><td>  51</td></tr>\n",
       "\t<tr><td>FALSE</td><td>protein-altering  </td><td> TRUE</td><td> TRUE</td><td>   9</td></tr>\n",
       "\t<tr><td>FALSE</td><td>protein-truncating</td><td>FALSE</td><td>FALSE</td><td>  15</td></tr>\n",
       "\t<tr><td>FALSE</td><td>protein-truncating</td><td>FALSE</td><td> TRUE</td><td>   1</td></tr>\n",
       "\t<tr><td>FALSE</td><td>protein-truncating</td><td> TRUE</td><td> TRUE</td><td>   1</td></tr>\n",
       "\t<tr><td> TRUE</td><td>protein-altering  </td><td>FALSE</td><td>FALSE</td><td>2148</td></tr>\n",
       "\t<tr><td> TRUE</td><td>protein-altering  </td><td>FALSE</td><td> TRUE</td><td>  34</td></tr>\n",
       "\t<tr><td> TRUE</td><td>protein-altering  </td><td> TRUE</td><td>FALSE</td><td> 497</td></tr>\n",
       "\t<tr><td> TRUE</td><td>protein-altering  </td><td> TRUE</td><td> TRUE</td><td> 236</td></tr>\n",
       "\t<tr><td> TRUE</td><td>protein-truncating</td><td>FALSE</td><td>FALSE</td><td>  64</td></tr>\n",
       "\t<tr><td> TRUE</td><td>protein-truncating</td><td>FALSE</td><td> TRUE</td><td>   7</td></tr>\n",
       "\t<tr><td> TRUE</td><td>protein-truncating</td><td> TRUE</td><td>FALSE</td><td>  12</td></tr>\n",
       "\t<tr><td> TRUE</td><td>protein-truncating</td><td> TRUE</td><td> TRUE</td><td>  42</td></tr>\n",
       "</tbody>\n",
       "</table>\n"
      ],
      "text/latex": [
       "A tibble: 15 × 5\n",
       "\\begin{tabular}{r|lllll}\n",
       " is\\_outside\\_of\\_MHC & Csq & ld\\_indep & is\\_rare & n\\\\\n",
       " <lgl> & <chr> & <lgl> & <lgl> & <int>\\\\\n",
       "\\hline\n",
       "\t FALSE & protein-altering   & FALSE & FALSE &  294\\\\\n",
       "\t FALSE & protein-altering   & FALSE &  TRUE &    4\\\\\n",
       "\t FALSE & protein-altering   &  TRUE & FALSE &   51\\\\\n",
       "\t FALSE & protein-altering   &  TRUE &  TRUE &    9\\\\\n",
       "\t FALSE & protein-truncating & FALSE & FALSE &   15\\\\\n",
       "\t FALSE & protein-truncating & FALSE &  TRUE &    1\\\\\n",
       "\t FALSE & protein-truncating &  TRUE &  TRUE &    1\\\\\n",
       "\t  TRUE & protein-altering   & FALSE & FALSE & 2148\\\\\n",
       "\t  TRUE & protein-altering   & FALSE &  TRUE &   34\\\\\n",
       "\t  TRUE & protein-altering   &  TRUE & FALSE &  497\\\\\n",
       "\t  TRUE & protein-altering   &  TRUE &  TRUE &  236\\\\\n",
       "\t  TRUE & protein-truncating & FALSE & FALSE &   64\\\\\n",
       "\t  TRUE & protein-truncating & FALSE &  TRUE &    7\\\\\n",
       "\t  TRUE & protein-truncating &  TRUE & FALSE &   12\\\\\n",
       "\t  TRUE & protein-truncating &  TRUE &  TRUE &   42\\\\\n",
       "\\end{tabular}\n"
      ],
      "text/markdown": [
       "\n",
       "A tibble: 15 × 5\n",
       "\n",
       "| is_outside_of_MHC &lt;lgl&gt; | Csq &lt;chr&gt; | ld_indep &lt;lgl&gt; | is_rare &lt;lgl&gt; | n &lt;int&gt; |\n",
       "|---|---|---|---|---|\n",
       "| FALSE | protein-altering   | FALSE | FALSE |  294 |\n",
       "| FALSE | protein-altering   | FALSE |  TRUE |    4 |\n",
       "| FALSE | protein-altering   |  TRUE | FALSE |   51 |\n",
       "| FALSE | protein-altering   |  TRUE |  TRUE |    9 |\n",
       "| FALSE | protein-truncating | FALSE | FALSE |   15 |\n",
       "| FALSE | protein-truncating | FALSE |  TRUE |    1 |\n",
       "| FALSE | protein-truncating |  TRUE |  TRUE |    1 |\n",
       "|  TRUE | protein-altering   | FALSE | FALSE | 2148 |\n",
       "|  TRUE | protein-altering   | FALSE |  TRUE |   34 |\n",
       "|  TRUE | protein-altering   |  TRUE | FALSE |  497 |\n",
       "|  TRUE | protein-altering   |  TRUE |  TRUE |  236 |\n",
       "|  TRUE | protein-truncating | FALSE | FALSE |   64 |\n",
       "|  TRUE | protein-truncating | FALSE |  TRUE |    7 |\n",
       "|  TRUE | protein-truncating |  TRUE | FALSE |   12 |\n",
       "|  TRUE | protein-truncating |  TRUE |  TRUE |   42 |\n",
       "\n"
      ],
      "text/plain": [
       "   is_outside_of_MHC Csq                ld_indep is_rare n   \n",
       "1  FALSE             protein-altering   FALSE    FALSE    294\n",
       "2  FALSE             protein-altering   FALSE     TRUE      4\n",
       "3  FALSE             protein-altering    TRUE    FALSE     51\n",
       "4  FALSE             protein-altering    TRUE     TRUE      9\n",
       "5  FALSE             protein-truncating FALSE    FALSE     15\n",
       "6  FALSE             protein-truncating FALSE     TRUE      1\n",
       "7  FALSE             protein-truncating  TRUE     TRUE      1\n",
       "8   TRUE             protein-altering   FALSE    FALSE   2148\n",
       "9   TRUE             protein-altering   FALSE     TRUE     34\n",
       "10  TRUE             protein-altering    TRUE    FALSE    497\n",
       "11  TRUE             protein-altering    TRUE     TRUE    236\n",
       "12  TRUE             protein-truncating FALSE    FALSE     64\n",
       "13  TRUE             protein-truncating FALSE     TRUE      7\n",
       "14  TRUE             protein-truncating  TRUE    FALSE     12\n",
       "15  TRUE             protein-truncating  TRUE     TRUE     42"
      ]
     },
     "metadata": {},
     "output_type": "display_data"
    }
   ],
   "source": [
    "array_anno_df %>% \n",
    "filter(Csq != 'non-coding') %>%\n",
    "select(Csq, ld_indep, is_rare, is_outside_of_MHC, ID) %>%\n",
    "unique() %>%\n",
    "count(is_outside_of_MHC, Csq, ld_indep, is_rare)"
   ]
  },
  {
   "cell_type": "code",
   "execution_count": null,
   "metadata": {},
   "outputs": [],
   "source": []
  }
 ],
 "metadata": {
  "kernelspec": {
   "display_name": "R",
   "language": "R",
   "name": "ir"
  },
  "language_info": {
   "codemirror_mode": "r",
   "file_extension": ".r",
   "mimetype": "text/x-r-source",
   "name": "R",
   "pygments_lexer": "r",
   "version": "3.6.1"
  }
 },
 "nbformat": 4,
 "nbformat_minor": 4
}
