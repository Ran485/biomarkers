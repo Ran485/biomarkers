{
 "cells": [
  {
   "cell_type": "code",
   "execution_count": 1,
   "metadata": {},
   "outputs": [
    {
     "name": "stderr",
     "output_type": "stream",
     "text": [
      "Loading required package: tidyverse\n",
      "── \u001b[1mAttaching packages\u001b[22m ─────────────────────────────────────── tidyverse 1.2.1 ──\n",
      "\u001b[32m✔\u001b[39m \u001b[34mggplot2\u001b[39m 3.2.1     \u001b[32m✔\u001b[39m \u001b[34mpurrr  \u001b[39m 0.3.2\n",
      "\u001b[32m✔\u001b[39m \u001b[34mtibble \u001b[39m 2.1.3     \u001b[32m✔\u001b[39m \u001b[34mdplyr  \u001b[39m 0.8.3\n",
      "\u001b[32m✔\u001b[39m \u001b[34mtidyr  \u001b[39m 1.0.0     \u001b[32m✔\u001b[39m \u001b[34mstringr\u001b[39m 1.4.0\n",
      "\u001b[32m✔\u001b[39m \u001b[34mreadr  \u001b[39m 1.3.1     \u001b[32m✔\u001b[39m \u001b[34mforcats\u001b[39m 0.4.0\n",
      "── \u001b[1mConflicts\u001b[22m ────────────────────────────────────────── tidyverse_conflicts() ──\n",
      "\u001b[31m✖\u001b[39m \u001b[34mdplyr\u001b[39m::\u001b[32mfilter()\u001b[39m masks \u001b[34mstats\u001b[39m::filter()\n",
      "\u001b[31m✖\u001b[39m \u001b[34mdplyr\u001b[39m::\u001b[32mlag()\u001b[39m    masks \u001b[34mstats\u001b[39m::lag()\n",
      "Loading required package: data.table\n",
      "\n",
      "Attaching package: ‘data.table’\n",
      "\n",
      "The following objects are masked from ‘package:dplyr’:\n",
      "\n",
      "    between, first, last\n",
      "\n",
      "The following object is masked from ‘package:purrr’:\n",
      "\n",
      "    transpose\n",
      "\n"
     ]
    }
   ],
   "source": [
    "require(tidyverse)\n",
    "require(data.table)\n"
   ]
  },
  {
   "cell_type": "code",
   "execution_count": 4,
   "metadata": {},
   "outputs": [],
   "source": [
    "imp_df <- fread('../meta_flipfix/imp-jobs.tsv') %>% select(phe, meta) %>%\n",
    "rename('imp_meta' = 'meta')\n"
   ]
  },
  {
   "cell_type": "code",
   "execution_count": 32,
   "metadata": {},
   "outputs": [
    {
     "data": {
      "text/html": [
       "<ol class=list-inline>\n",
       "\t<li>40</li>\n",
       "\t<li>2</li>\n",
       "</ol>\n"
      ],
      "text/latex": [
       "\\begin{enumerate*}\n",
       "\\item 40\n",
       "\\item 2\n",
       "\\end{enumerate*}\n"
      ],
      "text/markdown": [
       "1. 40\n",
       "2. 2\n",
       "\n",
       "\n"
      ],
      "text/plain": [
       "[1] 40  2"
      ]
     },
     "metadata": {},
     "output_type": "display_data"
    }
   ],
   "source": [
    "imp_df %>% dim()"
   ]
  },
  {
   "cell_type": "code",
   "execution_count": 36,
   "metadata": {},
   "outputs": [
    {
     "data": {
      "text/html": [
       "<table>\n",
       "<caption>A data.table: 6 × 2</caption>\n",
       "<thead>\n",
       "\t<tr><th scope=col>phe</th><th scope=col>imp_meta</th></tr>\n",
       "\t<tr><th scope=col>&lt;chr&gt;</th><th scope=col>&lt;chr&gt;</th></tr>\n",
       "</thead>\n",
       "<tbody>\n",
       "\t<tr><td>Alanine_aminotransferase   </td><td>/oak/stanford/groups/mrivas/projects/biomarkers/meta/plink_imputed/filtered/GLOBAL_Alanine_aminotransferase.sumstats.tsv.gz   </td></tr>\n",
       "\t<tr><td>Albumin                    </td><td>/oak/stanford/groups/mrivas/projects/biomarkers/meta/plink_imputed/filtered/GLOBAL_Albumin.sumstats.tsv.gz                    </td></tr>\n",
       "\t<tr><td>Alkaline_phosphatase       </td><td>/oak/stanford/groups/mrivas/projects/biomarkers/meta/plink_imputed/filtered/GLOBAL_Alkaline_phosphatase.sumstats.tsv.gz       </td></tr>\n",
       "\t<tr><td>Apolipoprotein_A           </td><td>/oak/stanford/groups/mrivas/projects/biomarkers/meta/plink_imputed/filtered/GLOBAL_Apolipoprotein_A.sumstats.tsv.gz           </td></tr>\n",
       "\t<tr><td>Apolipoprotein_B_adjstatins</td><td>/oak/stanford/groups/mrivas/projects/biomarkers/meta/plink_imputed/filtered/GLOBAL_Apolipoprotein_B_adjstatins.sumstats.tsv.gz</td></tr>\n",
       "\t<tr><td>Apolipoprotein_B           </td><td>/oak/stanford/groups/mrivas/projects/biomarkers/meta/plink_imputed/filtered/GLOBAL_Apolipoprotein_B.sumstats.tsv.gz           </td></tr>\n",
       "</tbody>\n",
       "</table>\n"
      ],
      "text/latex": [
       "A data.table: 6 × 2\n",
       "\\begin{tabular}{r|ll}\n",
       " phe & imp\\_meta\\\\\n",
       " <chr> & <chr>\\\\\n",
       "\\hline\n",
       "\t Alanine\\_aminotransferase    & /oak/stanford/groups/mrivas/projects/biomarkers/meta/plink\\_imputed/filtered/GLOBAL\\_Alanine\\_aminotransferase.sumstats.tsv.gz   \\\\\n",
       "\t Albumin                     & /oak/stanford/groups/mrivas/projects/biomarkers/meta/plink\\_imputed/filtered/GLOBAL\\_Albumin.sumstats.tsv.gz                    \\\\\n",
       "\t Alkaline\\_phosphatase        & /oak/stanford/groups/mrivas/projects/biomarkers/meta/plink\\_imputed/filtered/GLOBAL\\_Alkaline\\_phosphatase.sumstats.tsv.gz       \\\\\n",
       "\t Apolipoprotein\\_A            & /oak/stanford/groups/mrivas/projects/biomarkers/meta/plink\\_imputed/filtered/GLOBAL\\_Apolipoprotein\\_A.sumstats.tsv.gz           \\\\\n",
       "\t Apolipoprotein\\_B\\_adjstatins & /oak/stanford/groups/mrivas/projects/biomarkers/meta/plink\\_imputed/filtered/GLOBAL\\_Apolipoprotein\\_B\\_adjstatins.sumstats.tsv.gz\\\\\n",
       "\t Apolipoprotein\\_B            & /oak/stanford/groups/mrivas/projects/biomarkers/meta/plink\\_imputed/filtered/GLOBAL\\_Apolipoprotein\\_B.sumstats.tsv.gz           \\\\\n",
       "\\end{tabular}\n"
      ],
      "text/markdown": [
       "\n",
       "A data.table: 6 × 2\n",
       "\n",
       "| phe &lt;chr&gt; | imp_meta &lt;chr&gt; |\n",
       "|---|---|\n",
       "| Alanine_aminotransferase    | /oak/stanford/groups/mrivas/projects/biomarkers/meta/plink_imputed/filtered/GLOBAL_Alanine_aminotransferase.sumstats.tsv.gz    |\n",
       "| Albumin                     | /oak/stanford/groups/mrivas/projects/biomarkers/meta/plink_imputed/filtered/GLOBAL_Albumin.sumstats.tsv.gz                     |\n",
       "| Alkaline_phosphatase        | /oak/stanford/groups/mrivas/projects/biomarkers/meta/plink_imputed/filtered/GLOBAL_Alkaline_phosphatase.sumstats.tsv.gz        |\n",
       "| Apolipoprotein_A            | /oak/stanford/groups/mrivas/projects/biomarkers/meta/plink_imputed/filtered/GLOBAL_Apolipoprotein_A.sumstats.tsv.gz            |\n",
       "| Apolipoprotein_B_adjstatins | /oak/stanford/groups/mrivas/projects/biomarkers/meta/plink_imputed/filtered/GLOBAL_Apolipoprotein_B_adjstatins.sumstats.tsv.gz |\n",
       "| Apolipoprotein_B            | /oak/stanford/groups/mrivas/projects/biomarkers/meta/plink_imputed/filtered/GLOBAL_Apolipoprotein_B.sumstats.tsv.gz            |\n",
       "\n"
      ],
      "text/plain": [
       "  phe                        \n",
       "1 Alanine_aminotransferase   \n",
       "2 Albumin                    \n",
       "3 Alkaline_phosphatase       \n",
       "4 Apolipoprotein_A           \n",
       "5 Apolipoprotein_B_adjstatins\n",
       "6 Apolipoprotein_B           \n",
       "  imp_meta                                                                                                                      \n",
       "1 /oak/stanford/groups/mrivas/projects/biomarkers/meta/plink_imputed/filtered/GLOBAL_Alanine_aminotransferase.sumstats.tsv.gz   \n",
       "2 /oak/stanford/groups/mrivas/projects/biomarkers/meta/plink_imputed/filtered/GLOBAL_Albumin.sumstats.tsv.gz                    \n",
       "3 /oak/stanford/groups/mrivas/projects/biomarkers/meta/plink_imputed/filtered/GLOBAL_Alkaline_phosphatase.sumstats.tsv.gz       \n",
       "4 /oak/stanford/groups/mrivas/projects/biomarkers/meta/plink_imputed/filtered/GLOBAL_Apolipoprotein_A.sumstats.tsv.gz           \n",
       "5 /oak/stanford/groups/mrivas/projects/biomarkers/meta/plink_imputed/filtered/GLOBAL_Apolipoprotein_B_adjstatins.sumstats.tsv.gz\n",
       "6 /oak/stanford/groups/mrivas/projects/biomarkers/meta/plink_imputed/filtered/GLOBAL_Apolipoprotein_B.sumstats.tsv.gz           "
      ]
     },
     "metadata": {},
     "output_type": "display_data"
    }
   ],
   "source": []
  },
  {
   "cell_type": "code",
   "execution_count": 39,
   "metadata": {},
   "outputs": [],
   "source": [
    "read_array_df <- function(){\n",
    "    array_df <- fread('../meta_flipfix/jobs.lst', header=F)\n",
    "    colnames(array_df) <- c('array_meta')    \n",
    "\n",
    "    array_df %>%\n",
    "    mutate(\n",
    "        phe = str_replace(str_replace(basename(array_meta), '^METAANALYSIS_', ''), '_1.tbl$', ''), \n",
    "        array_meta = str_replace(str_replace(array_meta, '/meta/', '/meta_flipfixed/'), '.tbl$', '.tbl.gz')\n",
    "    )    \n",
    "}"
   ]
  },
  {
   "cell_type": "code",
   "execution_count": 40,
   "metadata": {},
   "outputs": [],
   "source": [
    "array_df <- read_array_df()"
   ]
  },
  {
   "cell_type": "code",
   "execution_count": 48,
   "metadata": {},
   "outputs": [],
   "source": [
    "all_df <- array_df %>%\n",
    "inner_join(\n",
    "    imp_df, by='phe'\n",
    ") %>%\n",
    "select(phe, array_meta, imp_meta)"
   ]
  },
  {
   "cell_type": "code",
   "execution_count": 50,
   "metadata": {},
   "outputs": [],
   "source": [
    "all_df %>% \n",
    "fwrite('cascade.input.files.tsv', sep='\\t')\n"
   ]
  },
  {
   "cell_type": "markdown",
   "metadata": {},
   "source": [
    "# phenotype name mismatch"
   ]
  },
  {
   "cell_type": "code",
   "execution_count": 42,
   "metadata": {},
   "outputs": [],
   "source": [
    "array_phes <- array_df %>% select(phe) %>% pull()"
   ]
  },
  {
   "cell_type": "code",
   "execution_count": 37,
   "metadata": {},
   "outputs": [],
   "source": [
    "imp_phes <- imp_df %>% select(phe) %>% pull()"
   ]
  },
  {
   "cell_type": "code",
   "execution_count": 46,
   "metadata": {},
   "outputs": [
    {
     "data": {
      "text/html": [
       "<ol class=list-inline>\n",
       "\t<li>'Apolipoprotein_B_adjstatins'</li>\n",
       "\t<li>'Cholesterol_adjstatins'</li>\n",
       "\t<li>'Cholesterol'</li>\n",
       "\t<li>'LDL_direct_adjstatins'</li>\n",
       "\t<li>'LDL_direct'</li>\n",
       "</ol>\n"
      ],
      "text/latex": [
       "\\begin{enumerate*}\n",
       "\\item 'Apolipoprotein\\_B\\_adjstatins'\n",
       "\\item 'Cholesterol\\_adjstatins'\n",
       "\\item 'Cholesterol'\n",
       "\\item 'LDL\\_direct\\_adjstatins'\n",
       "\\item 'LDL\\_direct'\n",
       "\\end{enumerate*}\n"
      ],
      "text/markdown": [
       "1. 'Apolipoprotein_B_adjstatins'\n",
       "2. 'Cholesterol_adjstatins'\n",
       "3. 'Cholesterol'\n",
       "4. 'LDL_direct_adjstatins'\n",
       "5. 'LDL_direct'\n",
       "\n",
       "\n"
      ],
      "text/plain": [
       "[1] \"Apolipoprotein_B_adjstatins\" \"Cholesterol_adjstatins\"     \n",
       "[3] \"Cholesterol\"                 \"LDL_direct_adjstatins\"      \n",
       "[5] \"LDL_direct\"                 "
      ]
     },
     "metadata": {},
     "output_type": "display_data"
    }
   ],
   "source": [
    "imp_phes[! imp_phes %in% array_phes]"
   ]
  },
  {
   "cell_type": "code",
   "execution_count": 47,
   "metadata": {},
   "outputs": [
    {
     "data": {
      "text/html": [
       "<ol class=list-inline>\n",
       "\t<li>'Apolipoprotein_B_adjust_statins'</li>\n",
       "\t<li>'AST_ALT_ratio'</li>\n",
       "\t<li>'Cholesterol_adjust_statins'</li>\n",
       "\t<li>'LDL_direct_adjust_statins'</li>\n",
       "</ol>\n"
      ],
      "text/latex": [
       "\\begin{enumerate*}\n",
       "\\item 'Apolipoprotein\\_B\\_adjust\\_statins'\n",
       "\\item 'AST\\_ALT\\_ratio'\n",
       "\\item 'Cholesterol\\_adjust\\_statins'\n",
       "\\item 'LDL\\_direct\\_adjust\\_statins'\n",
       "\\end{enumerate*}\n"
      ],
      "text/markdown": [
       "1. 'Apolipoprotein_B_adjust_statins'\n",
       "2. 'AST_ALT_ratio'\n",
       "3. 'Cholesterol_adjust_statins'\n",
       "4. 'LDL_direct_adjust_statins'\n",
       "\n",
       "\n"
      ],
      "text/plain": [
       "[1] \"Apolipoprotein_B_adjust_statins\" \"AST_ALT_ratio\"                  \n",
       "[3] \"Cholesterol_adjust_statins\"      \"LDL_direct_adjust_statins\"      "
      ]
     },
     "metadata": {},
     "output_type": "display_data"
    }
   ],
   "source": [
    "array_phes[! array_phes %in% imp_phes]"
   ]
  }
 ],
 "metadata": {
  "kernelspec": {
   "display_name": "R",
   "language": "R",
   "name": "ir"
  },
  "language_info": {
   "codemirror_mode": "r",
   "file_extension": ".r",
   "mimetype": "text/x-r-source",
   "name": "R",
   "pygments_lexer": "r",
   "version": "3.6.1"
  }
 },
 "nbformat": 4,
 "nbformat_minor": 4
}
