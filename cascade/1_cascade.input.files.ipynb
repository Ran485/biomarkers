{
 "cells": [
  {
   "cell_type": "code",
   "execution_count": 1,
   "metadata": {},
   "outputs": [],
   "source": [
    "suppressPackageStartupMessages(require(tidyverse))\n",
    "suppressPackageStartupMessages(require(data.table))\n"
   ]
  },
  {
   "cell_type": "code",
   "execution_count": 2,
   "metadata": {},
   "outputs": [],
   "source": [
    "phe_names <- fread('../common/canonical_trait_names.txt', head=T)"
   ]
  },
  {
   "cell_type": "code",
   "execution_count": 3,
   "metadata": {},
   "outputs": [],
   "source": [
    "read_array_df <- function(){\n",
    "    array_df <- fread('../meta_flipfix/jobs.lst', header=F)\n",
    "    colnames(array_df) <- c('array')    \n",
    "\n",
    "    array_df %>%\n",
    "    mutate(\n",
    "        annotation = str_replace(str_replace(basename(array), '^METAANALYSIS_', ''), '_1.tbl$', ''),\n",
    "        array = str_replace(str_replace(array, '/meta/', '/meta_flipfixed/'), '.tbl$', '.tbl.gz'),\n",
    "        annotation = str_replace(annotation, 'Apolipoprotein_B_adjust_statins', 'Apolipoprotein_B_adjstatins'),\n",
    "        annotation = str_replace(annotation, 'LDL_direct_adjust_statins', 'LDL_direct_adjstatins'),\n",
    "        annotation = str_replace(annotation, 'Cholesterol_adjust_statins', 'Cholesterol_adjstatins')        \n",
    "    )\n",
    "}\n",
    "\n",
    "array_df <- read_array_df()"
   ]
  },
  {
   "cell_type": "code",
   "execution_count": 8,
   "metadata": {},
   "outputs": [],
   "source": [
    "imp_df <- fread('imp_hits.lst', head=F) %>% \n",
    "rename('imp'= 'V1') %>%\n",
    "mutate(\n",
    "    annotation = str_replace_all(basename(imp), '^GLOBAL_|.1cm.hits$', '')\n",
    ")"
   ]
  },
  {
   "cell_type": "code",
   "execution_count": 9,
   "metadata": {},
   "outputs": [],
   "source": [
    "all_df <- phe_names %>%\n",
    "left_join(\n",
    "    array_df, by='annotation'\n",
    ") %>%\n",
    "left_join(\n",
    "    imp_df, by='annotation'\n",
    ") %>%\n",
    "filter(name != 'Fasting glucose')\n"
   ]
  },
  {
   "cell_type": "code",
   "execution_count": 10,
   "metadata": {},
   "outputs": [],
   "source": [
    "all_df %>%\n",
    "# drop_na(c('array', 'imp')) %>% \n",
    "fwrite('cascade.input.files.tsv', sep='\\t')\n"
   ]
  },
  {
   "cell_type": "code",
   "execution_count": 11,
   "metadata": {},
   "outputs": [
    {
     "data": {
      "text/html": [
       "<table>\n",
       "<caption>A data.frame: 0 × 4</caption>\n",
       "<thead>\n",
       "\t<tr><th scope=col>name</th><th scope=col>annotation</th><th scope=col>array</th><th scope=col>imp</th></tr>\n",
       "\t<tr><th scope=col>&lt;chr&gt;</th><th scope=col>&lt;chr&gt;</th><th scope=col>&lt;chr&gt;</th><th scope=col>&lt;chr&gt;</th></tr>\n",
       "</thead>\n",
       "<tbody>\n",
       "</tbody>\n",
       "</table>\n"
      ],
      "text/latex": [
       "A data.frame: 0 × 4\n",
       "\\begin{tabular}{r|llll}\n",
       " name & annotation & array & imp\\\\\n",
       " <chr> & <chr> & <chr> & <chr>\\\\\n",
       "\\hline\n",
       "\\end{tabular}\n"
      ],
      "text/markdown": [
       "\n",
       "A data.frame: 0 × 4\n",
       "\n",
       "| name &lt;chr&gt; | annotation &lt;chr&gt; | array &lt;chr&gt; | imp &lt;chr&gt; |\n",
       "|---|---|---|---|\n",
       "\n"
      ],
      "text/plain": [
       "     name annotation array imp"
      ]
     },
     "metadata": {},
     "output_type": "display_data"
    }
   ],
   "source": [
    "all_df %>%\n",
    "filter(is.na(array) | is.na(imp))"
   ]
  },
  {
   "cell_type": "code",
   "execution_count": 12,
   "metadata": {},
   "outputs": [
    {
     "name": "stdout",
     "output_type": "stream",
     "text": [
      "[1] 35  4\n",
      "[1] 35  4\n"
     ]
    }
   ],
   "source": [
    "all_df %>% dim() %>% print()\n",
    "all_df %>% drop_na(c('array', 'imp')) %>% dim() %>% print()"
   ]
  },
  {
   "cell_type": "markdown",
   "metadata": {},
   "source": [
    "We later applied the followings:\n",
    "\n",
    "```{bash}\n",
    " 5012  Jan 12 12:03:31> mv cascade.input.files.tsv cascade.input.files.old.tsv\n",
    " 5013  Jan 12 12:03:54> cat cascade.input.files.old.tsv | sed -e \"s%plink_imputed/filtered_hits%plink_imputed/arraymasked_filtered_hits%g\" > cascade.input.files.tsv\n",
    "```"
   ]
  },
  {
   "cell_type": "code",
   "execution_count": null,
   "metadata": {},
   "outputs": [],
   "source": []
  }
 ],
 "metadata": {
  "kernelspec": {
   "display_name": "R",
   "language": "R",
   "name": "ir"
  },
  "language_info": {
   "codemirror_mode": "r",
   "file_extension": ".r",
   "mimetype": "text/x-r-source",
   "name": "R",
   "pygments_lexer": "r",
   "version": "3.6.1"
  }
 },
 "nbformat": 4,
 "nbformat_minor": 4
}
