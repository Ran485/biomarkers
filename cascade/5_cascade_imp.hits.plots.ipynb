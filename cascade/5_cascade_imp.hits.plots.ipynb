{
 "cells": [
  {
   "cell_type": "code",
   "execution_count": 1,
   "metadata": {},
   "outputs": [
    {
     "name": "stderr",
     "output_type": "stream",
     "text": [
      "Warning message:\n",
      "“package ‘ggplot2’ was built under R version 3.6.2”Warning message:\n",
      "“package ‘tibble’ was built under R version 3.6.3”Warning message:\n",
      "“package ‘tidyr’ was built under R version 3.6.2”Warning message:\n",
      "“package ‘dplyr’ was built under R version 3.6.2”Warning message:\n",
      "“package ‘forcats’ was built under R version 3.6.2”"
     ]
    }
   ],
   "source": [
    "suppressPackageStartupMessages(require(tidyverse))\n",
    "suppressPackageStartupMessages(require(data.table))\n",
    "library(latex2exp)\n"
   ]
  },
  {
   "cell_type": "code",
   "execution_count": 2,
   "metadata": {},
   "outputs": [],
   "source": [
    "outd <- file.path(getwd(), 'out_v3')\n",
    "\n",
    "traits <- fread('cascade.input.files.tsv')\n"
   ]
  },
  {
   "cell_type": "code",
   "execution_count": 32,
   "metadata": {},
   "outputs": [],
   "source": [
    "imp_var_annot_df <- fread(cmd=paste('zcat', file.path(outd, 'cascade.imp.hits.var.annot.tsv.gz'))) %>%\n",
    "rename('CHROM'='#CHROM') %>%\n",
    "select(-LoF, -LoF_filter, -LoF_flags, -LoF_info, -maf)\n"
   ]
  },
  {
   "cell_type": "code",
   "execution_count": 33,
   "metadata": {},
   "outputs": [
    {
     "data": {
      "text/html": [
       "<style>\n",
       ".list-inline {list-style: none; margin:0; padding: 0}\n",
       ".list-inline>li {display: inline-block}\n",
       ".list-inline>li:not(:last-child)::after {content: \"\\00b7\"; padding: 0 .5ex}\n",
       "</style>\n",
       "<ol class=list-inline><li>786</li><li>10</li></ol>\n"
      ],
      "text/latex": [
       "\\begin{enumerate*}\n",
       "\\item 786\n",
       "\\item 10\n",
       "\\end{enumerate*}\n"
      ],
      "text/markdown": [
       "1. 786\n",
       "2. 10\n",
       "\n",
       "\n"
      ],
      "text/plain": [
       "[1] 786  10"
      ]
     },
     "metadata": {},
     "output_type": "display_data"
    }
   ],
   "source": [
    "imp_var_annot_df %>% dim()"
   ]
  },
  {
   "cell_type": "code",
   "execution_count": 34,
   "metadata": {},
   "outputs": [
    {
     "data": {
      "text/html": [
       "<style>\n",
       ".list-inline {list-style: none; margin:0; padding: 0}\n",
       ".list-inline>li {display: inline-block}\n",
       ".list-inline>li:not(:last-child)::after {content: \"\\00b7\"; padding: 0 .5ex}\n",
       "</style>\n",
       "<ol class=list-inline><li>'CHROM'</li><li>'POS'</li><li>'REF'</li><li>'ALT'</li><li>'ID'</li><li>'Gene'</li><li>'Consequence'</li><li>'HGVSp'</li><li>'consequence_field'</li><li>'Gene_symbol'</li></ol>\n"
      ],
      "text/latex": [
       "\\begin{enumerate*}\n",
       "\\item 'CHROM'\n",
       "\\item 'POS'\n",
       "\\item 'REF'\n",
       "\\item 'ALT'\n",
       "\\item 'ID'\n",
       "\\item 'Gene'\n",
       "\\item 'Consequence'\n",
       "\\item 'HGVSp'\n",
       "\\item 'consequence\\_field'\n",
       "\\item 'Gene\\_symbol'\n",
       "\\end{enumerate*}\n"
      ],
      "text/markdown": [
       "1. 'CHROM'\n",
       "2. 'POS'\n",
       "3. 'REF'\n",
       "4. 'ALT'\n",
       "5. 'ID'\n",
       "6. 'Gene'\n",
       "7. 'Consequence'\n",
       "8. 'HGVSp'\n",
       "9. 'consequence_field'\n",
       "10. 'Gene_symbol'\n",
       "\n",
       "\n"
      ],
      "text/plain": [
       " [1] \"CHROM\"             \"POS\"               \"REF\"              \n",
       " [4] \"ALT\"               \"ID\"                \"Gene\"             \n",
       " [7] \"Consequence\"       \"HGVSp\"             \"consequence_field\"\n",
       "[10] \"Gene_symbol\"      "
      ]
     },
     "metadata": {},
     "output_type": "display_data"
    }
   ],
   "source": [
    "imp_var_annot_df %>% colnames()"
   ]
  },
  {
   "cell_type": "code",
   "execution_count": 3,
   "metadata": {},
   "outputs": [],
   "source": [
    "imp_anno_df <-\n",
    "fread(cmd=paste('zstdcat', file.path(outd, 'cascade.imp.hits.tsv.zst'), sep=' '), sep='\\t')\n"
   ]
  },
  {
   "cell_type": "code",
   "execution_count": 4,
   "metadata": {},
   "outputs": [
    {
     "data": {
      "text/html": [
       "<style>\n",
       ".list-inline {list-style: none; margin:0; padding: 0}\n",
       ".list-inline>li {display: inline-block}\n",
       ".list-inline>li:not(:last-child)::after {content: \"\\00b7\"; padding: 0 .5ex}\n",
       "</style>\n",
       "<ol class=list-inline><li>776</li><li>23</li></ol>\n"
      ],
      "text/latex": [
       "\\begin{enumerate*}\n",
       "\\item 776\n",
       "\\item 23\n",
       "\\end{enumerate*}\n"
      ],
      "text/markdown": [
       "1. 776\n",
       "2. 23\n",
       "\n",
       "\n"
      ],
      "text/plain": [
       "[1] 776  23"
      ]
     },
     "metadata": {},
     "output_type": "display_data"
    }
   ],
   "source": [
    "imp_anno_df %>% dim()"
   ]
  },
  {
   "cell_type": "code",
   "execution_count": 5,
   "metadata": {},
   "outputs": [
    {
     "data": {
      "text/html": [
       "<style>\n",
       ".list-inline {list-style: none; margin:0; padding: 0}\n",
       ".list-inline>li {display: inline-block}\n",
       ".list-inline>li:not(:last-child)::after {content: \"\\00b7\"; padding: 0 .5ex}\n",
       "</style>\n",
       "<ol class=list-inline><li>'ID'</li><li>'REF'</li><li>'ALT'</li><li>'Effect'</li><li>'StdErr'</li><li>'Direction'</li><li>'HetISq'</li><li>'HetChiSq'</li><li>'HetDf'</li><li>'HetPVal'</li><li>'maf'</li><li>'MACH_R2'</li><li>'CHROM'</li><li>'POS'</li><li>'P'</li><li>'CM'</li><li>'id'</li><li>'prev'</li><li>'block'</li><li>'name'</li><li>'is_outside_of_MHC'</li><li>'is_rare'</li><li>'is_autosome'</li></ol>\n"
      ],
      "text/latex": [
       "\\begin{enumerate*}\n",
       "\\item 'ID'\n",
       "\\item 'REF'\n",
       "\\item 'ALT'\n",
       "\\item 'Effect'\n",
       "\\item 'StdErr'\n",
       "\\item 'Direction'\n",
       "\\item 'HetISq'\n",
       "\\item 'HetChiSq'\n",
       "\\item 'HetDf'\n",
       "\\item 'HetPVal'\n",
       "\\item 'maf'\n",
       "\\item 'MACH\\_R2'\n",
       "\\item 'CHROM'\n",
       "\\item 'POS'\n",
       "\\item 'P'\n",
       "\\item 'CM'\n",
       "\\item 'id'\n",
       "\\item 'prev'\n",
       "\\item 'block'\n",
       "\\item 'name'\n",
       "\\item 'is\\_outside\\_of\\_MHC'\n",
       "\\item 'is\\_rare'\n",
       "\\item 'is\\_autosome'\n",
       "\\end{enumerate*}\n"
      ],
      "text/markdown": [
       "1. 'ID'\n",
       "2. 'REF'\n",
       "3. 'ALT'\n",
       "4. 'Effect'\n",
       "5. 'StdErr'\n",
       "6. 'Direction'\n",
       "7. 'HetISq'\n",
       "8. 'HetChiSq'\n",
       "9. 'HetDf'\n",
       "10. 'HetPVal'\n",
       "11. 'maf'\n",
       "12. 'MACH_R2'\n",
       "13. 'CHROM'\n",
       "14. 'POS'\n",
       "15. 'P'\n",
       "16. 'CM'\n",
       "17. 'id'\n",
       "18. 'prev'\n",
       "19. 'block'\n",
       "20. 'name'\n",
       "21. 'is_outside_of_MHC'\n",
       "22. 'is_rare'\n",
       "23. 'is_autosome'\n",
       "\n",
       "\n"
      ],
      "text/plain": [
       " [1] \"ID\"                \"REF\"               \"ALT\"              \n",
       " [4] \"Effect\"            \"StdErr\"            \"Direction\"        \n",
       " [7] \"HetISq\"            \"HetChiSq\"          \"HetDf\"            \n",
       "[10] \"HetPVal\"           \"maf\"               \"MACH_R2\"          \n",
       "[13] \"CHROM\"             \"POS\"               \"P\"                \n",
       "[16] \"CM\"                \"id\"                \"prev\"             \n",
       "[19] \"block\"             \"name\"              \"is_outside_of_MHC\"\n",
       "[22] \"is_rare\"           \"is_autosome\"      "
      ]
     },
     "metadata": {},
     "output_type": "display_data"
    }
   ],
   "source": [
    "imp_anno_df %>% colnames()"
   ]
  },
  {
   "cell_type": "code",
   "execution_count": 52,
   "metadata": {},
   "outputs": [],
   "source": [
    "imp_anno_2_df <- imp_anno_df %>%\n",
    "rename('ID_old'='ID')%>%\n",
    "left_join(\n",
    "    imp_var_annot_df %>%\n",
    "    select(CHROM, POS, REF, ALT, ID, Gene, Gene_symbol, Consequence, HGVSp) %>%\n",
    "    unique(), \n",
    "    by=c('CHROM', 'POS', 'REF', 'ALT')\n",
    ")"
   ]
  },
  {
   "cell_type": "code",
   "execution_count": 53,
   "metadata": {},
   "outputs": [
    {
     "data": {
      "text/html": [
       "<style>\n",
       ".list-inline {list-style: none; margin:0; padding: 0}\n",
       ".list-inline>li {display: inline-block}\n",
       ".list-inline>li:not(:last-child)::after {content: \"\\00b7\"; padding: 0 .5ex}\n",
       "</style>\n",
       "<ol class=list-inline><li>776</li><li>28</li></ol>\n"
      ],
      "text/latex": [
       "\\begin{enumerate*}\n",
       "\\item 776\n",
       "\\item 28\n",
       "\\end{enumerate*}\n"
      ],
      "text/markdown": [
       "1. 776\n",
       "2. 28\n",
       "\n",
       "\n"
      ],
      "text/plain": [
       "[1] 776  28"
      ]
     },
     "metadata": {},
     "output_type": "display_data"
    }
   ],
   "source": [
    "imp_anno_2_df %>% dim()"
   ]
  },
  {
   "cell_type": "code",
   "execution_count": 54,
   "metadata": {},
   "outputs": [
    {
     "data": {
      "text/html": [
       "<style>\n",
       ".list-inline {list-style: none; margin:0; padding: 0}\n",
       ".list-inline>li {display: inline-block}\n",
       ".list-inline>li:not(:last-child)::after {content: \"\\00b7\"; padding: 0 .5ex}\n",
       "</style>\n",
       "<ol class=list-inline><li>'ID_old'</li><li>'REF'</li><li>'ALT'</li><li>'Effect'</li><li>'StdErr'</li><li>'Direction'</li><li>'HetISq'</li><li>'HetChiSq'</li><li>'HetDf'</li><li>'HetPVal'</li><li>'maf'</li><li>'MACH_R2'</li><li>'CHROM'</li><li>'POS'</li><li>'P'</li><li>'CM'</li><li>'id'</li><li>'prev'</li><li>'block'</li><li>'name'</li><li>'is_outside_of_MHC'</li><li>'is_rare'</li><li>'is_autosome'</li><li>'ID'</li><li>'Gene'</li><li>'Gene_symbol'</li><li>'Consequence'</li><li>'HGVSp'</li></ol>\n"
      ],
      "text/latex": [
       "\\begin{enumerate*}\n",
       "\\item 'ID\\_old'\n",
       "\\item 'REF'\n",
       "\\item 'ALT'\n",
       "\\item 'Effect'\n",
       "\\item 'StdErr'\n",
       "\\item 'Direction'\n",
       "\\item 'HetISq'\n",
       "\\item 'HetChiSq'\n",
       "\\item 'HetDf'\n",
       "\\item 'HetPVal'\n",
       "\\item 'maf'\n",
       "\\item 'MACH\\_R2'\n",
       "\\item 'CHROM'\n",
       "\\item 'POS'\n",
       "\\item 'P'\n",
       "\\item 'CM'\n",
       "\\item 'id'\n",
       "\\item 'prev'\n",
       "\\item 'block'\n",
       "\\item 'name'\n",
       "\\item 'is\\_outside\\_of\\_MHC'\n",
       "\\item 'is\\_rare'\n",
       "\\item 'is\\_autosome'\n",
       "\\item 'ID'\n",
       "\\item 'Gene'\n",
       "\\item 'Gene\\_symbol'\n",
       "\\item 'Consequence'\n",
       "\\item 'HGVSp'\n",
       "\\end{enumerate*}\n"
      ],
      "text/markdown": [
       "1. 'ID_old'\n",
       "2. 'REF'\n",
       "3. 'ALT'\n",
       "4. 'Effect'\n",
       "5. 'StdErr'\n",
       "6. 'Direction'\n",
       "7. 'HetISq'\n",
       "8. 'HetChiSq'\n",
       "9. 'HetDf'\n",
       "10. 'HetPVal'\n",
       "11. 'maf'\n",
       "12. 'MACH_R2'\n",
       "13. 'CHROM'\n",
       "14. 'POS'\n",
       "15. 'P'\n",
       "16. 'CM'\n",
       "17. 'id'\n",
       "18. 'prev'\n",
       "19. 'block'\n",
       "20. 'name'\n",
       "21. 'is_outside_of_MHC'\n",
       "22. 'is_rare'\n",
       "23. 'is_autosome'\n",
       "24. 'ID'\n",
       "25. 'Gene'\n",
       "26. 'Gene_symbol'\n",
       "27. 'Consequence'\n",
       "28. 'HGVSp'\n",
       "\n",
       "\n"
      ],
      "text/plain": [
       " [1] \"ID_old\"            \"REF\"               \"ALT\"              \n",
       " [4] \"Effect\"            \"StdErr\"            \"Direction\"        \n",
       " [7] \"HetISq\"            \"HetChiSq\"          \"HetDf\"            \n",
       "[10] \"HetPVal\"           \"maf\"               \"MACH_R2\"          \n",
       "[13] \"CHROM\"             \"POS\"               \"P\"                \n",
       "[16] \"CM\"                \"id\"                \"prev\"             \n",
       "[19] \"block\"             \"name\"              \"is_outside_of_MHC\"\n",
       "[22] \"is_rare\"           \"is_autosome\"       \"ID\"               \n",
       "[25] \"Gene\"              \"Gene_symbol\"       \"Consequence\"      \n",
       "[28] \"HGVSp\"            "
      ]
     },
     "metadata": {},
     "output_type": "display_data"
    }
   ],
   "source": [
    "imp_anno_2_df %>% colnames()"
   ]
  },
  {
   "cell_type": "code",
   "execution_count": 6,
   "metadata": {},
   "outputs": [],
   "source": [
    "array_anno_df <- \n",
    "fread(cmd=paste('zstdcat', file.path(outd, 'cascade.array.hits.tsv.zst'), sep=' '), sep='\\t')\n"
   ]
  },
  {
   "cell_type": "code",
   "execution_count": 7,
   "metadata": {},
   "outputs": [
    {
     "data": {
      "text/html": [
       "<style>\n",
       ".list-inline {list-style: none; margin:0; padding: 0}\n",
       ".list-inline>li {display: inline-block}\n",
       ".list-inline>li:not(:last-child)::after {content: \"\\00b7\"; padding: 0 .5ex}\n",
       "</style>\n",
       "<ol class=list-inline><li>9735</li><li>40</li></ol>\n"
      ],
      "text/latex": [
       "\\begin{enumerate*}\n",
       "\\item 9735\n",
       "\\item 40\n",
       "\\end{enumerate*}\n"
      ],
      "text/markdown": [
       "1. 9735\n",
       "2. 40\n",
       "\n",
       "\n"
      ],
      "text/plain": [
       "[1] 9735   40"
      ]
     },
     "metadata": {},
     "output_type": "display_data"
    }
   ],
   "source": [
    "array_anno_df %>% dim()"
   ]
  },
  {
   "cell_type": "code",
   "execution_count": 8,
   "metadata": {},
   "outputs": [
    {
     "data": {
      "text/html": [
       "<style>\n",
       ".list-inline {list-style: none; margin:0; padding: 0}\n",
       ".list-inline>li {display: inline-block}\n",
       ".list-inline>li:not(:last-child)::after {content: \"\\00b7\"; padding: 0 .5ex}\n",
       "</style>\n",
       "<ol class=list-inline><li>'ID'</li><li>'Effect'</li><li>'StdErr'</li><li>'P'</li><li>'Direction'</li><li>'HetISq'</li><li>'HetChiSq'</li><li>'HetDf'</li><li>'HetPVal'</li><li>'name'</li><li>'CHROM'</li><li>'POS'</li><li>'REF'</li><li>'ALT'</li><li>'Gene'</li><li>'Consequence'</li><li>'HGVSp'</li><li>'LoF'</li><li>'LoF_filter'</li><li>'LoF_flags'</li><li>'LoF_info'</li><li>'consequence_field'</li><li>'f_miss'</li><li>'f_miss_bileve'</li><li>'f_miss_wcsg'</li><li>'freq'</li><li>'hwe_p'</li><li>'maf'</li><li>'ld_indep'</li><li>'wcsg_only'</li><li>'bileve_only'</li><li>'mgi'</li><li>'mgi_notes'</li><li>'all_filters'</li><li>'Gene_symbol'</li><li>'MAF'</li><li>'variant'</li><li>'Csq'</li><li>'is_outside_of_MHC'</li><li>'is_rare'</li></ol>\n"
      ],
      "text/latex": [
       "\\begin{enumerate*}\n",
       "\\item 'ID'\n",
       "\\item 'Effect'\n",
       "\\item 'StdErr'\n",
       "\\item 'P'\n",
       "\\item 'Direction'\n",
       "\\item 'HetISq'\n",
       "\\item 'HetChiSq'\n",
       "\\item 'HetDf'\n",
       "\\item 'HetPVal'\n",
       "\\item 'name'\n",
       "\\item 'CHROM'\n",
       "\\item 'POS'\n",
       "\\item 'REF'\n",
       "\\item 'ALT'\n",
       "\\item 'Gene'\n",
       "\\item 'Consequence'\n",
       "\\item 'HGVSp'\n",
       "\\item 'LoF'\n",
       "\\item 'LoF\\_filter'\n",
       "\\item 'LoF\\_flags'\n",
       "\\item 'LoF\\_info'\n",
       "\\item 'consequence\\_field'\n",
       "\\item 'f\\_miss'\n",
       "\\item 'f\\_miss\\_bileve'\n",
       "\\item 'f\\_miss\\_wcsg'\n",
       "\\item 'freq'\n",
       "\\item 'hwe\\_p'\n",
       "\\item 'maf'\n",
       "\\item 'ld\\_indep'\n",
       "\\item 'wcsg\\_only'\n",
       "\\item 'bileve\\_only'\n",
       "\\item 'mgi'\n",
       "\\item 'mgi\\_notes'\n",
       "\\item 'all\\_filters'\n",
       "\\item 'Gene\\_symbol'\n",
       "\\item 'MAF'\n",
       "\\item 'variant'\n",
       "\\item 'Csq'\n",
       "\\item 'is\\_outside\\_of\\_MHC'\n",
       "\\item 'is\\_rare'\n",
       "\\end{enumerate*}\n"
      ],
      "text/markdown": [
       "1. 'ID'\n",
       "2. 'Effect'\n",
       "3. 'StdErr'\n",
       "4. 'P'\n",
       "5. 'Direction'\n",
       "6. 'HetISq'\n",
       "7. 'HetChiSq'\n",
       "8. 'HetDf'\n",
       "9. 'HetPVal'\n",
       "10. 'name'\n",
       "11. 'CHROM'\n",
       "12. 'POS'\n",
       "13. 'REF'\n",
       "14. 'ALT'\n",
       "15. 'Gene'\n",
       "16. 'Consequence'\n",
       "17. 'HGVSp'\n",
       "18. 'LoF'\n",
       "19. 'LoF_filter'\n",
       "20. 'LoF_flags'\n",
       "21. 'LoF_info'\n",
       "22. 'consequence_field'\n",
       "23. 'f_miss'\n",
       "24. 'f_miss_bileve'\n",
       "25. 'f_miss_wcsg'\n",
       "26. 'freq'\n",
       "27. 'hwe_p'\n",
       "28. 'maf'\n",
       "29. 'ld_indep'\n",
       "30. 'wcsg_only'\n",
       "31. 'bileve_only'\n",
       "32. 'mgi'\n",
       "33. 'mgi_notes'\n",
       "34. 'all_filters'\n",
       "35. 'Gene_symbol'\n",
       "36. 'MAF'\n",
       "37. 'variant'\n",
       "38. 'Csq'\n",
       "39. 'is_outside_of_MHC'\n",
       "40. 'is_rare'\n",
       "\n",
       "\n"
      ],
      "text/plain": [
       " [1] \"ID\"                \"Effect\"            \"StdErr\"           \n",
       " [4] \"P\"                 \"Direction\"         \"HetISq\"           \n",
       " [7] \"HetChiSq\"          \"HetDf\"             \"HetPVal\"          \n",
       "[10] \"name\"              \"CHROM\"             \"POS\"              \n",
       "[13] \"REF\"               \"ALT\"               \"Gene\"             \n",
       "[16] \"Consequence\"       \"HGVSp\"             \"LoF\"              \n",
       "[19] \"LoF_filter\"        \"LoF_flags\"         \"LoF_info\"         \n",
       "[22] \"consequence_field\" \"f_miss\"            \"f_miss_bileve\"    \n",
       "[25] \"f_miss_wcsg\"       \"freq\"              \"hwe_p\"            \n",
       "[28] \"maf\"               \"ld_indep\"          \"wcsg_only\"        \n",
       "[31] \"bileve_only\"       \"mgi\"               \"mgi_notes\"        \n",
       "[34] \"all_filters\"       \"Gene_symbol\"       \"MAF\"              \n",
       "[37] \"variant\"           \"Csq\"               \"is_outside_of_MHC\"\n",
       "[40] \"is_rare\"          "
      ]
     },
     "metadata": {},
     "output_type": "display_data"
    }
   ],
   "source": [
    "array_anno_df %>% colnames()"
   ]
  },
  {
   "cell_type": "code",
   "execution_count": 55,
   "metadata": {},
   "outputs": [
    {
     "data": {
      "text/html": [
       "<style>\n",
       ".list-inline {list-style: none; margin:0; padding: 0}\n",
       ".list-inline>li {display: inline-block}\n",
       ".list-inline>li:not(:last-child)::after {content: \"\\00b7\"; padding: 0 .5ex}\n",
       "</style>\n",
       "<ol class=list-inline><li>'ID'</li><li>'Effect'</li><li>'StdErr'</li><li>'P'</li><li>'Direction'</li><li>'HetISq'</li><li>'HetChiSq'</li><li>'HetDf'</li><li>'HetPVal'</li><li>'name'</li><li>'CHROM'</li><li>'POS'</li><li>'REF'</li><li>'ALT'</li><li>'Gene'</li><li>'Consequence'</li><li>'HGVSp'</li><li>'maf'</li><li>'Gene_symbol'</li><li>'is_outside_of_MHC'</li><li>'is_rare'</li></ol>\n"
      ],
      "text/latex": [
       "\\begin{enumerate*}\n",
       "\\item 'ID'\n",
       "\\item 'Effect'\n",
       "\\item 'StdErr'\n",
       "\\item 'P'\n",
       "\\item 'Direction'\n",
       "\\item 'HetISq'\n",
       "\\item 'HetChiSq'\n",
       "\\item 'HetDf'\n",
       "\\item 'HetPVal'\n",
       "\\item 'name'\n",
       "\\item 'CHROM'\n",
       "\\item 'POS'\n",
       "\\item 'REF'\n",
       "\\item 'ALT'\n",
       "\\item 'Gene'\n",
       "\\item 'Consequence'\n",
       "\\item 'HGVSp'\n",
       "\\item 'maf'\n",
       "\\item 'Gene\\_symbol'\n",
       "\\item 'is\\_outside\\_of\\_MHC'\n",
       "\\item 'is\\_rare'\n",
       "\\end{enumerate*}\n"
      ],
      "text/markdown": [
       "1. 'ID'\n",
       "2. 'Effect'\n",
       "3. 'StdErr'\n",
       "4. 'P'\n",
       "5. 'Direction'\n",
       "6. 'HetISq'\n",
       "7. 'HetChiSq'\n",
       "8. 'HetDf'\n",
       "9. 'HetPVal'\n",
       "10. 'name'\n",
       "11. 'CHROM'\n",
       "12. 'POS'\n",
       "13. 'REF'\n",
       "14. 'ALT'\n",
       "15. 'Gene'\n",
       "16. 'Consequence'\n",
       "17. 'HGVSp'\n",
       "18. 'maf'\n",
       "19. 'Gene_symbol'\n",
       "20. 'is_outside_of_MHC'\n",
       "21. 'is_rare'\n",
       "\n",
       "\n"
      ],
      "text/plain": [
       " [1] \"ID\"                \"Effect\"            \"StdErr\"           \n",
       " [4] \"P\"                 \"Direction\"         \"HetISq\"           \n",
       " [7] \"HetChiSq\"          \"HetDf\"             \"HetPVal\"          \n",
       "[10] \"name\"              \"CHROM\"             \"POS\"              \n",
       "[13] \"REF\"               \"ALT\"               \"Gene\"             \n",
       "[16] \"Consequence\"       \"HGVSp\"             \"maf\"              \n",
       "[19] \"Gene_symbol\"       \"is_outside_of_MHC\" \"is_rare\"          "
      ]
     },
     "metadata": {},
     "output_type": "display_data"
    }
   ],
   "source": [
    "common_cols <- intersect(names(array_anno_df), names(imp_anno_2_df))\n",
    "common_cols"
   ]
  },
  {
   "cell_type": "code",
   "execution_count": 63,
   "metadata": {},
   "outputs": [
    {
     "data": {
      "text/html": [
       "<table>\n",
       "<caption>A tibble: 12 × 2</caption>\n",
       "<thead>\n",
       "\t<tr><th scope=col>Consequence</th><th scope=col>n</th></tr>\n",
       "\t<tr><th scope=col>&lt;chr&gt;</th><th scope=col>&lt;int&gt;</th></tr>\n",
       "</thead>\n",
       "<tbody>\n",
       "\t<tr><td>3_prime_UTR_variant               </td><td> 21</td></tr>\n",
       "\t<tr><td>5_prime_UTR_variant               </td><td>  9</td></tr>\n",
       "\t<tr><td>downstream_gene_variant           </td><td> 37</td></tr>\n",
       "\t<tr><td>intergenic_variant                </td><td>140</td></tr>\n",
       "\t<tr><td>intron_variant                    </td><td>460</td></tr>\n",
       "\t<tr><td>missense_variant                  </td><td>  4</td></tr>\n",
       "\t<tr><td>non_coding_transcript_exon_variant</td><td> 16</td></tr>\n",
       "\t<tr><td>regulatory_region_variant         </td><td> 27</td></tr>\n",
       "\t<tr><td>splice_region_variant             </td><td>  1</td></tr>\n",
       "\t<tr><td>stop_gained                       </td><td>  1</td></tr>\n",
       "\t<tr><td>synonymous_variant                </td><td>  6</td></tr>\n",
       "\t<tr><td>upstream_gene_variant             </td><td> 54</td></tr>\n",
       "</tbody>\n",
       "</table>\n"
      ],
      "text/latex": [
       "A tibble: 12 × 2\n",
       "\\begin{tabular}{ll}\n",
       " Consequence & n\\\\\n",
       " <chr> & <int>\\\\\n",
       "\\hline\n",
       "\t 3\\_prime\\_UTR\\_variant                &  21\\\\\n",
       "\t 5\\_prime\\_UTR\\_variant                &   9\\\\\n",
       "\t downstream\\_gene\\_variant            &  37\\\\\n",
       "\t intergenic\\_variant                 & 140\\\\\n",
       "\t intron\\_variant                     & 460\\\\\n",
       "\t missense\\_variant                   &   4\\\\\n",
       "\t non\\_coding\\_transcript\\_exon\\_variant &  16\\\\\n",
       "\t regulatory\\_region\\_variant          &  27\\\\\n",
       "\t splice\\_region\\_variant              &   1\\\\\n",
       "\t stop\\_gained                        &   1\\\\\n",
       "\t synonymous\\_variant                 &   6\\\\\n",
       "\t upstream\\_gene\\_variant              &  54\\\\\n",
       "\\end{tabular}\n"
      ],
      "text/markdown": [
       "\n",
       "A tibble: 12 × 2\n",
       "\n",
       "| Consequence &lt;chr&gt; | n &lt;int&gt; |\n",
       "|---|---|\n",
       "| 3_prime_UTR_variant                |  21 |\n",
       "| 5_prime_UTR_variant                |   9 |\n",
       "| downstream_gene_variant            |  37 |\n",
       "| intergenic_variant                 | 140 |\n",
       "| intron_variant                     | 460 |\n",
       "| missense_variant                   |   4 |\n",
       "| non_coding_transcript_exon_variant |  16 |\n",
       "| regulatory_region_variant          |  27 |\n",
       "| splice_region_variant              |   1 |\n",
       "| stop_gained                        |   1 |\n",
       "| synonymous_variant                 |   6 |\n",
       "| upstream_gene_variant              |  54 |\n",
       "\n"
      ],
      "text/plain": [
       "   Consequence                        n  \n",
       "1  3_prime_UTR_variant                 21\n",
       "2  5_prime_UTR_variant                  9\n",
       "3  downstream_gene_variant             37\n",
       "4  intergenic_variant                 140\n",
       "5  intron_variant                     460\n",
       "6  missense_variant                     4\n",
       "7  non_coding_transcript_exon_variant  16\n",
       "8  regulatory_region_variant           27\n",
       "9  splice_region_variant                1\n",
       "10 stop_gained                          1\n",
       "11 synonymous_variant                   6\n",
       "12 upstream_gene_variant               54"
      ]
     },
     "metadata": {},
     "output_type": "display_data"
    }
   ],
   "source": [
    "imp_anno_2_df %>%\n",
    "count(Consequence)"
   ]
  },
  {
   "cell_type": "code",
   "execution_count": 64,
   "metadata": {},
   "outputs": [],
   "source": [
    "non_coding_df <- array_anno_df %>%\n",
    "filter(Csq == 'non-coding') %>%\n",
    "select(all_of(common_cols)) %>%\n",
    "bind_rows(\n",
    "    imp_anno_2_df %>% \n",
    "    filter(!Consequence %in% c('missense_variant', 'stop_gained', 'synonymous_variant')) %>%\n",
    "    select(all_of(common_cols))\n",
    ")\n"
   ]
  },
  {
   "cell_type": "code",
   "execution_count": 65,
   "metadata": {},
   "outputs": [
    {
     "data": {
      "text/html": [
       "<style>\n",
       ".list-inline {list-style: none; margin:0; padding: 0}\n",
       ".list-inline>li {display: inline-block}\n",
       ".list-inline>li:not(:last-child)::after {content: \"\\00b7\"; padding: 0 .5ex}\n",
       "</style>\n",
       "<ol class=list-inline><li>9119</li><li>21</li></ol>\n"
      ],
      "text/latex": [
       "\\begin{enumerate*}\n",
       "\\item 9119\n",
       "\\item 21\n",
       "\\end{enumerate*}\n"
      ],
      "text/markdown": [
       "1. 9119\n",
       "2. 21\n",
       "\n",
       "\n"
      ],
      "text/plain": [
       "[1] 9119   21"
      ]
     },
     "metadata": {},
     "output_type": "display_data"
    }
   ],
   "source": [
    "non_coding_df %>% dim()"
   ]
  },
  {
   "cell_type": "code",
   "execution_count": 66,
   "metadata": {},
   "outputs": [],
   "source": [
    "p.imp <- non_coding_df %>% \n",
    "filter(is_outside_of_MHC) %>%\n",
    "group_by(name) %>%\n",
    "mutate(\n",
    "    rank_abs_effect = rank(-abs(Effect))\n",
    ") %>%\n",
    "ungroup() %>%\n",
    "mutate(\n",
    "    outlier = if_else(abs(Effect) >= .1, TRUE, FALSE),\n",
    "    plot_label = ID,\n",
    "    plot_label = str_replace(plot_label, '[(][)]$', ''),\n",
    "    plot_label = str_replace(plot_label, '[(]NA[)]$', ''),\n",
    "    plot_label = str_replace(plot_label, '_', ':'),    \n",
    "    ggrepel = if_else((abs(Effect) >= .1) & (rank_abs_effect < 5), plot_label, \"\")\n",
    ") %>%\n",
    "ggplot(\n",
    "    aes(x=maf, y=Effect, color=outlier, label = ggrepel)\n",
    ") +\n",
    "geom_hline(yintercept = 0, linetype=\"dashed\") +\n",
    "geom_point(alpha=.5) + theme_bw() + \n",
    "labs(\n",
    "    title = TeX('Non-coding variant associations ($p \\\\,<\\\\, 5x10^{-9}$)'),\n",
    "    x = 'Minor allele frequency (log-scale)',\n",
    "    y = 'BETAs'\n",
    ") +\n",
    "theme(\n",
    "    strip.text = element_text(size=7),\n",
    "    legend.position=\"none\"\n",
    ")+\n",
    "scale_color_brewer(palette=\"Dark2\") + \n",
    "# scale_x_continuous(trans=\"log10\", breaks=10 ** c(-2, -1, 0)) + \n",
    "scale_x_continuous(trans=\"log10\", breaks=c(0.001, 0.01, 0.1)) + \n",
    "facet_wrap(~name, ncol = 6, strip.position = \"bottom\", labeller = label_wrap_gen(17)) + \n",
    "ggrepel::geom_text_repel(size=1.5)\n"
   ]
  },
  {
   "cell_type": "code",
   "execution_count": 67,
   "metadata": {},
   "outputs": [],
   "source": [
    "for(ext in c('png', 'pdf')){\n",
    "    ggsave(file.path(outd, sprintf(\"cascade.imp.%s\", ext)), p.imp, width = 12, height = 14)\n",
    "}\n"
   ]
  },
  {
   "cell_type": "markdown",
   "metadata": {},
   "source": [
    "## prepare supplementary table files\n",
    "- reformat the tables"
   ]
  },
  {
   "cell_type": "code",
   "execution_count": 68,
   "metadata": {},
   "outputs": [],
   "source": [
    "supl_tbl_rename_list <- list(\n",
    "    'BETA'='Effect', 'SE'='StdErr', 'trait'='name', 'MAF'='maf'\n",
    ")\n",
    "\n",
    "supl_tbl_cols <- c(\n",
    "    'CHROM', 'POS', 'REF', 'ALT', 'ID', 'variant', \n",
    "    'trait', 'BETA', 'SE', 'P',\n",
    "    'Direction', 'HetISq', 'HetChiSq', 'HetDf', 'HetPVal',\n",
    "    'MAF', 'Consequence', 'Gene', 'Gene_symbol', 'HGVSp',\n",
    "    'is_outside_of_MHC', 'Comments'\n",
    ")\n"
   ]
  },
  {
   "cell_type": "code",
   "execution_count": 69,
   "metadata": {},
   "outputs": [],
   "source": [
    "non_coding_df %>%\n",
    "mutate(Comments='', P=sprintf('%.2e', P), variant=paste(CHROM, POS, REF, ALT, sep=':'))%>%\n",
    "rename(unlist(supl_tbl_rename_list)) %>%\n",
    "select(supl_tbl_cols) %>%\n",
    "arrange(CHROM, POS, trait) %>% \n",
    "rename('#CHROM' = 'CHROM') %>%\n",
    "fwrite(\n",
    "    file.path(outd, \"cascade.nc.tsv\"),\n",
    "    sep='\\t', na = \"NA\", quote=F\n",
    ")\n"
   ]
  },
  {
   "cell_type": "code",
   "execution_count": null,
   "metadata": {},
   "outputs": [],
   "source": []
  }
 ],
 "metadata": {
  "kernelspec": {
   "display_name": "R",
   "language": "R",
   "name": "ir"
  },
  "language_info": {
   "codemirror_mode": "r",
   "file_extension": ".r",
   "mimetype": "text/x-r-source",
   "name": "R",
   "pygments_lexer": "r",
   "version": "3.6.1"
  }
 },
 "nbformat": 4,
 "nbformat_minor": 4
}
