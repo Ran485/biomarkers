{
 "cells": [
  {
   "cell_type": "code",
   "execution_count": 1,
   "metadata": {},
   "outputs": [],
   "source": [
    "source('cascade_helper.R')\n"
   ]
  },
  {
   "cell_type": "code",
   "execution_count": 2,
   "metadata": {},
   "outputs": [],
   "source": [
    "p_thr <- 5e-9\n"
   ]
  },
  {
   "cell_type": "code",
   "execution_count": 3,
   "metadata": {},
   "outputs": [],
   "source": [
    "outd <- file.path(getwd(), 'out_v3')\n"
   ]
  },
  {
   "cell_type": "code",
   "execution_count": 4,
   "metadata": {},
   "outputs": [],
   "source": [
    "traits <- fread('cascade.input.files.tsv') %>% drop_na(c('imp')) %>% filter(imp != '')\n"
   ]
  },
  {
   "cell_type": "code",
   "execution_count": 5,
   "metadata": {},
   "outputs": [
    {
     "data": {
      "text/html": [
       "<ol class=list-inline>\n",
       "\t<li>35</li>\n",
       "\t<li>4</li>\n",
       "</ol>\n"
      ],
      "text/latex": [
       "\\begin{enumerate*}\n",
       "\\item 35\n",
       "\\item 4\n",
       "\\end{enumerate*}\n"
      ],
      "text/markdown": [
       "1. 35\n",
       "2. 4\n",
       "\n",
       "\n"
      ],
      "text/plain": [
       "[1] 35  4"
      ]
     },
     "metadata": {},
     "output_type": "display_data"
    }
   ],
   "source": [
    "traits %>% dim()"
   ]
  },
  {
   "cell_type": "code",
   "execution_count": 6,
   "metadata": {},
   "outputs": [],
   "source": [
    "imp_anno_df <- traits %>% \n",
    "read_imp_sumstats_all(p_thr) %>%\n",
    "annotate_imp_df()\n"
   ]
  },
  {
   "cell_type": "code",
   "execution_count": 7,
   "metadata": {},
   "outputs": [
    {
     "data": {
      "text/html": [
       "<table>\n",
       "<caption>A tibble: 23 × 2</caption>\n",
       "<thead>\n",
       "\t<tr><th scope=col>CHROM</th><th scope=col>n</th></tr>\n",
       "\t<tr><th scope=col>&lt;chr&gt;</th><th scope=col>&lt;int&gt;</th></tr>\n",
       "</thead>\n",
       "<tbody>\n",
       "\t<tr><td>1 </td><td> 76</td></tr>\n",
       "\t<tr><td>2 </td><td> 68</td></tr>\n",
       "\t<tr><td>3 </td><td> 61</td></tr>\n",
       "\t<tr><td>4 </td><td> 46</td></tr>\n",
       "\t<tr><td>5 </td><td> 51</td></tr>\n",
       "\t<tr><td>6 </td><td> 44</td></tr>\n",
       "\t<tr><td>7 </td><td> 43</td></tr>\n",
       "\t<tr><td>8 </td><td> 27</td></tr>\n",
       "\t<tr><td>9 </td><td> 41</td></tr>\n",
       "\t<tr><td>10</td><td> 35</td></tr>\n",
       "\t<tr><td>11</td><td> 27</td></tr>\n",
       "\t<tr><td>12</td><td> 42</td></tr>\n",
       "\t<tr><td>13</td><td> 27</td></tr>\n",
       "\t<tr><td>14</td><td> 20</td></tr>\n",
       "\t<tr><td>15</td><td> 31</td></tr>\n",
       "\t<tr><td>16</td><td> 20</td></tr>\n",
       "\t<tr><td>17</td><td> 20</td></tr>\n",
       "\t<tr><td>18</td><td> 15</td></tr>\n",
       "\t<tr><td>19</td><td> 29</td></tr>\n",
       "\t<tr><td>20</td><td> 28</td></tr>\n",
       "\t<tr><td>21</td><td>  9</td></tr>\n",
       "\t<tr><td>22</td><td> 16</td></tr>\n",
       "\t<tr><td>X </td><td>141</td></tr>\n",
       "</tbody>\n",
       "</table>\n"
      ],
      "text/latex": [
       "A tibble: 23 × 2\n",
       "\\begin{tabular}{r|ll}\n",
       " CHROM & n\\\\\n",
       " <chr> & <int>\\\\\n",
       "\\hline\n",
       "\t 1  &  76\\\\\n",
       "\t 2  &  68\\\\\n",
       "\t 3  &  61\\\\\n",
       "\t 4  &  46\\\\\n",
       "\t 5  &  51\\\\\n",
       "\t 6  &  44\\\\\n",
       "\t 7  &  43\\\\\n",
       "\t 8  &  27\\\\\n",
       "\t 9  &  41\\\\\n",
       "\t 10 &  35\\\\\n",
       "\t 11 &  27\\\\\n",
       "\t 12 &  42\\\\\n",
       "\t 13 &  27\\\\\n",
       "\t 14 &  20\\\\\n",
       "\t 15 &  31\\\\\n",
       "\t 16 &  20\\\\\n",
       "\t 17 &  20\\\\\n",
       "\t 18 &  15\\\\\n",
       "\t 19 &  29\\\\\n",
       "\t 20 &  28\\\\\n",
       "\t 21 &   9\\\\\n",
       "\t 22 &  16\\\\\n",
       "\t X  & 141\\\\\n",
       "\\end{tabular}\n"
      ],
      "text/markdown": [
       "\n",
       "A tibble: 23 × 2\n",
       "\n",
       "| CHROM &lt;chr&gt; | n &lt;int&gt; |\n",
       "|---|---|\n",
       "| 1  |  76 |\n",
       "| 2  |  68 |\n",
       "| 3  |  61 |\n",
       "| 4  |  46 |\n",
       "| 5  |  51 |\n",
       "| 6  |  44 |\n",
       "| 7  |  43 |\n",
       "| 8  |  27 |\n",
       "| 9  |  41 |\n",
       "| 10 |  35 |\n",
       "| 11 |  27 |\n",
       "| 12 |  42 |\n",
       "| 13 |  27 |\n",
       "| 14 |  20 |\n",
       "| 15 |  31 |\n",
       "| 16 |  20 |\n",
       "| 17 |  20 |\n",
       "| 18 |  15 |\n",
       "| 19 |  29 |\n",
       "| 20 |  28 |\n",
       "| 21 |   9 |\n",
       "| 22 |  16 |\n",
       "| X  | 141 |\n",
       "\n"
      ],
      "text/plain": [
       "   CHROM n  \n",
       "1  1      76\n",
       "2  2      68\n",
       "3  3      61\n",
       "4  4      46\n",
       "5  5      51\n",
       "6  6      44\n",
       "7  7      43\n",
       "8  8      27\n",
       "9  9      41\n",
       "10 10     35\n",
       "11 11     27\n",
       "12 12     42\n",
       "13 13     27\n",
       "14 14     20\n",
       "15 15     31\n",
       "16 16     20\n",
       "17 17     20\n",
       "18 18     15\n",
       "19 19     29\n",
       "20 20     28\n",
       "21 21      9\n",
       "22 22     16\n",
       "23 X     141"
      ]
     },
     "metadata": {},
     "output_type": "display_data"
    }
   ],
   "source": [
    "imp_anno_df %>% count(CHROM) %>% arrange(suppressWarnings(as.numeric(CHROM)), CHROM)"
   ]
  },
  {
   "cell_type": "code",
   "execution_count": 8,
   "metadata": {},
   "outputs": [
    {
     "data": {
      "text/html": [
       "<table>\n",
       "<caption>A tibble: 33 × 2</caption>\n",
       "<thead>\n",
       "\t<tr><th scope=col>name</th><th scope=col>n</th></tr>\n",
       "\t<tr><th scope=col>&lt;chr&gt;</th><th scope=col>&lt;int&gt;</th></tr>\n",
       "</thead>\n",
       "<tbody>\n",
       "\t<tr><td>Alanine aminotransferase  </td><td>25</td></tr>\n",
       "\t<tr><td>Albumin                   </td><td>39</td></tr>\n",
       "\t<tr><td>Alkaline phosphatase      </td><td>32</td></tr>\n",
       "\t<tr><td>Apolipoprotein A          </td><td>35</td></tr>\n",
       "\t<tr><td>Apolipoprotein B          </td><td>20</td></tr>\n",
       "\t<tr><td>Aspartate aminotransferase</td><td>28</td></tr>\n",
       "\t<tr><td>AST to ALT ratio          </td><td>34</td></tr>\n",
       "\t<tr><td>C-reactive protein        </td><td>25</td></tr>\n",
       "\t<tr><td>Calcium                   </td><td>20</td></tr>\n",
       "\t<tr><td>Cholesterol               </td><td>23</td></tr>\n",
       "\t<tr><td>Creatinine                </td><td>45</td></tr>\n",
       "\t<tr><td>Creatinine in urine       </td><td> 3</td></tr>\n",
       "\t<tr><td>Cystatin C                </td><td>39</td></tr>\n",
       "\t<tr><td>Direct bilirubin          </td><td> 7</td></tr>\n",
       "\t<tr><td>eGFR                      </td><td>49</td></tr>\n",
       "\t<tr><td>Gamma glutamyltransferase </td><td>37</td></tr>\n",
       "\t<tr><td>Glucose                   </td><td>17</td></tr>\n",
       "\t<tr><td>HbA1c                     </td><td>43</td></tr>\n",
       "\t<tr><td>HDL cholesterol           </td><td>29</td></tr>\n",
       "\t<tr><td>IGF-1                     </td><td>62</td></tr>\n",
       "\t<tr><td>LDL cholesterol           </td><td>19</td></tr>\n",
       "\t<tr><td>Non-albumin protein       </td><td>34</td></tr>\n",
       "\t<tr><td>Phosphate                 </td><td>31</td></tr>\n",
       "\t<tr><td>Potassium in urine        </td><td> 1</td></tr>\n",
       "\t<tr><td>SHBG                      </td><td>27</td></tr>\n",
       "\t<tr><td>Sodium in urine           </td><td> 8</td></tr>\n",
       "\t<tr><td>Testosterone              </td><td>22</td></tr>\n",
       "\t<tr><td>Total bilirubin           </td><td>17</td></tr>\n",
       "\t<tr><td>Total protein             </td><td>41</td></tr>\n",
       "\t<tr><td>Triglycerides             </td><td>32</td></tr>\n",
       "\t<tr><td>Urate                     </td><td>35</td></tr>\n",
       "\t<tr><td>Urea                      </td><td>28</td></tr>\n",
       "\t<tr><td>Vitamin D                 </td><td>10</td></tr>\n",
       "</tbody>\n",
       "</table>\n"
      ],
      "text/latex": [
       "A tibble: 33 × 2\n",
       "\\begin{tabular}{r|ll}\n",
       " name & n\\\\\n",
       " <chr> & <int>\\\\\n",
       "\\hline\n",
       "\t Alanine aminotransferase   & 25\\\\\n",
       "\t Albumin                    & 39\\\\\n",
       "\t Alkaline phosphatase       & 32\\\\\n",
       "\t Apolipoprotein A           & 35\\\\\n",
       "\t Apolipoprotein B           & 20\\\\\n",
       "\t Aspartate aminotransferase & 28\\\\\n",
       "\t AST to ALT ratio           & 34\\\\\n",
       "\t C-reactive protein         & 25\\\\\n",
       "\t Calcium                    & 20\\\\\n",
       "\t Cholesterol                & 23\\\\\n",
       "\t Creatinine                 & 45\\\\\n",
       "\t Creatinine in urine        &  3\\\\\n",
       "\t Cystatin C                 & 39\\\\\n",
       "\t Direct bilirubin           &  7\\\\\n",
       "\t eGFR                       & 49\\\\\n",
       "\t Gamma glutamyltransferase  & 37\\\\\n",
       "\t Glucose                    & 17\\\\\n",
       "\t HbA1c                      & 43\\\\\n",
       "\t HDL cholesterol            & 29\\\\\n",
       "\t IGF-1                      & 62\\\\\n",
       "\t LDL cholesterol            & 19\\\\\n",
       "\t Non-albumin protein        & 34\\\\\n",
       "\t Phosphate                  & 31\\\\\n",
       "\t Potassium in urine         &  1\\\\\n",
       "\t SHBG                       & 27\\\\\n",
       "\t Sodium in urine            &  8\\\\\n",
       "\t Testosterone               & 22\\\\\n",
       "\t Total bilirubin            & 17\\\\\n",
       "\t Total protein              & 41\\\\\n",
       "\t Triglycerides              & 32\\\\\n",
       "\t Urate                      & 35\\\\\n",
       "\t Urea                       & 28\\\\\n",
       "\t Vitamin D                  & 10\\\\\n",
       "\\end{tabular}\n"
      ],
      "text/markdown": [
       "\n",
       "A tibble: 33 × 2\n",
       "\n",
       "| name &lt;chr&gt; | n &lt;int&gt; |\n",
       "|---|---|\n",
       "| Alanine aminotransferase   | 25 |\n",
       "| Albumin                    | 39 |\n",
       "| Alkaline phosphatase       | 32 |\n",
       "| Apolipoprotein A           | 35 |\n",
       "| Apolipoprotein B           | 20 |\n",
       "| Aspartate aminotransferase | 28 |\n",
       "| AST to ALT ratio           | 34 |\n",
       "| C-reactive protein         | 25 |\n",
       "| Calcium                    | 20 |\n",
       "| Cholesterol                | 23 |\n",
       "| Creatinine                 | 45 |\n",
       "| Creatinine in urine        |  3 |\n",
       "| Cystatin C                 | 39 |\n",
       "| Direct bilirubin           |  7 |\n",
       "| eGFR                       | 49 |\n",
       "| Gamma glutamyltransferase  | 37 |\n",
       "| Glucose                    | 17 |\n",
       "| HbA1c                      | 43 |\n",
       "| HDL cholesterol            | 29 |\n",
       "| IGF-1                      | 62 |\n",
       "| LDL cholesterol            | 19 |\n",
       "| Non-albumin protein        | 34 |\n",
       "| Phosphate                  | 31 |\n",
       "| Potassium in urine         |  1 |\n",
       "| SHBG                       | 27 |\n",
       "| Sodium in urine            |  8 |\n",
       "| Testosterone               | 22 |\n",
       "| Total bilirubin            | 17 |\n",
       "| Total protein              | 41 |\n",
       "| Triglycerides              | 32 |\n",
       "| Urate                      | 35 |\n",
       "| Urea                       | 28 |\n",
       "| Vitamin D                  | 10 |\n",
       "\n"
      ],
      "text/plain": [
       "   name                       n \n",
       "1  Alanine aminotransferase   25\n",
       "2  Albumin                    39\n",
       "3  Alkaline phosphatase       32\n",
       "4  Apolipoprotein A           35\n",
       "5  Apolipoprotein B           20\n",
       "6  Aspartate aminotransferase 28\n",
       "7  AST to ALT ratio           34\n",
       "8  C-reactive protein         25\n",
       "9  Calcium                    20\n",
       "10 Cholesterol                23\n",
       "11 Creatinine                 45\n",
       "12 Creatinine in urine         3\n",
       "13 Cystatin C                 39\n",
       "14 Direct bilirubin            7\n",
       "15 eGFR                       49\n",
       "16 Gamma glutamyltransferase  37\n",
       "17 Glucose                    17\n",
       "18 HbA1c                      43\n",
       "19 HDL cholesterol            29\n",
       "20 IGF-1                      62\n",
       "21 LDL cholesterol            19\n",
       "22 Non-albumin protein        34\n",
       "23 Phosphate                  31\n",
       "24 Potassium in urine          1\n",
       "25 SHBG                       27\n",
       "26 Sodium in urine             8\n",
       "27 Testosterone               22\n",
       "28 Total bilirubin            17\n",
       "29 Total protein              41\n",
       "30 Triglycerides              32\n",
       "31 Urate                      35\n",
       "32 Urea                       28\n",
       "33 Vitamin D                  10"
      ]
     },
     "metadata": {},
     "output_type": "display_data"
    }
   ],
   "source": [
    "imp_anno_df %>% count(name)"
   ]
  },
  {
   "cell_type": "code",
   "execution_count": 9,
   "metadata": {},
   "outputs": [],
   "source": [
    "imp_anno_df %>%\n",
    "fwrite(file.path(outd, 'cascade.imp.hits.auto_and_X.tsv'), sep='\\t')\n"
   ]
  },
  {
   "cell_type": "code",
   "execution_count": 10,
   "metadata": {},
   "outputs": [],
   "source": [
    "imp_anno_df %>%\n",
    "filter(CHROM != 'X') %>%\n",
    "fwrite(file.path(outd, 'cascade.imp.hits.tsv'), sep='\\t')\n"
   ]
  },
  {
   "cell_type": "code",
   "execution_count": 11,
   "metadata": {},
   "outputs": [
    {
     "data": {
      "text/html": [
       "<table>\n",
       "<caption>A tibble: 3 × 4</caption>\n",
       "<thead>\n",
       "\t<tr><th scope=col>is_X</th><th scope=col>is_outside_of_MHC</th><th scope=col>is_rare</th><th scope=col>n</th></tr>\n",
       "\t<tr><th scope=col>&lt;lgl&gt;</th><th scope=col>&lt;lgl&gt;</th><th scope=col>&lt;lgl&gt;</th><th scope=col>&lt;int&gt;</th></tr>\n",
       "</thead>\n",
       "<tbody>\n",
       "\t<tr><td>FALSE</td><td>FALSE</td><td>FALSE</td><td>  2</td></tr>\n",
       "\t<tr><td>FALSE</td><td> TRUE</td><td>FALSE</td><td>708</td></tr>\n",
       "\t<tr><td> TRUE</td><td> TRUE</td><td>FALSE</td><td>112</td></tr>\n",
       "</tbody>\n",
       "</table>\n"
      ],
      "text/latex": [
       "A tibble: 3 × 4\n",
       "\\begin{tabular}{r|llll}\n",
       " is\\_X & is\\_outside\\_of\\_MHC & is\\_rare & n\\\\\n",
       " <lgl> & <lgl> & <lgl> & <int>\\\\\n",
       "\\hline\n",
       "\t FALSE & FALSE & FALSE &   2\\\\\n",
       "\t FALSE &  TRUE & FALSE & 708\\\\\n",
       "\t  TRUE &  TRUE & FALSE & 112\\\\\n",
       "\\end{tabular}\n"
      ],
      "text/markdown": [
       "\n",
       "A tibble: 3 × 4\n",
       "\n",
       "| is_X &lt;lgl&gt; | is_outside_of_MHC &lt;lgl&gt; | is_rare &lt;lgl&gt; | n &lt;int&gt; |\n",
       "|---|---|---|---|\n",
       "| FALSE | FALSE | FALSE |   2 |\n",
       "| FALSE |  TRUE | FALSE | 708 |\n",
       "|  TRUE |  TRUE | FALSE | 112 |\n",
       "\n"
      ],
      "text/plain": [
       "  is_X  is_outside_of_MHC is_rare n  \n",
       "1 FALSE FALSE             FALSE     2\n",
       "2 FALSE  TRUE             FALSE   708\n",
       "3  TRUE  TRUE             FALSE   112"
      ]
     },
     "metadata": {},
     "output_type": "display_data"
    }
   ],
   "source": [
    "imp_anno_df %>% \n",
    "mutate(is_X = (CHROM == 'X')) %>%\n",
    "select(is_rare, is_outside_of_MHC, is_X, ID) %>%\n",
    "unique() %>%\n",
    "count(is_X, is_outside_of_MHC, is_rare)"
   ]
  },
  {
   "cell_type": "markdown",
   "metadata": {},
   "source": [
    "```\n",
    "gdrive upload -p 1fGlnrj8Zu1Pox3fmxmFKdcbNVWiN9vhd out_v3/cascade.imp.hits.tsv\n",
    "zstd -15 --rm out_v3/cascade.imp.hits.tsv\n",
    "```"
   ]
  },
  {
   "cell_type": "code",
   "execution_count": null,
   "metadata": {},
   "outputs": [],
   "source": []
  }
 ],
 "metadata": {
  "kernelspec": {
   "display_name": "R",
   "language": "R",
   "name": "ir"
  },
  "language_info": {
   "codemirror_mode": "r",
   "file_extension": ".r",
   "mimetype": "text/x-r-source",
   "name": "R",
   "pygments_lexer": "r",
   "version": "3.6.1"
  }
 },
 "nbformat": 4,
 "nbformat_minor": 4
}
