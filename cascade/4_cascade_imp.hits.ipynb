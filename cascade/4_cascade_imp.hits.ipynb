{
 "cells": [
  {
   "cell_type": "code",
   "execution_count": 18,
   "metadata": {},
   "outputs": [],
   "source": [
    "source('cascade_helper.R')\n"
   ]
  },
  {
   "cell_type": "code",
   "execution_count": 2,
   "metadata": {},
   "outputs": [],
   "source": [
    "p_thr <- list(1e-7, 1e-7, 5e-8)\n",
    "names(p_thr) <- c('protein-truncating', 'protein-altering', 'non-coding')\n",
    "p_thr_df <- as.data.frame(p_thr) %>% gather(Csq, p_thr) %>% mutate(Csq = str_replace_all(Csq, '\\\\.', '-'))\n"
   ]
  },
  {
   "cell_type": "code",
   "execution_count": 3,
   "metadata": {},
   "outputs": [],
   "source": [
    "outd <- file.path(getwd(), 'out')\n"
   ]
  },
  {
   "cell_type": "code",
   "execution_count": 4,
   "metadata": {},
   "outputs": [],
   "source": [
    "annot.tbl <- '/oak/stanford/groups/mrivas/private_data/ukbb/variant_filtering/variant_filter_table.tsv.gz'\n",
    "annot.arr <- read_annot_arr(annot.tbl)\n"
   ]
  },
  {
   "cell_type": "code",
   "execution_count": 5,
   "metadata": {},
   "outputs": [
    {
     "data": {
      "text/html": [
       "<table>\n",
       "<caption>A tibble: 3 × 2</caption>\n",
       "<thead>\n",
       "\t<tr><th scope=col>Csq</th><th scope=col>n</th></tr>\n",
       "\t<tr><th scope=col>&lt;chr&gt;</th><th scope=col>&lt;int&gt;</th></tr>\n",
       "</thead>\n",
       "<tbody>\n",
       "\t<tr><td>non-coding        </td><td>669033</td></tr>\n",
       "\t<tr><td>protein-altering  </td><td> 87407</td></tr>\n",
       "\t<tr><td>protein-truncating</td><td> 27816</td></tr>\n",
       "</tbody>\n",
       "</table>\n"
      ],
      "text/latex": [
       "A tibble: 3 × 2\n",
       "\\begin{tabular}{r|ll}\n",
       " Csq & n\\\\\n",
       " <chr> & <int>\\\\\n",
       "\\hline\n",
       "\t non-coding         & 669033\\\\\n",
       "\t protein-altering   &  87407\\\\\n",
       "\t protein-truncating &  27816\\\\\n",
       "\\end{tabular}\n"
      ],
      "text/markdown": [
       "\n",
       "A tibble: 3 × 2\n",
       "\n",
       "| Csq &lt;chr&gt; | n &lt;int&gt; |\n",
       "|---|---|\n",
       "| non-coding         | 669033 |\n",
       "| protein-altering   |  87407 |\n",
       "| protein-truncating |  27816 |\n",
       "\n"
      ],
      "text/plain": [
       "  Csq                n     \n",
       "1 non-coding         669033\n",
       "2 protein-altering    87407\n",
       "3 protein-truncating  27816"
      ]
     },
     "metadata": {},
     "output_type": "display_data"
    }
   ],
   "source": [
    "annot.arr %>% count(Csq)\n"
   ]
  },
  {
   "cell_type": "code",
   "execution_count": 6,
   "metadata": {},
   "outputs": [],
   "source": [
    "array.loci <- annot.arr %>% \n",
    "filter(Csq %in% c('protein-altering', 'protein-truncating')) %>% \n",
    "select(CHROM, POS, REF, ALT, Csq)\n"
   ]
  },
  {
   "cell_type": "code",
   "execution_count": 8,
   "metadata": {},
   "outputs": [],
   "source": [
    "traits <- fread('cascade.input.files.tsv') %>% drop_na(c('imp')) %>% filter(imp != '')\n"
   ]
  },
  {
   "cell_type": "code",
   "execution_count": 19,
   "metadata": {},
   "outputs": [],
   "source": [
    "imp_anno_df <- traits %>% \n",
    "read_imp_sumstats_all(p_thr[['non-coding']]) %>%\n",
    "annotate_imp_df()\n"
   ]
  },
  {
   "cell_type": "code",
   "execution_count": 21,
   "metadata": {},
   "outputs": [
    {
     "data": {
      "text/html": [
       "<table>\n",
       "<caption>A tibble: 35 × 2</caption>\n",
       "<thead>\n",
       "\t<tr><th scope=col>name</th><th scope=col>n</th></tr>\n",
       "\t<tr><th scope=col>&lt;chr&gt;</th><th scope=col>&lt;int&gt;</th></tr>\n",
       "</thead>\n",
       "<tbody>\n",
       "\t<tr><td>Alanine aminotransferase  </td><td>197</td></tr>\n",
       "\t<tr><td>Albumin                   </td><td>206</td></tr>\n",
       "\t<tr><td>Alkaline phosphatase      </td><td>291</td></tr>\n",
       "\t<tr><td>Apolipoprotein A          </td><td>216</td></tr>\n",
       "\t<tr><td>Apolipoprotein B          </td><td>223</td></tr>\n",
       "\t<tr><td>Aspartate aminotransferase</td><td>237</td></tr>\n",
       "\t<tr><td>C-reactive protein        </td><td>185</td></tr>\n",
       "\t<tr><td>Calcium                   </td><td>202</td></tr>\n",
       "\t<tr><td>Cholesterol               </td><td>236</td></tr>\n",
       "\t<tr><td>Creatinine                </td><td>350</td></tr>\n",
       "\t<tr><td>Creatinine in urine       </td><td> 31</td></tr>\n",
       "\t<tr><td>Cystatin C                </td><td>300</td></tr>\n",
       "\t<tr><td>Direct bilirubin          </td><td> 74</td></tr>\n",
       "\t<tr><td>eGFR                      </td><td>334</td></tr>\n",
       "\t<tr><td>Fasting glucose           </td><td>  3</td></tr>\n",
       "\t<tr><td>Gamma glutamyltransferase </td><td>276</td></tr>\n",
       "\t<tr><td>Glucose                   </td><td>110</td></tr>\n",
       "\t<tr><td>HbA1c                     </td><td>298</td></tr>\n",
       "\t<tr><td>HDL cholesterol           </td><td>233</td></tr>\n",
       "\t<tr><td>IGF-1                     </td><td>355</td></tr>\n",
       "\t<tr><td>LDL cholesterol           </td><td>226</td></tr>\n",
       "\t<tr><td>Lipoprotein A             </td><td>  5</td></tr>\n",
       "\t<tr><td>Microalbumin in urine     </td><td>  3</td></tr>\n",
       "\t<tr><td>Non-albumin protein       </td><td>287</td></tr>\n",
       "\t<tr><td>Phosphate                 </td><td>159</td></tr>\n",
       "\t<tr><td>Potassium in urine        </td><td> 12</td></tr>\n",
       "\t<tr><td>SHBG                      </td><td>252</td></tr>\n",
       "\t<tr><td>Sodium in urine           </td><td> 35</td></tr>\n",
       "\t<tr><td>Testosterone              </td><td> 98</td></tr>\n",
       "\t<tr><td>Total bilirubin           </td><td>123</td></tr>\n",
       "\t<tr><td>Total protein             </td><td>245</td></tr>\n",
       "\t<tr><td>Triglycerides             </td><td>212</td></tr>\n",
       "\t<tr><td>Urate                     </td><td>221</td></tr>\n",
       "\t<tr><td>Urea                      </td><td>172</td></tr>\n",
       "\t<tr><td>Vitamin D                 </td><td> 70</td></tr>\n",
       "</tbody>\n",
       "</table>\n"
      ],
      "text/latex": [
       "A tibble: 35 × 2\n",
       "\\begin{tabular}{r|ll}\n",
       " name & n\\\\\n",
       " <chr> & <int>\\\\\n",
       "\\hline\n",
       "\t Alanine aminotransferase   & 197\\\\\n",
       "\t Albumin                    & 206\\\\\n",
       "\t Alkaline phosphatase       & 291\\\\\n",
       "\t Apolipoprotein A           & 216\\\\\n",
       "\t Apolipoprotein B           & 223\\\\\n",
       "\t Aspartate aminotransferase & 237\\\\\n",
       "\t C-reactive protein         & 185\\\\\n",
       "\t Calcium                    & 202\\\\\n",
       "\t Cholesterol                & 236\\\\\n",
       "\t Creatinine                 & 350\\\\\n",
       "\t Creatinine in urine        &  31\\\\\n",
       "\t Cystatin C                 & 300\\\\\n",
       "\t Direct bilirubin           &  74\\\\\n",
       "\t eGFR                       & 334\\\\\n",
       "\t Fasting glucose            &   3\\\\\n",
       "\t Gamma glutamyltransferase  & 276\\\\\n",
       "\t Glucose                    & 110\\\\\n",
       "\t HbA1c                      & 298\\\\\n",
       "\t HDL cholesterol            & 233\\\\\n",
       "\t IGF-1                      & 355\\\\\n",
       "\t LDL cholesterol            & 226\\\\\n",
       "\t Lipoprotein A              &   5\\\\\n",
       "\t Microalbumin in urine      &   3\\\\\n",
       "\t Non-albumin protein        & 287\\\\\n",
       "\t Phosphate                  & 159\\\\\n",
       "\t Potassium in urine         &  12\\\\\n",
       "\t SHBG                       & 252\\\\\n",
       "\t Sodium in urine            &  35\\\\\n",
       "\t Testosterone               &  98\\\\\n",
       "\t Total bilirubin            & 123\\\\\n",
       "\t Total protein              & 245\\\\\n",
       "\t Triglycerides              & 212\\\\\n",
       "\t Urate                      & 221\\\\\n",
       "\t Urea                       & 172\\\\\n",
       "\t Vitamin D                  &  70\\\\\n",
       "\\end{tabular}\n"
      ],
      "text/markdown": [
       "\n",
       "A tibble: 35 × 2\n",
       "\n",
       "| name &lt;chr&gt; | n &lt;int&gt; |\n",
       "|---|---|\n",
       "| Alanine aminotransferase   | 197 |\n",
       "| Albumin                    | 206 |\n",
       "| Alkaline phosphatase       | 291 |\n",
       "| Apolipoprotein A           | 216 |\n",
       "| Apolipoprotein B           | 223 |\n",
       "| Aspartate aminotransferase | 237 |\n",
       "| C-reactive protein         | 185 |\n",
       "| Calcium                    | 202 |\n",
       "| Cholesterol                | 236 |\n",
       "| Creatinine                 | 350 |\n",
       "| Creatinine in urine        |  31 |\n",
       "| Cystatin C                 | 300 |\n",
       "| Direct bilirubin           |  74 |\n",
       "| eGFR                       | 334 |\n",
       "| Fasting glucose            |   3 |\n",
       "| Gamma glutamyltransferase  | 276 |\n",
       "| Glucose                    | 110 |\n",
       "| HbA1c                      | 298 |\n",
       "| HDL cholesterol            | 233 |\n",
       "| IGF-1                      | 355 |\n",
       "| LDL cholesterol            | 226 |\n",
       "| Lipoprotein A              |   5 |\n",
       "| Microalbumin in urine      |   3 |\n",
       "| Non-albumin protein        | 287 |\n",
       "| Phosphate                  | 159 |\n",
       "| Potassium in urine         |  12 |\n",
       "| SHBG                       | 252 |\n",
       "| Sodium in urine            |  35 |\n",
       "| Testosterone               |  98 |\n",
       "| Total bilirubin            | 123 |\n",
       "| Total protein              | 245 |\n",
       "| Triglycerides              | 212 |\n",
       "| Urate                      | 221 |\n",
       "| Urea                       | 172 |\n",
       "| Vitamin D                  |  70 |\n",
       "\n"
      ],
      "text/plain": [
       "   name                       n  \n",
       "1  Alanine aminotransferase   197\n",
       "2  Albumin                    206\n",
       "3  Alkaline phosphatase       291\n",
       "4  Apolipoprotein A           216\n",
       "5  Apolipoprotein B           223\n",
       "6  Aspartate aminotransferase 237\n",
       "7  C-reactive protein         185\n",
       "8  Calcium                    202\n",
       "9  Cholesterol                236\n",
       "10 Creatinine                 350\n",
       "11 Creatinine in urine         31\n",
       "12 Cystatin C                 300\n",
       "13 Direct bilirubin            74\n",
       "14 eGFR                       334\n",
       "15 Fasting glucose              3\n",
       "16 Gamma glutamyltransferase  276\n",
       "17 Glucose                    110\n",
       "18 HbA1c                      298\n",
       "19 HDL cholesterol            233\n",
       "20 IGF-1                      355\n",
       "21 LDL cholesterol            226\n",
       "22 Lipoprotein A                5\n",
       "23 Microalbumin in urine        3\n",
       "24 Non-albumin protein        287\n",
       "25 Phosphate                  159\n",
       "26 Potassium in urine          12\n",
       "27 SHBG                       252\n",
       "28 Sodium in urine             35\n",
       "29 Testosterone                98\n",
       "30 Total bilirubin            123\n",
       "31 Total protein              245\n",
       "32 Triglycerides              212\n",
       "33 Urate                      221\n",
       "34 Urea                       172\n",
       "35 Vitamin D                   70"
      ]
     },
     "metadata": {},
     "output_type": "display_data"
    }
   ],
   "source": [
    "imp_anno_df %>% count(name)"
   ]
  },
  {
   "cell_type": "code",
   "execution_count": 22,
   "metadata": {},
   "outputs": [],
   "source": [
    "imp_anno_df %>%\n",
    "fwrite(file.path(outd, 'cascade.imp.hits.tsv'), sep='\\t')\n"
   ]
  },
  {
   "cell_type": "code",
   "execution_count": 27,
   "metadata": {},
   "outputs": [
    {
     "data": {
      "text/html": [
       "<table>\n",
       "<caption>A tibble: 3 × 3</caption>\n",
       "<thead>\n",
       "\t<tr><th scope=col>is_outside_of_MHC</th><th scope=col>is_rare</th><th scope=col>n</th></tr>\n",
       "\t<tr><th scope=col>&lt;lgl&gt;</th><th scope=col>&lt;lgl&gt;</th><th scope=col>&lt;int&gt;</th></tr>\n",
       "</thead>\n",
       "<tbody>\n",
       "\t<tr><td>FALSE</td><td>FALSE</td><td>  57</td></tr>\n",
       "\t<tr><td> TRUE</td><td>FALSE</td><td>5112</td></tr>\n",
       "\t<tr><td>   NA</td><td>FALSE</td><td>   2</td></tr>\n",
       "</tbody>\n",
       "</table>\n"
      ],
      "text/latex": [
       "A tibble: 3 × 3\n",
       "\\begin{tabular}{r|lll}\n",
       " is\\_outside\\_of\\_MHC & is\\_rare & n\\\\\n",
       " <lgl> & <lgl> & <int>\\\\\n",
       "\\hline\n",
       "\t FALSE & FALSE &   57\\\\\n",
       "\t  TRUE & FALSE & 5112\\\\\n",
       "\t    NA & FALSE &    2\\\\\n",
       "\\end{tabular}\n"
      ],
      "text/markdown": [
       "\n",
       "A tibble: 3 × 3\n",
       "\n",
       "| is_outside_of_MHC &lt;lgl&gt; | is_rare &lt;lgl&gt; | n &lt;int&gt; |\n",
       "|---|---|---|\n",
       "| FALSE | FALSE |   57 |\n",
       "|  TRUE | FALSE | 5112 |\n",
       "|    NA | FALSE |    2 |\n",
       "\n"
      ],
      "text/plain": [
       "  is_outside_of_MHC is_rare n   \n",
       "1 FALSE             FALSE     57\n",
       "2  TRUE             FALSE   5112\n",
       "3    NA             FALSE      2"
      ]
     },
     "metadata": {},
     "output_type": "display_data"
    }
   ],
   "source": [
    "imp_anno_df %>% \n",
    "select(is_rare, is_outside_of_MHC, ID) %>%\n",
    "unique() %>%\n",
    "count(is_outside_of_MHC, is_rare)"
   ]
  },
  {
   "cell_type": "code",
   "execution_count": 28,
   "metadata": {},
   "outputs": [
    {
     "data": {
      "text/html": [
       "<table>\n",
       "<caption>A data.frame: 2 × 22</caption>\n",
       "<thead>\n",
       "\t<tr><th scope=col>ID</th><th scope=col>REF</th><th scope=col>ALT</th><th scope=col>Effect</th><th scope=col>StdErr</th><th scope=col>Direction</th><th scope=col>HetISq</th><th scope=col>HetChiSq</th><th scope=col>HetDf</th><th scope=col>HetPVal</th><th scope=col>⋯</th><th scope=col>CHROM</th><th scope=col>POS</th><th scope=col>P</th><th scope=col>CM</th><th scope=col>id</th><th scope=col>prev</th><th scope=col>block</th><th scope=col>name</th><th scope=col>is_outside_of_MHC</th><th scope=col>is_rare</th></tr>\n",
       "\t<tr><th scope=col>&lt;chr&gt;</th><th scope=col>&lt;chr&gt;</th><th scope=col>&lt;chr&gt;</th><th scope=col>&lt;dbl&gt;</th><th scope=col>&lt;dbl&gt;</th><th scope=col>&lt;chr&gt;</th><th scope=col>&lt;dbl&gt;</th><th scope=col>&lt;dbl&gt;</th><th scope=col>&lt;int&gt;</th><th scope=col>&lt;dbl&gt;</th><th scope=col>⋯</th><th scope=col>&lt;chr&gt;</th><th scope=col>&lt;int&gt;</th><th scope=col>&lt;dbl&gt;</th><th scope=col>&lt;dbl&gt;</th><th scope=col>&lt;int&gt;</th><th scope=col>&lt;dbl&gt;</th><th scope=col>&lt;int&gt;</th><th scope=col>&lt;chr&gt;</th><th scope=col>&lt;lgl&gt;</th><th scope=col>&lt;lgl&gt;</th></tr>\n",
       "</thead>\n",
       "<tbody>\n",
       "\t<tr><td>X:31854782_G_C </td><td>G</td><td>C </td><td>0.0121</td><td>0.0021</td><td>++-+</td><td>44.5</td><td>5.408</td><td>3</td><td>0.1443</td><td>⋯</td><td>X</td><td>31854782</td><td>6.421e-09</td><td>43.57216</td><td>3</td><td>25.25451</td><td>2</td><td>Urea           </td><td>NA</td><td>FALSE</td></tr>\n",
       "\t<tr><td>X:31917454_C_CT</td><td>C</td><td>CT</td><td>0.0112</td><td>0.0020</td><td>+++?</td><td> 0.0</td><td>0.034</td><td>2</td><td>0.9829</td><td>⋯</td><td>X</td><td>31917454</td><td>3.630e-08</td><td>43.64179</td><td>1</td><td> 0.00000</td><td>1</td><td>Sodium in urine</td><td>NA</td><td>FALSE</td></tr>\n",
       "</tbody>\n",
       "</table>\n"
      ],
      "text/latex": [
       "A data.frame: 2 × 22\n",
       "\\begin{tabular}{r|llllllllllllllllllllll}\n",
       " ID & REF & ALT & Effect & StdErr & Direction & HetISq & HetChiSq & HetDf & HetPVal & maf & MACH\\_R2 & CHROM & POS & P & CM & id & prev & block & name & is\\_outside\\_of\\_MHC & is\\_rare\\\\\n",
       " <chr> & <chr> & <chr> & <dbl> & <dbl> & <chr> & <dbl> & <dbl> & <int> & <dbl> & <dbl> & <dbl> & <chr> & <int> & <dbl> & <dbl> & <int> & <dbl> & <int> & <chr> & <lgl> & <lgl>\\\\\n",
       "\\hline\n",
       "\t X:31854782\\_G\\_C  & G & C  & 0.0121 & 0.0021 & ++-+ & 44.5 & 5.408 & 3 & 0.1443 & 0.347920 & 1.43874 & X & 31854782 & 6.421e-09 & 43.57216 & 3 & 25.25451 & 2 & Urea            & NA & FALSE\\\\\n",
       "\t X:31917454\\_C\\_CT & C & CT & 0.0112 & 0.0020 & +++? &  0.0 & 0.034 & 2 & 0.9829 & 0.492058 & 1.42240 & X & 31917454 & 3.630e-08 & 43.64179 & 1 &  0.00000 & 1 & Sodium in urine & NA & FALSE\\\\\n",
       "\\end{tabular}\n"
      ],
      "text/markdown": [
       "\n",
       "A data.frame: 2 × 22\n",
       "\n",
       "| ID &lt;chr&gt; | REF &lt;chr&gt; | ALT &lt;chr&gt; | Effect &lt;dbl&gt; | StdErr &lt;dbl&gt; | Direction &lt;chr&gt; | HetISq &lt;dbl&gt; | HetChiSq &lt;dbl&gt; | HetDf &lt;int&gt; | HetPVal &lt;dbl&gt; | ⋯ ⋯ | CHROM &lt;chr&gt; | POS &lt;int&gt; | P &lt;dbl&gt; | CM &lt;dbl&gt; | id &lt;int&gt; | prev &lt;dbl&gt; | block &lt;int&gt; | name &lt;chr&gt; | is_outside_of_MHC &lt;lgl&gt; | is_rare &lt;lgl&gt; |\n",
       "|---|---|---|---|---|---|---|---|---|---|---|---|---|---|---|---|---|---|---|---|---|\n",
       "| X:31854782_G_C  | G | C  | 0.0121 | 0.0021 | ++-+ | 44.5 | 5.408 | 3 | 0.1443 | ⋯ | X | 31854782 | 6.421e-09 | 43.57216 | 3 | 25.25451 | 2 | Urea            | NA | FALSE |\n",
       "| X:31917454_C_CT | C | CT | 0.0112 | 0.0020 | +++? |  0.0 | 0.034 | 2 | 0.9829 | ⋯ | X | 31917454 | 3.630e-08 | 43.64179 | 1 |  0.00000 | 1 | Sodium in urine | NA | FALSE |\n",
       "\n"
      ],
      "text/plain": [
       "  ID              REF ALT Effect StdErr Direction HetISq HetChiSq HetDf HetPVal\n",
       "1 X:31854782_G_C  G   C   0.0121 0.0021 ++-+      44.5   5.408    3     0.1443 \n",
       "2 X:31917454_C_CT C   CT  0.0112 0.0020 +++?       0.0   0.034    2     0.9829 \n",
       "  ⋯ CHROM POS      P         CM       id prev     block name           \n",
       "1 ⋯ X     31854782 6.421e-09 43.57216 3  25.25451 2     Urea           \n",
       "2 ⋯ X     31917454 3.630e-08 43.64179 1   0.00000 1     Sodium in urine\n",
       "  is_outside_of_MHC is_rare\n",
       "1 NA                FALSE  \n",
       "2 NA                FALSE  "
      ]
     },
     "metadata": {},
     "output_type": "display_data"
    }
   ],
   "source": [
    "imp_anno_df %>% \n",
    "filter(is.na(is_outside_of_MHC))"
   ]
  },
  {
   "cell_type": "markdown",
   "metadata": {},
   "source": [
    "```\n",
    "gdrive upload -p 1fGlnrj8Zu1Pox3fmxmFKdcbNVWiN9vhd out/cascade.imp.hits.tsv\n",
    "zstd -15 --rm out/cascade.imp.hits.tsv\n",
    "```"
   ]
  },
  {
   "cell_type": "code",
   "execution_count": null,
   "metadata": {},
   "outputs": [],
   "source": []
  }
 ],
 "metadata": {
  "kernelspec": {
   "display_name": "R",
   "language": "R",
   "name": "ir"
  },
  "language_info": {
   "codemirror_mode": "r",
   "file_extension": ".r",
   "mimetype": "text/x-r-source",
   "name": "R",
   "pygments_lexer": "r",
   "version": "3.6.1"
  }
 },
 "nbformat": 4,
 "nbformat_minor": 4
}
