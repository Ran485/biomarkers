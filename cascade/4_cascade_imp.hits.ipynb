{
 "cells": [
  {
   "cell_type": "code",
   "execution_count": 1,
   "metadata": {},
   "outputs": [],
   "source": [
    "source('cascade_helper.R')\n"
   ]
  },
  {
   "cell_type": "code",
   "execution_count": 2,
   "metadata": {},
   "outputs": [],
   "source": [
    "p_thr <- 5e-9\n"
   ]
  },
  {
   "cell_type": "code",
   "execution_count": 3,
   "metadata": {},
   "outputs": [],
   "source": [
    "outd <- file.path(getwd(), 'out_v3')\n"
   ]
  },
  {
   "cell_type": "code",
   "execution_count": 4,
   "metadata": {},
   "outputs": [],
   "source": [
    "traits <- fread('cascade.input.files.tsv') %>% drop_na(c('imp')) %>% filter(imp != '')\n"
   ]
  },
  {
   "cell_type": "code",
   "execution_count": 5,
   "metadata": {},
   "outputs": [
    {
     "data": {
      "text/html": [
       "<ol class=list-inline>\n",
       "\t<li>35</li>\n",
       "\t<li>4</li>\n",
       "</ol>\n"
      ],
      "text/latex": [
       "\\begin{enumerate*}\n",
       "\\item 35\n",
       "\\item 4\n",
       "\\end{enumerate*}\n"
      ],
      "text/markdown": [
       "1. 35\n",
       "2. 4\n",
       "\n",
       "\n"
      ],
      "text/plain": [
       "[1] 35  4"
      ]
     },
     "metadata": {},
     "output_type": "display_data"
    }
   ],
   "source": [
    "traits %>% dim()"
   ]
  },
  {
   "cell_type": "code",
   "execution_count": 6,
   "metadata": {},
   "outputs": [],
   "source": [
    "imp_anno_df <- traits %>% \n",
    "read_imp_sumstats_all(p_thr) %>%\n",
    "annotate_imp_df()\n"
   ]
  },
  {
   "cell_type": "code",
   "execution_count": 7,
   "metadata": {},
   "outputs": [
    {
     "data": {
      "text/html": [
       "<table>\n",
       "<caption>A tibble: 23 × 2</caption>\n",
       "<thead>\n",
       "\t<tr><th scope=col>CHROM</th><th scope=col>n</th></tr>\n",
       "\t<tr><th scope=col>&lt;chr&gt;</th><th scope=col>&lt;int&gt;</th></tr>\n",
       "</thead>\n",
       "<tbody>\n",
       "\t<tr><td>1 </td><td>512</td></tr>\n",
       "\t<tr><td>2 </td><td>466</td></tr>\n",
       "\t<tr><td>3 </td><td>326</td></tr>\n",
       "\t<tr><td>4 </td><td>262</td></tr>\n",
       "\t<tr><td>5 </td><td>240</td></tr>\n",
       "\t<tr><td>6 </td><td>333</td></tr>\n",
       "\t<tr><td>7 </td><td>308</td></tr>\n",
       "\t<tr><td>8 </td><td>245</td></tr>\n",
       "\t<tr><td>9 </td><td>215</td></tr>\n",
       "\t<tr><td>10</td><td>269</td></tr>\n",
       "\t<tr><td>11</td><td>304</td></tr>\n",
       "\t<tr><td>12</td><td>293</td></tr>\n",
       "\t<tr><td>13</td><td>116</td></tr>\n",
       "\t<tr><td>14</td><td>152</td></tr>\n",
       "\t<tr><td>15</td><td>190</td></tr>\n",
       "\t<tr><td>16</td><td>206</td></tr>\n",
       "\t<tr><td>17</td><td>257</td></tr>\n",
       "\t<tr><td>18</td><td> 92</td></tr>\n",
       "\t<tr><td>19</td><td>262</td></tr>\n",
       "\t<tr><td>20</td><td>177</td></tr>\n",
       "\t<tr><td>21</td><td> 55</td></tr>\n",
       "\t<tr><td>22</td><td>109</td></tr>\n",
       "\t<tr><td>X </td><td>141</td></tr>\n",
       "</tbody>\n",
       "</table>\n"
      ],
      "text/latex": [
       "A tibble: 23 × 2\n",
       "\\begin{tabular}{r|ll}\n",
       " CHROM & n\\\\\n",
       " <chr> & <int>\\\\\n",
       "\\hline\n",
       "\t 1  & 512\\\\\n",
       "\t 2  & 466\\\\\n",
       "\t 3  & 326\\\\\n",
       "\t 4  & 262\\\\\n",
       "\t 5  & 240\\\\\n",
       "\t 6  & 333\\\\\n",
       "\t 7  & 308\\\\\n",
       "\t 8  & 245\\\\\n",
       "\t 9  & 215\\\\\n",
       "\t 10 & 269\\\\\n",
       "\t 11 & 304\\\\\n",
       "\t 12 & 293\\\\\n",
       "\t 13 & 116\\\\\n",
       "\t 14 & 152\\\\\n",
       "\t 15 & 190\\\\\n",
       "\t 16 & 206\\\\\n",
       "\t 17 & 257\\\\\n",
       "\t 18 &  92\\\\\n",
       "\t 19 & 262\\\\\n",
       "\t 20 & 177\\\\\n",
       "\t 21 &  55\\\\\n",
       "\t 22 & 109\\\\\n",
       "\t X  & 141\\\\\n",
       "\\end{tabular}\n"
      ],
      "text/markdown": [
       "\n",
       "A tibble: 23 × 2\n",
       "\n",
       "| CHROM &lt;chr&gt; | n &lt;int&gt; |\n",
       "|---|---|\n",
       "| 1  | 512 |\n",
       "| 2  | 466 |\n",
       "| 3  | 326 |\n",
       "| 4  | 262 |\n",
       "| 5  | 240 |\n",
       "| 6  | 333 |\n",
       "| 7  | 308 |\n",
       "| 8  | 245 |\n",
       "| 9  | 215 |\n",
       "| 10 | 269 |\n",
       "| 11 | 304 |\n",
       "| 12 | 293 |\n",
       "| 13 | 116 |\n",
       "| 14 | 152 |\n",
       "| 15 | 190 |\n",
       "| 16 | 206 |\n",
       "| 17 | 257 |\n",
       "| 18 |  92 |\n",
       "| 19 | 262 |\n",
       "| 20 | 177 |\n",
       "| 21 |  55 |\n",
       "| 22 | 109 |\n",
       "| X  | 141 |\n",
       "\n"
      ],
      "text/plain": [
       "   CHROM n  \n",
       "1  1     512\n",
       "2  2     466\n",
       "3  3     326\n",
       "4  4     262\n",
       "5  5     240\n",
       "6  6     333\n",
       "7  7     308\n",
       "8  8     245\n",
       "9  9     215\n",
       "10 10    269\n",
       "11 11    304\n",
       "12 12    293\n",
       "13 13    116\n",
       "14 14    152\n",
       "15 15    190\n",
       "16 16    206\n",
       "17 17    257\n",
       "18 18     92\n",
       "19 19    262\n",
       "20 20    177\n",
       "21 21     55\n",
       "22 22    109\n",
       "23 X     141"
      ]
     },
     "metadata": {},
     "output_type": "display_data"
    }
   ],
   "source": [
    "imp_anno_df %>% count(CHROM) %>% arrange(suppressWarnings(as.numeric(CHROM)), CHROM)"
   ]
  },
  {
   "cell_type": "code",
   "execution_count": 8,
   "metadata": {},
   "outputs": [
    {
     "data": {
      "text/html": [
       "<table>\n",
       "<caption>A tibble: 35 × 2</caption>\n",
       "<thead>\n",
       "\t<tr><th scope=col>name</th><th scope=col>n</th></tr>\n",
       "\t<tr><th scope=col>&lt;chr&gt;</th><th scope=col>&lt;int&gt;</th></tr>\n",
       "</thead>\n",
       "<tbody>\n",
       "\t<tr><td>Alanine aminotransferase  </td><td>164</td></tr>\n",
       "\t<tr><td>Albumin                   </td><td>173</td></tr>\n",
       "\t<tr><td>Alkaline phosphatase      </td><td>254</td></tr>\n",
       "\t<tr><td>Apolipoprotein A          </td><td>185</td></tr>\n",
       "\t<tr><td>Apolipoprotein B          </td><td>177</td></tr>\n",
       "\t<tr><td>Aspartate aminotransferase</td><td>190</td></tr>\n",
       "\t<tr><td>AST to ALT ratio          </td><td>171</td></tr>\n",
       "\t<tr><td>C-reactive protein        </td><td>149</td></tr>\n",
       "\t<tr><td>Calcium                   </td><td>163</td></tr>\n",
       "\t<tr><td>Cholesterol               </td><td>205</td></tr>\n",
       "\t<tr><td>Creatinine                </td><td>285</td></tr>\n",
       "\t<tr><td>Creatinine in urine       </td><td> 16</td></tr>\n",
       "\t<tr><td>Cystatin C                </td><td>248</td></tr>\n",
       "\t<tr><td>Direct bilirubin          </td><td> 59</td></tr>\n",
       "\t<tr><td>eGFR                      </td><td>283</td></tr>\n",
       "\t<tr><td>Gamma glutamyltransferase </td><td>238</td></tr>\n",
       "\t<tr><td>Glucose                   </td><td> 87</td></tr>\n",
       "\t<tr><td>HbA1c                     </td><td>249</td></tr>\n",
       "\t<tr><td>HDL cholesterol           </td><td>186</td></tr>\n",
       "\t<tr><td>IGF-1                     </td><td>304</td></tr>\n",
       "\t<tr><td>LDL cholesterol           </td><td>186</td></tr>\n",
       "\t<tr><td>Lipoprotein A             </td><td>  5</td></tr>\n",
       "\t<tr><td>Microalbumin in urine     </td><td>  2</td></tr>\n",
       "\t<tr><td>Non-albumin protein       </td><td>239</td></tr>\n",
       "\t<tr><td>Phosphate                 </td><td>134</td></tr>\n",
       "\t<tr><td>Potassium in urine        </td><td>  4</td></tr>\n",
       "\t<tr><td>SHBG                      </td><td>218</td></tr>\n",
       "\t<tr><td>Sodium in urine           </td><td> 22</td></tr>\n",
       "\t<tr><td>Testosterone              </td><td> 81</td></tr>\n",
       "\t<tr><td>Total bilirubin           </td><td>103</td></tr>\n",
       "\t<tr><td>Total protein             </td><td>197</td></tr>\n",
       "\t<tr><td>Triglycerides             </td><td>173</td></tr>\n",
       "\t<tr><td>Urate                     </td><td>190</td></tr>\n",
       "\t<tr><td>Urea                      </td><td>141</td></tr>\n",
       "\t<tr><td>Vitamin D                 </td><td> 49</td></tr>\n",
       "</tbody>\n",
       "</table>\n"
      ],
      "text/latex": [
       "A tibble: 35 × 2\n",
       "\\begin{tabular}{r|ll}\n",
       " name & n\\\\\n",
       " <chr> & <int>\\\\\n",
       "\\hline\n",
       "\t Alanine aminotransferase   & 164\\\\\n",
       "\t Albumin                    & 173\\\\\n",
       "\t Alkaline phosphatase       & 254\\\\\n",
       "\t Apolipoprotein A           & 185\\\\\n",
       "\t Apolipoprotein B           & 177\\\\\n",
       "\t Aspartate aminotransferase & 190\\\\\n",
       "\t AST to ALT ratio           & 171\\\\\n",
       "\t C-reactive protein         & 149\\\\\n",
       "\t Calcium                    & 163\\\\\n",
       "\t Cholesterol                & 205\\\\\n",
       "\t Creatinine                 & 285\\\\\n",
       "\t Creatinine in urine        &  16\\\\\n",
       "\t Cystatin C                 & 248\\\\\n",
       "\t Direct bilirubin           &  59\\\\\n",
       "\t eGFR                       & 283\\\\\n",
       "\t Gamma glutamyltransferase  & 238\\\\\n",
       "\t Glucose                    &  87\\\\\n",
       "\t HbA1c                      & 249\\\\\n",
       "\t HDL cholesterol            & 186\\\\\n",
       "\t IGF-1                      & 304\\\\\n",
       "\t LDL cholesterol            & 186\\\\\n",
       "\t Lipoprotein A              &   5\\\\\n",
       "\t Microalbumin in urine      &   2\\\\\n",
       "\t Non-albumin protein        & 239\\\\\n",
       "\t Phosphate                  & 134\\\\\n",
       "\t Potassium in urine         &   4\\\\\n",
       "\t SHBG                       & 218\\\\\n",
       "\t Sodium in urine            &  22\\\\\n",
       "\t Testosterone               &  81\\\\\n",
       "\t Total bilirubin            & 103\\\\\n",
       "\t Total protein              & 197\\\\\n",
       "\t Triglycerides              & 173\\\\\n",
       "\t Urate                      & 190\\\\\n",
       "\t Urea                       & 141\\\\\n",
       "\t Vitamin D                  &  49\\\\\n",
       "\\end{tabular}\n"
      ],
      "text/markdown": [
       "\n",
       "A tibble: 35 × 2\n",
       "\n",
       "| name &lt;chr&gt; | n &lt;int&gt; |\n",
       "|---|---|\n",
       "| Alanine aminotransferase   | 164 |\n",
       "| Albumin                    | 173 |\n",
       "| Alkaline phosphatase       | 254 |\n",
       "| Apolipoprotein A           | 185 |\n",
       "| Apolipoprotein B           | 177 |\n",
       "| Aspartate aminotransferase | 190 |\n",
       "| AST to ALT ratio           | 171 |\n",
       "| C-reactive protein         | 149 |\n",
       "| Calcium                    | 163 |\n",
       "| Cholesterol                | 205 |\n",
       "| Creatinine                 | 285 |\n",
       "| Creatinine in urine        |  16 |\n",
       "| Cystatin C                 | 248 |\n",
       "| Direct bilirubin           |  59 |\n",
       "| eGFR                       | 283 |\n",
       "| Gamma glutamyltransferase  | 238 |\n",
       "| Glucose                    |  87 |\n",
       "| HbA1c                      | 249 |\n",
       "| HDL cholesterol            | 186 |\n",
       "| IGF-1                      | 304 |\n",
       "| LDL cholesterol            | 186 |\n",
       "| Lipoprotein A              |   5 |\n",
       "| Microalbumin in urine      |   2 |\n",
       "| Non-albumin protein        | 239 |\n",
       "| Phosphate                  | 134 |\n",
       "| Potassium in urine         |   4 |\n",
       "| SHBG                       | 218 |\n",
       "| Sodium in urine            |  22 |\n",
       "| Testosterone               |  81 |\n",
       "| Total bilirubin            | 103 |\n",
       "| Total protein              | 197 |\n",
       "| Triglycerides              | 173 |\n",
       "| Urate                      | 190 |\n",
       "| Urea                       | 141 |\n",
       "| Vitamin D                  |  49 |\n",
       "\n"
      ],
      "text/plain": [
       "   name                       n  \n",
       "1  Alanine aminotransferase   164\n",
       "2  Albumin                    173\n",
       "3  Alkaline phosphatase       254\n",
       "4  Apolipoprotein A           185\n",
       "5  Apolipoprotein B           177\n",
       "6  Aspartate aminotransferase 190\n",
       "7  AST to ALT ratio           171\n",
       "8  C-reactive protein         149\n",
       "9  Calcium                    163\n",
       "10 Cholesterol                205\n",
       "11 Creatinine                 285\n",
       "12 Creatinine in urine         16\n",
       "13 Cystatin C                 248\n",
       "14 Direct bilirubin            59\n",
       "15 eGFR                       283\n",
       "16 Gamma glutamyltransferase  238\n",
       "17 Glucose                     87\n",
       "18 HbA1c                      249\n",
       "19 HDL cholesterol            186\n",
       "20 IGF-1                      304\n",
       "21 LDL cholesterol            186\n",
       "22 Lipoprotein A                5\n",
       "23 Microalbumin in urine        2\n",
       "24 Non-albumin protein        239\n",
       "25 Phosphate                  134\n",
       "26 Potassium in urine           4\n",
       "27 SHBG                       218\n",
       "28 Sodium in urine             22\n",
       "29 Testosterone                81\n",
       "30 Total bilirubin            103\n",
       "31 Total protein              197\n",
       "32 Triglycerides              173\n",
       "33 Urate                      190\n",
       "34 Urea                       141\n",
       "35 Vitamin D                   49"
      ]
     },
     "metadata": {},
     "output_type": "display_data"
    }
   ],
   "source": [
    "imp_anno_df %>% count(name)"
   ]
  },
  {
   "cell_type": "code",
   "execution_count": 9,
   "metadata": {},
   "outputs": [],
   "source": [
    "imp_anno_df %>%\n",
    "fwrite(file.path(outd, 'cascade.imp.hits.auto_and_X.tsv'), sep='\\t')\n"
   ]
  },
  {
   "cell_type": "code",
   "execution_count": 10,
   "metadata": {},
   "outputs": [],
   "source": [
    "imp_anno_df %>%\n",
    "filter(CHROM != 'X') %>%\n",
    "fwrite(file.path(outd, 'cascade.imp.hits.tsv'), sep='\\t')\n"
   ]
  },
  {
   "cell_type": "code",
   "execution_count": 11,
   "metadata": {},
   "outputs": [
    {
     "data": {
      "text/html": [
       "<table>\n",
       "<caption>A tibble: 3 × 4</caption>\n",
       "<thead>\n",
       "\t<tr><th scope=col>is_X</th><th scope=col>is_outside_of_MHC</th><th scope=col>is_rare</th><th scope=col>n</th></tr>\n",
       "\t<tr><th scope=col>&lt;lgl&gt;</th><th scope=col>&lt;lgl&gt;</th><th scope=col>&lt;lgl&gt;</th><th scope=col>&lt;int&gt;</th></tr>\n",
       "</thead>\n",
       "<tbody>\n",
       "\t<tr><td>FALSE</td><td>FALSE</td><td>FALSE</td><td>  56</td></tr>\n",
       "\t<tr><td>FALSE</td><td> TRUE</td><td>FALSE</td><td>4181</td></tr>\n",
       "\t<tr><td> TRUE</td><td> TRUE</td><td>FALSE</td><td> 112</td></tr>\n",
       "</tbody>\n",
       "</table>\n"
      ],
      "text/latex": [
       "A tibble: 3 × 4\n",
       "\\begin{tabular}{r|llll}\n",
       " is\\_X & is\\_outside\\_of\\_MHC & is\\_rare & n\\\\\n",
       " <lgl> & <lgl> & <lgl> & <int>\\\\\n",
       "\\hline\n",
       "\t FALSE & FALSE & FALSE &   56\\\\\n",
       "\t FALSE &  TRUE & FALSE & 4181\\\\\n",
       "\t  TRUE &  TRUE & FALSE &  112\\\\\n",
       "\\end{tabular}\n"
      ],
      "text/markdown": [
       "\n",
       "A tibble: 3 × 4\n",
       "\n",
       "| is_X &lt;lgl&gt; | is_outside_of_MHC &lt;lgl&gt; | is_rare &lt;lgl&gt; | n &lt;int&gt; |\n",
       "|---|---|---|---|\n",
       "| FALSE | FALSE | FALSE |   56 |\n",
       "| FALSE |  TRUE | FALSE | 4181 |\n",
       "|  TRUE |  TRUE | FALSE |  112 |\n",
       "\n"
      ],
      "text/plain": [
       "  is_X  is_outside_of_MHC is_rare n   \n",
       "1 FALSE FALSE             FALSE     56\n",
       "2 FALSE  TRUE             FALSE   4181\n",
       "3  TRUE  TRUE             FALSE    112"
      ]
     },
     "metadata": {},
     "output_type": "display_data"
    }
   ],
   "source": [
    "imp_anno_df %>% \n",
    "mutate(is_X = (CHROM == 'X')) %>%\n",
    "select(is_rare, is_outside_of_MHC, is_X, ID) %>%\n",
    "unique() %>%\n",
    "count(is_X, is_outside_of_MHC, is_rare)"
   ]
  },
  {
   "cell_type": "markdown",
   "metadata": {},
   "source": [
    "```\n",
    "gdrive upload -p 1fGlnrj8Zu1Pox3fmxmFKdcbNVWiN9vhd out_v3/cascade.imp.hits.tsv\n",
    "zstd -15 --rm out_v3/cascade.imp.hits.tsv\n",
    "```"
   ]
  },
  {
   "cell_type": "code",
   "execution_count": null,
   "metadata": {},
   "outputs": [],
   "source": []
  }
 ],
 "metadata": {
  "kernelspec": {
   "display_name": "R",
   "language": "R",
   "name": "ir"
  },
  "language_info": {
   "codemirror_mode": "r",
   "file_extension": ".r",
   "mimetype": "text/x-r-source",
   "name": "R",
   "pygments_lexer": "r",
   "version": "3.6.1"
  }
 },
 "nbformat": 4,
 "nbformat_minor": 4
}
