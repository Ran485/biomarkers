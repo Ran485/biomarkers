{
 "cells": [
  {
   "cell_type": "code",
   "execution_count": 1,
   "metadata": {},
   "outputs": [],
   "source": [
    "suppressWarnings(suppressPackageStartupMessages({\n",
    "    library(tidyverse)\n",
    "    library(data.table)\n",
    "}))\n"
   ]
  },
  {
   "cell_type": "code",
   "execution_count": 64,
   "metadata": {},
   "outputs": [
    {
     "name": "stderr",
     "output_type": "stream",
     "text": [
      "Auto-refreshing stale OAuth token.\n"
     ]
    }
   ],
   "source": [
    "library(googlesheets)\n",
    "gs_token <- \"/home/users/ytanigaw/.googlesheets_token.rds\"\n",
    "gs_auth(token = gs_token)\n"
   ]
  },
  {
   "cell_type": "code",
   "execution_count": 143,
   "metadata": {},
   "outputs": [],
   "source": [
    "# input\n",
    "ST_sheet <- 'https://docs.google.com/spreadsheets/d/1j8q1Y7wnMg9nWUm0iT4wJvFfg_hgIXbrtvxelqWHeH4' \n",
    "\n",
    "phe_info_f <- 'biomarker.phenotype.info.tsv'\n",
    "phe_f <- '/oak/stanford/groups/mrivas/projects/biomarkers/covariate_corrected/outputExtendedNoTDIreduced/phenotypes/combined.20190810.phe'\n",
    "gwas_covar_f <- '/oak/stanford/groups/mrivas/ukbb24983/sqc/population_stratification_w24983_20190809/ukb24983_GWAS_covar.20190809.phe'\n",
    "\n",
    "# output\n",
    "\n",
    "out_f <- 'number_check.tsv'\n"
   ]
  },
  {
   "cell_type": "markdown",
   "metadata": {},
   "source": [
    "## Read the input"
   ]
  },
  {
   "cell_type": "code",
   "execution_count": 3,
   "metadata": {},
   "outputs": [],
   "source": [
    "phe_info_df <- fread(phe_info_f) %>% rename('Phenotype'='name')"
   ]
  },
  {
   "cell_type": "code",
   "execution_count": 77,
   "metadata": {},
   "outputs": [],
   "source": [
    "phe_df <- fread(\n",
    "    phe_f, \n",
    "    select=c('FID', 'IID', phe_info_df %>% pull(annotation)), \n",
    "    colClasses=c('FID'='character', 'IID'='character')\n",
    ")\n"
   ]
  },
  {
   "cell_type": "code",
   "execution_count": 27,
   "metadata": {},
   "outputs": [],
   "source": [
    "gwas_covar_df <- fread(\n",
    "    gwas_covar_f, select=c('FID', 'IID', 'population'), \n",
    "    colClasses=c('FID'='character', 'IID'='character')\n",
    ") %>% drop_na(population)\n"
   ]
  },
  {
   "cell_type": "markdown",
   "metadata": {},
   "source": [
    "## count N for each phenotype across population"
   ]
  },
  {
   "cell_type": "code",
   "execution_count": 78,
   "metadata": {},
   "outputs": [
    {
     "name": "stderr",
     "output_type": "stream",
     "text": [
      "Joining, by = c(\"FID\", \"IID\")\n"
     ]
    }
   ],
   "source": [
    "phe_pop_df <- gwas_covar_df %>% left_join(phe_df)\n"
   ]
  },
  {
   "cell_type": "code",
   "execution_count": 79,
   "metadata": {},
   "outputs": [],
   "source": [
    "non_NA_phe_cnt <- phe_info_df %>% pull(annotation) %>% lapply(function(phe){\n",
    "    phe_pop_df %>% select(population, phe) %>% drop_na(phe) %>% count(population) %>%\n",
    "    mutate(phenotype = phe)\n",
    "}) %>% bind_rows() %>% spread(population, n) %>%\n",
    "select(phenotype, white_british, non_british_white, african, s_asian, e_asian)"
   ]
  },
  {
   "cell_type": "markdown",
   "metadata": {},
   "source": [
    "## Number of associations\n"
   ]
  },
  {
   "cell_type": "code",
   "execution_count": 87,
   "metadata": {},
   "outputs": [
    {
     "name": "stderr",
     "output_type": "stream",
     "text": [
      "Sheet-identifying info appears to be a browser URL.\n",
      "googlesheets will attempt to extract sheet key from the URL.\n",
      "Putative key: 1j8q1Y7wnMg9nWUm0iT4wJvFfg_hgIXbrtvxelqWHeH4\n",
      "Sheet successfully identified: \"UKBB Biomarker Paper Supplementary Tables Revisions\"\n",
      "Accessing worksheet titled 'ST7'.\n",
      "Parsed with column specification:\n",
      "cols(\n",
      "  .default = col_character(),\n",
      "  CHROM = \u001b[32mcol_double()\u001b[39m,\n",
      "  POS = \u001b[32mcol_double()\u001b[39m,\n",
      "  BETA = \u001b[32mcol_double()\u001b[39m,\n",
      "  SE = \u001b[32mcol_double()\u001b[39m,\n",
      "  P = \u001b[32mcol_double()\u001b[39m,\n",
      "  HetISq = \u001b[32mcol_double()\u001b[39m,\n",
      "  HetChiSq = \u001b[32mcol_double()\u001b[39m,\n",
      "  HetDf = \u001b[32mcol_double()\u001b[39m,\n",
      "  HetPVal = \u001b[32mcol_double()\u001b[39m,\n",
      "  MAF = \u001b[32mcol_double()\u001b[39m,\n",
      "  is_outside_of_MHC = \u001b[33mcol_logical()\u001b[39m,\n",
      "  ld_indep = \u001b[33mcol_logical()\u001b[39m,\n",
      "  Comments = \u001b[33mcol_logical()\u001b[39m\n",
      ")\n",
      "See spec(...) for full column specifications.\n",
      "Sheet-identifying info appears to be a browser URL.\n",
      "googlesheets will attempt to extract sheet key from the URL.\n",
      "Putative key: 1j8q1Y7wnMg9nWUm0iT4wJvFfg_hgIXbrtvxelqWHeH4\n",
      "Sheet successfully identified: \"UKBB Biomarker Paper Supplementary Tables Revisions\"\n",
      "Accessing worksheet titled 'ST8'.\n",
      "Parsed with column specification:\n",
      "cols(\n",
      "  .default = col_character(),\n",
      "  CHROM = \u001b[32mcol_double()\u001b[39m,\n",
      "  POS = \u001b[32mcol_double()\u001b[39m,\n",
      "  BETA = \u001b[32mcol_double()\u001b[39m,\n",
      "  SE = \u001b[32mcol_double()\u001b[39m,\n",
      "  P = \u001b[32mcol_double()\u001b[39m,\n",
      "  HetISq = \u001b[32mcol_double()\u001b[39m,\n",
      "  HetChiSq = \u001b[32mcol_double()\u001b[39m,\n",
      "  HetDf = \u001b[32mcol_double()\u001b[39m,\n",
      "  HetPVal = \u001b[32mcol_double()\u001b[39m,\n",
      "  MAF = \u001b[32mcol_double()\u001b[39m,\n",
      "  is_outside_of_MHC = \u001b[33mcol_logical()\u001b[39m,\n",
      "  ld_indep = \u001b[33mcol_logical()\u001b[39m,\n",
      "  Comments = \u001b[33mcol_logical()\u001b[39m\n",
      ")\n",
      "See spec(...) for full column specifications.\n",
      "Sheet-identifying info appears to be a browser URL.\n",
      "googlesheets will attempt to extract sheet key from the URL.\n",
      "Putative key: 1j8q1Y7wnMg9nWUm0iT4wJvFfg_hgIXbrtvxelqWHeH4\n",
      "Sheet successfully identified: \"UKBB Biomarker Paper Supplementary Tables Revisions\"\n",
      "Accessing worksheet titled 'ST9'.\n",
      "Parsed with column specification:\n",
      "cols(\n",
      "  `#CHROM` = \u001b[32mcol_double()\u001b[39m,\n",
      "  POS = \u001b[32mcol_double()\u001b[39m,\n",
      "  REF = \u001b[31mcol_character()\u001b[39m,\n",
      "  ALT = \u001b[31mcol_character()\u001b[39m,\n",
      "  ID = \u001b[31mcol_character()\u001b[39m,\n",
      "  trait = \u001b[31mcol_character()\u001b[39m,\n",
      "  BETA = \u001b[32mcol_double()\u001b[39m,\n",
      "  SE = \u001b[32mcol_double()\u001b[39m,\n",
      "  P = \u001b[32mcol_double()\u001b[39m,\n",
      "  Direction = \u001b[31mcol_character()\u001b[39m,\n",
      "  HetISq = \u001b[32mcol_double()\u001b[39m,\n",
      "  HetChiSq = \u001b[32mcol_double()\u001b[39m,\n",
      "  HetDf = \u001b[32mcol_double()\u001b[39m,\n",
      "  HetPVal = \u001b[32mcol_double()\u001b[39m,\n",
      "  MAF = \u001b[32mcol_double()\u001b[39m,\n",
      "  is_outside_of_MHC = \u001b[33mcol_logical()\u001b[39m,\n",
      "  Comments = \u001b[33mcol_logical()\u001b[39m\n",
      ")\n",
      "Sheet-identifying info appears to be a browser URL.\n",
      "googlesheets will attempt to extract sheet key from the URL.\n",
      "Putative key: 1j8q1Y7wnMg9nWUm0iT4wJvFfg_hgIXbrtvxelqWHeH4\n",
      "Sheet successfully identified: \"UKBB Biomarker Paper Supplementary Tables Revisions\"\n",
      "Accessing worksheet titled 'ST10'.\n",
      "Parsed with column specification:\n",
      "cols(\n",
      "  `HLA Allele` = \u001b[31mcol_character()\u001b[39m,\n",
      "  Phenotype = \u001b[31mcol_character()\u001b[39m,\n",
      "  `GBE ID` = \u001b[31mcol_character()\u001b[39m,\n",
      "  `PLINK Beta` = \u001b[32mcol_double()\u001b[39m,\n",
      "  `PLINK SE` = \u001b[32mcol_double()\u001b[39m,\n",
      "  `PLINK t-stat` = \u001b[32mcol_double()\u001b[39m,\n",
      "  `PLINK P` = \u001b[32mcol_double()\u001b[39m,\n",
      "  `BY-adjusted PLINK P` = \u001b[32mcol_double()\u001b[39m,\n",
      "  `BMA posterior probability` = \u001b[32mcol_double()\u001b[39m\n",
      ")\n",
      "Sheet-identifying info appears to be a browser URL.\n",
      "googlesheets will attempt to extract sheet key from the URL.\n",
      "Putative key: 1j8q1Y7wnMg9nWUm0iT4wJvFfg_hgIXbrtvxelqWHeH4\n",
      "Sheet successfully identified: \"UKBB Biomarker Paper Supplementary Tables Revisions\"\n",
      "Accessing worksheet titled 'ST11'.\n",
      "Parsed with column specification:\n",
      "cols(\n",
      "  Class = \u001b[31mcol_character()\u001b[39m,\n",
      "  Trait = \u001b[31mcol_character()\u001b[39m,\n",
      "  MarkerName = \u001b[31mcol_character()\u001b[39m,\n",
      "  Allele1 = \u001b[31mcol_character()\u001b[39m,\n",
      "  Allele2 = \u001b[31mcol_character()\u001b[39m,\n",
      "  Effect = \u001b[32mcol_double()\u001b[39m,\n",
      "  StdErr = \u001b[32mcol_double()\u001b[39m,\n",
      "  `P-value` = \u001b[32mcol_double()\u001b[39m,\n",
      "  Direction = \u001b[31mcol_character()\u001b[39m,\n",
      "  HetISq = \u001b[32mcol_double()\u001b[39m,\n",
      "  HetChiSq = \u001b[32mcol_double()\u001b[39m,\n",
      "  HetDf = \u001b[32mcol_double()\u001b[39m,\n",
      "  HetPVal = \u001b[32mcol_double()\u001b[39m\n",
      ")\n"
     ]
    }
   ],
   "source": [
    "suppressWarnings({\n",
    "    PTV_hits <- ST_sheet %>% gs_url() %>%\n",
    "    gs_read(ws = 'ST7')\n",
    "\n",
    "    PAV_hits <- ST_sheet %>% gs_url() %>%\n",
    "    gs_read(ws = 'ST8')\n",
    "\n",
    "    non_coding_hits <- ST_sheet %>% gs_url() %>%\n",
    "    gs_read(ws = 'ST9')\n",
    "\n",
    "    HLA_hits <- ST_sheet %>% gs_url() %>%\n",
    "    gs_read(ws = 'ST10')\n",
    "\n",
    "    CNV_hits <- ST_sheet %>% gs_url() %>%\n",
    "    gs_read(ws = 'ST11')\n",
    "})\n"
   ]
  },
  {
   "cell_type": "code",
   "execution_count": 109,
   "metadata": {},
   "outputs": [],
   "source": [
    "assoc_counts_non_CNV <- list(\n",
    "    PTV_hits %>% count(trait, name='PTV'),\n",
    "    PAV_hits %>% count(trait, name='PAV'),\n",
    "    non_coding_hits %>% count(trait, name='non-coding'),\n",
    "    HLA_hits %>% count(Phenotype, name='HLA') %>% rename('trait'='Phenotype')\n",
    ")\n",
    "\n",
    "assoc_counts_CNV <- list(\n",
    "    CNV_hits %>% filter(Class == 'Single') %>% count(Trait, name='CNV single') %>% rename('annotation'='Trait'),\n",
    "    CNV_hits %>% filter(Class == 'Burden') %>% count(Trait, name='CNV burden') %>% rename('annotation'='Trait')    \n",
    ")"
   ]
  },
  {
   "cell_type": "code",
   "execution_count": 142,
   "metadata": {},
   "outputs": [],
   "source": [
    "count_full_df <- phe_info_df %>%\n",
    "left_join(\n",
    "    non_NA_phe_cnt, by=c('annotation'='phenotype')\n",
    ") %>%\n",
    "left_join(\n",
    "    assoc_counts_non_CNV %>%\n",
    "    reduce(function(x, y){full_join(x, y, by='trait')}),\n",
    "    by=c('Phenotype'='trait')\n",
    ") %>%\n",
    "left_join(\n",
    "    assoc_counts_CNV %>%\n",
    "    reduce(function(x, y){full_join(x, y, by='annotation')}), \n",
    "    by='annotation'\n",
    ") %>%\n",
    "replace_na(list(PTV=0, PAV=0, HLA=0, 'CNV single'=0, 'CNV burden'=0)) %>%\n",
    "arrange(Phenotype) %>%\n",
    "mutate(\n",
    "    meta_N = white_british + non_british_white + african + s_asian,\n",
    "    N = meta_N + s_asian,\n",
    "    n_loci = PTV + PAV + `non-coding`\n",
    ")"
   ]
  },
  {
   "cell_type": "markdown",
   "metadata": {},
   "source": [
    "## save the results to a file"
   ]
  },
  {
   "cell_type": "code",
   "execution_count": 150,
   "metadata": {},
   "outputs": [],
   "source": [
    "count_full_df %>%\n",
    "select(\n",
    "    Phenotype, Abbreviation, 'Units of measurement', \n",
    "    'UKBB field ID', 'Statin adjustment', 'Trait category', 'GBE ID', \n",
    "    'N', 'white_british', 'non_british_white', 'african', 's_asian', 'e_asian', 'meta_N',\n",
    "    'n_loci', 'PTV', 'PAV', 'non-coding', 'HLA', 'CNV single', 'CNV burden',\n",
    "    'Color', 'GBE URL'\n",
    ") %>%\n",
    "fwrite(out_f, sep='\\t', na = \"NA\", quote=F)\n"
   ]
  },
  {
   "cell_type": "code",
   "execution_count": null,
   "metadata": {},
   "outputs": [],
   "source": []
  }
 ],
 "metadata": {
  "kernelspec": {
   "display_name": "R",
   "language": "R",
   "name": "ir"
  },
  "language_info": {
   "codemirror_mode": "r",
   "file_extension": ".r",
   "mimetype": "text/x-r-source",
   "name": "R",
   "pygments_lexer": "r",
   "version": "3.6.1"
  }
 },
 "nbformat": 4,
 "nbformat_minor": 4
}
