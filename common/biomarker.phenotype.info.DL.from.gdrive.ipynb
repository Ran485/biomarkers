{
 "cells": [
  {
   "cell_type": "code",
   "execution_count": 1,
   "metadata": {},
   "outputs": [],
   "source": [
    "suppressWarnings(suppressPackageStartupMessages({\n",
    "    library(tidyverse)\n",
    "    library(data.table)\n",
    "}))\n"
   ]
  },
  {
   "cell_type": "code",
   "execution_count": 3,
   "metadata": {},
   "outputs": [
    {
     "name": "stderr",
     "output_type": "stream",
     "text": [
      "Auto-refreshing stale OAuth token.\n",
      "Sheet-identifying info appears to be a browser URL.\n",
      "googlesheets will attempt to extract sheet key from the URL.\n",
      "Putative key: 1j8q1Y7wnMg9nWUm0iT4wJvFfg_hgIXbrtvxelqWHeH4\n",
      "Sheet successfully identified: \"UKBB Biomarker Paper Supplementary Tables Revisions\"\n",
      "Accessing worksheet titled 'ST4'.\n",
      "Parsed with column specification:\n",
      "cols(\n",
      "  .default = col_character(),\n",
      "  `UKBB field ID` = \u001b[32mcol_double()\u001b[39m,\n",
      "  `White British` = \u001b[32mcol_number()\u001b[39m,\n",
      "  `Non-British White` = \u001b[32mcol_number()\u001b[39m,\n",
      "  African = \u001b[32mcol_number()\u001b[39m,\n",
      "  `South Asian` = \u001b[32mcol_number()\u001b[39m,\n",
      "  `East Asian` = \u001b[32mcol_number()\u001b[39m,\n",
      "  `Number of independent associated loci` = \u001b[33mcol_logical()\u001b[39m,\n",
      "  `Number of 1000G Phase 3 and MAF > 1% variants` = \u001b[32mcol_double()\u001b[39m,\n",
      "  `Number of protein-altering variant associations (p < 1e-7)` = \u001b[32mcol_double()\u001b[39m,\n",
      "  `Number of protein-truncating variant associations (p < 1e-7)` = \u001b[32mcol_double()\u001b[39m,\n",
      "  `Number of HLA allelotype associations with posterior probability >= 0.8` = \u001b[32mcol_double()\u001b[39m,\n",
      "  `Number of single CNV associations (p < 5e-6)` = \u001b[33mcol_logical()\u001b[39m,\n",
      "  `Number of rare aggregate CNV associations (p < 4e-7)` = \u001b[32mcol_double()\u001b[39m\n",
      ")\n",
      "See spec(...) for full column specifications.\n"
     ]
    }
   ],
   "source": [
    "library(googlesheets)\n",
    "gs_token <- \"/home/users/ytanigaw/.googlesheets_token.rds\"\n",
    "\n",
    "gs_auth(token = gs_token)\n",
    "\n",
    "ST4_df <- 'https://docs.google.com/spreadsheets/d/1j8q1Y7wnMg9nWUm0iT4wJvFfg_hgIXbrtvxelqWHeH4' %>%\n",
    "gs_url() %>% \n",
    "gs_read(ws = 'ST4')\n"
   ]
  },
  {
   "cell_type": "code",
   "execution_count": 4,
   "metadata": {},
   "outputs": [],
   "source": [
    "prev_df <- 'canonical_trait_names.txt' %>%\n",
    "fread()"
   ]
  },
  {
   "cell_type": "code",
   "execution_count": 19,
   "metadata": {},
   "outputs": [],
   "source": [
    "prev_df %>%\n",
    "inner_join(ST4_df, by=c('name' = 'Phenotype')) %>%\n",
    "select(\n",
    "    name, annotation, Abbreviation,\n",
    "    'Units of measurement',    \n",
    "    'UKBB field ID', 'Statin adjustment',\n",
    "    'Trait category',    \n",
    "    'Color', 'GBE ID', 'GBE URL'\n",
    ") %>%\n",
    "arrange(name) %>%\n",
    "fwrite('biomarker.phenotype.info.tsv', sep='\\t', na = \"NA\", quote=F)\n"
   ]
  },
  {
   "cell_type": "code",
   "execution_count": null,
   "metadata": {},
   "outputs": [],
   "source": []
  }
 ],
 "metadata": {
  "kernelspec": {
   "display_name": "R",
   "language": "R",
   "name": "ir"
  },
  "language_info": {
   "codemirror_mode": "r",
   "file_extension": ".r",
   "mimetype": "text/x-r-source",
   "name": "R",
   "pygments_lexer": "r",
   "version": "3.6.1"
  }
 },
 "nbformat": 4,
 "nbformat_minor": 4
}
