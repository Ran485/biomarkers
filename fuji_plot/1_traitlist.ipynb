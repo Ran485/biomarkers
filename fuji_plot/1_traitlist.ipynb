{
 "cells": [
  {
   "cell_type": "code",
   "execution_count": 1,
   "metadata": {},
   "outputs": [
    {
     "name": "stderr",
     "output_type": "stream",
     "text": [
      "Auto-refreshing stale OAuth token.\n"
     ]
    }
   ],
   "source": [
    "suppressWarnings(suppressPackageStartupMessages({\n",
    "    library(tidyverse)\n",
    "    library(data.table)\n",
    "}))\n",
    "library(googlesheets)\n",
    "gs_token <- \"/home/users/ytanigaw/.googlesheets_token.rds\"\n",
    "gs_auth(token = gs_token)\n"
   ]
  },
  {
   "cell_type": "code",
   "execution_count": 2,
   "metadata": {},
   "outputs": [],
   "source": [
    "out_f <- 'traitlist.tsv'\n"
   ]
  },
  {
   "cell_type": "code",
   "execution_count": 3,
   "metadata": {},
   "outputs": [],
   "source": [
    "canonical_names <- fread('../common/canonical_trait_names.txt')\n"
   ]
  },
  {
   "cell_type": "code",
   "execution_count": 4,
   "metadata": {},
   "outputs": [
    {
     "name": "stderr",
     "output_type": "stream",
     "text": [
      "Sheet-identifying info appears to be a browser URL.\n",
      "googlesheets will attempt to extract sheet key from the URL.\n",
      "Putative key: 1j8q1Y7wnMg9nWUm0iT4wJvFfg_hgIXbrtvxelqWHeH4\n",
      "Warning message:\n",
      "“`data_frame()` is deprecated as of tibble 1.1.0.\n",
      "Please use `tibble()` instead.\n",
      "\u001b[90mThis warning is displayed once every 8 hours.\u001b[39m\n",
      "\u001b[90mCall `lifecycle::last_warnings()` to see where this warning was generated.\u001b[39m”Sheet successfully identified: \"UKBB Biomarker Paper Supplementary Tables Revisions\"\n",
      "Warning message:\n",
      "“`as_data_frame()` is deprecated as of tibble 2.0.0.\n",
      "Please use `as_tibble()` instead.\n",
      "The signature and semantics have changed, see `?as_tibble`.\n",
      "\u001b[90mThis warning is displayed once every 8 hours.\u001b[39m\n",
      "\u001b[90mCall `lifecycle::last_warnings()` to see where this warning was generated.\u001b[39m”Accessing worksheet titled 'Table S2'.\n",
      "Parsed with column specification:\n",
      "cols(\n",
      "  .default = col_character(),\n",
      "  `UKBB field ID` = \u001b[32mcol_double()\u001b[39m,\n",
      "  `White British` = \u001b[32mcol_number()\u001b[39m,\n",
      "  `Non-British White` = \u001b[32mcol_number()\u001b[39m,\n",
      "  African = \u001b[32mcol_number()\u001b[39m,\n",
      "  `South Asian` = \u001b[32mcol_number()\u001b[39m,\n",
      "  `East Asian` = \u001b[32mcol_number()\u001b[39m,\n",
      "  `Number of independent loci` = \u001b[33mcol_logical()\u001b[39m,\n",
      "  `Number of 1000G Phase 3 and MAF > 1% variants` = \u001b[32mcol_double()\u001b[39m,\n",
      "  `Number of protein-altering variants (p < 1e-7)` = \u001b[32mcol_double()\u001b[39m,\n",
      "  `Number of protein-truncating variants (p < 1e-7)` = \u001b[32mcol_double()\u001b[39m,\n",
      "  `Number of HLA alleles with posterior probability >= 0.8` = \u001b[32mcol_double()\u001b[39m,\n",
      "  `Number of single CNVs (p < 5e-6)` = \u001b[33mcol_logical()\u001b[39m,\n",
      "  `Number of rare aggregate CNVs (p < 4e-7)` = \u001b[32mcol_double()\u001b[39m\n",
      ")\n",
      "See spec(...) for full column specifications.\n"
     ]
    }
   ],
   "source": [
    "traits_df <- 'https://docs.google.com/spreadsheets/d/1j8q1Y7wnMg9nWUm0iT4wJvFfg_hgIXbrtvxelqWHeH4' %>% \n",
    "gs_url() %>% gs_read(ws = 'Table S2')\n"
   ]
  },
  {
   "cell_type": "code",
   "execution_count": 5,
   "metadata": {},
   "outputs": [],
   "source": [
    "df <- traits_df %>%\n",
    "filter(`Binary or quantitative` != 'B') %>%\n",
    "rename(\n",
    "    'CATEGORY' = 'Disease category',\n",
    "    'TRAIT' = 'Abbreviation',\n",
    "    'COLOR' = 'Color'\n",
    ") %>%\n",
    "mutate(\n",
    "    CATEGORY = str_replace_all(CATEGORY, ' ', '_')\n",
    ") %>%\n",
    "select(\n",
    "    Phenotype, CATEGORY, TRAIT, COLOR\n",
    ") %>%\n",
    "filter(\n",
    "    Phenotype %in% (canonical_names %>% pull(name))\n",
    ") %>%\n",
    "arrange(CATEGORY, Phenotype)\n"
   ]
  },
  {
   "cell_type": "code",
   "execution_count": 8,
   "metadata": {},
   "outputs": [],
   "source": [
    "df %>%\n",
    "rename('#Phenotype' = 'Phenotype') %>%\n",
    "fwrite(out_f, sep='\\t', na = \"NA\", quote=F)\n"
   ]
  },
  {
   "cell_type": "code",
   "execution_count": null,
   "metadata": {},
   "outputs": [],
   "source": []
  }
 ],
 "metadata": {
  "kernelspec": {
   "display_name": "R",
   "language": "R",
   "name": "ir"
  },
  "language_info": {
   "codemirror_mode": "r",
   "file_extension": ".r",
   "mimetype": "text/x-r-source",
   "name": "R",
   "pygments_lexer": "r",
   "version": "3.6.1"
  }
 },
 "nbformat": 4,
 "nbformat_minor": 4
}
