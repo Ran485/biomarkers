{
 "cells": [
  {
   "cell_type": "code",
   "execution_count": 1,
   "metadata": {},
   "outputs": [
    {
     "name": "stderr",
     "output_type": "stream",
     "text": [
      "Auto-refreshing stale OAuth token.\n",
      "\n"
     ]
    }
   ],
   "source": [
    "suppressWarnings(suppressPackageStartupMessages({\n",
    "    library(tidyverse)\n",
    "    library(data.table)\n",
    "    library(googlesheets)\n",
    "}))\n",
    "\n",
    "gs_token <- \"/home/users/ytanigaw/.googlesheets_token.rds\"\n",
    "gs_auth(token = gs_token)\n",
    "\n"
   ]
  },
  {
   "cell_type": "code",
   "execution_count": 2,
   "metadata": {},
   "outputs": [],
   "source": [
    "gwas_catalog_full_fs <- 'GWAS-catalog-dump/gwas-association-downloaded_2020-08-18-pubmedId_*.tsv'\n",
    "gwas_catalog_filtered <- 'GWAS-catalog-dump/gwas-association-downloaded_2020-08-18.filtered.traits.tsv'\n"
   ]
  },
  {
   "cell_type": "code",
   "execution_count": 3,
   "metadata": {},
   "outputs": [
    {
     "name": "stderr",
     "output_type": "stream",
     "text": [
      "Sheet-identifying info appears to be a browser URL.\n",
      "googlesheets will attempt to extract sheet key from the URL.\n",
      "\n",
      "Putative key: 1GsExuaVaf8-t0HTfcuxD-tS5pzemUJUI8WWrEBT6QuA\n",
      "\n",
      "Warning message:\n",
      "“`data_frame()` is deprecated as of tibble 1.1.0.\n",
      "Please use `tibble()` instead.\n",
      "\u001b[90mThis warning is displayed once every 8 hours.\u001b[39m\n",
      "\u001b[90mCall `lifecycle::last_warnings()` to see where this warning was generated.\u001b[39m”\n",
      "Sheet successfully identified: \"GWAS-catalog-traits\"\n",
      "\n",
      "Warning message:\n",
      "“`as_data_frame()` is deprecated as of tibble 2.0.0.\n",
      "Please use `as_tibble()` instead.\n",
      "The signature and semantics have changed, see `?as_tibble`.\n",
      "\u001b[90mThis warning is displayed once every 8 hours.\u001b[39m\n",
      "\u001b[90mCall `lifecycle::last_warnings()` to see where this warning was generated.\u001b[39m”\n",
      "Accessing worksheet titled 'GWAS-catalog-traits'.\n",
      "\n",
      "Parsed with column specification:\n",
      "cols(\n",
      "  `#MAPPED_TRAIT` = \u001b[31mcol_character()\u001b[39m,\n",
      "  n = \u001b[32mcol_double()\u001b[39m,\n",
      "  `is_relevant?` = \u001b[31mcol_character()\u001b[39m,\n",
      "  Abbreviation = \u001b[31mcol_character()\u001b[39m\n",
      ")\n",
      "\n"
     ]
    }
   ],
   "source": [
    "'https://docs.google.com/spreadsheets/d/1GsExuaVaf8-t0HTfcuxD-tS5pzemUJUI8WWrEBT6QuA' %>%\n",
    "gs_url() %>% \n",
    "gs_read(\n",
    "    ws = 'GWAS-catalog-traits'\n",
    ") %>%\n",
    "rename('MAPPED_TRAIT'='#MAPPED_TRAIT') -> gwas_catalog_traits\n"
   ]
  },
  {
   "cell_type": "code",
   "execution_count": 4,
   "metadata": {},
   "outputs": [],
   "source": [
    "Sys.glob(gwas_catalog_full_fs) %>%\n",
    "lapply(function(in_f){\n",
    "    in_f %>%\n",
    "    fread(colClasses = 'character')\n",
    "}) %>% \n",
    "bind_rows() -> gwas_catalog_full\n"
   ]
  },
  {
   "cell_type": "code",
   "execution_count": 5,
   "metadata": {},
   "outputs": [],
   "source": [
    "gwas_catalog_full %>%\n",
    "filter(\n",
    "    MAPPED_TRAIT %in% (\n",
    "        gwas_catalog_traits %>% \n",
    "        filter(`is_relevant?` =='Y') %>%\n",
    "        pull(MAPPED_TRAIT)        \n",
    "    ),\n",
    "    as.numeric(`P-VALUE`) <= 5e-8\n",
    ") -> gwas_catalog_filtered_df\n"
   ]
  },
  {
   "cell_type": "code",
   "execution_count": 6,
   "metadata": {},
   "outputs": [
    {
     "data": {
      "text/html": [
       "<style>\n",
       ".list-inline {list-style: none; margin:0; padding: 0}\n",
       ".list-inline>li {display: inline-block}\n",
       ".list-inline>li:not(:last-child)::after {content: \"\\00b7\"; padding: 0 .5ex}\n",
       "</style>\n",
       "<ol class=list-inline><li>'DATE ADDED TO CATALOG'</li><li>'PUBMEDID'</li><li>'FIRST AUTHOR'</li><li>'DATE'</li><li>'JOURNAL'</li><li>'LINK'</li><li>'STUDY'</li><li>'DISEASE/TRAIT'</li><li>'INITIAL SAMPLE SIZE'</li><li>'REPLICATION SAMPLE SIZE'</li><li>'REGION'</li><li>'CHR_ID'</li><li>'CHR_POS'</li><li>'REPORTED GENE(S)'</li><li>'MAPPED_GENE'</li><li>'UPSTREAM_GENE_ID'</li><li>'DOWNSTREAM_GENE_ID'</li><li>'SNP_GENE_IDS'</li><li>'UPSTREAM_GENE_DISTANCE'</li><li>'DOWNSTREAM_GENE_DISTANCE'</li><li>'STRONGEST SNP-RISK ALLELE'</li><li>'SNPS'</li><li>'MERGED'</li><li>'SNP_ID_CURRENT'</li><li>'CONTEXT'</li><li>'INTERGENIC'</li><li>'RISK ALLELE FREQUENCY'</li><li>'P-VALUE'</li><li>'PVALUE_MLOG'</li><li>'P-VALUE (TEXT)'</li><li>'OR or BETA'</li><li>'95% CI (TEXT)'</li><li>'PLATFORM [SNPS PASSING QC]'</li><li>'CNV'</li><li>'MAPPED_TRAIT'</li><li>'MAPPED_TRAIT_URI'</li><li>'STUDY ACCESSION'</li><li>'GENOTYPING TECHNOLOGY'</li></ol>\n"
      ],
      "text/latex": [
       "\\begin{enumerate*}\n",
       "\\item 'DATE ADDED TO CATALOG'\n",
       "\\item 'PUBMEDID'\n",
       "\\item 'FIRST AUTHOR'\n",
       "\\item 'DATE'\n",
       "\\item 'JOURNAL'\n",
       "\\item 'LINK'\n",
       "\\item 'STUDY'\n",
       "\\item 'DISEASE/TRAIT'\n",
       "\\item 'INITIAL SAMPLE SIZE'\n",
       "\\item 'REPLICATION SAMPLE SIZE'\n",
       "\\item 'REGION'\n",
       "\\item 'CHR\\_ID'\n",
       "\\item 'CHR\\_POS'\n",
       "\\item 'REPORTED GENE(S)'\n",
       "\\item 'MAPPED\\_GENE'\n",
       "\\item 'UPSTREAM\\_GENE\\_ID'\n",
       "\\item 'DOWNSTREAM\\_GENE\\_ID'\n",
       "\\item 'SNP\\_GENE\\_IDS'\n",
       "\\item 'UPSTREAM\\_GENE\\_DISTANCE'\n",
       "\\item 'DOWNSTREAM\\_GENE\\_DISTANCE'\n",
       "\\item 'STRONGEST SNP-RISK ALLELE'\n",
       "\\item 'SNPS'\n",
       "\\item 'MERGED'\n",
       "\\item 'SNP\\_ID\\_CURRENT'\n",
       "\\item 'CONTEXT'\n",
       "\\item 'INTERGENIC'\n",
       "\\item 'RISK ALLELE FREQUENCY'\n",
       "\\item 'P-VALUE'\n",
       "\\item 'PVALUE\\_MLOG'\n",
       "\\item 'P-VALUE (TEXT)'\n",
       "\\item 'OR or BETA'\n",
       "\\item '95\\% CI (TEXT)'\n",
       "\\item 'PLATFORM {[}SNPS PASSING QC{]}'\n",
       "\\item 'CNV'\n",
       "\\item 'MAPPED\\_TRAIT'\n",
       "\\item 'MAPPED\\_TRAIT\\_URI'\n",
       "\\item 'STUDY ACCESSION'\n",
       "\\item 'GENOTYPING TECHNOLOGY'\n",
       "\\end{enumerate*}\n"
      ],
      "text/markdown": [
       "1. 'DATE ADDED TO CATALOG'\n",
       "2. 'PUBMEDID'\n",
       "3. 'FIRST AUTHOR'\n",
       "4. 'DATE'\n",
       "5. 'JOURNAL'\n",
       "6. 'LINK'\n",
       "7. 'STUDY'\n",
       "8. 'DISEASE/TRAIT'\n",
       "9. 'INITIAL SAMPLE SIZE'\n",
       "10. 'REPLICATION SAMPLE SIZE'\n",
       "11. 'REGION'\n",
       "12. 'CHR_ID'\n",
       "13. 'CHR_POS'\n",
       "14. 'REPORTED GENE(S)'\n",
       "15. 'MAPPED_GENE'\n",
       "16. 'UPSTREAM_GENE_ID'\n",
       "17. 'DOWNSTREAM_GENE_ID'\n",
       "18. 'SNP_GENE_IDS'\n",
       "19. 'UPSTREAM_GENE_DISTANCE'\n",
       "20. 'DOWNSTREAM_GENE_DISTANCE'\n",
       "21. 'STRONGEST SNP-RISK ALLELE'\n",
       "22. 'SNPS'\n",
       "23. 'MERGED'\n",
       "24. 'SNP_ID_CURRENT'\n",
       "25. 'CONTEXT'\n",
       "26. 'INTERGENIC'\n",
       "27. 'RISK ALLELE FREQUENCY'\n",
       "28. 'P-VALUE'\n",
       "29. 'PVALUE_MLOG'\n",
       "30. 'P-VALUE (TEXT)'\n",
       "31. 'OR or BETA'\n",
       "32. '95% CI (TEXT)'\n",
       "33. 'PLATFORM [SNPS PASSING QC]'\n",
       "34. 'CNV'\n",
       "35. 'MAPPED_TRAIT'\n",
       "36. 'MAPPED_TRAIT_URI'\n",
       "37. 'STUDY ACCESSION'\n",
       "38. 'GENOTYPING TECHNOLOGY'\n",
       "\n",
       "\n"
      ],
      "text/plain": [
       " [1] \"DATE ADDED TO CATALOG\"      \"PUBMEDID\"                  \n",
       " [3] \"FIRST AUTHOR\"               \"DATE\"                      \n",
       " [5] \"JOURNAL\"                    \"LINK\"                      \n",
       " [7] \"STUDY\"                      \"DISEASE/TRAIT\"             \n",
       " [9] \"INITIAL SAMPLE SIZE\"        \"REPLICATION SAMPLE SIZE\"   \n",
       "[11] \"REGION\"                     \"CHR_ID\"                    \n",
       "[13] \"CHR_POS\"                    \"REPORTED GENE(S)\"          \n",
       "[15] \"MAPPED_GENE\"                \"UPSTREAM_GENE_ID\"          \n",
       "[17] \"DOWNSTREAM_GENE_ID\"         \"SNP_GENE_IDS\"              \n",
       "[19] \"UPSTREAM_GENE_DISTANCE\"     \"DOWNSTREAM_GENE_DISTANCE\"  \n",
       "[21] \"STRONGEST SNP-RISK ALLELE\"  \"SNPS\"                      \n",
       "[23] \"MERGED\"                     \"SNP_ID_CURRENT\"            \n",
       "[25] \"CONTEXT\"                    \"INTERGENIC\"                \n",
       "[27] \"RISK ALLELE FREQUENCY\"      \"P-VALUE\"                   \n",
       "[29] \"PVALUE_MLOG\"                \"P-VALUE (TEXT)\"            \n",
       "[31] \"OR or BETA\"                 \"95% CI (TEXT)\"             \n",
       "[33] \"PLATFORM [SNPS PASSING QC]\" \"CNV\"                       \n",
       "[35] \"MAPPED_TRAIT\"               \"MAPPED_TRAIT_URI\"          \n",
       "[37] \"STUDY ACCESSION\"            \"GENOTYPING TECHNOLOGY\"     "
      ]
     },
     "metadata": {},
     "output_type": "display_data"
    }
   ],
   "source": [
    "gwas_catalog_filtered_df %>% colnames()"
   ]
  },
  {
   "cell_type": "code",
   "execution_count": 7,
   "metadata": {},
   "outputs": [
    {
     "data": {
      "text/html": [
       "<style>\n",
       ".list-inline {list-style: none; margin:0; padding: 0}\n",
       ".list-inline>li {display: inline-block}\n",
       ".list-inline>li:not(:last-child)::after {content: \"\\00b7\"; padding: 0 .5ex}\n",
       "</style>\n",
       "<ol class=list-inline><li>1258</li><li>38</li></ol>\n"
      ],
      "text/latex": [
       "\\begin{enumerate*}\n",
       "\\item 1258\n",
       "\\item 38\n",
       "\\end{enumerate*}\n"
      ],
      "text/markdown": [
       "1. 1258\n",
       "2. 38\n",
       "\n",
       "\n"
      ],
      "text/plain": [
       "[1] 1258   38"
      ]
     },
     "metadata": {},
     "output_type": "display_data"
    }
   ],
   "source": [
    "gwas_catalog_filtered_df %>% dim()"
   ]
  },
  {
   "cell_type": "code",
   "execution_count": 8,
   "metadata": {},
   "outputs": [],
   "source": [
    "gwas_catalog_filtered_df %>%\n",
    "rename('#DATE ADDED TO CATALOG' = 'DATE ADDED TO CATALOG') %>%\n",
    "fwrite(gwas_catalog_filtered, sep='\\t', na = \"NA\", quote=F)\n"
   ]
  },
  {
   "cell_type": "code",
   "execution_count": null,
   "metadata": {},
   "outputs": [],
   "source": []
  }
 ],
 "metadata": {
  "kernelspec": {
   "display_name": "R",
   "language": "R",
   "name": "ir"
  },
  "language_info": {
   "codemirror_mode": "r",
   "file_extension": ".r",
   "mimetype": "text/x-r-source",
   "name": "R",
   "pygments_lexer": "r",
   "version": "3.6.2"
  }
 },
 "nbformat": 4,
 "nbformat_minor": 4
}
