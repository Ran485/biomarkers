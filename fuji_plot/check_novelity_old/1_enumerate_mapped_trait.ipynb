{
 "cells": [
  {
   "cell_type": "code",
   "execution_count": 1,
   "metadata": {},
   "outputs": [],
   "source": [
    "suppressWarnings(suppressPackageStartupMessages({\n",
    "    library(tidyverse)\n",
    "    library(data.table)\n",
    "}))\n"
   ]
  },
  {
   "cell_type": "code",
   "execution_count": 2,
   "metadata": {},
   "outputs": [],
   "source": [
    "gwas_catalog_full_fs <- 'GWAS-catalog-dump/gwas-association-downloaded_2020-08-18-pubmedId_*.tsv'\n",
    "gwas_catalog_traits  <- 'GWAS-catalog-traits.tsv'\n"
   ]
  },
  {
   "cell_type": "code",
   "execution_count": 3,
   "metadata": {},
   "outputs": [
    {
     "data": {
      "text/html": [
       "<style>\n",
       ".list-inline {list-style: none; margin:0; padding: 0}\n",
       ".list-inline>li {display: inline-block}\n",
       ".list-inline>li:not(:last-child)::after {content: \"\\00b7\"; padding: 0 .5ex}\n",
       "</style>\n",
       "<ol class=list-inline><li>'GWAS-catalog-dump/gwas-association-downloaded_2020-08-18-pubmedId_22286219.tsv'</li><li>'GWAS-catalog-dump/gwas-association-downloaded_2020-08-18-pubmedId_22581228.tsv'</li><li>'GWAS-catalog-dump/gwas-association-downloaded_2020-08-18-pubmedId_23263486.tsv'</li><li>'GWAS-catalog-dump/gwas-association-downloaded_2020-08-18-pubmedId_24097068.tsv'</li><li>'GWAS-catalog-dump/gwas-association-downloaded_2020-08-18-pubmedId_28898252.tsv'</li><li>'GWAS-catalog-dump/gwas-association-downloaded_2020-08-18-pubmedId_29343764.tsv'</li><li>'GWAS-catalog-dump/gwas-association-downloaded_2020-08-18-pubmedId_29403010.tsv'</li></ol>\n"
      ],
      "text/latex": [
       "\\begin{enumerate*}\n",
       "\\item 'GWAS-catalog-dump/gwas-association-downloaded\\_2020-08-18-pubmedId\\_22286219.tsv'\n",
       "\\item 'GWAS-catalog-dump/gwas-association-downloaded\\_2020-08-18-pubmedId\\_22581228.tsv'\n",
       "\\item 'GWAS-catalog-dump/gwas-association-downloaded\\_2020-08-18-pubmedId\\_23263486.tsv'\n",
       "\\item 'GWAS-catalog-dump/gwas-association-downloaded\\_2020-08-18-pubmedId\\_24097068.tsv'\n",
       "\\item 'GWAS-catalog-dump/gwas-association-downloaded\\_2020-08-18-pubmedId\\_28898252.tsv'\n",
       "\\item 'GWAS-catalog-dump/gwas-association-downloaded\\_2020-08-18-pubmedId\\_29343764.tsv'\n",
       "\\item 'GWAS-catalog-dump/gwas-association-downloaded\\_2020-08-18-pubmedId\\_29403010.tsv'\n",
       "\\end{enumerate*}\n"
      ],
      "text/markdown": [
       "1. 'GWAS-catalog-dump/gwas-association-downloaded_2020-08-18-pubmedId_22286219.tsv'\n",
       "2. 'GWAS-catalog-dump/gwas-association-downloaded_2020-08-18-pubmedId_22581228.tsv'\n",
       "3. 'GWAS-catalog-dump/gwas-association-downloaded_2020-08-18-pubmedId_23263486.tsv'\n",
       "4. 'GWAS-catalog-dump/gwas-association-downloaded_2020-08-18-pubmedId_24097068.tsv'\n",
       "5. 'GWAS-catalog-dump/gwas-association-downloaded_2020-08-18-pubmedId_28898252.tsv'\n",
       "6. 'GWAS-catalog-dump/gwas-association-downloaded_2020-08-18-pubmedId_29343764.tsv'\n",
       "7. 'GWAS-catalog-dump/gwas-association-downloaded_2020-08-18-pubmedId_29403010.tsv'\n",
       "\n",
       "\n"
      ],
      "text/plain": [
       "[1] \"GWAS-catalog-dump/gwas-association-downloaded_2020-08-18-pubmedId_22286219.tsv\"\n",
       "[2] \"GWAS-catalog-dump/gwas-association-downloaded_2020-08-18-pubmedId_22581228.tsv\"\n",
       "[3] \"GWAS-catalog-dump/gwas-association-downloaded_2020-08-18-pubmedId_23263486.tsv\"\n",
       "[4] \"GWAS-catalog-dump/gwas-association-downloaded_2020-08-18-pubmedId_24097068.tsv\"\n",
       "[5] \"GWAS-catalog-dump/gwas-association-downloaded_2020-08-18-pubmedId_28898252.tsv\"\n",
       "[6] \"GWAS-catalog-dump/gwas-association-downloaded_2020-08-18-pubmedId_29343764.tsv\"\n",
       "[7] \"GWAS-catalog-dump/gwas-association-downloaded_2020-08-18-pubmedId_29403010.tsv\""
      ]
     },
     "metadata": {},
     "output_type": "display_data"
    }
   ],
   "source": [
    "Sys.glob(gwas_catalog_full_fs)"
   ]
  },
  {
   "cell_type": "code",
   "execution_count": 9,
   "metadata": {},
   "outputs": [
    {
     "data": {
      "text/html": [
       "<style>\n",
       ".list-inline {list-style: none; margin:0; padding: 0}\n",
       ".list-inline>li {display: inline-block}\n",
       ".list-inline>li:not(:last-child)::after {content: \"\\00b7\"; padding: 0 .5ex}\n",
       "</style>\n",
       "<ol class=list-inline><li>'DATE ADDED TO CATALOG'</li><li>'PUBMEDID'</li><li>'FIRST AUTHOR'</li><li>'DATE'</li><li>'JOURNAL'</li><li>'LINK'</li><li>'STUDY'</li><li>'DISEASE/TRAIT'</li><li>'INITIAL SAMPLE SIZE'</li><li>'REPLICATION SAMPLE SIZE'</li><li>'REGION'</li><li>'CHR_ID'</li><li>'CHR_POS'</li><li>'REPORTED GENE(S)'</li><li>'MAPPED_GENE'</li><li>'UPSTREAM_GENE_ID'</li><li>'DOWNSTREAM_GENE_ID'</li><li>'SNP_GENE_IDS'</li><li>'UPSTREAM_GENE_DISTANCE'</li><li>'DOWNSTREAM_GENE_DISTANCE'</li><li>'STRONGEST SNP-RISK ALLELE'</li><li>'SNPS'</li><li>'MERGED'</li><li>'SNP_ID_CURRENT'</li><li>'CONTEXT'</li><li>'INTERGENIC'</li><li>'RISK ALLELE FREQUENCY'</li><li>'P-VALUE'</li><li>'PVALUE_MLOG'</li><li>'P-VALUE (TEXT)'</li><li>'OR or BETA'</li><li>'95% CI (TEXT)'</li><li>'PLATFORM [SNPS PASSING QC]'</li><li>'CNV'</li><li>'MAPPED_TRAIT'</li><li>'MAPPED_TRAIT_URI'</li><li>'STUDY ACCESSION'</li><li>'GENOTYPING TECHNOLOGY'</li></ol>\n"
      ],
      "text/latex": [
       "\\begin{enumerate*}\n",
       "\\item 'DATE ADDED TO CATALOG'\n",
       "\\item 'PUBMEDID'\n",
       "\\item 'FIRST AUTHOR'\n",
       "\\item 'DATE'\n",
       "\\item 'JOURNAL'\n",
       "\\item 'LINK'\n",
       "\\item 'STUDY'\n",
       "\\item 'DISEASE/TRAIT'\n",
       "\\item 'INITIAL SAMPLE SIZE'\n",
       "\\item 'REPLICATION SAMPLE SIZE'\n",
       "\\item 'REGION'\n",
       "\\item 'CHR\\_ID'\n",
       "\\item 'CHR\\_POS'\n",
       "\\item 'REPORTED GENE(S)'\n",
       "\\item 'MAPPED\\_GENE'\n",
       "\\item 'UPSTREAM\\_GENE\\_ID'\n",
       "\\item 'DOWNSTREAM\\_GENE\\_ID'\n",
       "\\item 'SNP\\_GENE\\_IDS'\n",
       "\\item 'UPSTREAM\\_GENE\\_DISTANCE'\n",
       "\\item 'DOWNSTREAM\\_GENE\\_DISTANCE'\n",
       "\\item 'STRONGEST SNP-RISK ALLELE'\n",
       "\\item 'SNPS'\n",
       "\\item 'MERGED'\n",
       "\\item 'SNP\\_ID\\_CURRENT'\n",
       "\\item 'CONTEXT'\n",
       "\\item 'INTERGENIC'\n",
       "\\item 'RISK ALLELE FREQUENCY'\n",
       "\\item 'P-VALUE'\n",
       "\\item 'PVALUE\\_MLOG'\n",
       "\\item 'P-VALUE (TEXT)'\n",
       "\\item 'OR or BETA'\n",
       "\\item '95\\% CI (TEXT)'\n",
       "\\item 'PLATFORM {[}SNPS PASSING QC{]}'\n",
       "\\item 'CNV'\n",
       "\\item 'MAPPED\\_TRAIT'\n",
       "\\item 'MAPPED\\_TRAIT\\_URI'\n",
       "\\item 'STUDY ACCESSION'\n",
       "\\item 'GENOTYPING TECHNOLOGY'\n",
       "\\end{enumerate*}\n"
      ],
      "text/markdown": [
       "1. 'DATE ADDED TO CATALOG'\n",
       "2. 'PUBMEDID'\n",
       "3. 'FIRST AUTHOR'\n",
       "4. 'DATE'\n",
       "5. 'JOURNAL'\n",
       "6. 'LINK'\n",
       "7. 'STUDY'\n",
       "8. 'DISEASE/TRAIT'\n",
       "9. 'INITIAL SAMPLE SIZE'\n",
       "10. 'REPLICATION SAMPLE SIZE'\n",
       "11. 'REGION'\n",
       "12. 'CHR_ID'\n",
       "13. 'CHR_POS'\n",
       "14. 'REPORTED GENE(S)'\n",
       "15. 'MAPPED_GENE'\n",
       "16. 'UPSTREAM_GENE_ID'\n",
       "17. 'DOWNSTREAM_GENE_ID'\n",
       "18. 'SNP_GENE_IDS'\n",
       "19. 'UPSTREAM_GENE_DISTANCE'\n",
       "20. 'DOWNSTREAM_GENE_DISTANCE'\n",
       "21. 'STRONGEST SNP-RISK ALLELE'\n",
       "22. 'SNPS'\n",
       "23. 'MERGED'\n",
       "24. 'SNP_ID_CURRENT'\n",
       "25. 'CONTEXT'\n",
       "26. 'INTERGENIC'\n",
       "27. 'RISK ALLELE FREQUENCY'\n",
       "28. 'P-VALUE'\n",
       "29. 'PVALUE_MLOG'\n",
       "30. 'P-VALUE (TEXT)'\n",
       "31. 'OR or BETA'\n",
       "32. '95% CI (TEXT)'\n",
       "33. 'PLATFORM [SNPS PASSING QC]'\n",
       "34. 'CNV'\n",
       "35. 'MAPPED_TRAIT'\n",
       "36. 'MAPPED_TRAIT_URI'\n",
       "37. 'STUDY ACCESSION'\n",
       "38. 'GENOTYPING TECHNOLOGY'\n",
       "\n",
       "\n"
      ],
      "text/plain": [
       " [1] \"DATE ADDED TO CATALOG\"      \"PUBMEDID\"                  \n",
       " [3] \"FIRST AUTHOR\"               \"DATE\"                      \n",
       " [5] \"JOURNAL\"                    \"LINK\"                      \n",
       " [7] \"STUDY\"                      \"DISEASE/TRAIT\"             \n",
       " [9] \"INITIAL SAMPLE SIZE\"        \"REPLICATION SAMPLE SIZE\"   \n",
       "[11] \"REGION\"                     \"CHR_ID\"                    \n",
       "[13] \"CHR_POS\"                    \"REPORTED GENE(S)\"          \n",
       "[15] \"MAPPED_GENE\"                \"UPSTREAM_GENE_ID\"          \n",
       "[17] \"DOWNSTREAM_GENE_ID\"         \"SNP_GENE_IDS\"              \n",
       "[19] \"UPSTREAM_GENE_DISTANCE\"     \"DOWNSTREAM_GENE_DISTANCE\"  \n",
       "[21] \"STRONGEST SNP-RISK ALLELE\"  \"SNPS\"                      \n",
       "[23] \"MERGED\"                     \"SNP_ID_CURRENT\"            \n",
       "[25] \"CONTEXT\"                    \"INTERGENIC\"                \n",
       "[27] \"RISK ALLELE FREQUENCY\"      \"P-VALUE\"                   \n",
       "[29] \"PVALUE_MLOG\"                \"P-VALUE (TEXT)\"            \n",
       "[31] \"OR or BETA\"                 \"95% CI (TEXT)\"             \n",
       "[33] \"PLATFORM [SNPS PASSING QC]\" \"CNV\"                       \n",
       "[35] \"MAPPED_TRAIT\"               \"MAPPED_TRAIT_URI\"          \n",
       "[37] \"STUDY ACCESSION\"            \"GENOTYPING TECHNOLOGY\"     "
      ]
     },
     "metadata": {},
     "output_type": "display_data"
    }
   ],
   "source": [
    "Sys.glob(gwas_catalog_full_fs) %>%\n",
    "lapply(function(in_f){\n",
    "    in_f %>% fread(colClasses = 'character')\n",
    "}) %>% bind_rows() %>% colnames()\n"
   ]
  },
  {
   "cell_type": "code",
   "execution_count": 4,
   "metadata": {},
   "outputs": [],
   "source": [
    "gwas_catalog_full <- Sys.glob(gwas_catalog_full_fs) %>%\n",
    "lapply(function(in_f){\n",
    "    in_f %>%\n",
    "    fread(colClasses = 'character') %>%\n",
    "    select(all_of(c(\n",
    "        'CHR_ID', 'CHR_POS', 'SNPS', \n",
    "        'P-VALUE', 'OR or BETA', \n",
    "        'PUBMEDID', 'DISEASE/TRAIT', \n",
    "        'MAPPED_TRAIT', 'MAPPED_TRAIT_URI'\n",
    "    )))\n",
    "}) %>% bind_rows()\n"
   ]
  },
  {
   "cell_type": "code",
   "execution_count": 5,
   "metadata": {},
   "outputs": [
    {
     "name": "stdout",
     "output_type": "stream",
     "text": [
      "[1] 2177    9\n"
     ]
    }
   ],
   "source": [
    "gwas_catalog_full %>% dim() %>% print()"
   ]
  },
  {
   "cell_type": "code",
   "execution_count": 10,
   "metadata": {},
   "outputs": [],
   "source": [
    "gwas_catalog_full %>%\n",
    "count(MAPPED_TRAIT) %>%\n",
    "arrange(-n) %>%\n",
    "rename('#MAPPED_TRAIT' = 'MAPPED_TRAIT') %>%\n",
    "fwrite(gwas_catalog_traits, sep='\\t', na = \"NA\", quote=F)\n"
   ]
  },
  {
   "cell_type": "code",
   "execution_count": null,
   "metadata": {},
   "outputs": [],
   "source": []
  }
 ],
 "metadata": {
  "kernelspec": {
   "display_name": "R",
   "language": "R",
   "name": "ir"
  },
  "language_info": {
   "codemirror_mode": "r",
   "file_extension": ".r",
   "mimetype": "text/x-r-source",
   "name": "R",
   "pygments_lexer": "r",
   "version": "3.6.2"
  }
 },
 "nbformat": 4,
 "nbformat_minor": 4
}
