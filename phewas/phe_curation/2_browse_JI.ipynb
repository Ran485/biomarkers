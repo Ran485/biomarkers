{
 "cells": [
  {
   "cell_type": "code",
   "execution_count": 1,
   "metadata": {},
   "outputs": [],
   "source": [
    "suppressWarnings(suppressPackageStartupMessages({\n",
    "    library(tidyverse)\n",
    "    library(data.table)\n",
    "}))\n"
   ]
  },
  {
   "cell_type": "code",
   "execution_count": 2,
   "metadata": {},
   "outputs": [],
   "source": [
    "library(ggdendro)\n"
   ]
  },
  {
   "cell_type": "code",
   "execution_count": 3,
   "metadata": {},
   "outputs": [
    {
     "name": "stderr",
     "output_type": "stream",
     "text": [
      "corrplot 0.85 loaded\n",
      "\n"
     ]
    }
   ],
   "source": [
    "library(corrplot)\n",
    "library(ape)"
   ]
  },
  {
   "cell_type": "code",
   "execution_count": 22,
   "metadata": {},
   "outputs": [],
   "source": [
    "phes_f <- '../phenotypes.txt'"
   ]
  },
  {
   "cell_type": "code",
   "execution_count": 4,
   "metadata": {},
   "outputs": [],
   "source": [
    "JI_f <- 'JI.tsv'"
   ]
  },
  {
   "cell_type": "code",
   "execution_count": 5,
   "metadata": {},
   "outputs": [],
   "source": [
    "## functions\n",
    "\n",
    "df_to_mat <- function(df){\n",
    "    bind_rows(\n",
    "        df %>% select(ji, label1, label2) %>% rename('x'='label1', 'y'='label2'),\n",
    "        df %>% select(ji, label1, label2) %>% rename('y'='label1', 'x'='label2'),\n",
    "        df %>% select(label1, label2) %>% gather(tmp, val) %>% select(val) %>%\n",
    "        unique() %>% rename('x'='val') %>% mutate(y = x, ji = 1)\n",
    "    ) %>%\n",
    "    dcast(x ~ y, value.var = \"ji\", fill=0) %>%\n",
    "    column_to_rownames('x') %>%\n",
    "    as.matrix()\n",
    "}\n"
   ]
  },
  {
   "cell_type": "code",
   "execution_count": 6,
   "metadata": {},
   "outputs": [],
   "source": [
    "## constant\n",
    "\n",
    "col1 <- colorRampPalette(c(\"yellow\", \"white\",\"cyan\", \"#007FFF\", \"blue\",\"#00007F\"))\n"
   ]
  },
  {
   "cell_type": "code",
   "execution_count": 23,
   "metadata": {},
   "outputs": [],
   "source": [
    "phes_f %>% fread() -> phes"
   ]
  },
  {
   "cell_type": "code",
   "execution_count": 18,
   "metadata": {},
   "outputs": [],
   "source": [
    "## read the Jaccard index file\n",
    "\n",
    "df_all <- fread(JI_f) %>%\n",
    "rename('pheno1'='#pheno1')"
   ]
  },
  {
   "cell_type": "code",
   "execution_count": 19,
   "metadata": {},
   "outputs": [
    {
     "data": {
      "text/html": [
       "<strong>png:</strong> 2"
      ],
      "text/latex": [
       "\\textbf{png:} 2"
      ],
      "text/markdown": [
       "**png:** 2"
      ],
      "text/plain": [
       "png \n",
       "  2 "
      ]
     },
     "metadata": {},
     "output_type": "display_data"
    }
   ],
   "source": [
    "png(file = \"JI.png\", width=2400,height=2400, units=\"px\", family = \"Helvetica\")\n",
    "corrplot(\n",
    "    df_all  %>%\n",
    "    rename(\n",
    "        'ji'='JI',\n",
    "        'label1'='pheno1',\n",
    "        'label2'='pheno2'\n",
    "    ) %>%\n",
    "    df_to_mat(), \n",
    "    method = \"pie\", is.corr = FALSE, cl.lim = c(0,1),\n",
    "    order='hclust', addrect = 10, col = col1(20),\n",
    "    title='Pairwise Jaccard index cases',\n",
    "    mar = c(0,0,1,0)\n",
    ")\n",
    "dev.off()"
   ]
  },
  {
   "cell_type": "code",
   "execution_count": 37,
   "metadata": {},
   "outputs": [
    {
     "name": "stderr",
     "output_type": "stream",
     "text": [
      "`stat_bin()` using `bins = 30`. Pick better value with `binwidth`.\n",
      "\n"
     ]
    },
    {
     "data": {
      "image/png": "[encoded data removed]",
      "text/plain": [
       "plot without title"
      ]
     },
     "metadata": {
      "image/png": {
       "height": 420,
       "width": 420
      },
      "text/plain": {
       "height": 420,
       "width": 420
      }
     },
     "output_type": "display_data"
    }
   ],
   "source": [
    "df_all %>%\n",
    "ggplot(aes(x = JI)) +\n",
    "geom_histogram() +\n",
    "theme_bw() +\n",
    "geom_vline(xintercept = .15, color='red')"
   ]
  },
  {
   "cell_type": "code",
   "execution_count": 38,
   "metadata": {},
   "outputs": [
    {
     "data": {
      "text/html": [
       "<table>\n",
       "<caption>A data.table: 29 × 7</caption>\n",
       "<thead>\n",
       "\t<tr><th scope=col>pheno1</th><th scope=col>pheno2</th><th scope=col>JI</th><th scope=col>N1</th><th scope=col>phenoName1</th><th scope=col>N2</th><th scope=col>phenoName2</th></tr>\n",
       "\t<tr><th scope=col>&lt;chr&gt;</th><th scope=col>&lt;chr&gt;</th><th scope=col>&lt;dbl&gt;</th><th scope=col>&lt;int&gt;</th><th scope=col>&lt;chr&gt;</th><th scope=col>&lt;int&gt;</th><th scope=col>&lt;chr&gt;</th></tr>\n",
       "</thead>\n",
       "<tbody>\n",
       "\t<tr><td>cancer1060    </td><td>cancer1003    </td><td>0.8757769</td><td>16789</td><td>Non-melanoma skin cancer                     </td><td> 19168</td><td>Skin cancer                                    </td></tr>\n",
       "\t<tr><td>cancer1001    </td><td>cancer1084    </td><td>0.8286460</td><td> 1981</td><td>Lung cancer                                  </td><td>  2392</td><td>Respiratory/intrathoracic cancer               </td></tr>\n",
       "\t<tr><td>BIN_FC11006152</td><td>BIN_FC1006152 </td><td>0.7895923</td><td> 9053</td><td>Blood clot or DVT diagnosed by doctor        </td><td>  7166</td><td>DVT diagnosed by doctor                        </td></tr>\n",
       "\t<tr><td>HC414         </td><td>HC308         </td><td>0.7868852</td><td> 1309</td><td>Cardiomyopathy                               </td><td>  1096</td><td>Hypertrophic cardiomyopathy (HCM / HOCM)       </td></tr>\n",
       "\t<tr><td>cancer1047    </td><td>cancer1053    </td><td>0.7743161</td><td> 1852</td><td>Lymphoma                                     </td><td>  1429</td><td>Non-Hodgkins lymphoma                          </td></tr>\n",
       "\t<tr><td>cancer1022    </td><td>cancer1020    </td><td>0.7436063</td><td> 3251</td><td>Colon cancer/sigmoid cancer                  </td><td>  4382</td><td>Large bowel cancer/colorectal cancer           </td></tr>\n",
       "\t<tr><td>HC225         </td><td>HC188         </td><td>0.7273280</td><td>12961</td><td>Cholecystitis                                </td><td> 14938</td><td>Cholelithiasis/gall stones                     </td></tr>\n",
       "\t<tr><td>HC95          </td><td>HC201         </td><td>0.6139281</td><td> 3783</td><td>Inflammatory bowel disease                   </td><td>  3147</td><td>Ulcerative colitis                             </td></tr>\n",
       "\t<tr><td>cancer1041    </td><td>cancer1037    </td><td>0.5671979</td><td> 2814</td><td>Cervical cancer                              </td><td>  4945</td><td>Female genital tract cancer                    </td></tr>\n",
       "\t<tr><td>cancer1035    </td><td>HC8           </td><td>0.4699883</td><td> 1996</td><td>Bladder cancer                               </td><td>  1637</td><td>Gall bladder disease                           </td></tr>\n",
       "\t<tr><td>cancer1020    </td><td>cancer1023    </td><td>0.4321792</td><td> 4382</td><td>Large bowel cancer/colorectal cancer         </td><td>  2026</td><td>Rectal cancer                                  </td></tr>\n",
       "\t<tr><td>HC125         </td><td>HC179         </td><td>0.3783547</td><td>15942</td><td>Anaemia                                      </td><td>  7810</td><td>Iron deficiency anaemia                        </td></tr>\n",
       "\t<tr><td>cancer1038    </td><td>cancer1044    </td><td>0.3773259</td><td> 3448</td><td>Male genital tract cancer                    </td><td>  6459</td><td>Prostate cancer                                </td></tr>\n",
       "\t<tr><td>HC322         </td><td>HC95          </td><td>0.3559820</td><td> 1652</td><td>Crohns disease                               </td><td>  3783</td><td>Inflammatory bowel disease                     </td></tr>\n",
       "\t<tr><td>HC136         </td><td>HC96          </td><td>0.3036084</td><td> 2514</td><td>Connective tissue disorder                   </td><td>  1421</td><td>Polymyalgia rheumatica                         </td></tr>\n",
       "\t<tr><td>HC132         </td><td>HC326         </td><td>0.2754814</td><td>18471</td><td>Angina                                       </td><td> 12138</td><td>Heart attack/myocardial infarction             </td></tr>\n",
       "\t<tr><td>BIN_FC10002834</td><td>BIN_FC10003591</td><td>0.2639523</td><td>15016</td><td>Bilateral oophorectomy (both ovaries removed)</td><td> 13772</td><td>Ever had hysterectomy (womb removed)           </td></tr>\n",
       "\t<tr><td>cancer1037    </td><td>cancer1039    </td><td>0.2434071</td><td> 4945</td><td>Female genital tract cancer                  </td><td>  1207</td><td>Ovarian cancer                                 </td></tr>\n",
       "\t<tr><td>HC78          </td><td>HC430         </td><td>0.2238650</td><td>15330</td><td>Arthritis                                    </td><td>  5586</td><td>Rheumatoid arthritis                           </td></tr>\n",
       "\t<tr><td>cancer1022    </td><td>cancer1023    </td><td>0.2043098</td><td> 3251</td><td>Colon cancer/sigmoid cancer                  </td><td>  2026</td><td>Rectal cancer                                  </td></tr>\n",
       "\t<tr><td>BIN_FC3002247 </td><td>HC215         </td><td>0.1963078</td><td>88992</td><td>Hearing difficulty and Deafness              </td><td>107391</td><td>Hypertension                                   </td></tr>\n",
       "\t<tr><td>HC442         </td><td>HC106         </td><td>0.1916345</td><td> 7286</td><td>Chronic obstructive airways disease/COPD     </td><td>  5599</td><td>Emphysema/chronic bronchitis                   </td></tr>\n",
       "\t<tr><td>cancer1037    </td><td>cancer1040    </td><td>0.1865436</td><td> 4945</td><td>Female genital tract cancer                  </td><td>  1610</td><td>Uterine/endometrial cancer                     </td></tr>\n",
       "\t<tr><td>HC382         </td><td>BIN_FC5006152 </td><td>0.1854511</td><td>43619</td><td>Asthma                                       </td><td> 79397</td><td>Hayfever rhinitis or eczema diagnosed by doctor</td></tr>\n",
       "\t<tr><td>RH130         </td><td>BIN_FC1006148 </td><td>0.1845332</td><td> 2288</td><td>Diabetes Mellitus Type 1                     </td><td>  2311</td><td>Eye problems/disorders Diabetic eye disease    </td></tr>\n",
       "\t<tr><td>BIN_FC6006149 </td><td>HC215         </td><td>0.1799212</td><td>58111</td><td>Dentures                                     </td><td>107391</td><td>Hypertension                                   </td></tr>\n",
       "\t<tr><td>HC442         </td><td>HC362         </td><td>0.1784243</td><td> 7286</td><td>Chronic obstructive airways disease/COPD     </td><td>  8173</td><td>Respiratory infection                          </td></tr>\n",
       "\t<tr><td>RH110         </td><td>HC110         </td><td>0.1683321</td><td> 2644</td><td>Cerebral Infarction                          </td><td>  5783</td><td>Stroke                                         </td></tr>\n",
       "\t<tr><td>cancer1059    </td><td>cancer1003    </td><td>0.1582686</td><td> 4099</td><td>Malignant melanoma                           </td><td> 19168</td><td>Skin cancer                                    </td></tr>\n",
       "</tbody>\n",
       "</table>\n"
      ],
      "text/latex": [
       "A data.table: 29 × 7\n",
       "\\begin{tabular}{lllllll}\n",
       " pheno1 & pheno2 & JI & N1 & phenoName1 & N2 & phenoName2\\\\\n",
       " <chr> & <chr> & <dbl> & <int> & <chr> & <int> & <chr>\\\\\n",
       "\\hline\n",
       "\t cancer1060     & cancer1003     & 0.8757769 & 16789 & Non-melanoma skin cancer                      &  19168 & Skin cancer                                    \\\\\n",
       "\t cancer1001     & cancer1084     & 0.8286460 &  1981 & Lung cancer                                   &   2392 & Respiratory/intrathoracic cancer               \\\\\n",
       "\t BIN\\_FC11006152 & BIN\\_FC1006152  & 0.7895923 &  9053 & Blood clot or DVT diagnosed by doctor         &   7166 & DVT diagnosed by doctor                        \\\\\n",
       "\t HC414          & HC308          & 0.7868852 &  1309 & Cardiomyopathy                                &   1096 & Hypertrophic cardiomyopathy (HCM / HOCM)       \\\\\n",
       "\t cancer1047     & cancer1053     & 0.7743161 &  1852 & Lymphoma                                      &   1429 & Non-Hodgkins lymphoma                          \\\\\n",
       "\t cancer1022     & cancer1020     & 0.7436063 &  3251 & Colon cancer/sigmoid cancer                   &   4382 & Large bowel cancer/colorectal cancer           \\\\\n",
       "\t HC225          & HC188          & 0.7273280 & 12961 & Cholecystitis                                 &  14938 & Cholelithiasis/gall stones                     \\\\\n",
       "\t HC95           & HC201          & 0.6139281 &  3783 & Inflammatory bowel disease                    &   3147 & Ulcerative colitis                             \\\\\n",
       "\t cancer1041     & cancer1037     & 0.5671979 &  2814 & Cervical cancer                               &   4945 & Female genital tract cancer                    \\\\\n",
       "\t cancer1035     & HC8            & 0.4699883 &  1996 & Bladder cancer                                &   1637 & Gall bladder disease                           \\\\\n",
       "\t cancer1020     & cancer1023     & 0.4321792 &  4382 & Large bowel cancer/colorectal cancer          &   2026 & Rectal cancer                                  \\\\\n",
       "\t HC125          & HC179          & 0.3783547 & 15942 & Anaemia                                       &   7810 & Iron deficiency anaemia                        \\\\\n",
       "\t cancer1038     & cancer1044     & 0.3773259 &  3448 & Male genital tract cancer                     &   6459 & Prostate cancer                                \\\\\n",
       "\t HC322          & HC95           & 0.3559820 &  1652 & Crohns disease                                &   3783 & Inflammatory bowel disease                     \\\\\n",
       "\t HC136          & HC96           & 0.3036084 &  2514 & Connective tissue disorder                    &   1421 & Polymyalgia rheumatica                         \\\\\n",
       "\t HC132          & HC326          & 0.2754814 & 18471 & Angina                                        &  12138 & Heart attack/myocardial infarction             \\\\\n",
       "\t BIN\\_FC10002834 & BIN\\_FC10003591 & 0.2639523 & 15016 & Bilateral oophorectomy (both ovaries removed) &  13772 & Ever had hysterectomy (womb removed)           \\\\\n",
       "\t cancer1037     & cancer1039     & 0.2434071 &  4945 & Female genital tract cancer                   &   1207 & Ovarian cancer                                 \\\\\n",
       "\t HC78           & HC430          & 0.2238650 & 15330 & Arthritis                                     &   5586 & Rheumatoid arthritis                           \\\\\n",
       "\t cancer1022     & cancer1023     & 0.2043098 &  3251 & Colon cancer/sigmoid cancer                   &   2026 & Rectal cancer                                  \\\\\n",
       "\t BIN\\_FC3002247  & HC215          & 0.1963078 & 88992 & Hearing difficulty and Deafness               & 107391 & Hypertension                                   \\\\\n",
       "\t HC442          & HC106          & 0.1916345 &  7286 & Chronic obstructive airways disease/COPD      &   5599 & Emphysema/chronic bronchitis                   \\\\\n",
       "\t cancer1037     & cancer1040     & 0.1865436 &  4945 & Female genital tract cancer                   &   1610 & Uterine/endometrial cancer                     \\\\\n",
       "\t HC382          & BIN\\_FC5006152  & 0.1854511 & 43619 & Asthma                                        &  79397 & Hayfever rhinitis or eczema diagnosed by doctor\\\\\n",
       "\t RH130          & BIN\\_FC1006148  & 0.1845332 &  2288 & Diabetes Mellitus Type 1                      &   2311 & Eye problems/disorders Diabetic eye disease    \\\\\n",
       "\t BIN\\_FC6006149  & HC215          & 0.1799212 & 58111 & Dentures                                      & 107391 & Hypertension                                   \\\\\n",
       "\t HC442          & HC362          & 0.1784243 &  7286 & Chronic obstructive airways disease/COPD      &   8173 & Respiratory infection                          \\\\\n",
       "\t RH110          & HC110          & 0.1683321 &  2644 & Cerebral Infarction                           &   5783 & Stroke                                         \\\\\n",
       "\t cancer1059     & cancer1003     & 0.1582686 &  4099 & Malignant melanoma                            &  19168 & Skin cancer                                    \\\\\n",
       "\\end{tabular}\n"
      ],
      "text/markdown": [
       "\n",
       "A data.table: 29 × 7\n",
       "\n",
       "| pheno1 &lt;chr&gt; | pheno2 &lt;chr&gt; | JI &lt;dbl&gt; | N1 &lt;int&gt; | phenoName1 &lt;chr&gt; | N2 &lt;int&gt; | phenoName2 &lt;chr&gt; |\n",
       "|---|---|---|---|---|---|---|\n",
       "| cancer1060     | cancer1003     | 0.8757769 | 16789 | Non-melanoma skin cancer                      |  19168 | Skin cancer                                     |\n",
       "| cancer1001     | cancer1084     | 0.8286460 |  1981 | Lung cancer                                   |   2392 | Respiratory/intrathoracic cancer                |\n",
       "| BIN_FC11006152 | BIN_FC1006152  | 0.7895923 |  9053 | Blood clot or DVT diagnosed by doctor         |   7166 | DVT diagnosed by doctor                         |\n",
       "| HC414          | HC308          | 0.7868852 |  1309 | Cardiomyopathy                                |   1096 | Hypertrophic cardiomyopathy (HCM / HOCM)        |\n",
       "| cancer1047     | cancer1053     | 0.7743161 |  1852 | Lymphoma                                      |   1429 | Non-Hodgkins lymphoma                           |\n",
       "| cancer1022     | cancer1020     | 0.7436063 |  3251 | Colon cancer/sigmoid cancer                   |   4382 | Large bowel cancer/colorectal cancer            |\n",
       "| HC225          | HC188          | 0.7273280 | 12961 | Cholecystitis                                 |  14938 | Cholelithiasis/gall stones                      |\n",
       "| HC95           | HC201          | 0.6139281 |  3783 | Inflammatory bowel disease                    |   3147 | Ulcerative colitis                              |\n",
       "| cancer1041     | cancer1037     | 0.5671979 |  2814 | Cervical cancer                               |   4945 | Female genital tract cancer                     |\n",
       "| cancer1035     | HC8            | 0.4699883 |  1996 | Bladder cancer                                |   1637 | Gall bladder disease                            |\n",
       "| cancer1020     | cancer1023     | 0.4321792 |  4382 | Large bowel cancer/colorectal cancer          |   2026 | Rectal cancer                                   |\n",
       "| HC125          | HC179          | 0.3783547 | 15942 | Anaemia                                       |   7810 | Iron deficiency anaemia                         |\n",
       "| cancer1038     | cancer1044     | 0.3773259 |  3448 | Male genital tract cancer                     |   6459 | Prostate cancer                                 |\n",
       "| HC322          | HC95           | 0.3559820 |  1652 | Crohns disease                                |   3783 | Inflammatory bowel disease                      |\n",
       "| HC136          | HC96           | 0.3036084 |  2514 | Connective tissue disorder                    |   1421 | Polymyalgia rheumatica                          |\n",
       "| HC132          | HC326          | 0.2754814 | 18471 | Angina                                        |  12138 | Heart attack/myocardial infarction              |\n",
       "| BIN_FC10002834 | BIN_FC10003591 | 0.2639523 | 15016 | Bilateral oophorectomy (both ovaries removed) |  13772 | Ever had hysterectomy (womb removed)            |\n",
       "| cancer1037     | cancer1039     | 0.2434071 |  4945 | Female genital tract cancer                   |   1207 | Ovarian cancer                                  |\n",
       "| HC78           | HC430          | 0.2238650 | 15330 | Arthritis                                     |   5586 | Rheumatoid arthritis                            |\n",
       "| cancer1022     | cancer1023     | 0.2043098 |  3251 | Colon cancer/sigmoid cancer                   |   2026 | Rectal cancer                                   |\n",
       "| BIN_FC3002247  | HC215          | 0.1963078 | 88992 | Hearing difficulty and Deafness               | 107391 | Hypertension                                    |\n",
       "| HC442          | HC106          | 0.1916345 |  7286 | Chronic obstructive airways disease/COPD      |   5599 | Emphysema/chronic bronchitis                    |\n",
       "| cancer1037     | cancer1040     | 0.1865436 |  4945 | Female genital tract cancer                   |   1610 | Uterine/endometrial cancer                      |\n",
       "| HC382          | BIN_FC5006152  | 0.1854511 | 43619 | Asthma                                        |  79397 | Hayfever rhinitis or eczema diagnosed by doctor |\n",
       "| RH130          | BIN_FC1006148  | 0.1845332 |  2288 | Diabetes Mellitus Type 1                      |   2311 | Eye problems/disorders Diabetic eye disease     |\n",
       "| BIN_FC6006149  | HC215          | 0.1799212 | 58111 | Dentures                                      | 107391 | Hypertension                                    |\n",
       "| HC442          | HC362          | 0.1784243 |  7286 | Chronic obstructive airways disease/COPD      |   8173 | Respiratory infection                           |\n",
       "| RH110          | HC110          | 0.1683321 |  2644 | Cerebral Infarction                           |   5783 | Stroke                                          |\n",
       "| cancer1059     | cancer1003     | 0.1582686 |  4099 | Malignant melanoma                            |  19168 | Skin cancer                                     |\n",
       "\n"
      ],
      "text/plain": [
       "   pheno1         pheno2         JI        N1   \n",
       "1  cancer1060     cancer1003     0.8757769 16789\n",
       "2  cancer1001     cancer1084     0.8286460  1981\n",
       "3  BIN_FC11006152 BIN_FC1006152  0.7895923  9053\n",
       "4  HC414          HC308          0.7868852  1309\n",
       "5  cancer1047     cancer1053     0.7743161  1852\n",
       "6  cancer1022     cancer1020     0.7436063  3251\n",
       "7  HC225          HC188          0.7273280 12961\n",
       "8  HC95           HC201          0.6139281  3783\n",
       "9  cancer1041     cancer1037     0.5671979  2814\n",
       "10 cancer1035     HC8            0.4699883  1996\n",
       "11 cancer1020     cancer1023     0.4321792  4382\n",
       "12 HC125          HC179          0.3783547 15942\n",
       "13 cancer1038     cancer1044     0.3773259  3448\n",
       "14 HC322          HC95           0.3559820  1652\n",
       "15 HC136          HC96           0.3036084  2514\n",
       "16 HC132          HC326          0.2754814 18471\n",
       "17 BIN_FC10002834 BIN_FC10003591 0.2639523 15016\n",
       "18 cancer1037     cancer1039     0.2434071  4945\n",
       "19 HC78           HC430          0.2238650 15330\n",
       "20 cancer1022     cancer1023     0.2043098  3251\n",
       "21 BIN_FC3002247  HC215          0.1963078 88992\n",
       "22 HC442          HC106          0.1916345  7286\n",
       "23 cancer1037     cancer1040     0.1865436  4945\n",
       "24 HC382          BIN_FC5006152  0.1854511 43619\n",
       "25 RH130          BIN_FC1006148  0.1845332  2288\n",
       "26 BIN_FC6006149  HC215          0.1799212 58111\n",
       "27 HC442          HC362          0.1784243  7286\n",
       "28 RH110          HC110          0.1683321  2644\n",
       "29 cancer1059     cancer1003     0.1582686  4099\n",
       "   phenoName1                                    N2    \n",
       "1  Non-melanoma skin cancer                       19168\n",
       "2  Lung cancer                                     2392\n",
       "3  Blood clot or DVT diagnosed by doctor           7166\n",
       "4  Cardiomyopathy                                  1096\n",
       "5  Lymphoma                                        1429\n",
       "6  Colon cancer/sigmoid cancer                     4382\n",
       "7  Cholecystitis                                  14938\n",
       "8  Inflammatory bowel disease                      3147\n",
       "9  Cervical cancer                                 4945\n",
       "10 Bladder cancer                                  1637\n",
       "11 Large bowel cancer/colorectal cancer            2026\n",
       "12 Anaemia                                         7810\n",
       "13 Male genital tract cancer                       6459\n",
       "14 Crohns disease                                  3783\n",
       "15 Connective tissue disorder                      1421\n",
       "16 Angina                                         12138\n",
       "17 Bilateral oophorectomy (both ovaries removed)  13772\n",
       "18 Female genital tract cancer                     1207\n",
       "19 Arthritis                                       5586\n",
       "20 Colon cancer/sigmoid cancer                     2026\n",
       "21 Hearing difficulty and Deafness               107391\n",
       "22 Chronic obstructive airways disease/COPD        5599\n",
       "23 Female genital tract cancer                     1610\n",
       "24 Asthma                                         79397\n",
       "25 Diabetes Mellitus Type 1                        2311\n",
       "26 Dentures                                      107391\n",
       "27 Chronic obstructive airways disease/COPD        8173\n",
       "28 Cerebral Infarction                             5783\n",
       "29 Malignant melanoma                             19168\n",
       "   phenoName2                                     \n",
       "1  Skin cancer                                    \n",
       "2  Respiratory/intrathoracic cancer               \n",
       "3  DVT diagnosed by doctor                        \n",
       "4  Hypertrophic cardiomyopathy (HCM / HOCM)       \n",
       "5  Non-Hodgkins lymphoma                          \n",
       "6  Large bowel cancer/colorectal cancer           \n",
       "7  Cholelithiasis/gall stones                     \n",
       "8  Ulcerative colitis                             \n",
       "9  Female genital tract cancer                    \n",
       "10 Gall bladder disease                           \n",
       "11 Rectal cancer                                  \n",
       "12 Iron deficiency anaemia                        \n",
       "13 Prostate cancer                                \n",
       "14 Inflammatory bowel disease                     \n",
       "15 Polymyalgia rheumatica                         \n",
       "16 Heart attack/myocardial infarction             \n",
       "17 Ever had hysterectomy (womb removed)           \n",
       "18 Ovarian cancer                                 \n",
       "19 Rheumatoid arthritis                           \n",
       "20 Rectal cancer                                  \n",
       "21 Hypertension                                   \n",
       "22 Emphysema/chronic bronchitis                   \n",
       "23 Uterine/endometrial cancer                     \n",
       "24 Hayfever rhinitis or eczema diagnosed by doctor\n",
       "25 Eye problems/disorders Diabetic eye disease    \n",
       "26 Hypertension                                   \n",
       "27 Respiratory infection                          \n",
       "28 Stroke                                         \n",
       "29 Skin cancer                                    "
      ]
     },
     "metadata": {},
     "output_type": "display_data"
    }
   ],
   "source": [
    "df_all %>% arrange(-JI) %>%\n",
    "left_join(\n",
    "    phes %>% rename(\n",
    "        'pheno1' = 'GBE_ID',\n",
    "        'N1' = 'Cases',\n",
    "        'phenoName1' = 'Name'\n",
    "    ),\n",
    "    by='pheno1'\n",
    ") %>%\n",
    "left_join(\n",
    "    phes %>% rename(\n",
    "        'pheno2' = 'GBE_ID',\n",
    "        'N2' = 'Cases',\n",
    "        'phenoName2' = 'Name'\n",
    "    ),\n",
    "    by='pheno2'\n",
    ") %>%\n",
    "filter(JI >= .15)\n"
   ]
  },
  {
   "cell_type": "code",
   "execution_count": 40,
   "metadata": {},
   "outputs": [
    {
     "data": {
      "text/html": [
       "<table>\n",
       "<caption>A data.table: 7 × 7</caption>\n",
       "<thead>\n",
       "\t<tr><th scope=col>pheno1</th><th scope=col>pheno2</th><th scope=col>JI</th><th scope=col>N1</th><th scope=col>phenoName1</th><th scope=col>N2</th><th scope=col>phenoName2</th></tr>\n",
       "\t<tr><th scope=col>&lt;chr&gt;</th><th scope=col>&lt;chr&gt;</th><th scope=col>&lt;dbl&gt;</th><th scope=col>&lt;int&gt;</th><th scope=col>&lt;chr&gt;</th><th scope=col>&lt;int&gt;</th><th scope=col>&lt;chr&gt;</th></tr>\n",
       "</thead>\n",
       "<tbody>\n",
       "\t<tr><td>cancer1060</td><td>cancer1003</td><td>0.8757769</td><td>16789</td><td>Non-melanoma skin cancer   </td><td>19168</td><td>Skin cancer                         </td></tr>\n",
       "\t<tr><td>cancer1001</td><td>cancer1084</td><td>0.8286460</td><td> 1981</td><td>Lung cancer                </td><td> 2392</td><td>Respiratory/intrathoracic cancer    </td></tr>\n",
       "\t<tr><td>cancer1047</td><td>cancer1053</td><td>0.7743161</td><td> 1852</td><td>Lymphoma                   </td><td> 1429</td><td>Non-Hodgkins lymphoma               </td></tr>\n",
       "\t<tr><td>cancer1022</td><td>cancer1020</td><td>0.7436063</td><td> 3251</td><td>Colon cancer/sigmoid cancer</td><td> 4382</td><td>Large bowel cancer/colorectal cancer</td></tr>\n",
       "\t<tr><td>HC225     </td><td>HC188     </td><td>0.7273280</td><td>12961</td><td>Cholecystitis              </td><td>14938</td><td>Cholelithiasis/gall stones          </td></tr>\n",
       "\t<tr><td>HC95      </td><td>HC201     </td><td>0.6139281</td><td> 3783</td><td>Inflammatory bowel disease </td><td> 3147</td><td>Ulcerative colitis                  </td></tr>\n",
       "\t<tr><td>cancer1041</td><td>cancer1037</td><td>0.5671979</td><td> 2814</td><td>Cervical cancer            </td><td> 4945</td><td>Female genital tract cancer         </td></tr>\n",
       "</tbody>\n",
       "</table>\n"
      ],
      "text/latex": [
       "A data.table: 7 × 7\n",
       "\\begin{tabular}{lllllll}\n",
       " pheno1 & pheno2 & JI & N1 & phenoName1 & N2 & phenoName2\\\\\n",
       " <chr> & <chr> & <dbl> & <int> & <chr> & <int> & <chr>\\\\\n",
       "\\hline\n",
       "\t cancer1060 & cancer1003 & 0.8757769 & 16789 & Non-melanoma skin cancer    & 19168 & Skin cancer                         \\\\\n",
       "\t cancer1001 & cancer1084 & 0.8286460 &  1981 & Lung cancer                 &  2392 & Respiratory/intrathoracic cancer    \\\\\n",
       "\t cancer1047 & cancer1053 & 0.7743161 &  1852 & Lymphoma                    &  1429 & Non-Hodgkins lymphoma               \\\\\n",
       "\t cancer1022 & cancer1020 & 0.7436063 &  3251 & Colon cancer/sigmoid cancer &  4382 & Large bowel cancer/colorectal cancer\\\\\n",
       "\t HC225      & HC188      & 0.7273280 & 12961 & Cholecystitis               & 14938 & Cholelithiasis/gall stones          \\\\\n",
       "\t HC95       & HC201      & 0.6139281 &  3783 & Inflammatory bowel disease  &  3147 & Ulcerative colitis                  \\\\\n",
       "\t cancer1041 & cancer1037 & 0.5671979 &  2814 & Cervical cancer             &  4945 & Female genital tract cancer         \\\\\n",
       "\\end{tabular}\n"
      ],
      "text/markdown": [
       "\n",
       "A data.table: 7 × 7\n",
       "\n",
       "| pheno1 &lt;chr&gt; | pheno2 &lt;chr&gt; | JI &lt;dbl&gt; | N1 &lt;int&gt; | phenoName1 &lt;chr&gt; | N2 &lt;int&gt; | phenoName2 &lt;chr&gt; |\n",
       "|---|---|---|---|---|---|---|\n",
       "| cancer1060 | cancer1003 | 0.8757769 | 16789 | Non-melanoma skin cancer    | 19168 | Skin cancer                          |\n",
       "| cancer1001 | cancer1084 | 0.8286460 |  1981 | Lung cancer                 |  2392 | Respiratory/intrathoracic cancer     |\n",
       "| cancer1047 | cancer1053 | 0.7743161 |  1852 | Lymphoma                    |  1429 | Non-Hodgkins lymphoma                |\n",
       "| cancer1022 | cancer1020 | 0.7436063 |  3251 | Colon cancer/sigmoid cancer |  4382 | Large bowel cancer/colorectal cancer |\n",
       "| HC225      | HC188      | 0.7273280 | 12961 | Cholecystitis               | 14938 | Cholelithiasis/gall stones           |\n",
       "| HC95       | HC201      | 0.6139281 |  3783 | Inflammatory bowel disease  |  3147 | Ulcerative colitis                   |\n",
       "| cancer1041 | cancer1037 | 0.5671979 |  2814 | Cervical cancer             |  4945 | Female genital tract cancer          |\n",
       "\n"
      ],
      "text/plain": [
       "  pheno1     pheno2     JI        N1    phenoName1                  N2   \n",
       "1 cancer1060 cancer1003 0.8757769 16789 Non-melanoma skin cancer    19168\n",
       "2 cancer1001 cancer1084 0.8286460  1981 Lung cancer                  2392\n",
       "3 cancer1047 cancer1053 0.7743161  1852 Lymphoma                     1429\n",
       "4 cancer1022 cancer1020 0.7436063  3251 Colon cancer/sigmoid cancer  4382\n",
       "5 HC225      HC188      0.7273280 12961 Cholecystitis               14938\n",
       "6 HC95       HC201      0.6139281  3783 Inflammatory bowel disease   3147\n",
       "7 cancer1041 cancer1037 0.5671979  2814 Cervical cancer              4945\n",
       "  phenoName2                          \n",
       "1 Skin cancer                         \n",
       "2 Respiratory/intrathoracic cancer    \n",
       "3 Non-Hodgkins lymphoma               \n",
       "4 Large bowel cancer/colorectal cancer\n",
       "5 Cholelithiasis/gall stones          \n",
       "6 Ulcerative colitis                  \n",
       "7 Female genital tract cancer         "
      ]
     },
     "metadata": {},
     "output_type": "display_data"
    }
   ],
   "source": [
    "df_all %>% arrange(-JI) %>%\n",
    "left_join(\n",
    "    phes %>% rename(\n",
    "        'pheno1' = 'GBE_ID',\n",
    "        'N1' = 'Cases',\n",
    "        'phenoName1' = 'Name'\n",
    "    ),\n",
    "    by='pheno1'\n",
    ") %>%\n",
    "left_join(\n",
    "    phes %>% rename(\n",
    "        'pheno2' = 'GBE_ID',\n",
    "        'N2' = 'Cases',\n",
    "        'phenoName2' = 'Name'\n",
    "    ),\n",
    "    by='pheno2'\n",
    ") %>%\n",
    "filter(\n",
    "    ! pheno1 %in% c('RH141', 'BIN_FC1006152', 'RH110', 'RH130', 'HC308', 'HC198'),\n",
    "    ! pheno2 %in% c('RH141', 'BIN_FC1006152', 'RH110', 'RH130', 'HC308', 'HC198')\n",
    ") %>%\n",
    "filter(JI >= .5)\n"
   ]
  },
  {
   "cell_type": "code",
   "execution_count": null,
   "metadata": {},
   "outputs": [],
   "source": []
  }
 ],
 "metadata": {
  "kernelspec": {
   "display_name": "R",
   "language": "R",
   "name": "ir"
  },
  "language_info": {
   "codemirror_mode": "r",
   "file_extension": ".r",
   "mimetype": "text/x-r-source",
   "name": "R",
   "pygments_lexer": "r",
   "version": "3.6.2"
  }
 },
 "nbformat": 4,
 "nbformat_minor": 4
}
