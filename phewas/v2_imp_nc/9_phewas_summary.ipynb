{
 "cells": [
  {
   "cell_type": "code",
   "execution_count": 1,
   "metadata": {},
   "outputs": [],
   "source": [
    "suppressPackageStartupMessages(library(tidyverse))\n",
    "suppressPackageStartupMessages(library(data.table))\n"
   ]
  },
  {
   "cell_type": "code",
   "execution_count": 2,
   "metadata": {},
   "outputs": [],
   "source": [
    "res_dir <- '/oak/stanford/groups/mrivas/projects/biomarkers/phewas/v2_imp_nc'\n",
    "phewas_hits <- file.path(res_dir, 'ukb24983_imp_v3.nc.phewas.hits.tsv')\n",
    "phewas_hits_ld_gwas_catalog_summary <- file.path(res_dir, 'ukb24983_imp_v3.nc.phewas.hits.ld.gwascatalog.summary.tsv')\n"
   ]
  },
  {
   "cell_type": "code",
   "execution_count": 3,
   "metadata": {},
   "outputs": [],
   "source": [
    "df <- fread(phewas_hits)"
   ]
  },
  {
   "cell_type": "markdown",
   "metadata": {},
   "source": [
    "#### import the manual annotations from google drive"
   ]
  },
  {
   "cell_type": "code",
   "execution_count": 4,
   "metadata": {},
   "outputs": [
    {
     "name": "stderr",
     "output_type": "stream",
     "text": [
      "Auto-refreshing stale OAuth token.\n",
      "Sheet-identifying info appears to be a browser URL.\n",
      "googlesheets will attempt to extract sheet key from the URL.\n",
      "Putative key: 1yocReg2dL84x1NQDEyc9ywEDJM6gdfr2ELNlCcP3zPo\n",
      "Sheet successfully identified: \"phewas\"\n",
      "Accessing worksheet titled 'ukb24983_imp_v3.nc.phewas.hits.ld.gwascatalog'.\n",
      "Parsed with column specification:\n",
      "cols(\n",
      "  .default = col_character(),\n",
      "  `#CHROM` = \u001b[32mcol_double()\u001b[39m,\n",
      "  POS = \u001b[32mcol_double()\u001b[39m,\n",
      "  OBS_CT = \u001b[32mcol_double()\u001b[39m,\n",
      "  OR = \u001b[32mcol_double()\u001b[39m,\n",
      "  `LOG(OR)_SE` = \u001b[32mcol_double()\u001b[39m,\n",
      "  Z_STAT = \u001b[32mcol_double()\u001b[39m,\n",
      "  P = \u001b[32mcol_double()\u001b[39m,\n",
      "  LD_CHROM = \u001b[32mcol_double()\u001b[39m,\n",
      "  LD_POS = \u001b[32mcol_double()\u001b[39m,\n",
      "  LD_R2 = \u001b[32mcol_double()\u001b[39m,\n",
      "  phewas_idx = \u001b[32mcol_double()\u001b[39m,\n",
      "  EBI_P = \u001b[32mcol_double()\u001b[39m,\n",
      "  is_novel = \u001b[33mcol_logical()\u001b[39m\n",
      ")\n",
      "See spec(...) for full column specifications.\n"
     ]
    }
   ],
   "source": [
    "library(googlesheets)\n",
    "gs_auth(token = \"/home/users/ytanigaw/.googlesheets_token.rds\")\n",
    "\n",
    "phewas_hits_ld_gwas_catalog_gdrive <- \n",
    "'https://docs.google.com/spreadsheets/d/1yocReg2dL84x1NQDEyc9ywEDJM6gdfr2ELNlCcP3zPo' %>% \n",
    "gs_url() %>% \n",
    "gs_read(ws = 'ukb24983_imp_v3.nc.phewas.hits.ld.gwascatalog') %>%\n",
    "rename('CHROM' = '#CHROM')\n"
   ]
  },
  {
   "cell_type": "markdown",
   "metadata": {},
   "source": [
    "let's check if the PheWAS results are annotated for both novel and NOT novel."
   ]
  },
  {
   "cell_type": "code",
   "execution_count": 5,
   "metadata": {},
   "outputs": [
    {
     "data": {
      "text/html": [
       "<table>\n",
       "<caption>A grouped_df: 0 × 5</caption>\n",
       "<thead>\n",
       "\t<tr><th scope=col>CHROM</th><th scope=col>POS</th><th scope=col>ID</th><th scope=col>GBE_ID</th><th scope=col>n_flag</th></tr>\n",
       "\t<tr><th scope=col>&lt;dbl&gt;</th><th scope=col>&lt;dbl&gt;</th><th scope=col>&lt;chr&gt;</th><th scope=col>&lt;chr&gt;</th><th scope=col>&lt;int&gt;</th></tr>\n",
       "</thead>\n",
       "<tbody>\n",
       "</tbody>\n",
       "</table>\n"
      ],
      "text/latex": [
       "A grouped_df: 0 × 5\n",
       "\\begin{tabular}{r|lllll}\n",
       " CHROM & POS & ID & GBE\\_ID & n\\_flag\\\\\n",
       " <dbl> & <dbl> & <chr> & <chr> & <int>\\\\\n",
       "\\hline\n",
       "\\end{tabular}\n"
      ],
      "text/markdown": [
       "\n",
       "A grouped_df: 0 × 5\n",
       "\n",
       "| CHROM &lt;dbl&gt; | POS &lt;dbl&gt; | ID &lt;chr&gt; | GBE_ID &lt;chr&gt; | n_flag &lt;int&gt; |\n",
       "|---|---|---|---|---|\n",
       "\n"
      ],
      "text/plain": [
       "     CHROM POS ID GBE_ID n_flag"
      ]
     },
     "metadata": {},
     "output_type": "display_data"
    }
   ],
   "source": [
    "phewas_hits_ld_gwas_catalog_gdrive %>% \n",
    "select(CHROM, POS, ID, GBE_ID, is_novel) %>% \n",
    "unique() %>%\n",
    "group_by(CHROM, POS, ID, GBE_ID) %>%\n",
    "summarise(n_flag = n()) %>%\n",
    "filter(n_flag > 1)"
   ]
  },
  {
   "cell_type": "markdown",
   "metadata": {},
   "source": [
    "the manual annotations are consistent"
   ]
  },
  {
   "cell_type": "markdown",
   "metadata": {},
   "source": [
    "#### number of association counts"
   ]
  },
  {
   "cell_type": "code",
   "execution_count": 6,
   "metadata": {},
   "outputs": [
    {
     "data": {
      "text/html": [
       "<table>\n",
       "<caption>A tibble: 2 × 2</caption>\n",
       "<thead>\n",
       "\t<tr><th scope=col>is_novel</th><th scope=col>n</th></tr>\n",
       "\t<tr><th scope=col>&lt;lgl&gt;</th><th scope=col>&lt;int&gt;</th></tr>\n",
       "</thead>\n",
       "<tbody>\n",
       "\t<tr><td>FALSE</td><td> 97</td></tr>\n",
       "\t<tr><td> TRUE</td><td>170</td></tr>\n",
       "</tbody>\n",
       "</table>\n"
      ],
      "text/latex": [
       "A tibble: 2 × 2\n",
       "\\begin{tabular}{r|ll}\n",
       " is\\_novel & n\\\\\n",
       " <lgl> & <int>\\\\\n",
       "\\hline\n",
       "\t FALSE &  97\\\\\n",
       "\t  TRUE & 170\\\\\n",
       "\\end{tabular}\n"
      ],
      "text/markdown": [
       "\n",
       "A tibble: 2 × 2\n",
       "\n",
       "| is_novel &lt;lgl&gt; | n &lt;int&gt; |\n",
       "|---|---|\n",
       "| FALSE |  97 |\n",
       "|  TRUE | 170 |\n",
       "\n"
      ],
      "text/plain": [
       "  is_novel n  \n",
       "1 FALSE     97\n",
       "2  TRUE    170"
      ]
     },
     "metadata": {},
     "output_type": "display_data"
    }
   ],
   "source": [
    "phewas_hits_ld_gwas_catalog_gdrive %>%  \n",
    "select(ID, GBE_ID, is_novel) %>% \n",
    "unique() %>%\n",
    "count(is_novel)\n"
   ]
  },
  {
   "cell_type": "markdown",
   "metadata": {},
   "source": [
    "#### `GBE_ID` to GBE short name"
   ]
  },
  {
   "cell_type": "code",
   "execution_count": 7,
   "metadata": {},
   "outputs": [
    {
     "name": "stderr",
     "output_type": "stream",
     "text": [
      "Sheet-identifying info appears to be a browser URL.\n",
      "googlesheets will attempt to extract sheet key from the URL.\n",
      "Putative key: 1gwzS0SVZBSKkkHgsoqB5vHo5JpUeYYz8PK2RWrHEq3A\n",
      "Sheet successfully identified: \"GBE_names\"\n",
      "Accessing worksheet titled 'GBE_names'.\n",
      "Parsed with column specification:\n",
      "cols(\n",
      "  GBE_category = \u001b[31mcol_character()\u001b[39m,\n",
      "  GBE_ID = \u001b[31mcol_character()\u001b[39m,\n",
      "  GBE_N = \u001b[32mcol_double()\u001b[39m,\n",
      "  GBE_NAME = \u001b[31mcol_character()\u001b[39m,\n",
      "  GBE_short_name = \u001b[31mcol_character()\u001b[39m,\n",
      "  GBE_short_name_len = \u001b[32mcol_double()\u001b[39m\n",
      ")\n"
     ]
    }
   ],
   "source": [
    "\n",
    "GBE_names_df <- 'https://docs.google.com/spreadsheets/d/1gwzS0SVZBSKkkHgsoqB5vHo5JpUeYYz8PK2RWrHEq3A' %>% \n",
    "gs_url() %>% gs_read(ws = 'GBE_names')\n"
   ]
  },
  {
   "cell_type": "markdown",
   "metadata": {},
   "source": [
    "#### make a summary table\n"
   ]
  },
  {
   "cell_type": "code",
   "execution_count": 8,
   "metadata": {},
   "outputs": [],
   "source": [
    "imp_nc_res_summary_df <- df %>% \n",
    "left_join(\n",
    "    GBE_names_df %>%\n",
    "    select(GBE_ID, GBE_short_name),\n",
    "    by='GBE_ID'\n",
    ") %>%\n",
    "left_join(\n",
    "    phewas_hits_ld_gwas_catalog_gdrive %>%  \n",
    "    select(ID, GBE_ID, is_novel) %>% \n",
    "    unique(),\n",
    "    by=c('ID', 'GBE_ID')\n",
    ")\n"
   ]
  },
  {
   "cell_type": "code",
   "execution_count": 9,
   "metadata": {},
   "outputs": [],
   "source": [
    "imp_nc_res_summary_df %>% \n",
    "rename('#CHROM' = 'CHROM') %>%\n",
    "fwrite(phewas_hits_ld_gwas_catalog_summary, sep='\\t')\n"
   ]
  },
  {
   "cell_type": "code",
   "execution_count": 10,
   "metadata": {},
   "outputs": [
    {
     "data": {
      "text/html": [
       "'/oak/stanford/groups/mrivas/projects/biomarkers/phewas/v2_imp_nc/ukb24983_imp_v3.nc.phewas.hits.ld.gwascatalog.summary.tsv'"
      ],
      "text/latex": [
       "'/oak/stanford/groups/mrivas/projects/biomarkers/phewas/v2\\_imp\\_nc/ukb24983\\_imp\\_v3.nc.phewas.hits.ld.gwascatalog.summary.tsv'"
      ],
      "text/markdown": [
       "'/oak/stanford/groups/mrivas/projects/biomarkers/phewas/v2_imp_nc/ukb24983_imp_v3.nc.phewas.hits.ld.gwascatalog.summary.tsv'"
      ],
      "text/plain": [
       "[1] \"/oak/stanford/groups/mrivas/projects/biomarkers/phewas/v2_imp_nc/ukb24983_imp_v3.nc.phewas.hits.ld.gwascatalog.summary.tsv\""
      ]
     },
     "metadata": {},
     "output_type": "display_data"
    }
   ],
   "source": [
    "phewas_hits_ld_gwas_catalog_summary"
   ]
  },
  {
   "cell_type": "code",
   "execution_count": null,
   "metadata": {},
   "outputs": [],
   "source": []
  }
 ],
 "metadata": {
  "kernelspec": {
   "display_name": "R",
   "language": "R",
   "name": "ir"
  },
  "language_info": {
   "codemirror_mode": "r",
   "file_extension": ".r",
   "mimetype": "text/x-r-source",
   "name": "R",
   "pygments_lexer": "r",
   "version": "3.6.1"
  }
 },
 "nbformat": 4,
 "nbformat_minor": 4
}
