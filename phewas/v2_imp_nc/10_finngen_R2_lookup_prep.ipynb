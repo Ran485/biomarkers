{
 "cells": [
  {
   "cell_type": "code",
   "execution_count": 1,
   "metadata": {},
   "outputs": [],
   "source": [
    "suppressPackageStartupMessages(library(tidyverse))\n",
    "suppressPackageStartupMessages(library(data.table))\n"
   ]
  },
  {
   "cell_type": "code",
   "execution_count": 11,
   "metadata": {},
   "outputs": [],
   "source": [
    "res_dir <- '/oak/stanford/groups/mrivas/projects/biomarkers/phewas/v2_imp_nc'\n",
    "finngen_var_ids <- file.path(res_dir, 'ukb24983_imp_v3.nc.phewas.hits.ld.gwascatalog.novel.finngen_vars.lst')\n"
   ]
  },
  {
   "cell_type": "code",
   "execution_count": 2,
   "metadata": {},
   "outputs": [
    {
     "name": "stderr",
     "output_type": "stream",
     "text": [
      "Auto-refreshing stale OAuth token.\n",
      "Sheet-identifying info appears to be a browser URL.\n",
      "googlesheets will attempt to extract sheet key from the URL.\n",
      "Putative key: 1yocReg2dL84x1NQDEyc9ywEDJM6gdfr2ELNlCcP3zPo\n",
      "Sheet successfully identified: \"phewas\"\n",
      "Accessing worksheet titled 'ukb24983_imp_v3.nc.phewas.hits.ld.gwascatalog'.\n",
      "Parsed with column specification:\n",
      "cols(\n",
      "  .default = col_character(),\n",
      "  `#CHROM` = \u001b[32mcol_double()\u001b[39m,\n",
      "  POS = \u001b[32mcol_double()\u001b[39m,\n",
      "  OBS_CT = \u001b[32mcol_double()\u001b[39m,\n",
      "  OR = \u001b[32mcol_double()\u001b[39m,\n",
      "  `LOG(OR)_SE` = \u001b[32mcol_double()\u001b[39m,\n",
      "  Z_STAT = \u001b[32mcol_double()\u001b[39m,\n",
      "  P = \u001b[32mcol_double()\u001b[39m,\n",
      "  LD_CHROM = \u001b[32mcol_double()\u001b[39m,\n",
      "  LD_POS = \u001b[32mcol_double()\u001b[39m,\n",
      "  LD_R2 = \u001b[32mcol_double()\u001b[39m,\n",
      "  phewas_idx = \u001b[32mcol_double()\u001b[39m,\n",
      "  EBI_P = \u001b[32mcol_double()\u001b[39m,\n",
      "  is_novel = \u001b[33mcol_logical()\u001b[39m\n",
      ")\n",
      "See spec(...) for full column specifications.\n"
     ]
    }
   ],
   "source": [
    "library(googlesheets)\n",
    "gs_auth(token = \"/home/users/ytanigaw/.googlesheets_token.rds\")\n",
    "\n",
    "phewas_hits_ld_gwas_catalog_gdrive <- \n",
    "'https://docs.google.com/spreadsheets/d/1yocReg2dL84x1NQDEyc9ywEDJM6gdfr2ELNlCcP3zPo' %>% \n",
    "gs_url() %>% \n",
    "gs_read(ws = 'ukb24983_imp_v3.nc.phewas.hits.ld.gwascatalog') %>%\n",
    "rename('CHROM' = '#CHROM')\n"
   ]
  },
  {
   "cell_type": "code",
   "execution_count": 13,
   "metadata": {},
   "outputs": [
    {
     "data": {
      "text/html": [
       "<table>\n",
       "<caption>A tibble: 0 × 2</caption>\n",
       "<thead>\n",
       "\t<tr><th scope=col>ID</th><th scope=col>n_finngen_vars</th></tr>\n",
       "\t<tr><th scope=col>&lt;chr&gt;</th><th scope=col>&lt;int&gt;</th></tr>\n",
       "</thead>\n",
       "<tbody>\n",
       "</tbody>\n",
       "</table>\n"
      ],
      "text/latex": [
       "A tibble: 0 × 2\n",
       "\\begin{tabular}{r|ll}\n",
       " ID & n\\_finngen\\_vars\\\\\n",
       " <chr> & <int>\\\\\n",
       "\\hline\n",
       "\\end{tabular}\n"
      ],
      "text/markdown": [
       "\n",
       "A tibble: 0 × 2\n",
       "\n",
       "| ID &lt;chr&gt; | n_finngen_vars &lt;int&gt; |\n",
       "|---|---|\n",
       "\n"
      ],
      "text/plain": [
       "     ID n_finngen_vars"
      ]
     },
     "metadata": {},
     "output_type": "display_data"
    }
   ],
   "source": [
    "phewas_hits_ld_gwas_catalog_gdrive %>% \n",
    "select(ID, finngen_var_id) %>%\n",
    "unique() %>%\n",
    "drop_na(finngen_var_id) %>%\n",
    "group_by(ID) %>%\n",
    "summarise(n_finngen_vars = n()) %>%\n",
    "filter(n_finngen_vars < 1)"
   ]
  },
  {
   "cell_type": "markdown",
   "metadata": {},
   "source": [
    "##### For all variants in our PheWAS discovery, we have at least one variant available at FinnGen R2.\n"
   ]
  },
  {
   "cell_type": "code",
   "execution_count": 19,
   "metadata": {},
   "outputs": [],
   "source": [
    "phewas_hits_ld_gwas_catalog_gdrive %>% \n",
    "select(finngen_var_id) %>%\n",
    "drop_na(finngen_var_id) %>%\n",
    "unique() %>%\n",
    "rename('#finngen_var_id' = 'finngen_var_id') %>%\n",
    "fwrite(finngen_var_ids)\n"
   ]
  },
  {
   "cell_type": "code",
   "execution_count": null,
   "metadata": {},
   "outputs": [],
   "source": []
  }
 ],
 "metadata": {
  "kernelspec": {
   "display_name": "R",
   "language": "R",
   "name": "ir"
  },
  "language_info": {
   "codemirror_mode": "r",
   "file_extension": ".r",
   "mimetype": "text/x-r-source",
   "name": "R",
   "pygments_lexer": "r",
   "version": "3.6.1"
  }
 },
 "nbformat": 4,
 "nbformat_minor": 4
}
