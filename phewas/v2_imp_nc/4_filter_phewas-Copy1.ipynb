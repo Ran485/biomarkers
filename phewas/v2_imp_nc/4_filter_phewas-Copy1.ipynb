{
 "cells": [
  {
   "cell_type": "code",
   "execution_count": 1,
   "metadata": {},
   "outputs": [],
   "source": [
    "suppressPackageStartupMessages(library(tidyverse))\n",
    "suppressPackageStartupMessages(library(data.table))\n"
   ]
  },
  {
   "cell_type": "code",
   "execution_count": 17,
   "metadata": {},
   "outputs": [],
   "source": [
    "gwas_hits <- '/oak/stanford/groups/mrivas/users/ytanigaw/repos/rivas-lab/biomarkers/fine_mapping/filtered_hits/filtered.hits.99.anno.joined.tsv'"
   ]
  },
  {
   "cell_type": "markdown",
   "metadata": {},
   "source": [
    "#### we use FinnGen R2 sumstats to map rsid to genomic position in GRCh38"
   ]
  },
  {
   "cell_type": "code",
   "execution_count": 36,
   "metadata": {},
   "outputs": [],
   "source": [
    "finngen_r2_sumstats <- '/scratch/groups/mrivas/users/ytanigaw/20200114_FinnGen_R2/summary_stats/finngen_r2_COPD_COMORB.gz'\n"
   ]
  },
  {
   "cell_type": "code",
   "execution_count": 14,
   "metadata": {},
   "outputs": [],
   "source": [
    "res_dir <- '/oak/stanford/groups/mrivas/projects/biomarkers/phewas/v2_imp_nc'\n",
    "phewas_all  <- file.path(res_dir, 'ukb24983_imp_v3.glm.logistic.hybrid.gz')\n",
    "phewas_hits <- file.path(res_dir, 'ukb24983_imp_v3.nc.phewas.hits.tsv')\n"
   ]
  },
  {
   "cell_type": "code",
   "execution_count": 3,
   "metadata": {},
   "outputs": [],
   "source": [
    "phewas_df <- fread(cmd=paste('zcat', phewas_all)) %>% \n",
    "rename('CHROM' = '#CHROM')"
   ]
  },
  {
   "cell_type": "code",
   "execution_count": 4,
   "metadata": {},
   "outputs": [
    {
     "data": {
      "text/html": [
       "172"
      ],
      "text/latex": [
       "172"
      ],
      "text/markdown": [
       "172"
      ],
      "text/plain": [
       "[1] 172"
      ]
     },
     "metadata": {},
     "output_type": "display_data"
    }
   ],
   "source": [
    "phewas_df %>% select(GBE_ID) %>% unique() %>% pull() %>% length()"
   ]
  },
  {
   "cell_type": "code",
   "execution_count": 5,
   "metadata": {},
   "outputs": [
    {
     "data": {
      "text/html": [
       "2442"
      ],
      "text/latex": [
       "2442"
      ],
      "text/markdown": [
       "2442"
      ],
      "text/plain": [
       "[1] 2442"
      ]
     },
     "metadata": {},
     "output_type": "display_data"
    }
   ],
   "source": [
    "phewas_df %>% \n",
    "filter(\n",
    "    (CHROM != 6) |\n",
    "    (CHROM == 6 & POS < 25477797) | \n",
    "    (CHROM == 6 & 36448354 < POS)\n",
    ") %>%\n",
    "select(ID) %>% unique() %>% pull() %>% length()"
   ]
  },
  {
   "cell_type": "code",
   "execution_count": 6,
   "metadata": {},
   "outputs": [
    {
     "data": {
      "text/html": [
       "1.19040816715235e-07"
      ],
      "text/latex": [
       "1.19040816715235e-07"
      ],
      "text/markdown": [
       "1.19040816715235e-07"
      ],
      "text/plain": [
       "[1] 1.190408e-07"
      ]
     },
     "metadata": {},
     "output_type": "display_data"
    }
   ],
   "source": [
    "0.05 / (172 * 2442)"
   ]
  },
  {
   "cell_type": "code",
   "execution_count": 19,
   "metadata": {},
   "outputs": [],
   "source": [
    "rsid_df <- fread(gwas_hits, select=c('chromosome', 'position', 'rsid'), sep='\\t') %>%\n",
    "rename('rsID' = 'rsid')\n"
   ]
  },
  {
   "cell_type": "code",
   "execution_count": 50,
   "metadata": {},
   "outputs": [],
   "source": [
    "finngen_df <- fread(\n",
    "    cmd=paste('zcat', finngen_r2_sumstats), \n",
    "    select=c('#chrom', 'pos', 'ref', 'alt', 'rsids')\n",
    ") %>%\n",
    "rename('chrom' = '#chrom') %>%\n",
    "mutate(\n",
    "    finngen_var_id = paste(chrom, pos, ref, alt, sep='-')\n",
    ") %>%\n",
    "select(rsids, finngen_var_id)\n"
   ]
  },
  {
   "cell_type": "code",
   "execution_count": 7,
   "metadata": {},
   "outputs": [
    {
     "name": "stderr",
     "output_type": "stream",
     "text": [
      "Auto-refreshing stale OAuth token.\n",
      "Sheet-identifying info appears to be a browser URL.\n",
      "googlesheets will attempt to extract sheet key from the URL.\n",
      "Putative key: 1gwzS0SVZBSKkkHgsoqB5vHo5JpUeYYz8PK2RWrHEq3A\n",
      "Sheet successfully identified: \"GBE_names\"\n",
      "Accessing worksheet titled 'GBE_names'.\n",
      "Parsed with column specification:\n",
      "cols(\n",
      "  GBE_category = \u001b[31mcol_character()\u001b[39m,\n",
      "  GBE_ID = \u001b[31mcol_character()\u001b[39m,\n",
      "  GBE_N = \u001b[32mcol_double()\u001b[39m,\n",
      "  GBE_NAME = \u001b[31mcol_character()\u001b[39m,\n",
      "  GBE_short_name = \u001b[31mcol_character()\u001b[39m,\n",
      "  GBE_short_name_len = \u001b[32mcol_double()\u001b[39m\n",
      ")\n"
     ]
    }
   ],
   "source": [
    "library(googlesheets)\n",
    "gs_auth(token = \"/home/users/ytanigaw/.googlesheets_token.rds\")\n",
    "\n",
    "file <- 'https://docs.google.com/spreadsheets/d/1gwzS0SVZBSKkkHgsoqB5vHo5JpUeYYz8PK2RWrHEq3A'\n",
    "GBE_names_df <- file %>% gs_url() %>% gs_read(ws = 'GBE_names')\n"
   ]
  },
  {
   "cell_type": "code",
   "execution_count": 51,
   "metadata": {},
   "outputs": [],
   "source": [
    "phewas_hits_df <- phewas_df %>% filter(\n",
    "    P < 1e-7,\n",
    "    (CHROM != 6) |\n",
    "    (CHROM == 6 & POS < 25477797) | \n",
    "    (CHROM == 6 & 36448354 < POS)    \n",
    ")  %>%\n",
    "select(-REF, -ALT, -A1, -'FIRTH?', -TEST, -ERRCODE) %>%\n",
    "left_join(\n",
    "    GBE_names_df %>% select(GBE_ID, GBE_short_name), \n",
    "    by='GBE_ID'\n",
    ") %>%\n",
    "left_join(\n",
    "    rsid_df, by=c('CHROM'='chromosome', 'POS'='position')\n",
    ") %>%\n",
    "left_join(\n",
    "    finngen_df, by=c('rsID' = 'rsids')\n",
    ") %>%\n",
    "unique()\n"
   ]
  },
  {
   "cell_type": "code",
   "execution_count": 52,
   "metadata": {},
   "outputs": [
    {
     "data": {
      "text/html": [
       "<ol class=list-inline>\n",
       "\t<li>268</li>\n",
       "\t<li>12</li>\n",
       "</ol>\n"
      ],
      "text/latex": [
       "\\begin{enumerate*}\n",
       "\\item 268\n",
       "\\item 12\n",
       "\\end{enumerate*}\n"
      ],
      "text/markdown": [
       "1. 268\n",
       "2. 12\n",
       "\n",
       "\n"
      ],
      "text/plain": [
       "[1] 268  12"
      ]
     },
     "metadata": {},
     "output_type": "display_data"
    }
   ],
   "source": [
    "phewas_hits_df %>% dim()"
   ]
  },
  {
   "cell_type": "code",
   "execution_count": 53,
   "metadata": {},
   "outputs": [
    {
     "data": {
      "text/html": [
       "175"
      ],
      "text/latex": [
       "175"
      ],
      "text/markdown": [
       "175"
      ],
      "text/plain": [
       "[1] 175"
      ]
     },
     "metadata": {},
     "output_type": "display_data"
    }
   ],
   "source": [
    "phewas_hits_df %>% select(ID) %>% pull() %>% unique() %>% length()\n"
   ]
  },
  {
   "cell_type": "code",
   "execution_count": 54,
   "metadata": {},
   "outputs": [
    {
     "data": {
      "text/html": [
       "39"
      ],
      "text/latex": [
       "39"
      ],
      "text/markdown": [
       "39"
      ],
      "text/plain": [
       "[1] 39"
      ]
     },
     "metadata": {},
     "output_type": "display_data"
    }
   ],
   "source": [
    "phewas_hits_df %>% select(GBE_ID) %>% pull() %>% unique() %>% length()\n"
   ]
  },
  {
   "cell_type": "code",
   "execution_count": 55,
   "metadata": {},
   "outputs": [
    {
     "data": {
      "text/html": [
       "<table>\n",
       "<caption>A data.frame: 268 × 12</caption>\n",
       "<thead>\n",
       "\t<tr><th></th><th scope=col>CHROM</th><th scope=col>POS</th><th scope=col>ID</th><th scope=col>OBS_CT</th><th scope=col>OR</th><th scope=col>LOG(OR)_SE</th><th scope=col>Z_STAT</th><th scope=col>P</th><th scope=col>GBE_ID</th><th scope=col>GBE_short_name</th><th scope=col>rsID</th><th scope=col>finngen_var_id</th></tr>\n",
       "\t<tr><th></th><th scope=col>&lt;int&gt;</th><th scope=col>&lt;int&gt;</th><th scope=col>&lt;chr&gt;</th><th scope=col>&lt;int&gt;</th><th scope=col>&lt;dbl&gt;</th><th scope=col>&lt;dbl&gt;</th><th scope=col>&lt;dbl&gt;</th><th scope=col>&lt;dbl&gt;</th><th scope=col>&lt;chr&gt;</th><th scope=col>&lt;chr&gt;</th><th scope=col>&lt;chr&gt;</th><th scope=col>&lt;chr&gt;</th></tr>\n",
       "</thead>\n",
       "<tbody>\n",
       "\t<tr><th scope=row>1</th><td>1</td><td> 22681832</td><td>1:22681832:CT:C   </td><td>337146</td><td>0.890541</td><td>0.01965430</td><td> -5.89824</td><td>3.67389e-09</td><td>HC22         </td><td>Osteoporosis                                   </td><td>1:22681832_CT_C  </td><td>NA             </td></tr>\n",
       "\t<tr><th scope=row>2</th><td>1</td><td> 25259884</td><td>1:25259884:C:G    </td><td>307048</td><td>1.044530</td><td>0.00597389</td><td>  7.29272</td><td>3.03752e-13</td><td>BIN_FC5006152</td><td>Hayfever rhinitis or eczema diagnosed by doctor</td><td>rs3845302        </td><td>1-24933393-C-G </td></tr>\n",
       "\t<tr><th scope=row>3</th><td>1</td><td> 27021913</td><td>1:27021913:G:C    </td><td>337146</td><td>1.394200</td><td>0.05281210</td><td>  6.29245</td><td>3.12496e-10</td><td>HC328        </td><td>Gout                                           </td><td>rs114165349      </td><td>1-26695422-G-C </td></tr>\n",
       "\t<tr><th scope=row>6</th><td>1</td><td> 27180088</td><td>1:27180088:A:C    </td><td>337146</td><td>1.375660</td><td>0.05358710</td><td>  5.95173</td><td>2.65329e-09</td><td>HC328        </td><td>Gout                                           </td><td>rs75460349       </td><td>1-26853597-A-C </td></tr>\n",
       "\t<tr><th scope=row>9</th><td>1</td><td> 27262545</td><td>1:27262545:C:T    </td><td>337146</td><td>1.318140</td><td>0.04906670</td><td>  5.62952</td><td>1.80713e-08</td><td>HC328        </td><td>Gout                                           </td><td>rs182050989      </td><td>NA             </td></tr>\n",
       "\t<tr><th scope=row>11</th><td>1</td><td>109816863</td><td>1:109816863:T:TC  </td><td>337146</td><td>0.892299</td><td>0.01461870</td><td> -7.79506</td><td>6.43788e-15</td><td>HC132        </td><td>Angina                                         </td><td>rs552693039      </td><td>NA             </td></tr>\n",
       "\t<tr><th scope=row>14</th><td>1</td><td>151793174</td><td>1:151793174:G:T   </td><td>337146</td><td>0.824196</td><td>0.03187130</td><td> -6.06648</td><td>1.30744e-09</td><td>HC201        </td><td>Ulcerative colitis                             </td><td>rs11204894       </td><td>1-151820698-G-T</td></tr>\n",
       "\t<tr><th scope=row>15</th><td>1</td><td>151793174</td><td>1:151793174:G:T   </td><td>337146</td><td>0.857512</td><td>0.02875900</td><td> -5.34513</td><td>9.03506e-08</td><td>HC95         </td><td>Inflammatory bowel disease                     </td><td>rs11204894       </td><td>1-151820698-G-T</td></tr>\n",
       "\t<tr><th scope=row>16</th><td>1</td><td>154343714</td><td>1:154343714:CAA:C </td><td>307048</td><td>1.035930</td><td>0.00596893</td><td>  5.91396</td><td>3.33978e-09</td><td>BIN_FC5006152</td><td>Hayfever rhinitis or eczema diagnosed by doctor</td><td>1:154343714_CAA_C</td><td>NA             </td></tr>\n",
       "\t<tr><th scope=row>17</th><td>1</td><td>154420028</td><td>1:154420028:TAC:T </td><td>307048</td><td>1.044610</td><td>0.00600050</td><td>  7.27272</td><td>3.52318e-13</td><td>BIN_FC5006152</td><td>Hayfever rhinitis or eczema diagnosed by doctor</td><td>rs200586940      </td><td>NA             </td></tr>\n",
       "\t<tr><th scope=row>18</th><td>1</td><td>154420028</td><td>1:154420028:TAC:T </td><td>337146</td><td>1.094980</td><td>0.01356540</td><td>  6.68888</td><td>2.24878e-11</td><td>HC261        </td><td>Eczema/dermatitis                              </td><td>rs200586940      </td><td>NA             </td></tr>\n",
       "\t<tr><th scope=row>19</th><td>1</td><td>154986091</td><td>1:154986091:T:C   </td><td>337146</td><td>1.118630</td><td>0.02079170</td><td>  5.39170</td><td>6.97923e-08</td><td>HC328        </td><td>Gout                                           </td><td>rs3753639        </td><td>1-155013615-T-C</td></tr>\n",
       "\t<tr><th scope=row>20</th><td>1</td><td>154988957</td><td>1:154988957:A:G   </td><td>337146</td><td>0.902097</td><td>0.01311860</td><td> -7.85398</td><td>4.03036e-15</td><td>HC281        </td><td>Atrial fibrillation                            </td><td>rs2242195        </td><td>1-155016481-A-G</td></tr>\n",
       "\t<tr><th scope=row>21</th><td>1</td><td>161478810</td><td>1:161478810:G:A   </td><td>337146</td><td>0.850327</td><td>0.02549110</td><td> -6.36040</td><td>2.01223e-10</td><td>HC201        </td><td>Ulcerative colitis                             </td><td>rs6671847        </td><td>NA             </td></tr>\n",
       "\t<tr><th scope=row>22</th><td>1</td><td>161478810</td><td>1:161478810:G:A   </td><td>337146</td><td>0.882700</td><td>0.02325210</td><td> -5.36595</td><td>8.05261e-08</td><td>HC95         </td><td>Inflammatory bowel disease                     </td><td>rs6671847        </td><td>NA             </td></tr>\n",
       "\t<tr><th scope=row>23</th><td>1</td><td>161478859</td><td>1:161478859:T:C   </td><td>337146</td><td>0.848274</td><td>0.02544150</td><td> -6.46786</td><td>9.94024e-11</td><td>HC201        </td><td>Ulcerative colitis                             </td><td>rs4657041        </td><td>1-161509069-T-C</td></tr>\n",
       "\t<tr><th scope=row>24</th><td>1</td><td>161599773</td><td>1:161599773:A:G   </td><td>336433</td><td>0.945444</td><td>0.00896922</td><td> -6.25479</td><td>3.98043e-10</td><td>BIN_FC1006149</td><td>Mouth ulcers                                   </td><td>rs527909462      </td><td>NA             </td></tr>\n",
       "\t<tr><th scope=row>25</th><td>1</td><td>214145731</td><td>1:214145731:C:G   </td><td>337146</td><td>1.071800</td><td>0.01075340</td><td>  6.44832</td><td>1.13095e-10</td><td>HC221        </td><td>Diabetes                                       </td><td>rs340882         </td><td>1-213972388-C-G</td></tr>\n",
       "\t<tr><th scope=row>26</th><td>1</td><td>214150821</td><td>1:214150821:G:C   </td><td>337146</td><td>1.171060</td><td>0.02637940</td><td>  5.98623</td><td>2.14766e-09</td><td>HC221        </td><td>Diabetes                                       </td><td>rs79687284       </td><td>1-213977478-G-C</td></tr>\n",
       "\t<tr><th scope=row>29</th><td>2</td><td> 27583099</td><td>2:27583099:G:T    </td><td>337146</td><td>0.876565</td><td>0.01976440</td><td> -6.66575</td><td>2.63311e-11</td><td>HC328        </td><td>Gout                                           </td><td>rs6729692        </td><td>NA             </td></tr>\n",
       "\t<tr><th scope=row>30</th><td>2</td><td> 27583099</td><td>2:27583099:G:T    </td><td>337146</td><td>1.063860</td><td>0.01089480</td><td>  5.68221</td><td>1.32963e-08</td><td>HC221        </td><td>Diabetes                                       </td><td>rs6729692        </td><td>NA             </td></tr>\n",
       "\t<tr><th scope=row>31</th><td>2</td><td> 27598097</td><td>2:27598097:T:C    </td><td>337146</td><td>0.804448</td><td>0.01842950</td><td>-11.80710</td><td>3.58635e-32</td><td>HC328        </td><td>Gout                                           </td><td>rs4665972        </td><td>2-27375230-T-C </td></tr>\n",
       "\t<tr><th scope=row>42</th><td>2</td><td> 27598097</td><td>2:27598097:T:C    </td><td>337146</td><td>1.073360</td><td>0.01067330</td><td>  6.63256</td><td>3.29925e-11</td><td>HC221        </td><td>Diabetes                                       </td><td>rs4665972        </td><td>2-27375230-T-C </td></tr>\n",
       "\t<tr><th scope=row>53</th><td>2</td><td> 27598097</td><td>2:27598097:T:C    </td><td>337146</td><td>1.073490</td><td>0.01319010</td><td>  5.37620</td><td>7.60741e-08</td><td>HC225        </td><td>Cholecystitis                                  </td><td>rs4665972        </td><td>2-27375230-T-C </td></tr>\n",
       "\t<tr><th scope=row>64</th><td>2</td><td> 27598097</td><td>2:27598097:T:C    </td><td>337146</td><td>1.080580</td><td>0.01235310</td><td>  6.27373</td><td>3.52507e-10</td><td>HC188        </td><td>Gallstones                                     </td><td>rs4665972        </td><td>2-27375230-T-C </td></tr>\n",
       "\t<tr><th scope=row>75</th><td>2</td><td> 27711257</td><td>2:27711257:G:GGACT</td><td>337146</td><td>0.877319</td><td>0.01876490</td><td> -6.97498</td><td>3.05922e-12</td><td>HC328        </td><td>Gout                                           </td><td>rs386644222      </td><td>NA             </td></tr>\n",
       "\t<tr><th scope=row>79</th><td>2</td><td> 27734972</td><td>2:27734972:G:A    </td><td>337146</td><td>0.824793</td><td>0.01821430</td><td>-10.57540</td><td>3.87579e-26</td><td>HC328        </td><td>Gout                                           </td><td>rs6547692        </td><td>2-27512105-G-A </td></tr>\n",
       "\t<tr><th scope=row>80</th><td>2</td><td> 27734972</td><td>2:27734972:G:A    </td><td>337146</td><td>1.064370</td><td>0.01040070</td><td>  5.99760</td><td>2.00257e-09</td><td>HC221        </td><td>Diabetes                                       </td><td>rs6547692        </td><td>2-27512105-G-A </td></tr>\n",
       "\t<tr><th scope=row>81</th><td>2</td><td> 27734972</td><td>2:27734972:G:A    </td><td>337146</td><td>1.075840</td><td>0.01285090</td><td>  5.68827</td><td>1.28333e-08</td><td>HC225        </td><td>Cholecystitis                                  </td><td>rs6547692        </td><td>2-27512105-G-A </td></tr>\n",
       "\t<tr><th scope=row>82</th><td>2</td><td> 27734972</td><td>2:27734972:G:A    </td><td>337146</td><td>1.075940</td><td>0.01202800</td><td>  6.08564</td><td>1.16027e-09</td><td>HC188        </td><td>Gallstones                                     </td><td>rs6547692        </td><td>2-27512105-G-A </td></tr>\n",
       "\t<tr><th scope=row>⋮</th><td>⋮</td><td>⋮</td><td>⋮</td><td>⋮</td><td>⋮</td><td>⋮</td><td>⋮</td><td>⋮</td><td>⋮</td><td>⋮</td><td>⋮</td><td>⋮</td></tr>\n",
       "\t<tr><th scope=row>424</th><td>19</td><td>49208368</td><td>19:49208368:C:T  </td><td>337146</td><td>1.037550</td><td>0.00574151</td><td> 6.41982</td><td>1.36438e-10</td><td>HC215        </td><td>Hypertension                                   </td><td>rs2432132       </td><td>NA              </td></tr>\n",
       "\t<tr><th scope=row>425</th><td>19</td><td>49208368</td><td>19:49208368:C:T  </td><td>337146</td><td>1.083850</td><td>0.01351970</td><td> 5.95541</td><td>2.59424e-09</td><td>HC225        </td><td>Cholecystitis                                  </td><td>rs2432132       </td><td>NA              </td></tr>\n",
       "\t<tr><th scope=row>426</th><td>19</td><td>49208368</td><td>19:49208368:C:T  </td><td>337146</td><td>1.088820</td><td>0.01265870</td><td> 6.72194</td><td>1.79317e-11</td><td>HC188        </td><td>Gallstones                                     </td><td>rs2432132       </td><td>NA              </td></tr>\n",
       "\t<tr><th scope=row>427</th><td>19</td><td>49210869</td><td>19:49210869:A:G  </td><td>336433</td><td>1.043040</td><td>0.00692731</td><td> 6.08263</td><td>1.18229e-09</td><td>BIN_FC6006149</td><td>Dentures                                       </td><td>rs2638281       </td><td>NA              </td></tr>\n",
       "\t<tr><th scope=row>428</th><td>19</td><td>49210869</td><td>19:49210869:A:G  </td><td>337146</td><td>1.036830</td><td>0.00557271</td><td> 6.49031</td><td>8.56585e-11</td><td>HC215        </td><td>Hypertension                                   </td><td>rs2638281       </td><td>NA              </td></tr>\n",
       "\t<tr><th scope=row>429</th><td>19</td><td>49210869</td><td>19:49210869:A:G  </td><td>337146</td><td>1.083660</td><td>0.01228630</td><td> 6.53938</td><td>6.17741e-11</td><td>HC188        </td><td>Gallstones                                     </td><td>rs2638281       </td><td>NA              </td></tr>\n",
       "\t<tr><th scope=row>430</th><td>19</td><td>49210869</td><td>19:49210869:A:G  </td><td>337146</td><td>1.085000</td><td>0.01313130</td><td> 6.21282</td><td>5.20425e-10</td><td>HC225        </td><td>Cholecystitis                                  </td><td>rs2638281       </td><td>NA              </td></tr>\n",
       "\t<tr><th scope=row>431</th><td>19</td><td>49213853</td><td>19:49213853:AT:A </td><td>336433</td><td>0.958261</td><td>0.00688330</td><td>-6.19392</td><td>5.86866e-10</td><td>BIN_FC6006149</td><td>Dentures                                       </td><td>19:49213853_AT_A</td><td>NA              </td></tr>\n",
       "\t<tr><th scope=row>432</th><td>19</td><td>49213853</td><td>19:49213853:AT:A </td><td>337146</td><td>0.919765</td><td>0.01219470</td><td>-6.85844</td><td>6.96173e-12</td><td>HC188        </td><td>Gallstones                                     </td><td>19:49213853_AT_A</td><td>NA              </td></tr>\n",
       "\t<tr><th scope=row>433</th><td>19</td><td>49213853</td><td>19:49213853:AT:A </td><td>337146</td><td>0.920647</td><td>0.01302940</td><td>-6.34550</td><td>2.21703e-10</td><td>HC225        </td><td>Cholecystitis                                  </td><td>19:49213853_AT_A</td><td>NA              </td></tr>\n",
       "\t<tr><th scope=row>434</th><td>19</td><td>49213853</td><td>19:49213853:AT:A </td><td>337146</td><td>0.966839</td><td>0.00553648</td><td>-6.09116</td><td>1.12098e-09</td><td>HC215        </td><td>Hypertension                                   </td><td>19:49213853_AT_A</td><td>NA              </td></tr>\n",
       "\t<tr><th scope=row>435</th><td>19</td><td>49214066</td><td>19:49214066:G:A  </td><td>336433</td><td>0.958611</td><td>0.00716221</td><td>-5.90180</td><td>3.59560e-09</td><td>BIN_FC6006149</td><td>Dentures                                       </td><td>rs281378        </td><td>19-48710809-G-A </td></tr>\n",
       "\t<tr><th scope=row>437</th><td>19</td><td>49214066</td><td>19:49214066:G:A  </td><td>337146</td><td>0.965514</td><td>0.00575579</td><td>-6.09722</td><td>1.07927e-09</td><td>HC215        </td><td>Hypertension                                   </td><td>rs281378        </td><td>19-48710809-G-A </td></tr>\n",
       "\t<tr><th scope=row>439</th><td>19</td><td>49254573</td><td>19:49254573:T:A  </td><td>336433</td><td>0.959413</td><td>0.00731601</td><td>-5.66347</td><td>1.48342e-08</td><td>BIN_FC6006149</td><td>Dentures                                       </td><td>rs838137        </td><td>19-48751316-T-A </td></tr>\n",
       "\t<tr><th scope=row>440</th><td>19</td><td>49259529</td><td>19:49259529:A:G  </td><td>336433</td><td>0.956016</td><td>0.00696884</td><td>-6.45458</td><td>1.08517e-10</td><td>BIN_FC6006149</td><td>Dentures                                       </td><td>rs838133        </td><td>19-48756272-A-G </td></tr>\n",
       "\t<tr><th scope=row>444</th><td>19</td><td>49259529</td><td>19:49259529:A:G  </td><td>337146</td><td>0.917086</td><td>0.01310430</td><td>-6.60498</td><td>3.97573e-11</td><td>HC225        </td><td>Cholecystitis                                  </td><td>rs838133        </td><td>19-48756272-A-G </td></tr>\n",
       "\t<tr><th scope=row>448</th><td>19</td><td>49259529</td><td>19:49259529:A:G  </td><td>337146</td><td>0.919700</td><td>0.01226780</td><td>-6.82340</td><td>8.89103e-12</td><td>HC188        </td><td>Gallstones                                     </td><td>rs838133        </td><td>19-48756272-A-G </td></tr>\n",
       "\t<tr><th scope=row>452</th><td>19</td><td>49992217</td><td>19:49992217:C:CA </td><td>337146</td><td>1.110690</td><td>0.01797410</td><td> 5.84050</td><td>5.20441e-09</td><td>HC219        </td><td>Hypothyroidism/myxoedema                       </td><td>rs199970514     </td><td>19-49488960-C-CA</td></tr>\n",
       "\t<tr><th scope=row>453</th><td>20</td><td>48955595</td><td>20:48955595:A:G  </td><td>336433</td><td>1.063720</td><td>0.00827769</td><td> 7.46257</td><td>8.48495e-14</td><td>BIN_FC1006149</td><td>Mouth ulcers                                   </td><td>rs6063502       </td><td>20-50339058-A-G </td></tr>\n",
       "\t<tr><th scope=row>454</th><td>20</td><td>52731402</td><td>20:52731402:A:T  </td><td>337146</td><td>0.821177</td><td>0.03200830</td><td>-6.15516</td><td>7.50023e-10</td><td>HC374        </td><td>Kidney stone/ureter stone/bladder stone        </td><td>rs6127099       </td><td>20-54114863-A-T </td></tr>\n",
       "\t<tr><th scope=row>456</th><td>20</td><td>62444809</td><td>20:62444809:A:T  </td><td>337146</td><td>0.933998</td><td>0.01247450</td><td>-5.47363</td><td>4.40921e-08</td><td>HC221        </td><td>Diabetes                                       </td><td>rs59295094      </td><td>NA              </td></tr>\n",
       "\t<tr><th scope=row>458</th><td>20</td><td>62444809</td><td>20:62444809:A:T  </td><td>337146</td><td>0.958555</td><td>0.00650346</td><td>-6.50852</td><td>7.58942e-11</td><td>HC215        </td><td>Hypertension                                   </td><td>rs59295094      </td><td>NA              </td></tr>\n",
       "\t<tr><th scope=row>460</th><td>20</td><td>62674787</td><td>20:62674787:A:T  </td><td>337146</td><td>0.921058</td><td>0.01489210</td><td>-5.52188</td><td>3.35385e-08</td><td>HC401        </td><td>Varicose veins                                 </td><td>rs6011265       </td><td>NA              </td></tr>\n",
       "\t<tr><th scope=row>461</th><td>22</td><td>21980393</td><td>22:21980393:CAG:C</td><td>307048</td><td>1.045700</td><td>0.00738703</td><td> 6.04961</td><td>1.45198e-09</td><td>BIN_FC5006152</td><td>Hayfever rhinitis or eczema diagnosed by doctor</td><td>rs758643372     </td><td>NA              </td></tr>\n",
       "\t<tr><th scope=row>462</th><td>22</td><td>30324160</td><td>22:30324160:CT:C </td><td>337146</td><td>1.064390</td><td>0.01124160</td><td> 5.55070</td><td>2.84534e-08</td><td>HC219        </td><td>Hypothyroidism/myxoedema                       </td><td>22:30324160_CT_C</td><td>NA              </td></tr>\n",
       "\t<tr><th scope=row>463</th><td>22</td><td>30594803</td><td>22:30594803:TC:T </td><td>337146</td><td>1.062480</td><td>0.01055560</td><td> 5.74164</td><td>9.37631e-09</td><td>HC219        </td><td>Hypothyroidism/myxoedema                       </td><td>rs758886900     </td><td>NA              </td></tr>\n",
       "\t<tr><th scope=row>464</th><td>22</td><td>44324730</td><td>22:44324730:C:T  </td><td>337146</td><td>0.873680</td><td>0.02291810</td><td>-5.89234</td><td>3.80774e-09</td><td>HC328        </td><td>Gout                                           </td><td>rs738408        </td><td>22-43928850-C-T </td></tr>\n",
       "\t<tr><th scope=row>466</th><td>22</td><td>44324730</td><td>22:44324730:C:T  </td><td>337146</td><td>1.464950</td><td>0.05621580</td><td> 6.79210</td><td>1.10511e-11</td><td>HC171        </td><td>Alcoholic liver disease / alcoholic cirrhosis  </td><td>rs738408        </td><td>22-43928850-C-T </td></tr>\n",
       "\t<tr><th scope=row>468</th><td>22</td><td>44324855</td><td>22:44324855:G:A  </td><td>337146</td><td>0.872849</td><td>0.02301000</td><td>-5.91017</td><td>3.41762e-09</td><td>HC328        </td><td>Gout                                           </td><td>rs3747207       </td><td>22-43928975-G-A </td></tr>\n",
       "\t<tr><th scope=row>469</th><td>22</td><td>44324855</td><td>22:44324855:G:A  </td><td>337146</td><td>1.455700</td><td>0.05645040</td><td> 6.65159</td><td>2.89944e-11</td><td>HC171        </td><td>Alcoholic liver disease / alcoholic cirrhosis  </td><td>rs3747207       </td><td>22-43928975-G-A </td></tr>\n",
       "</tbody>\n",
       "</table>\n"
      ],
      "text/latex": [
       "A data.frame: 268 × 12\n",
       "\\begin{tabular}{r|llllllllllll}\n",
       "  & CHROM & POS & ID & OBS\\_CT & OR & LOG(OR)\\_SE & Z\\_STAT & P & GBE\\_ID & GBE\\_short\\_name & rsID & finngen\\_var\\_id\\\\\n",
       "  & <int> & <int> & <chr> & <int> & <dbl> & <dbl> & <dbl> & <dbl> & <chr> & <chr> & <chr> & <chr>\\\\\n",
       "\\hline\n",
       "\t1 & 1 &  22681832 & 1:22681832:CT:C    & 337146 & 0.890541 & 0.01965430 &  -5.89824 & 3.67389e-09 & HC22          & Osteoporosis                                    & 1:22681832\\_CT\\_C   & NA             \\\\\n",
       "\t2 & 1 &  25259884 & 1:25259884:C:G     & 307048 & 1.044530 & 0.00597389 &   7.29272 & 3.03752e-13 & BIN\\_FC5006152 & Hayfever rhinitis or eczema diagnosed by doctor & rs3845302         & 1-24933393-C-G \\\\\n",
       "\t3 & 1 &  27021913 & 1:27021913:G:C     & 337146 & 1.394200 & 0.05281210 &   6.29245 & 3.12496e-10 & HC328         & Gout                                            & rs114165349       & 1-26695422-G-C \\\\\n",
       "\t6 & 1 &  27180088 & 1:27180088:A:C     & 337146 & 1.375660 & 0.05358710 &   5.95173 & 2.65329e-09 & HC328         & Gout                                            & rs75460349        & 1-26853597-A-C \\\\\n",
       "\t9 & 1 &  27262545 & 1:27262545:C:T     & 337146 & 1.318140 & 0.04906670 &   5.62952 & 1.80713e-08 & HC328         & Gout                                            & rs182050989       & NA             \\\\\n",
       "\t11 & 1 & 109816863 & 1:109816863:T:TC   & 337146 & 0.892299 & 0.01461870 &  -7.79506 & 6.43788e-15 & HC132         & Angina                                          & rs552693039       & NA             \\\\\n",
       "\t14 & 1 & 151793174 & 1:151793174:G:T    & 337146 & 0.824196 & 0.03187130 &  -6.06648 & 1.30744e-09 & HC201         & Ulcerative colitis                              & rs11204894        & 1-151820698-G-T\\\\\n",
       "\t15 & 1 & 151793174 & 1:151793174:G:T    & 337146 & 0.857512 & 0.02875900 &  -5.34513 & 9.03506e-08 & HC95          & Inflammatory bowel disease                      & rs11204894        & 1-151820698-G-T\\\\\n",
       "\t16 & 1 & 154343714 & 1:154343714:CAA:C  & 307048 & 1.035930 & 0.00596893 &   5.91396 & 3.33978e-09 & BIN\\_FC5006152 & Hayfever rhinitis or eczema diagnosed by doctor & 1:154343714\\_CAA\\_C & NA             \\\\\n",
       "\t17 & 1 & 154420028 & 1:154420028:TAC:T  & 307048 & 1.044610 & 0.00600050 &   7.27272 & 3.52318e-13 & BIN\\_FC5006152 & Hayfever rhinitis or eczema diagnosed by doctor & rs200586940       & NA             \\\\\n",
       "\t18 & 1 & 154420028 & 1:154420028:TAC:T  & 337146 & 1.094980 & 0.01356540 &   6.68888 & 2.24878e-11 & HC261         & Eczema/dermatitis                               & rs200586940       & NA             \\\\\n",
       "\t19 & 1 & 154986091 & 1:154986091:T:C    & 337146 & 1.118630 & 0.02079170 &   5.39170 & 6.97923e-08 & HC328         & Gout                                            & rs3753639         & 1-155013615-T-C\\\\\n",
       "\t20 & 1 & 154988957 & 1:154988957:A:G    & 337146 & 0.902097 & 0.01311860 &  -7.85398 & 4.03036e-15 & HC281         & Atrial fibrillation                             & rs2242195         & 1-155016481-A-G\\\\\n",
       "\t21 & 1 & 161478810 & 1:161478810:G:A    & 337146 & 0.850327 & 0.02549110 &  -6.36040 & 2.01223e-10 & HC201         & Ulcerative colitis                              & rs6671847         & NA             \\\\\n",
       "\t22 & 1 & 161478810 & 1:161478810:G:A    & 337146 & 0.882700 & 0.02325210 &  -5.36595 & 8.05261e-08 & HC95          & Inflammatory bowel disease                      & rs6671847         & NA             \\\\\n",
       "\t23 & 1 & 161478859 & 1:161478859:T:C    & 337146 & 0.848274 & 0.02544150 &  -6.46786 & 9.94024e-11 & HC201         & Ulcerative colitis                              & rs4657041         & 1-161509069-T-C\\\\\n",
       "\t24 & 1 & 161599773 & 1:161599773:A:G    & 336433 & 0.945444 & 0.00896922 &  -6.25479 & 3.98043e-10 & BIN\\_FC1006149 & Mouth ulcers                                    & rs527909462       & NA             \\\\\n",
       "\t25 & 1 & 214145731 & 1:214145731:C:G    & 337146 & 1.071800 & 0.01075340 &   6.44832 & 1.13095e-10 & HC221         & Diabetes                                        & rs340882          & 1-213972388-C-G\\\\\n",
       "\t26 & 1 & 214150821 & 1:214150821:G:C    & 337146 & 1.171060 & 0.02637940 &   5.98623 & 2.14766e-09 & HC221         & Diabetes                                        & rs79687284        & 1-213977478-G-C\\\\\n",
       "\t29 & 2 &  27583099 & 2:27583099:G:T     & 337146 & 0.876565 & 0.01976440 &  -6.66575 & 2.63311e-11 & HC328         & Gout                                            & rs6729692         & NA             \\\\\n",
       "\t30 & 2 &  27583099 & 2:27583099:G:T     & 337146 & 1.063860 & 0.01089480 &   5.68221 & 1.32963e-08 & HC221         & Diabetes                                        & rs6729692         & NA             \\\\\n",
       "\t31 & 2 &  27598097 & 2:27598097:T:C     & 337146 & 0.804448 & 0.01842950 & -11.80710 & 3.58635e-32 & HC328         & Gout                                            & rs4665972         & 2-27375230-T-C \\\\\n",
       "\t42 & 2 &  27598097 & 2:27598097:T:C     & 337146 & 1.073360 & 0.01067330 &   6.63256 & 3.29925e-11 & HC221         & Diabetes                                        & rs4665972         & 2-27375230-T-C \\\\\n",
       "\t53 & 2 &  27598097 & 2:27598097:T:C     & 337146 & 1.073490 & 0.01319010 &   5.37620 & 7.60741e-08 & HC225         & Cholecystitis                                   & rs4665972         & 2-27375230-T-C \\\\\n",
       "\t64 & 2 &  27598097 & 2:27598097:T:C     & 337146 & 1.080580 & 0.01235310 &   6.27373 & 3.52507e-10 & HC188         & Gallstones                                      & rs4665972         & 2-27375230-T-C \\\\\n",
       "\t75 & 2 &  27711257 & 2:27711257:G:GGACT & 337146 & 0.877319 & 0.01876490 &  -6.97498 & 3.05922e-12 & HC328         & Gout                                            & rs386644222       & NA             \\\\\n",
       "\t79 & 2 &  27734972 & 2:27734972:G:A     & 337146 & 0.824793 & 0.01821430 & -10.57540 & 3.87579e-26 & HC328         & Gout                                            & rs6547692         & 2-27512105-G-A \\\\\n",
       "\t80 & 2 &  27734972 & 2:27734972:G:A     & 337146 & 1.064370 & 0.01040070 &   5.99760 & 2.00257e-09 & HC221         & Diabetes                                        & rs6547692         & 2-27512105-G-A \\\\\n",
       "\t81 & 2 &  27734972 & 2:27734972:G:A     & 337146 & 1.075840 & 0.01285090 &   5.68827 & 1.28333e-08 & HC225         & Cholecystitis                                   & rs6547692         & 2-27512105-G-A \\\\\n",
       "\t82 & 2 &  27734972 & 2:27734972:G:A     & 337146 & 1.075940 & 0.01202800 &   6.08564 & 1.16027e-09 & HC188         & Gallstones                                      & rs6547692         & 2-27512105-G-A \\\\\n",
       "\t⋮ & ⋮ & ⋮ & ⋮ & ⋮ & ⋮ & ⋮ & ⋮ & ⋮ & ⋮ & ⋮ & ⋮ & ⋮\\\\\n",
       "\t424 & 19 & 49208368 & 19:49208368:C:T   & 337146 & 1.037550 & 0.00574151 &  6.41982 & 1.36438e-10 & HC215         & Hypertension                                    & rs2432132        & NA              \\\\\n",
       "\t425 & 19 & 49208368 & 19:49208368:C:T   & 337146 & 1.083850 & 0.01351970 &  5.95541 & 2.59424e-09 & HC225         & Cholecystitis                                   & rs2432132        & NA              \\\\\n",
       "\t426 & 19 & 49208368 & 19:49208368:C:T   & 337146 & 1.088820 & 0.01265870 &  6.72194 & 1.79317e-11 & HC188         & Gallstones                                      & rs2432132        & NA              \\\\\n",
       "\t427 & 19 & 49210869 & 19:49210869:A:G   & 336433 & 1.043040 & 0.00692731 &  6.08263 & 1.18229e-09 & BIN\\_FC6006149 & Dentures                                        & rs2638281        & NA              \\\\\n",
       "\t428 & 19 & 49210869 & 19:49210869:A:G   & 337146 & 1.036830 & 0.00557271 &  6.49031 & 8.56585e-11 & HC215         & Hypertension                                    & rs2638281        & NA              \\\\\n",
       "\t429 & 19 & 49210869 & 19:49210869:A:G   & 337146 & 1.083660 & 0.01228630 &  6.53938 & 6.17741e-11 & HC188         & Gallstones                                      & rs2638281        & NA              \\\\\n",
       "\t430 & 19 & 49210869 & 19:49210869:A:G   & 337146 & 1.085000 & 0.01313130 &  6.21282 & 5.20425e-10 & HC225         & Cholecystitis                                   & rs2638281        & NA              \\\\\n",
       "\t431 & 19 & 49213853 & 19:49213853:AT:A  & 336433 & 0.958261 & 0.00688330 & -6.19392 & 5.86866e-10 & BIN\\_FC6006149 & Dentures                                        & 19:49213853\\_AT\\_A & NA              \\\\\n",
       "\t432 & 19 & 49213853 & 19:49213853:AT:A  & 337146 & 0.919765 & 0.01219470 & -6.85844 & 6.96173e-12 & HC188         & Gallstones                                      & 19:49213853\\_AT\\_A & NA              \\\\\n",
       "\t433 & 19 & 49213853 & 19:49213853:AT:A  & 337146 & 0.920647 & 0.01302940 & -6.34550 & 2.21703e-10 & HC225         & Cholecystitis                                   & 19:49213853\\_AT\\_A & NA              \\\\\n",
       "\t434 & 19 & 49213853 & 19:49213853:AT:A  & 337146 & 0.966839 & 0.00553648 & -6.09116 & 1.12098e-09 & HC215         & Hypertension                                    & 19:49213853\\_AT\\_A & NA              \\\\\n",
       "\t435 & 19 & 49214066 & 19:49214066:G:A   & 336433 & 0.958611 & 0.00716221 & -5.90180 & 3.59560e-09 & BIN\\_FC6006149 & Dentures                                        & rs281378         & 19-48710809-G-A \\\\\n",
       "\t437 & 19 & 49214066 & 19:49214066:G:A   & 337146 & 0.965514 & 0.00575579 & -6.09722 & 1.07927e-09 & HC215         & Hypertension                                    & rs281378         & 19-48710809-G-A \\\\\n",
       "\t439 & 19 & 49254573 & 19:49254573:T:A   & 336433 & 0.959413 & 0.00731601 & -5.66347 & 1.48342e-08 & BIN\\_FC6006149 & Dentures                                        & rs838137         & 19-48751316-T-A \\\\\n",
       "\t440 & 19 & 49259529 & 19:49259529:A:G   & 336433 & 0.956016 & 0.00696884 & -6.45458 & 1.08517e-10 & BIN\\_FC6006149 & Dentures                                        & rs838133         & 19-48756272-A-G \\\\\n",
       "\t444 & 19 & 49259529 & 19:49259529:A:G   & 337146 & 0.917086 & 0.01310430 & -6.60498 & 3.97573e-11 & HC225         & Cholecystitis                                   & rs838133         & 19-48756272-A-G \\\\\n",
       "\t448 & 19 & 49259529 & 19:49259529:A:G   & 337146 & 0.919700 & 0.01226780 & -6.82340 & 8.89103e-12 & HC188         & Gallstones                                      & rs838133         & 19-48756272-A-G \\\\\n",
       "\t452 & 19 & 49992217 & 19:49992217:C:CA  & 337146 & 1.110690 & 0.01797410 &  5.84050 & 5.20441e-09 & HC219         & Hypothyroidism/myxoedema                        & rs199970514      & 19-49488960-C-CA\\\\\n",
       "\t453 & 20 & 48955595 & 20:48955595:A:G   & 336433 & 1.063720 & 0.00827769 &  7.46257 & 8.48495e-14 & BIN\\_FC1006149 & Mouth ulcers                                    & rs6063502        & 20-50339058-A-G \\\\\n",
       "\t454 & 20 & 52731402 & 20:52731402:A:T   & 337146 & 0.821177 & 0.03200830 & -6.15516 & 7.50023e-10 & HC374         & Kidney stone/ureter stone/bladder stone         & rs6127099        & 20-54114863-A-T \\\\\n",
       "\t456 & 20 & 62444809 & 20:62444809:A:T   & 337146 & 0.933998 & 0.01247450 & -5.47363 & 4.40921e-08 & HC221         & Diabetes                                        & rs59295094       & NA              \\\\\n",
       "\t458 & 20 & 62444809 & 20:62444809:A:T   & 337146 & 0.958555 & 0.00650346 & -6.50852 & 7.58942e-11 & HC215         & Hypertension                                    & rs59295094       & NA              \\\\\n",
       "\t460 & 20 & 62674787 & 20:62674787:A:T   & 337146 & 0.921058 & 0.01489210 & -5.52188 & 3.35385e-08 & HC401         & Varicose veins                                  & rs6011265        & NA              \\\\\n",
       "\t461 & 22 & 21980393 & 22:21980393:CAG:C & 307048 & 1.045700 & 0.00738703 &  6.04961 & 1.45198e-09 & BIN\\_FC5006152 & Hayfever rhinitis or eczema diagnosed by doctor & rs758643372      & NA              \\\\\n",
       "\t462 & 22 & 30324160 & 22:30324160:CT:C  & 337146 & 1.064390 & 0.01124160 &  5.55070 & 2.84534e-08 & HC219         & Hypothyroidism/myxoedema                        & 22:30324160\\_CT\\_C & NA              \\\\\n",
       "\t463 & 22 & 30594803 & 22:30594803:TC:T  & 337146 & 1.062480 & 0.01055560 &  5.74164 & 9.37631e-09 & HC219         & Hypothyroidism/myxoedema                        & rs758886900      & NA              \\\\\n",
       "\t464 & 22 & 44324730 & 22:44324730:C:T   & 337146 & 0.873680 & 0.02291810 & -5.89234 & 3.80774e-09 & HC328         & Gout                                            & rs738408         & 22-43928850-C-T \\\\\n",
       "\t466 & 22 & 44324730 & 22:44324730:C:T   & 337146 & 1.464950 & 0.05621580 &  6.79210 & 1.10511e-11 & HC171         & Alcoholic liver disease / alcoholic cirrhosis   & rs738408         & 22-43928850-C-T \\\\\n",
       "\t468 & 22 & 44324855 & 22:44324855:G:A   & 337146 & 0.872849 & 0.02301000 & -5.91017 & 3.41762e-09 & HC328         & Gout                                            & rs3747207        & 22-43928975-G-A \\\\\n",
       "\t469 & 22 & 44324855 & 22:44324855:G:A   & 337146 & 1.455700 & 0.05645040 &  6.65159 & 2.89944e-11 & HC171         & Alcoholic liver disease / alcoholic cirrhosis   & rs3747207        & 22-43928975-G-A \\\\\n",
       "\\end{tabular}\n"
      ],
      "text/markdown": [
       "\n",
       "A data.frame: 268 × 12\n",
       "\n",
       "| <!--/--> | CHROM &lt;int&gt; | POS &lt;int&gt; | ID &lt;chr&gt; | OBS_CT &lt;int&gt; | OR &lt;dbl&gt; | LOG(OR)_SE &lt;dbl&gt; | Z_STAT &lt;dbl&gt; | P &lt;dbl&gt; | GBE_ID &lt;chr&gt; | GBE_short_name &lt;chr&gt; | rsID &lt;chr&gt; | finngen_var_id &lt;chr&gt; |\n",
       "|---|---|---|---|---|---|---|---|---|---|---|---|---|\n",
       "| 1 | 1 |  22681832 | 1:22681832:CT:C    | 337146 | 0.890541 | 0.01965430 |  -5.89824 | 3.67389e-09 | HC22          | Osteoporosis                                    | 1:22681832_CT_C   | NA              |\n",
       "| 2 | 1 |  25259884 | 1:25259884:C:G     | 307048 | 1.044530 | 0.00597389 |   7.29272 | 3.03752e-13 | BIN_FC5006152 | Hayfever rhinitis or eczema diagnosed by doctor | rs3845302         | 1-24933393-C-G  |\n",
       "| 3 | 1 |  27021913 | 1:27021913:G:C     | 337146 | 1.394200 | 0.05281210 |   6.29245 | 3.12496e-10 | HC328         | Gout                                            | rs114165349       | 1-26695422-G-C  |\n",
       "| 6 | 1 |  27180088 | 1:27180088:A:C     | 337146 | 1.375660 | 0.05358710 |   5.95173 | 2.65329e-09 | HC328         | Gout                                            | rs75460349        | 1-26853597-A-C  |\n",
       "| 9 | 1 |  27262545 | 1:27262545:C:T     | 337146 | 1.318140 | 0.04906670 |   5.62952 | 1.80713e-08 | HC328         | Gout                                            | rs182050989       | NA              |\n",
       "| 11 | 1 | 109816863 | 1:109816863:T:TC   | 337146 | 0.892299 | 0.01461870 |  -7.79506 | 6.43788e-15 | HC132         | Angina                                          | rs552693039       | NA              |\n",
       "| 14 | 1 | 151793174 | 1:151793174:G:T    | 337146 | 0.824196 | 0.03187130 |  -6.06648 | 1.30744e-09 | HC201         | Ulcerative colitis                              | rs11204894        | 1-151820698-G-T |\n",
       "| 15 | 1 | 151793174 | 1:151793174:G:T    | 337146 | 0.857512 | 0.02875900 |  -5.34513 | 9.03506e-08 | HC95          | Inflammatory bowel disease                      | rs11204894        | 1-151820698-G-T |\n",
       "| 16 | 1 | 154343714 | 1:154343714:CAA:C  | 307048 | 1.035930 | 0.00596893 |   5.91396 | 3.33978e-09 | BIN_FC5006152 | Hayfever rhinitis or eczema diagnosed by doctor | 1:154343714_CAA_C | NA              |\n",
       "| 17 | 1 | 154420028 | 1:154420028:TAC:T  | 307048 | 1.044610 | 0.00600050 |   7.27272 | 3.52318e-13 | BIN_FC5006152 | Hayfever rhinitis or eczema diagnosed by doctor | rs200586940       | NA              |\n",
       "| 18 | 1 | 154420028 | 1:154420028:TAC:T  | 337146 | 1.094980 | 0.01356540 |   6.68888 | 2.24878e-11 | HC261         | Eczema/dermatitis                               | rs200586940       | NA              |\n",
       "| 19 | 1 | 154986091 | 1:154986091:T:C    | 337146 | 1.118630 | 0.02079170 |   5.39170 | 6.97923e-08 | HC328         | Gout                                            | rs3753639         | 1-155013615-T-C |\n",
       "| 20 | 1 | 154988957 | 1:154988957:A:G    | 337146 | 0.902097 | 0.01311860 |  -7.85398 | 4.03036e-15 | HC281         | Atrial fibrillation                             | rs2242195         | 1-155016481-A-G |\n",
       "| 21 | 1 | 161478810 | 1:161478810:G:A    | 337146 | 0.850327 | 0.02549110 |  -6.36040 | 2.01223e-10 | HC201         | Ulcerative colitis                              | rs6671847         | NA              |\n",
       "| 22 | 1 | 161478810 | 1:161478810:G:A    | 337146 | 0.882700 | 0.02325210 |  -5.36595 | 8.05261e-08 | HC95          | Inflammatory bowel disease                      | rs6671847         | NA              |\n",
       "| 23 | 1 | 161478859 | 1:161478859:T:C    | 337146 | 0.848274 | 0.02544150 |  -6.46786 | 9.94024e-11 | HC201         | Ulcerative colitis                              | rs4657041         | 1-161509069-T-C |\n",
       "| 24 | 1 | 161599773 | 1:161599773:A:G    | 336433 | 0.945444 | 0.00896922 |  -6.25479 | 3.98043e-10 | BIN_FC1006149 | Mouth ulcers                                    | rs527909462       | NA              |\n",
       "| 25 | 1 | 214145731 | 1:214145731:C:G    | 337146 | 1.071800 | 0.01075340 |   6.44832 | 1.13095e-10 | HC221         | Diabetes                                        | rs340882          | 1-213972388-C-G |\n",
       "| 26 | 1 | 214150821 | 1:214150821:G:C    | 337146 | 1.171060 | 0.02637940 |   5.98623 | 2.14766e-09 | HC221         | Diabetes                                        | rs79687284        | 1-213977478-G-C |\n",
       "| 29 | 2 |  27583099 | 2:27583099:G:T     | 337146 | 0.876565 | 0.01976440 |  -6.66575 | 2.63311e-11 | HC328         | Gout                                            | rs6729692         | NA              |\n",
       "| 30 | 2 |  27583099 | 2:27583099:G:T     | 337146 | 1.063860 | 0.01089480 |   5.68221 | 1.32963e-08 | HC221         | Diabetes                                        | rs6729692         | NA              |\n",
       "| 31 | 2 |  27598097 | 2:27598097:T:C     | 337146 | 0.804448 | 0.01842950 | -11.80710 | 3.58635e-32 | HC328         | Gout                                            | rs4665972         | 2-27375230-T-C  |\n",
       "| 42 | 2 |  27598097 | 2:27598097:T:C     | 337146 | 1.073360 | 0.01067330 |   6.63256 | 3.29925e-11 | HC221         | Diabetes                                        | rs4665972         | 2-27375230-T-C  |\n",
       "| 53 | 2 |  27598097 | 2:27598097:T:C     | 337146 | 1.073490 | 0.01319010 |   5.37620 | 7.60741e-08 | HC225         | Cholecystitis                                   | rs4665972         | 2-27375230-T-C  |\n",
       "| 64 | 2 |  27598097 | 2:27598097:T:C     | 337146 | 1.080580 | 0.01235310 |   6.27373 | 3.52507e-10 | HC188         | Gallstones                                      | rs4665972         | 2-27375230-T-C  |\n",
       "| 75 | 2 |  27711257 | 2:27711257:G:GGACT | 337146 | 0.877319 | 0.01876490 |  -6.97498 | 3.05922e-12 | HC328         | Gout                                            | rs386644222       | NA              |\n",
       "| 79 | 2 |  27734972 | 2:27734972:G:A     | 337146 | 0.824793 | 0.01821430 | -10.57540 | 3.87579e-26 | HC328         | Gout                                            | rs6547692         | 2-27512105-G-A  |\n",
       "| 80 | 2 |  27734972 | 2:27734972:G:A     | 337146 | 1.064370 | 0.01040070 |   5.99760 | 2.00257e-09 | HC221         | Diabetes                                        | rs6547692         | 2-27512105-G-A  |\n",
       "| 81 | 2 |  27734972 | 2:27734972:G:A     | 337146 | 1.075840 | 0.01285090 |   5.68827 | 1.28333e-08 | HC225         | Cholecystitis                                   | rs6547692         | 2-27512105-G-A  |\n",
       "| 82 | 2 |  27734972 | 2:27734972:G:A     | 337146 | 1.075940 | 0.01202800 |   6.08564 | 1.16027e-09 | HC188         | Gallstones                                      | rs6547692         | 2-27512105-G-A  |\n",
       "| ⋮ | ⋮ | ⋮ | ⋮ | ⋮ | ⋮ | ⋮ | ⋮ | ⋮ | ⋮ | ⋮ | ⋮ | ⋮ |\n",
       "| 424 | 19 | 49208368 | 19:49208368:C:T   | 337146 | 1.037550 | 0.00574151 |  6.41982 | 1.36438e-10 | HC215         | Hypertension                                    | rs2432132        | NA               |\n",
       "| 425 | 19 | 49208368 | 19:49208368:C:T   | 337146 | 1.083850 | 0.01351970 |  5.95541 | 2.59424e-09 | HC225         | Cholecystitis                                   | rs2432132        | NA               |\n",
       "| 426 | 19 | 49208368 | 19:49208368:C:T   | 337146 | 1.088820 | 0.01265870 |  6.72194 | 1.79317e-11 | HC188         | Gallstones                                      | rs2432132        | NA               |\n",
       "| 427 | 19 | 49210869 | 19:49210869:A:G   | 336433 | 1.043040 | 0.00692731 |  6.08263 | 1.18229e-09 | BIN_FC6006149 | Dentures                                        | rs2638281        | NA               |\n",
       "| 428 | 19 | 49210869 | 19:49210869:A:G   | 337146 | 1.036830 | 0.00557271 |  6.49031 | 8.56585e-11 | HC215         | Hypertension                                    | rs2638281        | NA               |\n",
       "| 429 | 19 | 49210869 | 19:49210869:A:G   | 337146 | 1.083660 | 0.01228630 |  6.53938 | 6.17741e-11 | HC188         | Gallstones                                      | rs2638281        | NA               |\n",
       "| 430 | 19 | 49210869 | 19:49210869:A:G   | 337146 | 1.085000 | 0.01313130 |  6.21282 | 5.20425e-10 | HC225         | Cholecystitis                                   | rs2638281        | NA               |\n",
       "| 431 | 19 | 49213853 | 19:49213853:AT:A  | 336433 | 0.958261 | 0.00688330 | -6.19392 | 5.86866e-10 | BIN_FC6006149 | Dentures                                        | 19:49213853_AT_A | NA               |\n",
       "| 432 | 19 | 49213853 | 19:49213853:AT:A  | 337146 | 0.919765 | 0.01219470 | -6.85844 | 6.96173e-12 | HC188         | Gallstones                                      | 19:49213853_AT_A | NA               |\n",
       "| 433 | 19 | 49213853 | 19:49213853:AT:A  | 337146 | 0.920647 | 0.01302940 | -6.34550 | 2.21703e-10 | HC225         | Cholecystitis                                   | 19:49213853_AT_A | NA               |\n",
       "| 434 | 19 | 49213853 | 19:49213853:AT:A  | 337146 | 0.966839 | 0.00553648 | -6.09116 | 1.12098e-09 | HC215         | Hypertension                                    | 19:49213853_AT_A | NA               |\n",
       "| 435 | 19 | 49214066 | 19:49214066:G:A   | 336433 | 0.958611 | 0.00716221 | -5.90180 | 3.59560e-09 | BIN_FC6006149 | Dentures                                        | rs281378         | 19-48710809-G-A  |\n",
       "| 437 | 19 | 49214066 | 19:49214066:G:A   | 337146 | 0.965514 | 0.00575579 | -6.09722 | 1.07927e-09 | HC215         | Hypertension                                    | rs281378         | 19-48710809-G-A  |\n",
       "| 439 | 19 | 49254573 | 19:49254573:T:A   | 336433 | 0.959413 | 0.00731601 | -5.66347 | 1.48342e-08 | BIN_FC6006149 | Dentures                                        | rs838137         | 19-48751316-T-A  |\n",
       "| 440 | 19 | 49259529 | 19:49259529:A:G   | 336433 | 0.956016 | 0.00696884 | -6.45458 | 1.08517e-10 | BIN_FC6006149 | Dentures                                        | rs838133         | 19-48756272-A-G  |\n",
       "| 444 | 19 | 49259529 | 19:49259529:A:G   | 337146 | 0.917086 | 0.01310430 | -6.60498 | 3.97573e-11 | HC225         | Cholecystitis                                   | rs838133         | 19-48756272-A-G  |\n",
       "| 448 | 19 | 49259529 | 19:49259529:A:G   | 337146 | 0.919700 | 0.01226780 | -6.82340 | 8.89103e-12 | HC188         | Gallstones                                      | rs838133         | 19-48756272-A-G  |\n",
       "| 452 | 19 | 49992217 | 19:49992217:C:CA  | 337146 | 1.110690 | 0.01797410 |  5.84050 | 5.20441e-09 | HC219         | Hypothyroidism/myxoedema                        | rs199970514      | 19-49488960-C-CA |\n",
       "| 453 | 20 | 48955595 | 20:48955595:A:G   | 336433 | 1.063720 | 0.00827769 |  7.46257 | 8.48495e-14 | BIN_FC1006149 | Mouth ulcers                                    | rs6063502        | 20-50339058-A-G  |\n",
       "| 454 | 20 | 52731402 | 20:52731402:A:T   | 337146 | 0.821177 | 0.03200830 | -6.15516 | 7.50023e-10 | HC374         | Kidney stone/ureter stone/bladder stone         | rs6127099        | 20-54114863-A-T  |\n",
       "| 456 | 20 | 62444809 | 20:62444809:A:T   | 337146 | 0.933998 | 0.01247450 | -5.47363 | 4.40921e-08 | HC221         | Diabetes                                        | rs59295094       | NA               |\n",
       "| 458 | 20 | 62444809 | 20:62444809:A:T   | 337146 | 0.958555 | 0.00650346 | -6.50852 | 7.58942e-11 | HC215         | Hypertension                                    | rs59295094       | NA               |\n",
       "| 460 | 20 | 62674787 | 20:62674787:A:T   | 337146 | 0.921058 | 0.01489210 | -5.52188 | 3.35385e-08 | HC401         | Varicose veins                                  | rs6011265        | NA               |\n",
       "| 461 | 22 | 21980393 | 22:21980393:CAG:C | 307048 | 1.045700 | 0.00738703 |  6.04961 | 1.45198e-09 | BIN_FC5006152 | Hayfever rhinitis or eczema diagnosed by doctor | rs758643372      | NA               |\n",
       "| 462 | 22 | 30324160 | 22:30324160:CT:C  | 337146 | 1.064390 | 0.01124160 |  5.55070 | 2.84534e-08 | HC219         | Hypothyroidism/myxoedema                        | 22:30324160_CT_C | NA               |\n",
       "| 463 | 22 | 30594803 | 22:30594803:TC:T  | 337146 | 1.062480 | 0.01055560 |  5.74164 | 9.37631e-09 | HC219         | Hypothyroidism/myxoedema                        | rs758886900      | NA               |\n",
       "| 464 | 22 | 44324730 | 22:44324730:C:T   | 337146 | 0.873680 | 0.02291810 | -5.89234 | 3.80774e-09 | HC328         | Gout                                            | rs738408         | 22-43928850-C-T  |\n",
       "| 466 | 22 | 44324730 | 22:44324730:C:T   | 337146 | 1.464950 | 0.05621580 |  6.79210 | 1.10511e-11 | HC171         | Alcoholic liver disease / alcoholic cirrhosis   | rs738408         | 22-43928850-C-T  |\n",
       "| 468 | 22 | 44324855 | 22:44324855:G:A   | 337146 | 0.872849 | 0.02301000 | -5.91017 | 3.41762e-09 | HC328         | Gout                                            | rs3747207        | 22-43928975-G-A  |\n",
       "| 469 | 22 | 44324855 | 22:44324855:G:A   | 337146 | 1.455700 | 0.05645040 |  6.65159 | 2.89944e-11 | HC171         | Alcoholic liver disease / alcoholic cirrhosis   | rs3747207        | 22-43928975-G-A  |\n",
       "\n"
      ],
      "text/plain": [
       "    CHROM POS       ID                 OBS_CT OR       LOG(OR)_SE Z_STAT   \n",
       "1   1      22681832 1:22681832:CT:C    337146 0.890541 0.01965430  -5.89824\n",
       "2   1      25259884 1:25259884:C:G     307048 1.044530 0.00597389   7.29272\n",
       "3   1      27021913 1:27021913:G:C     337146 1.394200 0.05281210   6.29245\n",
       "6   1      27180088 1:27180088:A:C     337146 1.375660 0.05358710   5.95173\n",
       "9   1      27262545 1:27262545:C:T     337146 1.318140 0.04906670   5.62952\n",
       "11  1     109816863 1:109816863:T:TC   337146 0.892299 0.01461870  -7.79506\n",
       "14  1     151793174 1:151793174:G:T    337146 0.824196 0.03187130  -6.06648\n",
       "15  1     151793174 1:151793174:G:T    337146 0.857512 0.02875900  -5.34513\n",
       "16  1     154343714 1:154343714:CAA:C  307048 1.035930 0.00596893   5.91396\n",
       "17  1     154420028 1:154420028:TAC:T  307048 1.044610 0.00600050   7.27272\n",
       "18  1     154420028 1:154420028:TAC:T  337146 1.094980 0.01356540   6.68888\n",
       "19  1     154986091 1:154986091:T:C    337146 1.118630 0.02079170   5.39170\n",
       "20  1     154988957 1:154988957:A:G    337146 0.902097 0.01311860  -7.85398\n",
       "21  1     161478810 1:161478810:G:A    337146 0.850327 0.02549110  -6.36040\n",
       "22  1     161478810 1:161478810:G:A    337146 0.882700 0.02325210  -5.36595\n",
       "23  1     161478859 1:161478859:T:C    337146 0.848274 0.02544150  -6.46786\n",
       "24  1     161599773 1:161599773:A:G    336433 0.945444 0.00896922  -6.25479\n",
       "25  1     214145731 1:214145731:C:G    337146 1.071800 0.01075340   6.44832\n",
       "26  1     214150821 1:214150821:G:C    337146 1.171060 0.02637940   5.98623\n",
       "29  2      27583099 2:27583099:G:T     337146 0.876565 0.01976440  -6.66575\n",
       "30  2      27583099 2:27583099:G:T     337146 1.063860 0.01089480   5.68221\n",
       "31  2      27598097 2:27598097:T:C     337146 0.804448 0.01842950 -11.80710\n",
       "42  2      27598097 2:27598097:T:C     337146 1.073360 0.01067330   6.63256\n",
       "53  2      27598097 2:27598097:T:C     337146 1.073490 0.01319010   5.37620\n",
       "64  2      27598097 2:27598097:T:C     337146 1.080580 0.01235310   6.27373\n",
       "75  2      27711257 2:27711257:G:GGACT 337146 0.877319 0.01876490  -6.97498\n",
       "79  2      27734972 2:27734972:G:A     337146 0.824793 0.01821430 -10.57540\n",
       "80  2      27734972 2:27734972:G:A     337146 1.064370 0.01040070   5.99760\n",
       "81  2      27734972 2:27734972:G:A     337146 1.075840 0.01285090   5.68827\n",
       "82  2      27734972 2:27734972:G:A     337146 1.075940 0.01202800   6.08564\n",
       "⋮   ⋮     ⋮         ⋮                  ⋮      ⋮        ⋮          ⋮        \n",
       "424 19    49208368  19:49208368:C:T    337146 1.037550 0.00574151  6.41982 \n",
       "425 19    49208368  19:49208368:C:T    337146 1.083850 0.01351970  5.95541 \n",
       "426 19    49208368  19:49208368:C:T    337146 1.088820 0.01265870  6.72194 \n",
       "427 19    49210869  19:49210869:A:G    336433 1.043040 0.00692731  6.08263 \n",
       "428 19    49210869  19:49210869:A:G    337146 1.036830 0.00557271  6.49031 \n",
       "429 19    49210869  19:49210869:A:G    337146 1.083660 0.01228630  6.53938 \n",
       "430 19    49210869  19:49210869:A:G    337146 1.085000 0.01313130  6.21282 \n",
       "431 19    49213853  19:49213853:AT:A   336433 0.958261 0.00688330 -6.19392 \n",
       "432 19    49213853  19:49213853:AT:A   337146 0.919765 0.01219470 -6.85844 \n",
       "433 19    49213853  19:49213853:AT:A   337146 0.920647 0.01302940 -6.34550 \n",
       "434 19    49213853  19:49213853:AT:A   337146 0.966839 0.00553648 -6.09116 \n",
       "435 19    49214066  19:49214066:G:A    336433 0.958611 0.00716221 -5.90180 \n",
       "437 19    49214066  19:49214066:G:A    337146 0.965514 0.00575579 -6.09722 \n",
       "439 19    49254573  19:49254573:T:A    336433 0.959413 0.00731601 -5.66347 \n",
       "440 19    49259529  19:49259529:A:G    336433 0.956016 0.00696884 -6.45458 \n",
       "444 19    49259529  19:49259529:A:G    337146 0.917086 0.01310430 -6.60498 \n",
       "448 19    49259529  19:49259529:A:G    337146 0.919700 0.01226780 -6.82340 \n",
       "452 19    49992217  19:49992217:C:CA   337146 1.110690 0.01797410  5.84050 \n",
       "453 20    48955595  20:48955595:A:G    336433 1.063720 0.00827769  7.46257 \n",
       "454 20    52731402  20:52731402:A:T    337146 0.821177 0.03200830 -6.15516 \n",
       "456 20    62444809  20:62444809:A:T    337146 0.933998 0.01247450 -5.47363 \n",
       "458 20    62444809  20:62444809:A:T    337146 0.958555 0.00650346 -6.50852 \n",
       "460 20    62674787  20:62674787:A:T    337146 0.921058 0.01489210 -5.52188 \n",
       "461 22    21980393  22:21980393:CAG:C  307048 1.045700 0.00738703  6.04961 \n",
       "462 22    30324160  22:30324160:CT:C   337146 1.064390 0.01124160  5.55070 \n",
       "463 22    30594803  22:30594803:TC:T   337146 1.062480 0.01055560  5.74164 \n",
       "464 22    44324730  22:44324730:C:T    337146 0.873680 0.02291810 -5.89234 \n",
       "466 22    44324730  22:44324730:C:T    337146 1.464950 0.05621580  6.79210 \n",
       "468 22    44324855  22:44324855:G:A    337146 0.872849 0.02301000 -5.91017 \n",
       "469 22    44324855  22:44324855:G:A    337146 1.455700 0.05645040  6.65159 \n",
       "    P           GBE_ID        GBE_short_name                                 \n",
       "1   3.67389e-09 HC22          Osteoporosis                                   \n",
       "2   3.03752e-13 BIN_FC5006152 Hayfever rhinitis or eczema diagnosed by doctor\n",
       "3   3.12496e-10 HC328         Gout                                           \n",
       "6   2.65329e-09 HC328         Gout                                           \n",
       "9   1.80713e-08 HC328         Gout                                           \n",
       "11  6.43788e-15 HC132         Angina                                         \n",
       "14  1.30744e-09 HC201         Ulcerative colitis                             \n",
       "15  9.03506e-08 HC95          Inflammatory bowel disease                     \n",
       "16  3.33978e-09 BIN_FC5006152 Hayfever rhinitis or eczema diagnosed by doctor\n",
       "17  3.52318e-13 BIN_FC5006152 Hayfever rhinitis or eczema diagnosed by doctor\n",
       "18  2.24878e-11 HC261         Eczema/dermatitis                              \n",
       "19  6.97923e-08 HC328         Gout                                           \n",
       "20  4.03036e-15 HC281         Atrial fibrillation                            \n",
       "21  2.01223e-10 HC201         Ulcerative colitis                             \n",
       "22  8.05261e-08 HC95          Inflammatory bowel disease                     \n",
       "23  9.94024e-11 HC201         Ulcerative colitis                             \n",
       "24  3.98043e-10 BIN_FC1006149 Mouth ulcers                                   \n",
       "25  1.13095e-10 HC221         Diabetes                                       \n",
       "26  2.14766e-09 HC221         Diabetes                                       \n",
       "29  2.63311e-11 HC328         Gout                                           \n",
       "30  1.32963e-08 HC221         Diabetes                                       \n",
       "31  3.58635e-32 HC328         Gout                                           \n",
       "42  3.29925e-11 HC221         Diabetes                                       \n",
       "53  7.60741e-08 HC225         Cholecystitis                                  \n",
       "64  3.52507e-10 HC188         Gallstones                                     \n",
       "75  3.05922e-12 HC328         Gout                                           \n",
       "79  3.87579e-26 HC328         Gout                                           \n",
       "80  2.00257e-09 HC221         Diabetes                                       \n",
       "81  1.28333e-08 HC225         Cholecystitis                                  \n",
       "82  1.16027e-09 HC188         Gallstones                                     \n",
       "⋮   ⋮           ⋮             ⋮                                              \n",
       "424 1.36438e-10 HC215         Hypertension                                   \n",
       "425 2.59424e-09 HC225         Cholecystitis                                  \n",
       "426 1.79317e-11 HC188         Gallstones                                     \n",
       "427 1.18229e-09 BIN_FC6006149 Dentures                                       \n",
       "428 8.56585e-11 HC215         Hypertension                                   \n",
       "429 6.17741e-11 HC188         Gallstones                                     \n",
       "430 5.20425e-10 HC225         Cholecystitis                                  \n",
       "431 5.86866e-10 BIN_FC6006149 Dentures                                       \n",
       "432 6.96173e-12 HC188         Gallstones                                     \n",
       "433 2.21703e-10 HC225         Cholecystitis                                  \n",
       "434 1.12098e-09 HC215         Hypertension                                   \n",
       "435 3.59560e-09 BIN_FC6006149 Dentures                                       \n",
       "437 1.07927e-09 HC215         Hypertension                                   \n",
       "439 1.48342e-08 BIN_FC6006149 Dentures                                       \n",
       "440 1.08517e-10 BIN_FC6006149 Dentures                                       \n",
       "444 3.97573e-11 HC225         Cholecystitis                                  \n",
       "448 8.89103e-12 HC188         Gallstones                                     \n",
       "452 5.20441e-09 HC219         Hypothyroidism/myxoedema                       \n",
       "453 8.48495e-14 BIN_FC1006149 Mouth ulcers                                   \n",
       "454 7.50023e-10 HC374         Kidney stone/ureter stone/bladder stone        \n",
       "456 4.40921e-08 HC221         Diabetes                                       \n",
       "458 7.58942e-11 HC215         Hypertension                                   \n",
       "460 3.35385e-08 HC401         Varicose veins                                 \n",
       "461 1.45198e-09 BIN_FC5006152 Hayfever rhinitis or eczema diagnosed by doctor\n",
       "462 2.84534e-08 HC219         Hypothyroidism/myxoedema                       \n",
       "463 9.37631e-09 HC219         Hypothyroidism/myxoedema                       \n",
       "464 3.80774e-09 HC328         Gout                                           \n",
       "466 1.10511e-11 HC171         Alcoholic liver disease / alcoholic cirrhosis  \n",
       "468 3.41762e-09 HC328         Gout                                           \n",
       "469 2.89944e-11 HC171         Alcoholic liver disease / alcoholic cirrhosis  \n",
       "    rsID              finngen_var_id  \n",
       "1   1:22681832_CT_C   NA              \n",
       "2   rs3845302         1-24933393-C-G  \n",
       "3   rs114165349       1-26695422-G-C  \n",
       "6   rs75460349        1-26853597-A-C  \n",
       "9   rs182050989       NA              \n",
       "11  rs552693039       NA              \n",
       "14  rs11204894        1-151820698-G-T \n",
       "15  rs11204894        1-151820698-G-T \n",
       "16  1:154343714_CAA_C NA              \n",
       "17  rs200586940       NA              \n",
       "18  rs200586940       NA              \n",
       "19  rs3753639         1-155013615-T-C \n",
       "20  rs2242195         1-155016481-A-G \n",
       "21  rs6671847         NA              \n",
       "22  rs6671847         NA              \n",
       "23  rs4657041         1-161509069-T-C \n",
       "24  rs527909462       NA              \n",
       "25  rs340882          1-213972388-C-G \n",
       "26  rs79687284        1-213977478-G-C \n",
       "29  rs6729692         NA              \n",
       "30  rs6729692         NA              \n",
       "31  rs4665972         2-27375230-T-C  \n",
       "42  rs4665972         2-27375230-T-C  \n",
       "53  rs4665972         2-27375230-T-C  \n",
       "64  rs4665972         2-27375230-T-C  \n",
       "75  rs386644222       NA              \n",
       "79  rs6547692         2-27512105-G-A  \n",
       "80  rs6547692         2-27512105-G-A  \n",
       "81  rs6547692         2-27512105-G-A  \n",
       "82  rs6547692         2-27512105-G-A  \n",
       "⋮   ⋮                 ⋮               \n",
       "424 rs2432132         NA              \n",
       "425 rs2432132         NA              \n",
       "426 rs2432132         NA              \n",
       "427 rs2638281         NA              \n",
       "428 rs2638281         NA              \n",
       "429 rs2638281         NA              \n",
       "430 rs2638281         NA              \n",
       "431 19:49213853_AT_A  NA              \n",
       "432 19:49213853_AT_A  NA              \n",
       "433 19:49213853_AT_A  NA              \n",
       "434 19:49213853_AT_A  NA              \n",
       "435 rs281378          19-48710809-G-A \n",
       "437 rs281378          19-48710809-G-A \n",
       "439 rs838137          19-48751316-T-A \n",
       "440 rs838133          19-48756272-A-G \n",
       "444 rs838133          19-48756272-A-G \n",
       "448 rs838133          19-48756272-A-G \n",
       "452 rs199970514       19-49488960-C-CA\n",
       "453 rs6063502         20-50339058-A-G \n",
       "454 rs6127099         20-54114863-A-T \n",
       "456 rs59295094        NA              \n",
       "458 rs59295094        NA              \n",
       "460 rs6011265         NA              \n",
       "461 rs758643372       NA              \n",
       "462 22:30324160_CT_C  NA              \n",
       "463 rs758886900       NA              \n",
       "464 rs738408          22-43928850-C-T \n",
       "466 rs738408          22-43928850-C-T \n",
       "468 rs3747207         22-43928975-G-A \n",
       "469 rs3747207         22-43928975-G-A "
      ]
     },
     "metadata": {},
     "output_type": "display_data"
    }
   ],
   "source": [
    "phewas_hits_df"
   ]
  },
  {
   "cell_type": "code",
   "execution_count": 56,
   "metadata": {},
   "outputs": [],
   "source": [
    "phewas_hits_df %>% fwrite(phewas_hits, sep='\\t')"
   ]
  },
  {
   "cell_type": "code",
   "execution_count": 57,
   "metadata": {},
   "outputs": [
    {
     "data": {
      "text/html": [
       "'/oak/stanford/groups/mrivas/projects/biomarkers/phewas/v2_imp_nc/ukb24983_imp_v3.nc.phewas.hits.tsv'"
      ],
      "text/latex": [
       "'/oak/stanford/groups/mrivas/projects/biomarkers/phewas/v2\\_imp\\_nc/ukb24983\\_imp\\_v3.nc.phewas.hits.tsv'"
      ],
      "text/markdown": [
       "'/oak/stanford/groups/mrivas/projects/biomarkers/phewas/v2_imp_nc/ukb24983_imp_v3.nc.phewas.hits.tsv'"
      ],
      "text/plain": [
       "[1] \"/oak/stanford/groups/mrivas/projects/biomarkers/phewas/v2_imp_nc/ukb24983_imp_v3.nc.phewas.hits.tsv\""
      ]
     },
     "metadata": {},
     "output_type": "display_data"
    }
   ],
   "source": [
    "phewas_hits"
   ]
  },
  {
   "cell_type": "code",
   "execution_count": null,
   "metadata": {},
   "outputs": [],
   "source": []
  }
 ],
 "metadata": {
  "kernelspec": {
   "display_name": "R",
   "language": "R",
   "name": "ir"
  },
  "language_info": {
   "codemirror_mode": "r",
   "file_extension": ".r",
   "mimetype": "text/x-r-source",
   "name": "R",
   "pygments_lexer": "r",
   "version": "3.6.1"
  }
 },
 "nbformat": 4,
 "nbformat_minor": 4
}
