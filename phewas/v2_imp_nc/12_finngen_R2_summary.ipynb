{
 "cells": [
  {
   "cell_type": "code",
   "execution_count": 1,
   "metadata": {},
   "outputs": [],
   "source": [
    "suppressPackageStartupMessages(library(tidyverse))\n",
    "suppressPackageStartupMessages(library(data.table))\n"
   ]
  },
  {
   "cell_type": "code",
   "execution_count": 2,
   "metadata": {},
   "outputs": [],
   "source": [
    "res_dir <- '/oak/stanford/groups/mrivas/projects/biomarkers/phewas/v2_imp_nc'\n",
    "\n",
    "phewas_hits_ld <- file.path(res_dir, 'ukb24983_imp_v3.nc.phewas.hits.ld.tsv')\n",
    "phewas_hits_ld_gwas_catalog_summary <- file.path(res_dir, 'ukb24983_imp_v3.nc.phewas.hits.ld.gwascatalog.summary.tsv')\n",
    "\n",
    "phewas_hits_ld_finngen <- file.path(res_dir, 'ukb24983_imp_v3.nc.phewas.hits.ld.finngen.tsv')\n"
   ]
  },
  {
   "cell_type": "code",
   "execution_count": 3,
   "metadata": {},
   "outputs": [],
   "source": [
    "finngen_R2_extracted <- file.path(res_dir, 'ukb24983_imp_v3.nc.phewas.hits.ld.gwascatalog.novel.finngen.R2.tsv') %>%\n",
    "fread(sep='\\t') %>%\n",
    "rename('chrom' = '#chrom')\n"
   ]
  },
  {
   "cell_type": "code",
   "execution_count": 4,
   "metadata": {},
   "outputs": [],
   "source": [
    "finngen_R2_manifest <- '/scratch/groups/mrivas/users/ytanigaw/20200114_FinnGen_R2/summary_stats/r2_manifest.tsv' %>%\n",
    "fread(sep='\\t')\n"
   ]
  },
  {
   "cell_type": "code",
   "execution_count": 19,
   "metadata": {},
   "outputs": [],
   "source": [
    "finngen_R2_df <- finngen_R2_extracted %>% \n",
    "mutate(var_id = paste(chrom, pos, ref, alt, sep='-')) %>%\n",
    "left_join(\n",
    "    finngen_R2_manifest  %>%\n",
    "    select(phenocode, name), \n",
    "    by='phenocode'\n",
    ") %>%\n",
    "select(-chrom, -pos, -ref, -alt)\n",
    "\n",
    "finngen_R2_df.colnames <- colnames(finngen_R2_df) %>%\n",
    "lapply(function(x){paste0('finngen_', x)})\n",
    "\n",
    "colnames(finngen_R2_df) <- finngen_R2_df.colnames"
   ]
  },
  {
   "cell_type": "code",
   "execution_count": 21,
   "metadata": {},
   "outputs": [],
   "source": [
    "df <- fread(phewas_hits_ld) %>% rename('CHROM' = '#CHROM')\n"
   ]
  },
  {
   "cell_type": "code",
   "execution_count": 22,
   "metadata": {},
   "outputs": [],
   "source": [
    "gwas_c_summary <- fread(phewas_hits_ld_gwas_catalog_summary) %>%\n",
    "rename('CHROM' = '#CHROM')\n"
   ]
  },
  {
   "cell_type": "code",
   "execution_count": 25,
   "metadata": {},
   "outputs": [],
   "source": [
    "idx_df <- df %>%\n",
    "arrange(CHROM, POS, GBE_ID) %>%\n",
    "select(ID) %>%\n",
    "unique()%>%\n",
    "mutate(phewas_idx = 1:n())\n"
   ]
  },
  {
   "cell_type": "code",
   "execution_count": 26,
   "metadata": {},
   "outputs": [],
   "source": [
    "merged_df <- df %>% \n",
    "left_join(\n",
    "    idx_df, by=c('ID')\n",
    ") %>%\n",
    "left_join(\n",
    "    gwas_c_summary  %>% select(ID, GBE_ID, is_novel),\n",
    "    by=c('ID', 'GBE_ID')\n",
    ") %>% \n",
    "full_join(\n",
    "    finngen_R2_df, \n",
    "    by='finngen_var_id'\n",
    ") %>%\n",
    "drop_na(LD_ID) \n"
   ]
  },
  {
   "cell_type": "code",
   "execution_count": 30,
   "metadata": {},
   "outputs": [],
   "source": [
    "merged_df %>% \n",
    "rename('#CHROM' = 'CHROM') %>%\n",
    "fwrite(phewas_hits_ld_finngen, sep='\\t')\n"
   ]
  },
  {
   "cell_type": "code",
   "execution_count": 31,
   "metadata": {},
   "outputs": [
    {
     "data": {
      "text/html": [
       "'/oak/stanford/groups/mrivas/projects/biomarkers/phewas/v2_imp_nc/ukb24983_imp_v3.nc.phewas.hits.ld.finngen.tsv'"
      ],
      "text/latex": [
       "'/oak/stanford/groups/mrivas/projects/biomarkers/phewas/v2\\_imp\\_nc/ukb24983\\_imp\\_v3.nc.phewas.hits.ld.finngen.tsv'"
      ],
      "text/markdown": [
       "'/oak/stanford/groups/mrivas/projects/biomarkers/phewas/v2_imp_nc/ukb24983_imp_v3.nc.phewas.hits.ld.finngen.tsv'"
      ],
      "text/plain": [
       "[1] \"/oak/stanford/groups/mrivas/projects/biomarkers/phewas/v2_imp_nc/ukb24983_imp_v3.nc.phewas.hits.ld.finngen.tsv\""
      ]
     },
     "metadata": {},
     "output_type": "display_data"
    }
   ],
   "source": [
    "phewas_hits_ld_finngen"
   ]
  },
  {
   "cell_type": "code",
   "execution_count": null,
   "metadata": {},
   "outputs": [],
   "source": []
  }
 ],
 "metadata": {
  "kernelspec": {
   "display_name": "R",
   "language": "R",
   "name": "ir"
  },
  "language_info": {
   "codemirror_mode": "r",
   "file_extension": ".r",
   "mimetype": "text/x-r-source",
   "name": "R",
   "pygments_lexer": "r",
   "version": "3.6.1"
  }
 },
 "nbformat": 4,
 "nbformat_minor": 4
}
