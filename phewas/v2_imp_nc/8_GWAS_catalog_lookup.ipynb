{
 "cells": [
  {
   "cell_type": "code",
   "execution_count": 1,
   "metadata": {},
   "outputs": [],
   "source": [
    "suppressPackageStartupMessages(library(tidyverse))\n",
    "suppressPackageStartupMessages(library(data.table))\n"
   ]
  },
  {
   "cell_type": "code",
   "execution_count": 2,
   "metadata": {},
   "outputs": [],
   "source": [
    "gwas_c_data_dir <- '/scratch/groups/mrivas/public_data/gwas_catalog_20200216' \n",
    "gwas_c_file  <- file.path(gwas_c_data_dir, 'gwas_catalog_v1.0.2-associations_e98_r2020-02-08.tsv.gz')\n"
   ]
  },
  {
   "cell_type": "code",
   "execution_count": 3,
   "metadata": {},
   "outputs": [],
   "source": [
    "res_dir <- '/oak/stanford/groups/mrivas/projects/biomarkers/phewas/v2_imp_nc'\n",
    "phewas_hits_ld <- file.path(res_dir, 'ukb24983_imp_v3.nc.phewas.hits.ld.tsv')\n",
    "phewas_hits_ld_gwas_catalog <- file.path(res_dir, 'ukb24983_imp_v3.nc.phewas.hits.ld.gwascatalog.tsv')\n"
   ]
  },
  {
   "cell_type": "code",
   "execution_count": 13,
   "metadata": {},
   "outputs": [],
   "source": [
    "gwas_c_df <- fread(cmd=paste('zcat', gwas_c_file), sep='\\t')\n"
   ]
  },
  {
   "cell_type": "code",
   "execution_count": 29,
   "metadata": {},
   "outputs": [],
   "source": [
    "df <- fread(phewas_hits_ld) %>% rename('CHROM' = '#CHROM')"
   ]
  },
  {
   "cell_type": "code",
   "execution_count": 24,
   "metadata": {},
   "outputs": [],
   "source": [
    "gwas_c_hits <- gwas_c_df %>% \n",
    "select(SNPS, 'P-VALUE', 'MAPPED_TRAIT', 'MAPPED_TRAIT_URI') %>% \n",
    "filter(SNPS %in% (df %>% select(LD_rsID) %>% unique() %>% pull())) %>%\n",
    "rename('EBI_P' = 'P-VALUE', 'EBI_TRAIT' = 'MAPPED_TRAIT', 'EBI_URI' = 'MAPPED_TRAIT_URI')\n"
   ]
  },
  {
   "cell_type": "code",
   "execution_count": 25,
   "metadata": {},
   "outputs": [
    {
     "data": {
      "text/html": [
       "<ol class=list-inline>\n",
       "\t<li>840</li>\n",
       "\t<li>4</li>\n",
       "</ol>\n"
      ],
      "text/latex": [
       "\\begin{enumerate*}\n",
       "\\item 840\n",
       "\\item 4\n",
       "\\end{enumerate*}\n"
      ],
      "text/markdown": [
       "1. 840\n",
       "2. 4\n",
       "\n",
       "\n"
      ],
      "text/plain": [
       "[1] 840   4"
      ]
     },
     "metadata": {},
     "output_type": "display_data"
    }
   ],
   "source": [
    "gwas_c_hits %>% dim()"
   ]
  },
  {
   "cell_type": "code",
   "execution_count": 27,
   "metadata": {},
   "outputs": [
    {
     "data": {
      "text/html": [
       "<table>\n",
       "<caption>A data.frame: 0 × 4</caption>\n",
       "<thead>\n",
       "\t<tr><th scope=col>SNPS</th><th scope=col>EBI_P</th><th scope=col>EBI_TRAIT</th><th scope=col>EBI_URI</th></tr>\n",
       "\t<tr><th scope=col>&lt;chr&gt;</th><th scope=col>&lt;chr&gt;</th><th scope=col>&lt;chr&gt;</th><th scope=col>&lt;chr&gt;</th></tr>\n",
       "</thead>\n",
       "<tbody>\n",
       "</tbody>\n",
       "</table>\n"
      ],
      "text/latex": [
       "A data.frame: 0 × 4\n",
       "\\begin{tabular}{r|llll}\n",
       " SNPS & EBI\\_P & EBI\\_TRAIT & EBI\\_URI\\\\\n",
       " <chr> & <chr> & <chr> & <chr>\\\\\n",
       "\\hline\n",
       "\\end{tabular}\n"
      ],
      "text/markdown": [
       "\n",
       "A data.frame: 0 × 4\n",
       "\n",
       "| SNPS &lt;chr&gt; | EBI_P &lt;chr&gt; | EBI_TRAIT &lt;chr&gt; | EBI_URI &lt;chr&gt; |\n",
       "|---|---|---|---|\n",
       "\n"
      ],
      "text/plain": [
       "     SNPS EBI_P EBI_TRAIT EBI_URI"
      ]
     },
     "metadata": {},
     "output_type": "display_data"
    }
   ],
   "source": [
    "gwas_c_hits %>% filter(is.na('EBI_P')) %>% head()"
   ]
  },
  {
   "cell_type": "code",
   "execution_count": 44,
   "metadata": {},
   "outputs": [],
   "source": [
    "idx_df <- df %>%\n",
    "arrange(CHROM, POS, GBE_ID) %>%\n",
    "select(ID) %>%\n",
    "unique()%>%\n",
    "mutate(phewas_idx = 1:n())\n"
   ]
  },
  {
   "cell_type": "code",
   "execution_count": 45,
   "metadata": {},
   "outputs": [
    {
     "data": {
      "text/html": [
       "<ol class=list-inline>\n",
       "\t<li>175</li>\n",
       "\t<li>2</li>\n",
       "</ol>\n"
      ],
      "text/latex": [
       "\\begin{enumerate*}\n",
       "\\item 175\n",
       "\\item 2\n",
       "\\end{enumerate*}\n"
      ],
      "text/markdown": [
       "1. 175\n",
       "2. 2\n",
       "\n",
       "\n"
      ],
      "text/plain": [
       "[1] 175   2"
      ]
     },
     "metadata": {},
     "output_type": "display_data"
    }
   ],
   "source": [
    "idx_df %>% dim()"
   ]
  },
  {
   "cell_type": "code",
   "execution_count": 47,
   "metadata": {},
   "outputs": [],
   "source": [
    "df_with_ebi <- df %>% \n",
    "left_join(\n",
    "    idx_df, by=c('ID')\n",
    ") %>%\n",
    "full_join(gwas_c_hits, by=c('LD_rsID' = 'SNPS')) %>%\n",
    "drop_na(LD_ID) %>%\n",
    "arrange(phewas_idx, CHROM, POS, LD_CHROM, LD_POS)\n"
   ]
  },
  {
   "cell_type": "code",
   "execution_count": 48,
   "metadata": {},
   "outputs": [],
   "source": [
    "df_with_ebi %>% \n",
    "rename('#CHROM' = 'CHROM') %>%\n",
    "fwrite(phewas_hits_ld_gwas_catalog, sep='\\t')\n"
   ]
  },
  {
   "cell_type": "code",
   "execution_count": null,
   "metadata": {},
   "outputs": [],
   "source": []
  }
 ],
 "metadata": {
  "kernelspec": {
   "display_name": "R",
   "language": "R",
   "name": "ir"
  },
  "language_info": {
   "codemirror_mode": "r",
   "file_extension": ".r",
   "mimetype": "text/x-r-source",
   "name": "R",
   "pygments_lexer": "r",
   "version": "3.6.1"
  }
 },
 "nbformat": 4,
 "nbformat_minor": 4
}
