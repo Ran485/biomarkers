{
 "cells": [
  {
   "cell_type": "code",
   "execution_count": 1,
   "metadata": {},
   "outputs": [],
   "source": [
    "suppressPackageStartupMessages(library(tidyverse))\n",
    "suppressPackageStartupMessages(library(data.table))\n"
   ]
  },
  {
   "cell_type": "code",
   "execution_count": 2,
   "metadata": {},
   "outputs": [],
   "source": [
    "res_all <- readRDS( 'finemap_results_figure3.rds' )\n"
   ]
  },
  {
   "cell_type": "code",
   "execution_count": 3,
   "metadata": {},
   "outputs": [],
   "source": [
    "## Define six colors\n",
    "colors6 <- c(\n",
    "\trgb( 107, 223, 72,  max = 255 ),\n",
    "\trgb( 121, 213, 117, max = 255 ),\n",
    "\trgb( 129, 214, 161, max = 255 ),\n",
    "\trgb( 93,  217, 206, max = 255 ),\n",
    "\trgb( 168, 226, 242, max = 255 ),\n",
    "\trgb( 101, 193, 227, max = 255 )\n",
    ")\n"
   ]
  },
  {
   "cell_type": "code",
   "execution_count": 4,
   "metadata": {},
   "outputs": [
    {
     "name": "stdout",
     "output_type": "stream",
     "text": [
      "[1] 35  4\n"
     ]
    }
   ],
   "source": [
    "cascade_files <- file.path('../cascade', 'cascade.input.files.tsv')\n",
    "traits <- fread(cascade_files)\n",
    "dim(traits) %>% print()\n"
   ]
  },
  {
   "cell_type": "code",
   "execution_count": 5,
   "metadata": {},
   "outputs": [
    {
     "data": {
      "text/html": [
       "35"
      ],
      "text/latex": [
       "35"
      ],
      "text/markdown": [
       "35"
      ],
      "text/plain": [
       "[1] 35"
      ]
     },
     "metadata": {},
     "output_type": "display_data"
    }
   ],
   "source": [
    "length(intersect(names(res_all), (traits %>% select(annotation) %>% pull())))\n"
   ]
  },
  {
   "cell_type": "code",
   "execution_count": 6,
   "metadata": {},
   "outputs": [],
   "source": [
    "res <- list()\n",
    "for(trait in intersect(names(res_all), (traits %>% select(annotation) %>% pull()))){\n",
    "    res[[ trait ]] <- res_all[[ trait ]]\n",
    "}\n"
   ]
  },
  {
   "cell_type": "code",
   "execution_count": 7,
   "metadata": {},
   "outputs": [],
   "source": [
    "compute_finemap_sumstats <- function(trait, res_trait){\n",
    "    n_regions           <- nrow( drop_na ( res_trait ) )\n",
    "    n_signals           <- sum( as.numeric( drop_na( res_trait )$n_signals ) ) \n",
    "    n_signal_per_region <- table(\n",
    "                cut(\n",
    "                    x      = as.numeric( drop_na( res_trait )$n_signals ),\n",
    "                    breaks = c( 0, 1, 2, 3, 4, 5, Inf ),\n",
    "                    labels = c( 'sr1', 'sr2', 'sr3', 'sr4', 'sr5', 'sr6+' )\n",
    "                )\n",
    "        )\n",
    "    n_snps_per_signal   <- table(\n",
    "                cut( \n",
    "                    x      = unlist( sapply( drop_na( res_trait )$n_snps_per_signal, function( x ) as.numeric( strsplit( x, split = '\\\\|' )[[ 1 ]] ), USE.NAMES = F ) ),\n",
    "                    breaks = c( 0, 1, 5, 10, 20, 50, Inf ),\n",
    "                    labels = c( 'ss1', 'ss2-5', 'ss6-10', 'ss11-20', 'ss21-50', 'ss51+' )\n",
    "                )\n",
    "    )\n",
    "                    \n",
    "    finemap_sumstats <- c(trait, n_regions, n_signals, n_signal_per_region, n_snps_per_signal)\n",
    "    names(finemap_sumstats)[1:3] <- c('trait', 'n_regions', 'n_signals')\n",
    "\n",
    "    finemap_sumstats\n",
    "}"
   ]
  },
  {
   "cell_type": "code",
   "execution_count": 8,
   "metadata": {},
   "outputs": [],
   "source": [
    "count_df <- traits %>% select(name, annotation) %>% \n",
    "rename('trait' = 'annotation') %>%\n",
    "right_join(\n",
    "    do.call(rbind, lapply(\n",
    "        intersect(names(res_all), (traits %>% select(annotation) %>% pull())),\n",
    "        function(trait) { compute_finemap_sumstats(trait, res[[ trait ]]) }\n",
    "    )) %>% as.data.frame(stringsAsFactors = F),\n",
    "    by='trait'\n",
    ")\n"
   ]
  },
  {
   "cell_type": "code",
   "execution_count": 9,
   "metadata": {},
   "outputs": [],
   "source": [
    "count_df %>%\n",
    "fwrite('plotFinemapFigure3_count_summary.tsv', sep='\\t')"
   ]
  },
  {
   "cell_type": "code",
   "execution_count": null,
   "metadata": {},
   "outputs": [],
   "source": []
  }
 ],
 "metadata": {
  "kernelspec": {
   "display_name": "R",
   "language": "R",
   "name": "ir"
  },
  "language_info": {
   "codemirror_mode": "r",
   "file_extension": ".r",
   "mimetype": "text/x-r-source",
   "name": "R",
   "pygments_lexer": "r",
   "version": "3.6.1"
  }
 },
 "nbformat": 4,
 "nbformat_minor": 4
}
