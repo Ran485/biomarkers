{
 "cells": [
  {
   "cell_type": "code",
   "execution_count": 1,
   "metadata": {},
   "outputs": [
    {
     "name": "stderr",
     "output_type": "stream",
     "text": [
      "Auto-refreshing stale OAuth token.\n",
      "\n"
     ]
    }
   ],
   "source": [
    "suppressWarnings(suppressPackageStartupMessages({\n",
    "    library(tidyverse)\n",
    "    library(data.table)\n",
    "    library(googlesheets)\n",
    "}))\n",
    "\n",
    "gs_auth(token = \"/home/users/ytanigaw/.googlesheets_token.rds\")\n"
   ]
  },
  {
   "cell_type": "code",
   "execution_count": 2,
   "metadata": {},
   "outputs": [],
   "source": [
    "# input\n",
    "header_f <- '../filtration/header.finemapping.txt'\n",
    "traits_f <- '../../common/canonical_trait_names.txt'\n",
    "filter_f <- '../filtration/%s_subset.tsv'\n",
    "ST_table_g <- 'https://docs.google.com/spreadsheets/d/1CVm_ozbTQeAwvN6KWnn4gHuGwUNIn_O_9F7I1STg_uc'\n"
   ]
  },
  {
   "cell_type": "code",
   "execution_count": 3,
   "metadata": {},
   "outputs": [],
   "source": [
    "header_f %>% fread() %>% colnames() -> colnames\n",
    "\n",
    "traits_f %>% fread() %>% filter(annotation != 'Fasting_glucose') -> traits_df\n",
    "\n",
    "traits_df %>% pull(annotation) %>%\n",
    "lapply(function(trait){\n",
    "    sprintf(filter_f, trait) %>% fread(col.names = colnames) %>% mutate(trait = trait)\n",
    "}) %>% bind_rows() -> finemap_subset_df \n"
   ]
  },
  {
   "cell_type": "code",
   "execution_count": 6,
   "metadata": {},
   "outputs": [],
   "source": [
    "suppressWarnings(suppressMessages({\n",
    "    c('ST6', 'ST7') %>% lapply(function(wsname){\n",
    "        ST_table_g %>% gs_url() %>% gs_read(\n",
    "            ws = wsname, skip=1, col_types = cols(\n",
    "                'CHROM' = col_integer(), 'POS' = col_integer()\n",
    "            )\n",
    "        ) %>% mutate(ws_name = wsname)        \n",
    "    }) %>% bind_rows() -> coding_hits_df\n",
    "}))\n"
   ]
  },
  {
   "cell_type": "code",
   "execution_count": 8,
   "metadata": {},
   "outputs": [
    {
     "data": {
      "text/html": [
       "<table>\n",
       "<caption>A spec_tbl_df: 2 × 2</caption>\n",
       "<thead>\n",
       "\t<tr><th scope=col>ws_name</th><th scope=col>n</th></tr>\n",
       "\t<tr><th scope=col>&lt;chr&gt;</th><th scope=col>&lt;int&gt;</th></tr>\n",
       "</thead>\n",
       "<tbody>\n",
       "\t<tr><td>ST6</td><td>  58</td></tr>\n",
       "\t<tr><td>ST7</td><td>1323</td></tr>\n",
       "</tbody>\n",
       "</table>\n"
      ],
      "text/latex": [
       "A spec\\_tbl\\_df: 2 × 2\n",
       "\\begin{tabular}{ll}\n",
       " ws\\_name & n\\\\\n",
       " <chr> & <int>\\\\\n",
       "\\hline\n",
       "\t ST6 &   58\\\\\n",
       "\t ST7 & 1323\\\\\n",
       "\\end{tabular}\n"
      ],
      "text/markdown": [
       "\n",
       "A spec_tbl_df: 2 × 2\n",
       "\n",
       "| ws_name &lt;chr&gt; | n &lt;int&gt; |\n",
       "|---|---|\n",
       "| ST6 |   58 |\n",
       "| ST7 | 1323 |\n",
       "\n"
      ],
      "text/plain": [
       "  ws_name n   \n",
       "1 ST6       58\n",
       "2 ST7     1323"
      ]
     },
     "metadata": {},
     "output_type": "display_data"
    }
   ],
   "source": [
    "coding_hits_df %>% count(ws_name)"
   ]
  },
  {
   "cell_type": "code",
   "execution_count": 11,
   "metadata": {},
   "outputs": [],
   "source": [
    "coding_hits_df %>% \n",
    "inner_join(\n",
    "    finemap_subset_df,\n",
    "    by=c('CHROM'='chromosome', 'POS'='position', 'REF'='allele1', 'ALT'='allele2')\n",
    ") -> coding_hits_fm_df\n"
   ]
  },
  {
   "cell_type": "code",
   "execution_count": 14,
   "metadata": {},
   "outputs": [
    {
     "data": {
      "text/html": [
       "<style>\n",
       ".list-inline {list-style: none; margin:0; padding: 0}\n",
       ".list-inline>li {display: inline-block}\n",
       ".list-inline>li:not(:last-child)::after {content: \"\\00b7\"; padding: 0 .5ex}\n",
       "</style>\n",
       "<ol class=list-inline><li>4</li><li>40</li></ol>\n"
      ],
      "text/latex": [
       "\\begin{enumerate*}\n",
       "\\item 4\n",
       "\\item 40\n",
       "\\end{enumerate*}\n"
      ],
      "text/markdown": [
       "1. 4\n",
       "2. 40\n",
       "\n",
       "\n"
      ],
      "text/plain": [
       "[1]  4 40"
      ]
     },
     "metadata": {},
     "output_type": "display_data"
    }
   ],
   "source": [
    "coding_hits_fm_df %>% dim()\n"
   ]
  },
  {
   "cell_type": "code",
   "execution_count": 20,
   "metadata": {},
   "outputs": [
    {
     "data": {
      "text/html": [
       "<table>\n",
       "<caption>A tibble: 4 × 11</caption>\n",
       "<thead>\n",
       "\t<tr><th scope=col>CHROM</th><th scope=col>POS</th><th scope=col>REF</th><th scope=col>ALT</th><th scope=col>ID</th><th scope=col>Trait</th><th scope=col>BETA</th><th scope=col>SE</th><th scope=col>prob</th><th scope=col>log10bf</th><th scope=col>ws_name</th></tr>\n",
       "\t<tr><th scope=col>&lt;int&gt;</th><th scope=col>&lt;int&gt;</th><th scope=col>&lt;chr&gt;</th><th scope=col>&lt;chr&gt;</th><th scope=col>&lt;chr&gt;</th><th scope=col>&lt;chr&gt;</th><th scope=col>&lt;dbl&gt;</th><th scope=col>&lt;dbl&gt;</th><th scope=col>&lt;dbl&gt;</th><th scope=col>&lt;dbl&gt;</th><th scope=col>&lt;chr&gt;</th></tr>\n",
       "</thead>\n",
       "<tbody>\n",
       "\t<tr><td>1</td><td>205744218</td><td>C</td><td>T</td><td>Affx-35292504</td><td>Alkaline phosphatase</td><td>0.0218</td><td>0.0036</td><td>0</td><td>-Inf</td><td>ST7</td></tr>\n",
       "\t<tr><td>1</td><td>205744218</td><td>C</td><td>T</td><td>Affx-35292504</td><td>Alkaline phosphatase</td><td>0.0218</td><td>0.0036</td><td>0</td><td>-Inf</td><td>ST7</td></tr>\n",
       "\t<tr><td>1</td><td>205744218</td><td>C</td><td>T</td><td>Affx-35292504</td><td>Alkaline phosphatase</td><td>0.0218</td><td>0.0036</td><td>0</td><td>-Inf</td><td>ST7</td></tr>\n",
       "\t<tr><td>1</td><td>205744218</td><td>C</td><td>T</td><td>Affx-35292504</td><td>Alkaline phosphatase</td><td>0.0218</td><td>0.0036</td><td>0</td><td>-Inf</td><td>ST7</td></tr>\n",
       "</tbody>\n",
       "</table>\n"
      ],
      "text/latex": [
       "A tibble: 4 × 11\n",
       "\\begin{tabular}{lllllllllll}\n",
       " CHROM & POS & REF & ALT & ID & Trait & BETA & SE & prob & log10bf & ws\\_name\\\\\n",
       " <int> & <int> & <chr> & <chr> & <chr> & <chr> & <dbl> & <dbl> & <dbl> & <dbl> & <chr>\\\\\n",
       "\\hline\n",
       "\t 1 & 205744218 & C & T & Affx-35292504 & Alkaline phosphatase & 0.0218 & 0.0036 & 0 & -Inf & ST7\\\\\n",
       "\t 1 & 205744218 & C & T & Affx-35292504 & Alkaline phosphatase & 0.0218 & 0.0036 & 0 & -Inf & ST7\\\\\n",
       "\t 1 & 205744218 & C & T & Affx-35292504 & Alkaline phosphatase & 0.0218 & 0.0036 & 0 & -Inf & ST7\\\\\n",
       "\t 1 & 205744218 & C & T & Affx-35292504 & Alkaline phosphatase & 0.0218 & 0.0036 & 0 & -Inf & ST7\\\\\n",
       "\\end{tabular}\n"
      ],
      "text/markdown": [
       "\n",
       "A tibble: 4 × 11\n",
       "\n",
       "| CHROM &lt;int&gt; | POS &lt;int&gt; | REF &lt;chr&gt; | ALT &lt;chr&gt; | ID &lt;chr&gt; | Trait &lt;chr&gt; | BETA &lt;dbl&gt; | SE &lt;dbl&gt; | prob &lt;dbl&gt; | log10bf &lt;dbl&gt; | ws_name &lt;chr&gt; |\n",
       "|---|---|---|---|---|---|---|---|---|---|---|\n",
       "| 1 | 205744218 | C | T | Affx-35292504 | Alkaline phosphatase | 0.0218 | 0.0036 | 0 | -Inf | ST7 |\n",
       "| 1 | 205744218 | C | T | Affx-35292504 | Alkaline phosphatase | 0.0218 | 0.0036 | 0 | -Inf | ST7 |\n",
       "| 1 | 205744218 | C | T | Affx-35292504 | Alkaline phosphatase | 0.0218 | 0.0036 | 0 | -Inf | ST7 |\n",
       "| 1 | 205744218 | C | T | Affx-35292504 | Alkaline phosphatase | 0.0218 | 0.0036 | 0 | -Inf | ST7 |\n",
       "\n"
      ],
      "text/plain": [
       "  CHROM POS       REF ALT ID            Trait                BETA   SE     prob\n",
       "1 1     205744218 C   T   Affx-35292504 Alkaline phosphatase 0.0218 0.0036 0   \n",
       "2 1     205744218 C   T   Affx-35292504 Alkaline phosphatase 0.0218 0.0036 0   \n",
       "3 1     205744218 C   T   Affx-35292504 Alkaline phosphatase 0.0218 0.0036 0   \n",
       "4 1     205744218 C   T   Affx-35292504 Alkaline phosphatase 0.0218 0.0036 0   \n",
       "  log10bf ws_name\n",
       "1 -Inf    ST7    \n",
       "2 -Inf    ST7    \n",
       "3 -Inf    ST7    \n",
       "4 -Inf    ST7    "
      ]
     },
     "metadata": {},
     "output_type": "display_data"
    }
   ],
   "source": [
    "coding_hits_fm_df %>%\n",
    "select(CHROM, POS, REF, ALT, ID, Trait, BETA, SE, prob, log10bf, ws_name)"
   ]
  },
  {
   "cell_type": "code",
   "execution_count": null,
   "metadata": {},
   "outputs": [],
   "source": []
  }
 ],
 "metadata": {
  "kernelspec": {
   "display_name": "R",
   "language": "R",
   "name": "ir"
  },
  "language_info": {
   "codemirror_mode": "r",
   "file_extension": ".r",
   "mimetype": "text/x-r-source",
   "name": "R",
   "pygments_lexer": "r",
   "version": "3.6.2"
  }
 },
 "nbformat": 4,
 "nbformat_minor": 4
}
