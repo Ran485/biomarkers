{
 "cells": [
  {
   "cell_type": "code",
   "execution_count": 1,
   "metadata": {},
   "outputs": [],
   "source": [
    "suppressWarnings(suppressPackageStartupMessages({\n",
    "    library(tidyverse)\n",
    "    library(data.table)\n",
    "}))\n"
   ]
  },
  {
   "cell_type": "code",
   "execution_count": 2,
   "metadata": {},
   "outputs": [],
   "source": [
    "# input\n",
    "\n",
    "parsed_finemap_f <- 'FINEMAP_output.tsv'\n",
    "traits_f <- '../common/canonical_trait_names.txt'\n",
    "\n",
    "\n"
   ]
  },
  {
   "cell_type": "code",
   "execution_count": 3,
   "metadata": {},
   "outputs": [],
   "source": [
    "source('finemap_functions.R')"
   ]
  },
  {
   "cell_type": "code",
   "execution_count": 4,
   "metadata": {},
   "outputs": [],
   "source": [
    "traits <- fread(traits_f) %>%\n",
    "filter(annotation != 'Fasting_glucose') %>%\n",
    "pull(annotation)\n",
    "\n",
    "df <- fread(parsed_finemap_f) %>%\n",
    "filter(trait %in% traits)\n",
    "\n",
    "res <- list()\n",
    "for(t in traits){\n",
    "    res[[ t ]] <- df %>% filter(trait == t) %>% select(-trait)\n",
    "}\n"
   ]
  },
  {
   "cell_type": "markdown",
   "metadata": {},
   "source": [
    "#### compute statistics for the summary figure"
   ]
  },
  {
   "cell_type": "code",
   "execution_count": 5,
   "metadata": {},
   "outputs": [],
   "source": [
    "n_regions <- sum( sapply( res, get_n_regions ) )\n",
    "n_signals <- sum( sapply( res, get_n_signals ) )\n",
    "n_signal_per_region <- table( unlist( lapply( res, get_n_signal_per_region ) ) )\n",
    "n_snps_per_signal <- table( unlist( lapply( res, get_n_snps_per_signal) ) )\n",
    "n_signal_per_region_max <- setNames(lapply(res, get_n_signal_per_region_max), names(res))\n"
   ]
  },
  {
   "cell_type": "markdown",
   "metadata": {},
   "source": [
    "#### Number of distinct signals per region"
   ]
  },
  {
   "cell_type": "code",
   "execution_count": 6,
   "metadata": {},
   "outputs": [
    {
     "name": "stderr",
     "output_type": "stream",
     "text": [
      "Distinct association signals. A single signal at 33 regions, and two to 40 signals at 5330 regions across 35 traits.\n"
     ]
    },
    {
     "data": {
      "text/html": [
       "<table>\n",
       "<caption>A matrix: 2 × 6 of type chr</caption>\n",
       "<tbody>\n",
       "\t<tr><th scope=row>n_signals</th><td>1   </td><td>2   </td><td>3   </td><td>4   </td><td>5   </td><td>6+  </td></tr>\n",
       "\t<tr><th scope=row>n_regions</th><td>  33</td><td> 276</td><td> 963</td><td>1256</td><td>1033</td><td>1802</td></tr>\n",
       "</tbody>\n",
       "</table>\n"
      ],
      "text/latex": [
       "A matrix: 2 × 6 of type chr\n",
       "\\begin{tabular}{r|llllll}\n",
       "\tn\\_signals & 1    & 2    & 3    & 4    & 5    & 6+  \\\\\n",
       "\tn\\_regions &   33 &  276 &  963 & 1256 & 1033 & 1802\\\\\n",
       "\\end{tabular}\n"
      ],
      "text/markdown": [
       "\n",
       "A matrix: 2 × 6 of type chr\n",
       "\n",
       "| n_signals | 1    | 2    | 3    | 4    | 5    | 6+   |\n",
       "| n_regions |   33 |  276 |  963 | 1256 | 1033 | 1802 |\n",
       "\n"
      ],
      "text/plain": [
       "          [,1] [,2] [,3] [,4] [,5] [,6]\n",
       "n_signals 1    2    3    4    5    6+  \n",
       "n_regions   33  276  963 1256 1033 1802"
      ]
     },
     "metadata": {},
     "output_type": "display_data"
    }
   ],
   "source": [
    "get_summary_number_of_distinct_signals_per_region(n_signal_per_region, n_signal_per_region_max, length(res))"
   ]
  },
  {
   "cell_type": "markdown",
   "metadata": {},
   "source": [
    "#### Number of variants in the credible set with >= 99%% posterior probability"
   ]
  },
  {
   "cell_type": "code",
   "execution_count": 7,
   "metadata": {},
   "outputs": [
    {
     "name": "stderr",
     "output_type": "stream",
     "text": [
      "Number of variants in the credible set with >= 99% posterior probability. In total of 2547 signals were mapped to a single variant in the credible set across 35 traits.\n"
     ]
    },
    {
     "data": {
      "text/html": [
       "<table>\n",
       "<caption>A matrix: 2 × 6 of type chr</caption>\n",
       "<tbody>\n",
       "\t<tr><th scope=row>n_variants</th><td>1    </td><td>2-5  </td><td>6-10 </td><td>11-20</td><td>21-50</td><td>51+  </td></tr>\n",
       "\t<tr><th scope=row>n_signals</th><td> 2547</td><td> 3862</td><td> 2510</td><td> 3199</td><td> 5578</td><td>10157</td></tr>\n",
       "</tbody>\n",
       "</table>\n"
      ],
      "text/latex": [
       "A matrix: 2 × 6 of type chr\n",
       "\\begin{tabular}{r|llllll}\n",
       "\tn\\_variants & 1     & 2-5   & 6-10  & 11-20 & 21-50 & 51+  \\\\\n",
       "\tn\\_signals &  2547 &  3862 &  2510 &  3199 &  5578 & 10157\\\\\n",
       "\\end{tabular}\n"
      ],
      "text/markdown": [
       "\n",
       "A matrix: 2 × 6 of type chr\n",
       "\n",
       "| n_variants | 1     | 2-5   | 6-10  | 11-20 | 21-50 | 51+   |\n",
       "| n_signals |  2547 |  3862 |  2510 |  3199 |  5578 | 10157 |\n",
       "\n"
      ],
      "text/plain": [
       "           [,1]  [,2]  [,3]  [,4]  [,5]  [,6] \n",
       "n_variants 1     2-5   6-10  11-20 21-50 51+  \n",
       "n_signals   2547  3862  2510  3199  5578 10157"
      ]
     },
     "metadata": {},
     "output_type": "display_data"
    }
   ],
   "source": [
    "get_summary_number_of_variants_in_credible_set(n_snps_per_signal, length(res))\n"
   ]
  },
  {
   "cell_type": "code",
   "execution_count": 9,
   "metadata": {},
   "outputs": [
    {
     "data": {
      "text/html": [
       "<strong>png:</strong> 2"
      ],
      "text/latex": [
       "\\textbf{png:} 2"
      ],
      "text/markdown": [
       "**png:** 2"
      ],
      "text/plain": [
       "png \n",
       "  2 "
      ]
     },
     "metadata": {},
     "output_type": "display_data"
    }
   ],
   "source": [
    "pdf(file.path('figs', 'fig3A.pdf'), width = 12, height = 3)\n",
    "plot_FINEMAP_summary(n_regions, n_signals, n_signal_per_region, n_snps_per_signal, get_colors6())\n",
    "dev.off()\n"
   ]
  },
  {
   "cell_type": "code",
   "execution_count": null,
   "metadata": {},
   "outputs": [],
   "source": []
  }
 ],
 "metadata": {
  "kernelspec": {
   "display_name": "R",
   "language": "R",
   "name": "ir"
  },
  "language_info": {
   "codemirror_mode": "r",
   "file_extension": ".r",
   "mimetype": "text/x-r-source",
   "name": "R",
   "pygments_lexer": "r",
   "version": "3.6.1"
  }
 },
 "nbformat": 4,
 "nbformat_minor": 4
}
