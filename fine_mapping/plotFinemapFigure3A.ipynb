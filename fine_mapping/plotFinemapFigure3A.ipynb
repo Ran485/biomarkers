{
 "cells": [
  {
   "cell_type": "code",
   "execution_count": 1,
   "metadata": {},
   "outputs": [],
   "source": [
    "suppressPackageStartupMessages(library(tidyverse))\n",
    "suppressPackageStartupMessages(library(data.table))\n"
   ]
  },
  {
   "cell_type": "code",
   "execution_count": 2,
   "metadata": {},
   "outputs": [],
   "source": [
    "res_all <- readRDS( 'finemap_results_figure3.rds' )\n"
   ]
  },
  {
   "cell_type": "code",
   "execution_count": 3,
   "metadata": {},
   "outputs": [],
   "source": [
    "## Define six colors\n",
    "colors6 <- c(\n",
    "\trgb( 107, 223, 72,  max = 255 ),\n",
    "\trgb( 121, 213, 117, max = 255 ),\n",
    "\trgb( 129, 214, 161, max = 255 ),\n",
    "\trgb( 93,  217, 206, max = 255 ),\n",
    "\trgb( 168, 226, 242, max = 255 ),\n",
    "\trgb( 101, 193, 227, max = 255 )\n",
    ")\n"
   ]
  },
  {
   "cell_type": "code",
   "execution_count": 4,
   "metadata": {},
   "outputs": [
    {
     "name": "stdout",
     "output_type": "stream",
     "text": [
      "[1] 35  4\n"
     ]
    }
   ],
   "source": [
    "cascade_files <- file.path('../cascade', 'cascade.input.files.tsv')\n",
    "traits <- fread(cascade_files)\n",
    "dim(traits) %>% print()\n"
   ]
  },
  {
   "cell_type": "code",
   "execution_count": 5,
   "metadata": {},
   "outputs": [
    {
     "data": {
      "text/html": [
       "35"
      ],
      "text/latex": [
       "35"
      ],
      "text/markdown": [
       "35"
      ],
      "text/plain": [
       "[1] 35"
      ]
     },
     "metadata": {},
     "output_type": "display_data"
    }
   ],
   "source": [
    "length(intersect(names(res_all), (traits %>% select(annotation) %>% pull())))\n"
   ]
  },
  {
   "cell_type": "code",
   "execution_count": 6,
   "metadata": {},
   "outputs": [],
   "source": [
    "res <- list()\n",
    "for(trait in intersect(names(res_all), (traits %>% select(annotation) %>% pull()))){\n",
    "    res[[ trait ]] <- res_all[[ trait ]]\n",
    "}\n"
   ]
  },
  {
   "cell_type": "code",
   "execution_count": 7,
   "metadata": {},
   "outputs": [],
   "source": [
    "## Plot figure 3\n",
    "n_regions           <- sum( sapply( res, function( x ) nrow( drop_na ( x ) ) ) )\n",
    "n_signals           <- sum( sapply( res, function( x ) sum( as.numeric( drop_na(x)$n_signals ) ) ) )\n",
    "n_signal_per_region <- table(\n",
    "    unlist( \n",
    "        lapply( res, function( x )\n",
    "        {\n",
    "    \t    cut(\n",
    "\t    \t    x      = as.numeric( drop_na(x)$n_signals ),\n",
    "    \t\t    breaks = c( 0, 1, 2, 3, 4, 5, Inf ),\n",
    "        \t\tlabels = c( '1', '2', '3', '4', '5', '6+' )\n",
    "\t        )\n",
    "        } )\n",
    "    )\n",
    ")\n",
    "n_snps_per_signal   <- table(\n",
    "\tunlist( \n",
    "\t    lapply( res, function( x )\n",
    "    \t{\n",
    "\t        cut( \n",
    "\t\t        x      = unlist( sapply( drop_na(x)$n_snps_per_signal, function( x ) as.numeric( strsplit( x, split = '\\\\|' )[[ 1 ]] ), USE.NAMES = F ) ),\n",
    "    \t\t    breaks = c( 0, 1, 5, 10, 20, 50, Inf ),\n",
    "    \t    \tlabels = c( '1', '2-5', '6-10', '11-20', '21-50', '51+' )\n",
    "\t        )\n",
    "\t    } )\n",
    "\t)\n",
    ")\n"
   ]
  },
  {
   "cell_type": "code",
   "execution_count": 8,
   "metadata": {},
   "outputs": [],
   "source": [
    "n_signal_per_region_max <- list()\n",
    "for(t in names(res)){\n",
    "    n_signal_per_region_max[[ t ]] <- max(as.integer(unique(res[[ t ]]$n_signals)), na.rm=T)\n",
    "}\n"
   ]
  },
  {
   "cell_type": "markdown",
   "metadata": {},
   "source": [
    "#### Number of distinct signals per region"
   ]
  },
  {
   "cell_type": "code",
   "execution_count": 9,
   "metadata": {},
   "outputs": [
    {
     "data": {
      "text/html": [
       "<table>\n",
       "<caption>A matrix: 2 × 6 of type chr</caption>\n",
       "<tbody>\n",
       "\t<tr><th scope=row>n_signals</th><td>1   </td><td>2   </td><td>3   </td><td>4   </td><td>5   </td><td>6+  </td></tr>\n",
       "\t<tr><th scope=row>n_regions</th><td>  33</td><td> 276</td><td> 963</td><td>1256</td><td>1033</td><td>1802</td></tr>\n",
       "</tbody>\n",
       "</table>\n"
      ],
      "text/latex": [
       "A matrix: 2 × 6 of type chr\n",
       "\\begin{tabular}{r|llllll}\n",
       "\tn\\_signals & 1    & 2    & 3    & 4    & 5    & 6+  \\\\\n",
       "\tn\\_regions &   33 &  276 &  963 & 1256 & 1033 & 1802\\\\\n",
       "\\end{tabular}\n"
      ],
      "text/markdown": [
       "\n",
       "A matrix: 2 × 6 of type chr\n",
       "\n",
       "| n_signals | 1    | 2    | 3    | 4    | 5    | 6+   |\n",
       "| n_regions |   33 |  276 |  963 | 1256 | 1033 | 1802 |\n",
       "\n"
      ],
      "text/plain": [
       "          [,1] [,2] [,3] [,4] [,5] [,6]\n",
       "n_signals 1    2    3    4    5    6+  \n",
       "n_regions   33  276  963 1256 1033 1802"
      ]
     },
     "metadata": {},
     "output_type": "display_data"
    }
   ],
   "source": [
    "n_signal_per_region %>%\n",
    "as.data.frame(responseName = \"n_regions\") %>%\n",
    "rename('n_signals' = 'Var1') %>%\n",
    "as.matrix() %>%\n",
    "t()\n"
   ]
  },
  {
   "cell_type": "code",
   "execution_count": 10,
   "metadata": {},
   "outputs": [
    {
     "data": {
      "text/html": [
       "'Distinct association signals. A single signal at 33 regions, and two to 40 signals at 5330 regions across 35 traits.'"
      ],
      "text/latex": [
       "'Distinct association signals. A single signal at 33 regions, and two to 40 signals at 5330 regions across 35 traits.'"
      ],
      "text/markdown": [
       "'Distinct association signals. A single signal at 33 regions, and two to 40 signals at 5330 regions across 35 traits.'"
      ],
      "text/plain": [
       "[1] \"Distinct association signals. A single signal at 33 regions, and two to 40 signals at 5330 regions across 35 traits.\""
      ]
     },
     "metadata": {},
     "output_type": "display_data"
    }
   ],
   "source": [
    "sprintf(\n",
    "    'Distinct association signals. A single signal at %d regions, and two to %d signals at %d regions across %d traits.',\n",
    "    n_signal_per_region[1],\n",
    "    max(unlist(n_signal_per_region_max)),\n",
    "    sum(n_signal_per_region) - n_signal_per_region[1],\n",
    "    length(names(res))\n",
    ")"
   ]
  },
  {
   "cell_type": "markdown",
   "metadata": {},
   "source": [
    "#### Number of variants in the credible set with >= 99%% posterior probability"
   ]
  },
  {
   "cell_type": "code",
   "execution_count": 11,
   "metadata": {},
   "outputs": [
    {
     "data": {
      "text/html": [
       "<table>\n",
       "<caption>A matrix: 2 × 6 of type chr</caption>\n",
       "<tbody>\n",
       "\t<tr><th scope=row>n_variants</th><td>1    </td><td>2-5  </td><td>6-10 </td><td>11-20</td><td>21-50</td><td>51+  </td></tr>\n",
       "\t<tr><th scope=row>n_signals</th><td> 2547</td><td> 3862</td><td> 2510</td><td> 3199</td><td> 5578</td><td>10157</td></tr>\n",
       "</tbody>\n",
       "</table>\n"
      ],
      "text/latex": [
       "A matrix: 2 × 6 of type chr\n",
       "\\begin{tabular}{r|llllll}\n",
       "\tn\\_variants & 1     & 2-5   & 6-10  & 11-20 & 21-50 & 51+  \\\\\n",
       "\tn\\_signals &  2547 &  3862 &  2510 &  3199 &  5578 & 10157\\\\\n",
       "\\end{tabular}\n"
      ],
      "text/markdown": [
       "\n",
       "A matrix: 2 × 6 of type chr\n",
       "\n",
       "| n_variants | 1     | 2-5   | 6-10  | 11-20 | 21-50 | 51+   |\n",
       "| n_signals |  2547 |  3862 |  2510 |  3199 |  5578 | 10157 |\n",
       "\n"
      ],
      "text/plain": [
       "           [,1]  [,2]  [,3]  [,4]  [,5]  [,6] \n",
       "n_variants 1     2-5   6-10  11-20 21-50 51+  \n",
       "n_signals   2547  3862  2510  3199  5578 10157"
      ]
     },
     "metadata": {},
     "output_type": "display_data"
    }
   ],
   "source": [
    "n_snps_per_signal %>%\n",
    "as.data.frame(responseName = \"n_signals\") %>%\n",
    "rename('n_variants' = 'Var1') %>%\n",
    "as.matrix() %>%\n",
    "t()\n"
   ]
  },
  {
   "cell_type": "code",
   "execution_count": 12,
   "metadata": {},
   "outputs": [
    {
     "data": {
      "text/html": [
       "'Number of variants in the credible set with &gt;= 99% posterior probability. In total of 2547 signals were mapped to a single variant in the credible set across 35 traits.'"
      ],
      "text/latex": [
       "'Number of variants in the credible set with >= 99\\% posterior probability. In total of 2547 signals were mapped to a single variant in the credible set across 35 traits.'"
      ],
      "text/markdown": [
       "'Number of variants in the credible set with &gt;= 99% posterior probability. In total of 2547 signals were mapped to a single variant in the credible set across 35 traits.'"
      ],
      "text/plain": [
       "[1] \"Number of variants in the credible set with >= 99% posterior probability. In total of 2547 signals were mapped to a single variant in the credible set across 35 traits.\""
      ]
     },
     "metadata": {},
     "output_type": "display_data"
    }
   ],
   "source": [
    "sprintf(\n",
    "    'Number of variants in the credible set with >= 99%% posterior probability. In total of %d signals were mapped to a single variant in the credible set across %d traits.',\n",
    "    n_snps_per_signal[1],\n",
    "    length(names(res))\n",
    ")"
   ]
  },
  {
   "cell_type": "code",
   "execution_count": 13,
   "metadata": {},
   "outputs": [],
   "source": [
    "add_string <- function(str_list, prefix='', suffix='', idxs = NULL){\n",
    "    if(is.null(idxs)){\n",
    "        idxs <- c(length(str_list))\n",
    "    }\n",
    "    for(idx in idxs){\n",
    "        str_list[idx] <- paste0(prefix, str_list[idx], suffix)            \n",
    "    }\n",
    "\n",
    "    str_list\n",
    "}"
   ]
  },
  {
   "cell_type": "code",
   "execution_count": 14,
   "metadata": {},
   "outputs": [
    {
     "data": {
      "text/html": [
       "<ol class=list-inline>\n",
       "\t<li>18</li>\n",
       "\t<li>5</li>\n",
       "</ol>\n"
      ],
      "text/latex": [
       "\\begin{enumerate*}\n",
       "\\item 18\n",
       "\\item 5\n",
       "\\end{enumerate*}\n"
      ],
      "text/markdown": [
       "1. 18\n",
       "2. 5\n",
       "\n",
       "\n"
      ],
      "text/plain": [
       "[1] 18  5"
      ]
     },
     "metadata": {},
     "output_type": "display_data"
    }
   ],
   "source": [
    "c(1080, 300) / 60"
   ]
  },
  {
   "cell_type": "code",
   "execution_count": 17,
   "metadata": {},
   "outputs": [
    {
     "data": {
      "text/html": [
       "<strong>png:</strong> 2"
      ],
      "text/latex": [
       "\\textbf{png:} 2"
      ],
      "text/markdown": [
       "**png:** 2"
      ],
      "text/plain": [
       "png \n",
       "  2 "
      ]
     },
     "metadata": {},
     "output_type": "display_data"
    }
   ],
   "source": [
    "# png(file.path('figs', 'fig3.png'), width = 1080, height = 300)\n",
    "# pdf(file.path('figs', 'fig3.pdf'))\n",
    "pdf(file.path('figs', 'fig3A.pdf'), width = 12, height = 3)\n",
    "\n",
    "layout( matrix( 1 : 2 ), height = c( 0.5, 0.5 ) )\n",
    "\n",
    "## Number of distinct signals per region\n",
    "# par( mar = c( 2, 0.25, 0.25, 0.25 ) )\n",
    "par( mar = c( 1, .5, 0.25, 0.5 ) )\n",
    "plot(\n",
    "\tx    = 0,\n",
    "\ty    = 0,\n",
    "\ttype = 'n',\n",
    "\txlim = c( 0, 1 ),\n",
    "# \tylim = c( -0.1, 1.25 ),\n",
    "\tylim = c( -0.1, 1.5 ),\n",
    "\txaxs = 'i',\n",
    "\tyaxs = 'i',\n",
    "\txaxt = 'n',\n",
    "\tyaxt = 'n',\n",
    "\txlab = '',\n",
    "\tylab = '',\n",
    "\tbty  = 'n'\n",
    ")\n",
    "start_end_rect <- cbind(\n",
    "\tc( 0, cumsum( n_signal_per_region / n_regions )[ -length( n_signal_per_region ) ] ),\n",
    "\tcumsum( n_signal_per_region / n_regions )\n",
    ")\n",
    "axis( 1, tick = F, line = -6.3, at = rowMeans( start_end_rect ), labels = add_string( names( n_signal_per_region ), '', '  signals each', c(3,4,5,6) ) ) \n",
    "rect( start_end_rect[, 1 ], 0, start_end_rect[, 2 ], 1, col = colors6, border = 'white' )\n",
    "text( rowMeans( start_end_rect ), rep( 0.5, nrow( start_end_rect ) ), labels = add_string( n_signal_per_region, 'in ', ' regions', c(3,4,5,6) ) )\n",
    "lines( c( 0, 1 ), rep( -0.05, 2 ) )\n",
    "lines( rep( 0, 2 ), c( -0.08, -0.02 ) )\n",
    "lines( rep( 1, 2 ), c( -0.08, -0.02 ) )\n",
    "legend_str <- sprintf( '%s distinct signals identified in %s regions', n_signals, n_regions )\n",
    "rect( 0.5 - 0.6 * strwidth( legend_str ), -0.1, 0.5 + 0.6 * strwidth( legend_str ), 0, col = 'white', border = 'white' )\n",
    "text( 0.5, -0.1, labels = legend_str, xpd = T )\n",
    "text( 0, 1.375, labels = 'Number of distinct signals per region', pos = 4, font = 2, offset = 0 )\n",
    "\n",
    "## Number of variants in the credible set with >= 99%% posterior probability\n",
    "# par( mar = c( 2, 0.25, 0.25, 0.25 ) )\n",
    "par( mar = c( 1, .5, 0.25, 0.5 ) )\n",
    "plot(\n",
    "\tx    = 0,\n",
    "\ty    = 0,\n",
    "\ttype = 'n',\n",
    "\txlim = c( 0, 1 ),\n",
    "\tylim = c( -0.1, 1.5 ),\n",
    "\txaxs = 'i',\n",
    "\tyaxs = 'i',\n",
    "\txaxt = 'n',\n",
    "\tyaxt = 'n',\n",
    "\txlab = '',\n",
    "\tylab = '',\n",
    "\tbty  = 'n'\n",
    ")\n",
    "start_end_rect <- cbind(\n",
    "\tc( 0, cumsum( n_snps_per_signal / n_signals )[ -length( n_snps_per_signal ) ] ),\n",
    "\tcumsum( n_snps_per_signal / n_signals )\n",
    ")\n",
    "axis( 1, tick = F, line = -6.3, at = rowMeans( start_end_rect ), labels = add_string( names( n_snps_per_signal ), '', ' variants each', c(5,6) ) )\n",
    "rect( start_end_rect[, 1 ], 0, start_end_rect[, 2 ], 1, col = colors6, border = 'white' )\n",
    "text( rowMeans( start_end_rect ), rep( 0.5, nrow( start_end_rect ) ), labels = add_string( n_snps_per_signal, 'in ', ' signals', c(5,6) ) )\n",
    "lines( c( 0, start_end_rect[ nrow( start_end_rect ) - 1, 2 ] ), rep( -0.05, 2 ) )\n",
    "lines( rep( 0, 2 ), c( -0.08, -0.02 ) )\n",
    "lines( rep( start_end_rect[ nrow( start_end_rect ) - 1, 2 ], 2 ), c( -0.08, -0.02 ) )\n",
    "legend_str <- sprintf( '%s signals fine-mapped to < 51 variants', sum( n_snps_per_signal[ -length( n_snps_per_signal ) ] ) )\n",
    "mid_pos_legend <- mean( c( 0, start_end_rect[ nrow( start_end_rect ) - 1, 2 ] ) )\n",
    "rect( mid_pos_legend - 0.6 * strwidth( legend_str ), -0.1, mid_pos_legend + 0.6 * strwidth( legend_str ), 0, col = 'white', border = 'white' )\n",
    "text( mid_pos_legend, -0.1, labels = legend_str, xpd = T )\n",
    "text( 0, 1.375, labels = 'Number of variants in each signal', pos = 4, font = 2, offset = 0 )\n",
    "\n",
    "\n",
    "dev.off()"
   ]
  },
  {
   "cell_type": "code",
   "execution_count": 16,
   "metadata": {},
   "outputs": [],
   "source": [
    "# options(repr.plot.width=8, repr.plot.height=2)\n",
    "\n",
    "# n_signal_per_region %>%\n",
    "# data.frame() %>%\n",
    "# rename('n_signal' = 'Var1', 'n_loci' = 'Freq') %>%\n",
    "# mutate(x = '') %>%\n",
    "# ggplot(aes(x = factor(x), y = n_loci, fill=factor(n_signal, levels=rev(n_signal))) )+\n",
    "# theme_minimal() +\n",
    "# coord_flip() +\n",
    "# geom_bar(position=\"stack\", stat=\"identity\") +\n",
    "# theme(legend.position=\"bottom\") +\n",
    "# labs(\n",
    "#     x = '',\n",
    "#     y = 'number of distinct signals',\n",
    "#     fill = 'Number of loci'\n",
    "# )"
   ]
  },
  {
   "cell_type": "code",
   "execution_count": null,
   "metadata": {},
   "outputs": [],
   "source": []
  }
 ],
 "metadata": {
  "kernelspec": {
   "display_name": "R",
   "language": "R",
   "name": "ir"
  },
  "language_info": {
   "codemirror_mode": "r",
   "file_extension": ".r",
   "mimetype": "text/x-r-source",
   "name": "R",
   "pygments_lexer": "r",
   "version": "3.6.1"
  }
 },
 "nbformat": 4,
 "nbformat_minor": 4
}
