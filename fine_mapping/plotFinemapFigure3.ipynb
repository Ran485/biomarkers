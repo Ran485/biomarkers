{
 "cells": [
  {
   "cell_type": "code",
   "execution_count": 1,
   "metadata": {},
   "outputs": [],
   "source": [
    "suppressPackageStartupMessages(library(tidyverse))\n",
    "suppressPackageStartupMessages(library(data.table))\n"
   ]
  },
  {
   "cell_type": "code",
   "execution_count": 2,
   "metadata": {},
   "outputs": [],
   "source": [
    "res_all <- readRDS( 'finemap_results_figure3.rds' )\n"
   ]
  },
  {
   "cell_type": "code",
   "execution_count": 3,
   "metadata": {},
   "outputs": [],
   "source": [
    "## Define six colors\n",
    "colors6 <- c(\n",
    "\trgb( 107, 223, 72,  max = 255 ),\n",
    "\trgb( 121, 213, 117, max = 255 ),\n",
    "\trgb( 129, 214, 161, max = 255 ),\n",
    "\trgb( 93,  217, 206, max = 255 ),\n",
    "\trgb( 168, 226, 242, max = 255 ),\n",
    "\trgb( 101, 193, 227, max = 255 )\n",
    ")\n"
   ]
  },
  {
   "cell_type": "code",
   "execution_count": 4,
   "metadata": {},
   "outputs": [
    {
     "name": "stdout",
     "output_type": "stream",
     "text": [
      "[1] 35  4\n"
     ]
    }
   ],
   "source": [
    "cascade_files <- file.path('../cascade', 'cascade.input.files.tsv')\n",
    "traits <- fread(cascade_files)\n",
    "dim(traits) %>% print()\n"
   ]
  },
  {
   "cell_type": "code",
   "execution_count": 5,
   "metadata": {},
   "outputs": [
    {
     "data": {
      "text/html": [
       "35"
      ],
      "text/latex": [
       "35"
      ],
      "text/markdown": [
       "35"
      ],
      "text/plain": [
       "[1] 35"
      ]
     },
     "metadata": {},
     "output_type": "display_data"
    }
   ],
   "source": [
    "length(intersect(names(res_all), (traits %>% select(annotation) %>% pull())))\n"
   ]
  },
  {
   "cell_type": "code",
   "execution_count": 6,
   "metadata": {},
   "outputs": [],
   "source": [
    "res <- list()\n",
    "for(trait in intersect(names(res_all), (traits %>% select(annotation) %>% pull()))){\n",
    "    res[[ trait ]] <- res_all[[ trait ]]\n",
    "}\n"
   ]
  },
  {
   "cell_type": "code",
   "execution_count": 7,
   "metadata": {},
   "outputs": [],
   "source": [
    "## Plot figure 3\n",
    "n_regions           <- sum( sapply( res, function( x ) nrow( drop_na ( x ) ) ) )\n",
    "n_signals           <- sum( sapply( res, function( x ) sum( as.numeric( drop_na(x)$n_signals ) ) ) )\n",
    "n_signal_per_region <- table(\n",
    "    unlist( \n",
    "        lapply( res, function( x )\n",
    "        {\n",
    "    \t    cut(\n",
    "\t    \t    x      = as.numeric( drop_na(x)$n_signals ),\n",
    "    \t\t    breaks = c( 0, 1, 2, 3, 4, 5, Inf ),\n",
    "        \t\tlabels = c( '1', '2', '3', '4', '5', '6+' )\n",
    "\t        )\n",
    "        } )\n",
    "    )\n",
    ")\n",
    "n_snps_per_signal   <- table(\n",
    "\tunlist( \n",
    "\t    lapply( res, function( x )\n",
    "    \t{\n",
    "\t        cut( \n",
    "\t\t        x      = unlist( sapply( drop_na(x)$n_snps_per_signal, function( x ) as.numeric( strsplit( x, split = '\\\\|' )[[ 1 ]] ), USE.NAMES = F ) ),\n",
    "    \t\t    breaks = c( 0, 1, 5, 10, 20, 50, Inf ),\n",
    "    \t    \tlabels = c( '1', '2-5', '6-10', '11-20', '21-50', '51+' )\n",
    "\t        )\n",
    "\t    } )\n",
    "\t)\n",
    ")\n"
   ]
  },
  {
   "cell_type": "code",
   "execution_count": 11,
   "metadata": {},
   "outputs": [
    {
     "data": {
      "text/html": [
       "<strong>png:</strong> 2"
      ],
      "text/latex": [
       "\\textbf{png:} 2"
      ],
      "text/markdown": [
       "**png:** 2"
      ],
      "text/plain": [
       "png \n",
       "  2 "
      ]
     },
     "metadata": {},
     "output_type": "display_data"
    }
   ],
   "source": [
    "png(file.path('figs', 'fig3.png'), width = 1080, height = 300)\n",
    "\n",
    "layout( matrix( 1 : 2 ), height = c( 0.5, 0.5 ) )\n",
    "\n",
    "## Figure 3a\n",
    "# par( mar = c( 2, 0.25, 0.25, 0.25 ) )\n",
    "par( mar = c( 2, .5, 0.25, 0.5 ) )\n",
    "plot(\n",
    "\tx    = 0,\n",
    "\ty    = 0,\n",
    "\ttype = 'n',\n",
    "\txlim = c( 0, 1 ),\n",
    "\tylim = c( -0.1, 1.25 ),\n",
    "\txaxs = 'i',\n",
    "\tyaxs = 'i',\n",
    "\txaxt = 'n',\n",
    "\tyaxt = 'n',\n",
    "\txlab = '',\n",
    "\tylab = '',\n",
    "\tbty  = 'n'\n",
    ")\n",
    "start_end_rect <- cbind(\n",
    "\tc( 0, cumsum( n_signal_per_region / n_regions )[ -length( n_signal_per_region ) ] ),\n",
    "\tcumsum( n_signal_per_region / n_regions )\n",
    ")\n",
    "axis( 1, tick = F, line = -0.75, at = rowMeans( start_end_rect ), labels = names( n_signal_per_region ) )\n",
    "rect( start_end_rect[, 1 ], 0, start_end_rect[, 2 ], 1, col = colors6, border = 'white' )\n",
    "text( rowMeans( start_end_rect ), rep( 0.5, nrow( start_end_rect ) ), labels = n_signal_per_region )\n",
    "lines( c( 0, 1 ), rep( -0.05, 2 ) )\n",
    "lines( rep( 0, 2 ), c( -0.08, -0.02 ) )\n",
    "lines( rep( 1, 2 ), c( -0.08, -0.02 ) )\n",
    "legend_str <- sprintf( '%s distinct signals identified in %s regions', n_signals, n_regions )\n",
    "rect( 0.5 - 0.6 * strwidth( legend_str ), -0.1, 0.5 + 0.6 * strwidth( legend_str ), 0, col = 'white', border = 'white' )\n",
    "text( 0.5, -0.07, labels = legend_str, xpd = T )\n",
    "text( 0, 1.125, labels = 'Number of signals/regions:', pos = 4, font = 2 )\n",
    "\n",
    "## Figure 3b\n",
    "# par( mar = c( 2, 0.25, 0.25, 0.25 ) )\n",
    "par( mar = c( 2, .5, 0.25, 0.5 ) )\n",
    "plot(\n",
    "\tx    = 0,\n",
    "\ty    = 0,\n",
    "\ttype = 'n',\n",
    "\txlim = c( 0, 1 ),\n",
    "\tylim = c( -0.1, 1.25 ),\n",
    "\txaxs = 'i',\n",
    "\tyaxs = 'i',\n",
    "\txaxt = 'n',\n",
    "\tyaxt = 'n',\n",
    "\txlab = '',\n",
    "\tylab = '',\n",
    "\tbty  = 'n'\n",
    ")\n",
    "start_end_rect <- cbind(\n",
    "\tc( 0, cumsum( n_snps_per_signal / n_signals )[ -length( n_snps_per_signal ) ] ),\n",
    "\tcumsum( n_snps_per_signal / n_signals )\n",
    ")\n",
    "axis( 1, tick = F, line = -0.75, at = rowMeans( start_end_rect ), labels = names( n_snps_per_signal ) )\n",
    "rect( start_end_rect[, 1 ], 0, start_end_rect[, 2 ], 1, col = colors6, border = 'white' )\n",
    "text( rowMeans( start_end_rect ), rep( 0.5, nrow( start_end_rect ) ), labels = n_snps_per_signal )\n",
    "lines( c( 0, start_end_rect[ nrow( start_end_rect ) - 1, 2 ] ), rep( -0.05, 2 ) )\n",
    "lines( rep( 0, 2 ), c( -0.08, -0.02 ) )\n",
    "lines( rep( start_end_rect[ nrow( start_end_rect ) - 1, 2 ], 2 ), c( -0.08, -0.02 ) )\n",
    "legend_str <- sprintf( '%s signals fine-mapped to < 51 variants', sum( n_snps_per_signal[ -length( n_snps_per_signal ) ] ) )\n",
    "mid_pos_legend <- mean( c( 0, start_end_rect[ nrow( start_end_rect ) - 1, 2 ] ) )\n",
    "rect( mid_pos_legend - 0.6 * strwidth( legend_str ), -0.1, mid_pos_legend + 0.6 * strwidth( legend_str ), 0, col = 'white', border = 'white' )\n",
    "text( mid_pos_legend, -0.07, labels = legend_str, xpd = T )\n",
    "text( 0, 1.125, labels = 'Number of variants in each signal:', pos = 4, font = 2 )\n",
    "\n",
    "\n",
    "dev.off()"
   ]
  },
  {
   "cell_type": "code",
   "execution_count": null,
   "metadata": {},
   "outputs": [],
   "source": []
  }
 ],
 "metadata": {
  "kernelspec": {
   "display_name": "R",
   "language": "R",
   "name": "ir"
  },
  "language_info": {
   "codemirror_mode": "r",
   "file_extension": ".r",
   "mimetype": "text/x-r-source",
   "name": "R",
   "pygments_lexer": "r",
   "version": "3.6.1"
  }
 },
 "nbformat": 4,
 "nbformat_minor": 4
}
