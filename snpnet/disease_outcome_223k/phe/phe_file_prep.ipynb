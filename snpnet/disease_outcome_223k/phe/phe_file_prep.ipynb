{
 "cells": [
  {
   "cell_type": "code",
   "execution_count": 1,
   "metadata": {},
   "outputs": [],
   "source": [
    "suppressPackageStartupMessages(require(tidyverse))\n",
    "suppressPackageStartupMessages(require(data.table))\n"
   ]
  },
  {
   "cell_type": "code",
   "execution_count": 2,
   "metadata": {},
   "outputs": [],
   "source": [
    "phe_names <- c(fread('phe.lst', head=F) %>% pull(), 'INI22402')"
   ]
  },
  {
   "cell_type": "code",
   "execution_count": 3,
   "metadata": {},
   "outputs": [
    {
     "data": {
      "text/html": [
       "<ol class=list-inline>\n",
       "\t<li>'HC171'</li>\n",
       "\t<li>'HC188'</li>\n",
       "\t<li>'HC294'</li>\n",
       "\t<li>'HC299'</li>\n",
       "\t<li>'HC326'</li>\n",
       "\t<li>'INI22402'</li>\n",
       "</ol>\n"
      ],
      "text/latex": [
       "\\begin{enumerate*}\n",
       "\\item 'HC171'\n",
       "\\item 'HC188'\n",
       "\\item 'HC294'\n",
       "\\item 'HC299'\n",
       "\\item 'HC326'\n",
       "\\item 'INI22402'\n",
       "\\end{enumerate*}\n"
      ],
      "text/markdown": [
       "1. 'HC171'\n",
       "2. 'HC188'\n",
       "3. 'HC294'\n",
       "4. 'HC299'\n",
       "5. 'HC326'\n",
       "6. 'INI22402'\n",
       "\n",
       "\n"
      ],
      "text/plain": [
       "[1] \"HC171\"    \"HC188\"    \"HC294\"    \"HC299\"    \"HC326\"    \"INI22402\""
      ]
     },
     "metadata": {},
     "output_type": "display_data"
    }
   ],
   "source": [
    "phe_names"
   ]
  },
  {
   "cell_type": "code",
   "execution_count": 4,
   "metadata": {},
   "outputs": [],
   "source": [
    "covars <- c(c('age', 'sex', 'Array'), paste0('PC', 1:4))"
   ]
  },
  {
   "cell_type": "code",
   "execution_count": 5,
   "metadata": {},
   "outputs": [],
   "source": [
    "split_df <- bind_rows(lapply(c('train', 'val', 'test'), function(x){\n",
    "    df <- fread(file.path(\n",
    "        '/oak/stanford/groups/mrivas/ukbb24983/sqc/population_stratification/split', \n",
    "        paste0(x, '.fam')\n",
    "    ), header=F) %>% select(V1, V2)\n",
    "    colnames(df) <- c('FID', 'IID')\n",
    "    df %>% mutate(split=x)\n",
    "}))"
   ]
  },
  {
   "cell_type": "code",
   "execution_count": 6,
   "metadata": {},
   "outputs": [],
   "source": [
    "# this needs to be replaced\n",
    "keep_f <- '/oak/stanford/groups/mrivas/projects/biomarkers/covariate_corrected/outputExtendedNoTDIreduced/phenotypes/full.table.combined.phe'\n"
   ]
  },
  {
   "cell_type": "code",
   "execution_count": 7,
   "metadata": {},
   "outputs": [],
   "source": [
    "keep_df <- fread(keep_f) %>% select(FID, IID)\n",
    "# colnames(keep_df) <- c('FID', 'IID')"
   ]
  },
  {
   "cell_type": "code",
   "execution_count": 8,
   "metadata": {},
   "outputs": [
    {
     "data": {
      "text/html": [
       "<ol class=list-inline>\n",
       "\t<li>461503</li>\n",
       "\t<li>2</li>\n",
       "</ol>\n"
      ],
      "text/latex": [
       "\\begin{enumerate*}\n",
       "\\item 461503\n",
       "\\item 2\n",
       "\\end{enumerate*}\n"
      ],
      "text/markdown": [
       "1. 461503\n",
       "2. 2\n",
       "\n",
       "\n"
      ],
      "text/plain": [
       "[1] 461503      2"
      ]
     },
     "metadata": {},
     "output_type": "display_data"
    }
   ],
   "source": [
    "keep_df %>% dim()"
   ]
  },
  {
   "cell_type": "code",
   "execution_count": 9,
   "metadata": {},
   "outputs": [
    {
     "data": {
      "text/html": [
       "<table>\n",
       "<caption>A tibble: 3 × 2</caption>\n",
       "<thead>\n",
       "\t<tr><th scope=col>split</th><th scope=col>n</th></tr>\n",
       "\t<tr><th scope=col>&lt;chr&gt;</th><th scope=col>&lt;int&gt;</th></tr>\n",
       "</thead>\n",
       "<tbody>\n",
       "\t<tr><td>test </td><td> 67430</td></tr>\n",
       "\t<tr><td>train</td><td>236005</td></tr>\n",
       "\t<tr><td>val  </td><td> 33716</td></tr>\n",
       "</tbody>\n",
       "</table>\n"
      ],
      "text/latex": [
       "A tibble: 3 × 2\n",
       "\\begin{tabular}{r|ll}\n",
       " split & n\\\\\n",
       " <chr> & <int>\\\\\n",
       "\\hline\n",
       "\t test  &  67430\\\\\n",
       "\t train & 236005\\\\\n",
       "\t val   &  33716\\\\\n",
       "\\end{tabular}\n"
      ],
      "text/markdown": [
       "\n",
       "A tibble: 3 × 2\n",
       "\n",
       "| split &lt;chr&gt; | n &lt;int&gt; |\n",
       "|---|---|\n",
       "| test  |  67430 |\n",
       "| train | 236005 |\n",
       "| val   |  33716 |\n",
       "\n"
      ],
      "text/plain": [
       "  split n     \n",
       "1 test   67430\n",
       "2 train 236005\n",
       "3 val    33716"
      ]
     },
     "metadata": {},
     "output_type": "display_data"
    }
   ],
   "source": [
    "split_df %>% count(split)"
   ]
  },
  {
   "cell_type": "code",
   "execution_count": 10,
   "metadata": {},
   "outputs": [
    {
     "data": {
      "text/html": [
       "<table>\n",
       "<caption>A tibble: 3 × 2</caption>\n",
       "<thead>\n",
       "\t<tr><th scope=col>split</th><th scope=col>n</th></tr>\n",
       "\t<tr><th scope=col>&lt;chr&gt;</th><th scope=col>&lt;int&gt;</th></tr>\n",
       "</thead>\n",
       "<tbody>\n",
       "\t<tr><td>test </td><td> 63818</td></tr>\n",
       "\t<tr><td>train</td><td>223328</td></tr>\n",
       "\t<tr><td>val  </td><td> 31929</td></tr>\n",
       "</tbody>\n",
       "</table>\n"
      ],
      "text/latex": [
       "A tibble: 3 × 2\n",
       "\\begin{tabular}{r|ll}\n",
       " split & n\\\\\n",
       " <chr> & <int>\\\\\n",
       "\\hline\n",
       "\t test  &  63818\\\\\n",
       "\t train & 223328\\\\\n",
       "\t val   &  31929\\\\\n",
       "\\end{tabular}\n"
      ],
      "text/markdown": [
       "\n",
       "A tibble: 3 × 2\n",
       "\n",
       "| split &lt;chr&gt; | n &lt;int&gt; |\n",
       "|---|---|\n",
       "| test  |  63818 |\n",
       "| train | 223328 |\n",
       "| val   |  31929 |\n",
       "\n"
      ],
      "text/plain": [
       "  split n     \n",
       "1 test   63818\n",
       "2 train 223328\n",
       "3 val    31929"
      ]
     },
     "metadata": {},
     "output_type": "display_data"
    }
   ],
   "source": [
    "split_df %>% inner_join(keep_df, by=c('FID', 'IID')) %>% count(split)"
   ]
  },
  {
   "cell_type": "code",
   "execution_count": 11,
   "metadata": {},
   "outputs": [],
   "source": [
    "phe_f <- '/oak/stanford/groups/mrivas/ukbb24983/phenotypedata/master_phe/master.20190509.phe'\n"
   ]
  },
  {
   "cell_type": "code",
   "execution_count": 12,
   "metadata": {},
   "outputs": [],
   "source": [
    "phe_df <- fread(phe_f, select=c(c('FID', 'IID'), covars, phe_names))"
   ]
  },
  {
   "cell_type": "code",
   "execution_count": 13,
   "metadata": {},
   "outputs": [],
   "source": [
    "phe_keep_df <- phe_df %>% inner_join(keep_df, by=c('FID', 'IID'))\n"
   ]
  },
  {
   "cell_type": "code",
   "execution_count": 14,
   "metadata": {},
   "outputs": [
    {
     "data": {
      "text/html": [
       "<ol class=list-inline>\n",
       "\t<li>461504</li>\n",
       "\t<li>15</li>\n",
       "</ol>\n"
      ],
      "text/latex": [
       "\\begin{enumerate*}\n",
       "\\item 461504\n",
       "\\item 15\n",
       "\\end{enumerate*}\n"
      ],
      "text/markdown": [
       "1. 461504\n",
       "2. 15\n",
       "\n",
       "\n"
      ],
      "text/plain": [
       "[1] 461504     15"
      ]
     },
     "metadata": {},
     "output_type": "display_data"
    }
   ],
   "source": [
    "phe_keep_df %>% dim()"
   ]
  },
  {
   "cell_type": "code",
   "execution_count": 15,
   "metadata": {},
   "outputs": [],
   "source": [
    "phe_keep_df %>% fwrite('phe.tsv', sep='\\t')\n"
   ]
  },
  {
   "cell_type": "code",
   "execution_count": 16,
   "metadata": {},
   "outputs": [
    {
     "data": {
      "text/html": [
       "'/oak/stanford/groups/mrivas/users/ytanigaw/repos/rivas-lab/biomarkers/snpnet/disease_outcome_223k/phe'"
      ],
      "text/latex": [
       "'/oak/stanford/groups/mrivas/users/ytanigaw/repos/rivas-lab/biomarkers/snpnet/disease\\_outcome\\_223k/phe'"
      ],
      "text/markdown": [
       "'/oak/stanford/groups/mrivas/users/ytanigaw/repos/rivas-lab/biomarkers/snpnet/disease_outcome_223k/phe'"
      ],
      "text/plain": [
       "[1] \"/oak/stanford/groups/mrivas/users/ytanigaw/repos/rivas-lab/biomarkers/snpnet/disease_outcome_223k/phe\""
      ]
     },
     "metadata": {},
     "output_type": "display_data"
    }
   ],
   "source": [
    "getwd()"
   ]
  },
  {
   "cell_type": "code",
   "execution_count": null,
   "metadata": {},
   "outputs": [],
   "source": []
  }
 ],
 "metadata": {
  "kernelspec": {
   "display_name": "R",
   "language": "R",
   "name": "ir"
  },
  "language_info": {
   "codemirror_mode": "r",
   "file_extension": ".r",
   "mimetype": "text/x-r-source",
   "name": "R",
   "pygments_lexer": "r",
   "version": "3.6.1"
  }
 },
 "nbformat": 4,
 "nbformat_minor": 4
}
