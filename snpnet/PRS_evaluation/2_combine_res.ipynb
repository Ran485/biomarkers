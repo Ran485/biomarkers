{
 "cells": [
  {
   "cell_type": "code",
   "execution_count": 1,
   "metadata": {},
   "outputs": [],
   "source": [
    "suppressWarnings(suppressPackageStartupMessages({\n",
    "    library(tidyverse)\n",
    "    library(data.table)\n",
    "}))\n"
   ]
  },
  {
   "cell_type": "code",
   "execution_count": 7,
   "metadata": {},
   "outputs": [
    {
     "name": "stderr",
     "output_type": "stream",
     "text": [
      "Auto-refreshing stale OAuth token.\n"
     ]
    }
   ],
   "source": [
    "library(googlesheets)\n",
    "gs_token <- \"/home/users/ytanigaw/.googlesheets_token.rds\"\n",
    "gs_auth(token = gs_token)\n"
   ]
  },
  {
   "cell_type": "code",
   "execution_count": 29,
   "metadata": {},
   "outputs": [],
   "source": [
    "# input\n",
    "phe_info_f <- '../../common/biomarker.phenotype.info.tsv'\n",
    "eval_f <- 'snpnet_prs_eval.tsv'\n",
    "ST_sheet <- 'https://docs.google.com/spreadsheets/d/1j8q1Y7wnMg9nWUm0iT4wJvFfg_hgIXbrtvxelqWHeH4' \n",
    "\n",
    "# output\n",
    "out_f <- 'combined_table.tsv'\n"
   ]
  },
  {
   "cell_type": "code",
   "execution_count": 30,
   "metadata": {},
   "outputs": [],
   "source": [
    "phe_info_df <- fread(phe_info_f) %>% rename('Phenotype'='name')"
   ]
  },
  {
   "cell_type": "code",
   "execution_count": 5,
   "metadata": {},
   "outputs": [],
   "source": [
    "eval_df <- fread(eval_f) %>%\n",
    "rename('trait'='#trait')"
   ]
  },
  {
   "cell_type": "code",
   "execution_count": 8,
   "metadata": {},
   "outputs": [
    {
     "name": "stderr",
     "output_type": "stream",
     "text": [
      "Sheet-identifying info appears to be a browser URL.\n",
      "googlesheets will attempt to extract sheet key from the URL.\n",
      "Putative key: 1j8q1Y7wnMg9nWUm0iT4wJvFfg_hgIXbrtvxelqWHeH4\n",
      "Warning message:\n",
      "“`data_frame()` is deprecated as of tibble 1.1.0.\n",
      "Please use `tibble()` instead.\n",
      "\u001b[90mThis warning is displayed once every 8 hours.\u001b[39m\n",
      "\u001b[90mCall `lifecycle::last_warnings()` to see where this warning was generated.\u001b[39m”Sheet successfully identified: \"UKBB Biomarker Paper Supplementary Tables Revisions\"\n",
      "Warning message:\n",
      "“`as_data_frame()` is deprecated as of tibble 2.0.0.\n",
      "Please use `as_tibble()` instead.\n",
      "The signature and semantics have changed, see `?as_tibble`.\n",
      "\u001b[90mThis warning is displayed once every 8 hours.\u001b[39m\n",
      "\u001b[90mCall `lifecycle::last_warnings()` to see where this warning was generated.\u001b[39m”Accessing worksheet titled 'UKBB PRS prediction'.\n",
      "Parsed with column specification:\n",
      "cols(\n",
      "  Trait = \u001b[31mcol_character()\u001b[39m,\n",
      "  Population = \u001b[31mcol_character()\u001b[39m,\n",
      "  `Spearman correlation` = \u001b[32mcol_double()\u001b[39m,\n",
      "  `Number of individuals` = \u001b[32mcol_double()\u001b[39m,\n",
      "  `P-value` = \u001b[32mcol_double()\u001b[39m,\n",
      "  `Variance explained relative to White British` = \u001b[32mcol_double()\u001b[39m\n",
      ")\n"
     ]
    }
   ],
   "source": [
    "current_tbl_df <- ST_sheet %>% gs_url() %>% \n",
    "gs_read(ws = 'UKBB PRS prediction')\n"
   ]
  },
  {
   "cell_type": "code",
   "execution_count": 33,
   "metadata": {},
   "outputs": [],
   "source": [
    "name_dict <- setNames(    \n",
    "    phe_info_df$Phenotype,\n",
    "    phe_info_df$annotation    \n",
    ")\n"
   ]
  },
  {
   "cell_type": "code",
   "execution_count": 35,
   "metadata": {},
   "outputs": [],
   "source": [
    "combined_df <- current_tbl_df %>%\n",
    "inner_join(\n",
    "    eval_df %>%\n",
    "    mutate(pop_split = str_replace(pop_split, 'white_british:test', 'white_british')) %>%\n",
    "    filter(!str_detect(pop_split, ':')),\n",
    "    by=c('Trait'='trait', 'Population'='pop_split')\n",
    ") %>%\n",
    "left_join(\n",
    "    phe_info_df %>% select(Phenotype, annotation),\n",
    "    by=c('Trait'='annotation')\n",
    ") %>%\n",
    "mutate(Trait = Phenotype) %>%\n",
    "select(-Phenotype) %>%\n",
    "arrange(Population, Trait)\n"
   ]
  },
  {
   "cell_type": "code",
   "execution_count": 37,
   "metadata": {},
   "outputs": [],
   "source": [
    "combined_df %>%\n",
    "fwrite(out_f, sep='\\t', na = \"NA\", quote=F)\n"
   ]
  },
  {
   "cell_type": "code",
   "execution_count": null,
   "metadata": {},
   "outputs": [],
   "source": []
  }
 ],
 "metadata": {
  "kernelspec": {
   "display_name": "R",
   "language": "R",
   "name": "ir"
  },
  "language_info": {
   "codemirror_mode": "r",
   "file_extension": ".r",
   "mimetype": "text/x-r-source",
   "name": "R",
   "pygments_lexer": "r",
   "version": "3.6.1"
  }
 },
 "nbformat": 4,
 "nbformat_minor": 4
}
