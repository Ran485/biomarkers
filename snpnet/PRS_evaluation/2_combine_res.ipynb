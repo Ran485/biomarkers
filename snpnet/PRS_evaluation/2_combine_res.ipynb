{
 "cells": [
  {
   "cell_type": "code",
   "execution_count": 1,
   "metadata": {},
   "outputs": [],
   "source": [
    "suppressWarnings(suppressPackageStartupMessages({\n",
    "    library(tidyverse)\n",
    "    library(data.table)\n",
    "}))\n"
   ]
  },
  {
   "cell_type": "code",
   "execution_count": 2,
   "metadata": {},
   "outputs": [
    {
     "name": "stderr",
     "output_type": "stream",
     "text": [
      "Auto-refreshing stale OAuth token.\n"
     ]
    }
   ],
   "source": [
    "library(googlesheets)\n",
    "gs_token <- \"/home/users/ytanigaw/.googlesheets_token.rds\"\n",
    "gs_auth(token = gs_token)\n"
   ]
  },
  {
   "cell_type": "code",
   "execution_count": 3,
   "metadata": {},
   "outputs": [],
   "source": [
    "# input\n",
    "phe_info_f <- '../../common/biomarker.phenotype.info.tsv'\n",
    "eval_f <- 'snpnet_prs_eval.tsv'\n",
    "ST_sheet <- 'https://docs.google.com/spreadsheets/d/1j8q1Y7wnMg9nWUm0iT4wJvFfg_hgIXbrtvxelqWHeH4' \n",
    "\n",
    "# output\n",
    "out_f <- 'combined_table.tsv'\n"
   ]
  },
  {
   "cell_type": "code",
   "execution_count": 4,
   "metadata": {},
   "outputs": [],
   "source": [
    "phe_info_df <- fread(phe_info_f) %>% rename('Phenotype'='name')"
   ]
  },
  {
   "cell_type": "code",
   "execution_count": 5,
   "metadata": {},
   "outputs": [
    {
     "name": "stderr",
     "output_type": "stream",
     "text": [
      "Sheet-identifying info appears to be a browser URL.\n",
      "googlesheets will attempt to extract sheet key from the URL.\n",
      "Putative key: 1j8q1Y7wnMg9nWUm0iT4wJvFfg_hgIXbrtvxelqWHeH4\n",
      "Warning message:\n",
      "“`data_frame()` is deprecated as of tibble 1.1.0.\n",
      "Please use `tibble()` instead.\n",
      "\u001b[90mThis warning is displayed once every 8 hours.\u001b[39m\n",
      "\u001b[90mCall `lifecycle::last_warnings()` to see where this warning was generated.\u001b[39m”Sheet successfully identified: \"UKBB Biomarker Paper Supplementary Tables Revisions\"\n",
      "Warning message:\n",
      "“`as_data_frame()` is deprecated as of tibble 2.0.0.\n",
      "Please use `as_tibble()` instead.\n",
      "The signature and semantics have changed, see `?as_tibble`.\n",
      "\u001b[90mThis warning is displayed once every 8 hours.\u001b[39m\n",
      "\u001b[90mCall `lifecycle::last_warnings()` to see where this warning was generated.\u001b[39m”Accessing worksheet titled 'ST17'.\n",
      "Warning message:\n",
      "“Missing column names filled in: 'X8' [8], 'X9' [9]”Parsed with column specification:\n",
      "cols(\n",
      "  Trait = \u001b[31mcol_character()\u001b[39m,\n",
      "  Population = \u001b[31mcol_character()\u001b[39m,\n",
      "  `Spearman correlation (R) to residualized trait` = \u001b[32mcol_double()\u001b[39m,\n",
      "  `Number of individuals` = \u001b[32mcol_double()\u001b[39m,\n",
      "  `P-value` = \u001b[32mcol_double()\u001b[39m,\n",
      "  `Variance explained relative to White British` = \u001b[32mcol_double()\u001b[39m,\n",
      "  `r2 with raw measurements` = \u001b[31mcol_character()\u001b[39m,\n",
      "  X8 = \u001b[31mcol_character()\u001b[39m,\n",
      "  X9 = \u001b[31mcol_character()\u001b[39m\n",
      ")\n"
     ]
    }
   ],
   "source": [
    "current_tbl_df <- ST_sheet %>% gs_url() %>% \n",
    "gs_read(ws = 'ST17')\n"
   ]
  },
  {
   "cell_type": "code",
   "execution_count": 10,
   "metadata": {},
   "outputs": [],
   "source": [
    "current_tbl_df <- current_tbl_df[2:nrow(current_tbl_df), colnames(current_tbl_df)[1:6]]"
   ]
  },
  {
   "cell_type": "code",
   "execution_count": 45,
   "metadata": {},
   "outputs": [
    {
     "data": {
      "text/html": [
       "<table>\n",
       "<caption>A tibble: 5 × 2</caption>\n",
       "<thead>\n",
       "\t<tr><th scope=col>Population</th><th scope=col>relative_r2_to_WB</th></tr>\n",
       "\t<tr><th scope=col>&lt;chr&gt;</th><th scope=col>&lt;dbl&gt;</th></tr>\n",
       "</thead>\n",
       "<tbody>\n",
       "\t<tr><td>african          </td><td>0.2385</td></tr>\n",
       "\t<tr><td>e_asian          </td><td>0.5088</td></tr>\n",
       "\t<tr><td>non_british_white</td><td>0.9282</td></tr>\n",
       "\t<tr><td>s_asian          </td><td>0.7043</td></tr>\n",
       "\t<tr><td>white_british    </td><td>1.0000</td></tr>\n",
       "</tbody>\n",
       "</table>\n"
      ],
      "text/latex": [
       "A tibble: 5 × 2\n",
       "\\begin{tabular}{ll}\n",
       " Population & relative\\_r2\\_to\\_WB\\\\\n",
       " <chr> & <dbl>\\\\\n",
       "\\hline\n",
       "\t african           & 0.2385\\\\\n",
       "\t e\\_asian           & 0.5088\\\\\n",
       "\t non\\_british\\_white & 0.9282\\\\\n",
       "\t s\\_asian           & 0.7043\\\\\n",
       "\t white\\_british     & 1.0000\\\\\n",
       "\\end{tabular}\n"
      ],
      "text/markdown": [
       "\n",
       "A tibble: 5 × 2\n",
       "\n",
       "| Population &lt;chr&gt; | relative_r2_to_WB &lt;dbl&gt; |\n",
       "|---|---|\n",
       "| african           | 0.2385 |\n",
       "| e_asian           | 0.5088 |\n",
       "| non_british_white | 0.9282 |\n",
       "| s_asian           | 0.7043 |\n",
       "| white_british     | 1.0000 |\n",
       "\n"
      ],
      "text/plain": [
       "  Population        relative_r2_to_WB\n",
       "1 african           0.2385           \n",
       "2 e_asian           0.5088           \n",
       "3 non_british_white 0.9282           \n",
       "4 s_asian           0.7043           \n",
       "5 white_british     1.0000           "
      ]
     },
     "metadata": {},
     "output_type": "display_data"
    }
   ],
   "source": [
    "current_tbl_df[,c(2,6)] %>%\n",
    "group_by(Population) %>%\n",
    "summarise(relative_r2_to_WB = median(`Variance explained relative to White British`))"
   ]
  },
  {
   "cell_type": "code",
   "execution_count": 32,
   "metadata": {},
   "outputs": [],
   "source": [
    "eval_df <- fread(eval_f) %>%\n",
    "rename('trait'='#trait') %>%\n",
    "select(-annotation) %>%\n",
    "mutate(pop_split = str_replace(pop_split, 'white_british:test', 'white_british')) %>%\n",
    "filter(!str_detect(pop_split, ':'))\n"
   ]
  },
  {
   "cell_type": "code",
   "execution_count": 38,
   "metadata": {},
   "outputs": [],
   "source": [
    "combined_df <- current_tbl_df %>%\n",
    "inner_join(\n",
    "    eval_df,\n",
    "    by=c('Trait'='trait', 'Population'='pop_split')\n",
    ") %>%\n",
    "arrange(Population, Trait)\n"
   ]
  },
  {
   "cell_type": "code",
   "execution_count": 39,
   "metadata": {},
   "outputs": [],
   "source": [
    "combined_df %>%\n",
    "fwrite(out_f, sep='\\t', na = \"NA\", quote=F)\n"
   ]
  },
  {
   "cell_type": "code",
   "execution_count": 40,
   "metadata": {},
   "outputs": [
    {
     "data": {
      "text/html": [
       "'combined_table.tsv'"
      ],
      "text/latex": [
       "'combined\\_table.tsv'"
      ],
      "text/markdown": [
       "'combined_table.tsv'"
      ],
      "text/plain": [
       "[1] \"combined_table.tsv\""
      ]
     },
     "metadata": {},
     "output_type": "display_data"
    }
   ],
   "source": [
    "out_f"
   ]
  },
  {
   "cell_type": "code",
   "execution_count": null,
   "metadata": {},
   "outputs": [],
   "source": []
  }
 ],
 "metadata": {
  "kernelspec": {
   "display_name": "R",
   "language": "R",
   "name": "ir"
  },
  "language_info": {
   "codemirror_mode": "r",
   "file_extension": ".r",
   "mimetype": "text/x-r-source",
   "name": "R",
   "pygments_lexer": "r",
   "version": "3.6.1"
  }
 },
 "nbformat": 4,
 "nbformat_minor": 4
}
