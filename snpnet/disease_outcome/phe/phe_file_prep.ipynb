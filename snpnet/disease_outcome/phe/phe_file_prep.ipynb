{
 "cells": [
  {
   "cell_type": "code",
   "execution_count": 5,
   "metadata": {},
   "outputs": [],
   "source": [
    "suppressPackageStartupMessages(require(tidyverse))\n",
    "suppressPackageStartupMessages(require(data.table))\n"
   ]
  },
  {
   "cell_type": "code",
   "execution_count": 11,
   "metadata": {},
   "outputs": [],
   "source": [
    "phe_names <- fread('phe.lst', head=F) %>% pull()"
   ]
  },
  {
   "cell_type": "code",
   "execution_count": 23,
   "metadata": {},
   "outputs": [
    {
     "data": {
      "text/html": [
       "<ol class=list-inline>\n",
       "\t<li>'cancer1024'</li>\n",
       "\t<li>'cancer1034'</li>\n",
       "\t<li>'cancer1060'</li>\n",
       "\t<li>'HC171'</li>\n",
       "\t<li>'HC188'</li>\n",
       "\t<li>'HC294'</li>\n",
       "\t<li>'HC299'</li>\n",
       "\t<li>'HC326'</li>\n",
       "\t<li>'RH3'</li>\n",
       "</ol>\n"
      ],
      "text/latex": [
       "\\begin{enumerate*}\n",
       "\\item 'cancer1024'\n",
       "\\item 'cancer1034'\n",
       "\\item 'cancer1060'\n",
       "\\item 'HC171'\n",
       "\\item 'HC188'\n",
       "\\item 'HC294'\n",
       "\\item 'HC299'\n",
       "\\item 'HC326'\n",
       "\\item 'RH3'\n",
       "\\end{enumerate*}\n"
      ],
      "text/markdown": [
       "1. 'cancer1024'\n",
       "2. 'cancer1034'\n",
       "3. 'cancer1060'\n",
       "4. 'HC171'\n",
       "5. 'HC188'\n",
       "6. 'HC294'\n",
       "7. 'HC299'\n",
       "8. 'HC326'\n",
       "9. 'RH3'\n",
       "\n",
       "\n"
      ],
      "text/plain": [
       "[1] \"cancer1024\" \"cancer1034\" \"cancer1060\" \"HC171\"      \"HC188\"     \n",
       "[6] \"HC294\"      \"HC299\"      \"HC326\"      \"RH3\"       "
      ]
     },
     "metadata": {},
     "output_type": "display_data"
    }
   ],
   "source": [
    "phe_names"
   ]
  },
  {
   "cell_type": "code",
   "execution_count": 14,
   "metadata": {},
   "outputs": [],
   "source": [
    "covars <- c(c('age', 'sex', 'Array'), paste0('PC', 1:4))"
   ]
  },
  {
   "cell_type": "code",
   "execution_count": 17,
   "metadata": {},
   "outputs": [],
   "source": [
    "phe_f <- '/oak/stanford/groups/mrivas/ukbb24983/phenotypedata/master_phe/master.20190509.phe'\n"
   ]
  },
  {
   "cell_type": "code",
   "execution_count": 20,
   "metadata": {},
   "outputs": [],
   "source": [
    "phe_df <- fread(phe_f, select=c(c('FID', 'IID'), covars, phe_names))"
   ]
  },
  {
   "cell_type": "code",
   "execution_count": 24,
   "metadata": {},
   "outputs": [],
   "source": [
    "phe_df %>% fwrite('phe.tsv', sep='\\t')\n"
   ]
  },
  {
   "cell_type": "code",
   "execution_count": 26,
   "metadata": {},
   "outputs": [
    {
     "data": {
      "text/html": [
       "<ol class=list-inline>\n",
       "\t<li>516885</li>\n",
       "\t<li>18</li>\n",
       "</ol>\n"
      ],
      "text/latex": [
       "\\begin{enumerate*}\n",
       "\\item 516885\n",
       "\\item 18\n",
       "\\end{enumerate*}\n"
      ],
      "text/markdown": [
       "1. 516885\n",
       "2. 18\n",
       "\n",
       "\n"
      ],
      "text/plain": [
       "[1] 516885     18"
      ]
     },
     "metadata": {},
     "output_type": "display_data"
    }
   ],
   "source": [
    "phe_df %>% dim()"
   ]
  },
  {
   "cell_type": "code",
   "execution_count": 27,
   "metadata": {},
   "outputs": [
    {
     "data": {
      "text/html": [
       "'/oak/stanford/groups/mrivas/users/ytanigaw/repos/rivas-lab/public-resources/uk_biobank/biomarkers/snpnet/disease_outcome/phe'"
      ],
      "text/latex": [
       "'/oak/stanford/groups/mrivas/users/ytanigaw/repos/rivas-lab/public-resources/uk\\_biobank/biomarkers/snpnet/disease\\_outcome/phe'"
      ],
      "text/markdown": [
       "'/oak/stanford/groups/mrivas/users/ytanigaw/repos/rivas-lab/public-resources/uk_biobank/biomarkers/snpnet/disease_outcome/phe'"
      ],
      "text/plain": [
       "[1] \"/oak/stanford/groups/mrivas/users/ytanigaw/repos/rivas-lab/public-resources/uk_biobank/biomarkers/snpnet/disease_outcome/phe\""
      ]
     },
     "metadata": {},
     "output_type": "display_data"
    }
   ],
   "source": [
    "getwd()"
   ]
  },
  {
   "cell_type": "code",
   "execution_count": null,
   "metadata": {},
   "outputs": [],
   "source": []
  }
 ],
 "metadata": {
  "kernelspec": {
   "display_name": "R",
   "language": "R",
   "name": "ir"
  },
  "language_info": {
   "codemirror_mode": "r",
   "file_extension": ".r",
   "mimetype": "text/x-r-source",
   "name": "R",
   "pygments_lexer": "r",
   "version": "3.6.1"
  }
 },
 "nbformat": 4,
 "nbformat_minor": 4
}
